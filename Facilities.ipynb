{
 "cells": [
  {
   "cell_type": "code",
   "execution_count": 1,
   "metadata": {
    "collapsed": true
   },
   "outputs": [],
   "source": [
    "import pandas as pd"
   ]
  },
  {
   "cell_type": "code",
   "execution_count": 2,
   "outputs": [],
   "source": [
    "dfFacilities = pd.read_csv('./Facilities_API_v1.csv')"
   ],
   "metadata": {
    "collapsed": false,
    "pycharm": {
     "name": "#%%\n"
    }
   }
  },
  {
   "cell_type": "code",
   "execution_count": 3,
   "outputs": [
    {
     "data": {
      "text/plain": "                             FacilityID LegacyFacilityID  OrgFacilityID  \\\n0  0377bfa0-e64c-11ea-b327-2e4b29211486              NaN            131   \n1  0422847b-e7d4-11ea-8710-eabd4664df5f              NaN            131   \n2  04f0a13e-7acf-11eb-9b8e-72edbbd009f6              NaN            130   \n3  058e22e2-e648-11ea-8a7e-f638cd389a69              NaN            131   \n4  05c725ae-7acc-11eb-9b8e-72edbbd009f6              NaN            130   \n\n  ParentOrgID  ParentRecAreaID  \\\n0         NaN           1055.0   \n1         NaN           1012.0   \n2         NaN            515.0   \n3         NaN           1060.0   \n4         NaN            516.0   \n\n                                        FacilityName FacilityDescription  \\\n0  White River National Forest Christmas Tree Permit                 NaN   \n1  Nez Perce Clearwater National Forest Christmas...                 NaN   \n2                                       Willis Creek                 NaN   \n3     Shoshone National Forest Christmas Tree Permit                 NaN   \n4                                            Russell                 NaN   \n\n  FacilityTypeDescription FacilityUseFeeDescription FacilityDirections  ...  \\\n0             Tree Permit                       NaN                NaN  ...   \n1             Tree Permit                       NaN                NaN  ...   \n2           Activity Pass                       NaN                NaN  ...   \n3             Tree Permit                       NaN                NaN  ...   \n4           Activity Pass                       NaN                NaN  ...   \n\n  FacilityReservationURL FacilityMapURL FacilityAdaAccess FacilityLongitude  \\\n0                    NaN            NaN               NaN       -107.230034   \n1                    NaN            NaN               NaN       -115.917500   \n2                    NaN            NaN               NaN        -97.398541   \n3                    NaN            NaN               NaN       -109.502600   \n4                    NaN            NaN               NaN        -97.762456   \n\n  FacilityLatitude  Keywords  StayLimit Reservable Enabled  LastUpdatedDate  \n0        39.363945       NaN        NaN       True    True       2021-09-23  \n1        45.450000       NaN        NaN       True    True       2021-09-23  \n2        30.695534       NaN        NaN       True    True       2021-09-23  \n3        43.923700       NaN        NaN       True    True       2021-09-23  \n4        30.679976       NaN        NaN       True    True       2021-09-23  \n\n[5 rows x 22 columns]",
      "text/html": "<div>\n<style scoped>\n    .dataframe tbody tr th:only-of-type {\n        vertical-align: middle;\n    }\n\n    .dataframe tbody tr th {\n        vertical-align: top;\n    }\n\n    .dataframe thead th {\n        text-align: right;\n    }\n</style>\n<table border=\"1\" class=\"dataframe\">\n  <thead>\n    <tr style=\"text-align: right;\">\n      <th></th>\n      <th>FacilityID</th>\n      <th>LegacyFacilityID</th>\n      <th>OrgFacilityID</th>\n      <th>ParentOrgID</th>\n      <th>ParentRecAreaID</th>\n      <th>FacilityName</th>\n      <th>FacilityDescription</th>\n      <th>FacilityTypeDescription</th>\n      <th>FacilityUseFeeDescription</th>\n      <th>FacilityDirections</th>\n      <th>...</th>\n      <th>FacilityReservationURL</th>\n      <th>FacilityMapURL</th>\n      <th>FacilityAdaAccess</th>\n      <th>FacilityLongitude</th>\n      <th>FacilityLatitude</th>\n      <th>Keywords</th>\n      <th>StayLimit</th>\n      <th>Reservable</th>\n      <th>Enabled</th>\n      <th>LastUpdatedDate</th>\n    </tr>\n  </thead>\n  <tbody>\n    <tr>\n      <th>0</th>\n      <td>0377bfa0-e64c-11ea-b327-2e4b29211486</td>\n      <td>NaN</td>\n      <td>131</td>\n      <td>NaN</td>\n      <td>1055.0</td>\n      <td>White River National Forest Christmas Tree Permit</td>\n      <td>NaN</td>\n      <td>Tree Permit</td>\n      <td>NaN</td>\n      <td>NaN</td>\n      <td>...</td>\n      <td>NaN</td>\n      <td>NaN</td>\n      <td>NaN</td>\n      <td>-107.230034</td>\n      <td>39.363945</td>\n      <td>NaN</td>\n      <td>NaN</td>\n      <td>True</td>\n      <td>True</td>\n      <td>2021-09-23</td>\n    </tr>\n    <tr>\n      <th>1</th>\n      <td>0422847b-e7d4-11ea-8710-eabd4664df5f</td>\n      <td>NaN</td>\n      <td>131</td>\n      <td>NaN</td>\n      <td>1012.0</td>\n      <td>Nez Perce Clearwater National Forest Christmas...</td>\n      <td>NaN</td>\n      <td>Tree Permit</td>\n      <td>NaN</td>\n      <td>NaN</td>\n      <td>...</td>\n      <td>NaN</td>\n      <td>NaN</td>\n      <td>NaN</td>\n      <td>-115.917500</td>\n      <td>45.450000</td>\n      <td>NaN</td>\n      <td>NaN</td>\n      <td>True</td>\n      <td>True</td>\n      <td>2021-09-23</td>\n    </tr>\n    <tr>\n      <th>2</th>\n      <td>04f0a13e-7acf-11eb-9b8e-72edbbd009f6</td>\n      <td>NaN</td>\n      <td>130</td>\n      <td>NaN</td>\n      <td>515.0</td>\n      <td>Willis Creek</td>\n      <td>NaN</td>\n      <td>Activity Pass</td>\n      <td>NaN</td>\n      <td>NaN</td>\n      <td>...</td>\n      <td>NaN</td>\n      <td>NaN</td>\n      <td>NaN</td>\n      <td>-97.398541</td>\n      <td>30.695534</td>\n      <td>NaN</td>\n      <td>NaN</td>\n      <td>True</td>\n      <td>True</td>\n      <td>2021-09-23</td>\n    </tr>\n    <tr>\n      <th>3</th>\n      <td>058e22e2-e648-11ea-8a7e-f638cd389a69</td>\n      <td>NaN</td>\n      <td>131</td>\n      <td>NaN</td>\n      <td>1060.0</td>\n      <td>Shoshone National Forest Christmas Tree Permit</td>\n      <td>NaN</td>\n      <td>Tree Permit</td>\n      <td>NaN</td>\n      <td>NaN</td>\n      <td>...</td>\n      <td>NaN</td>\n      <td>NaN</td>\n      <td>NaN</td>\n      <td>-109.502600</td>\n      <td>43.923700</td>\n      <td>NaN</td>\n      <td>NaN</td>\n      <td>True</td>\n      <td>True</td>\n      <td>2021-09-23</td>\n    </tr>\n    <tr>\n      <th>4</th>\n      <td>05c725ae-7acc-11eb-9b8e-72edbbd009f6</td>\n      <td>NaN</td>\n      <td>130</td>\n      <td>NaN</td>\n      <td>516.0</td>\n      <td>Russell</td>\n      <td>NaN</td>\n      <td>Activity Pass</td>\n      <td>NaN</td>\n      <td>NaN</td>\n      <td>...</td>\n      <td>NaN</td>\n      <td>NaN</td>\n      <td>NaN</td>\n      <td>-97.762456</td>\n      <td>30.679976</td>\n      <td>NaN</td>\n      <td>NaN</td>\n      <td>True</td>\n      <td>True</td>\n      <td>2021-09-23</td>\n    </tr>\n  </tbody>\n</table>\n<p>5 rows × 22 columns</p>\n</div>"
     },
     "execution_count": 3,
     "metadata": {},
     "output_type": "execute_result"
    }
   ],
   "source": [
    "dfFacilities.head()"
   ],
   "metadata": {
    "collapsed": false,
    "pycharm": {
     "name": "#%%\n"
    }
   }
  },
  {
   "cell_type": "code",
   "execution_count": 4,
   "outputs": [
    {
     "name": "stdout",
     "output_type": "stream",
     "text": [
      "<class 'pandas.core.frame.DataFrame'>\n",
      "RangeIndex: 14121 entries, 0 to 14120\n",
      "Data columns (total 22 columns):\n",
      " #   Column                     Non-Null Count  Dtype  \n",
      "---  ------                     --------------  -----  \n",
      " 0   FacilityID                 14121 non-null  object \n",
      " 1   LegacyFacilityID           3905 non-null   object \n",
      " 2   OrgFacilityID              14121 non-null  int64  \n",
      " 3   ParentOrgID                11897 non-null  object \n",
      " 4   ParentRecAreaID            13209 non-null  float64\n",
      " 5   FacilityName               14109 non-null  object \n",
      " 6   FacilityDescription        13854 non-null  object \n",
      " 7   FacilityTypeDescription    14121 non-null  object \n",
      " 8   FacilityUseFeeDescription  1618 non-null   object \n",
      " 9   FacilityDirections         8195 non-null   object \n",
      " 10  FacilityPhone              5811 non-null   object \n",
      " 11  FacilityEmail              3251 non-null   object \n",
      " 12  FacilityReservationURL     120 non-null    object \n",
      " 13  FacilityMapURL             291 non-null    object \n",
      " 14  FacilityAdaAccess          4781 non-null   object \n",
      " 15  FacilityLongitude          14121 non-null  float64\n",
      " 16  FacilityLatitude           14121 non-null  float64\n",
      " 17  Keywords                   4778 non-null   object \n",
      " 18  StayLimit                  438 non-null    object \n",
      " 19  Reservable                 14121 non-null  bool   \n",
      " 20  Enabled                    14121 non-null  bool   \n",
      " 21  LastUpdatedDate            14121 non-null  object \n",
      "dtypes: bool(2), float64(3), int64(1), object(16)\n",
      "memory usage: 2.2+ MB\n"
     ]
    }
   ],
   "source": [
    "dfFacilities.info()"
   ],
   "metadata": {
    "collapsed": false,
    "pycharm": {
     "name": "#%%\n"
    }
   }
  },
  {
   "cell_type": "code",
   "execution_count": 5,
   "outputs": [
    {
     "data": {
      "text/plain": "(14121, 22)"
     },
     "execution_count": 5,
     "metadata": {},
     "output_type": "execute_result"
    }
   ],
   "source": [
    "dfFacilities.shape"
   ],
   "metadata": {
    "collapsed": false,
    "pycharm": {
     "name": "#%%\n"
    }
   }
  },
  {
   "cell_type": "code",
   "execution_count": 6,
   "outputs": [
    {
     "data": {
      "text/plain": "array(['Tree Permit', 'Activity Pass', 'Campground', 'Facility',\n       'Visitor Center', 'Ticket Facility', 'Timed Entry', 'Permit',\n       'Library', 'Archives', 'Museum', 'Construction Camp site',\n       'Cemetery and Memorial', 'National Fish Hatchery', 'Federal',\n       'Kiosk'], dtype=object)"
     },
     "execution_count": 6,
     "metadata": {},
     "output_type": "execute_result"
    }
   ],
   "source": [
    "dfFacilities.FacilityTypeDescription.unique()"
   ],
   "metadata": {
    "collapsed": false,
    "pycharm": {
     "name": "#%%\n"
    }
   }
  },
  {
   "cell_type": "code",
   "execution_count": 7,
   "outputs": [
    {
     "data": {
      "text/plain": "Empty DataFrame\nColumns: [FacilityID, LegacyFacilityID, OrgFacilityID, ParentOrgID, ParentRecAreaID, FacilityName, FacilityDescription, FacilityTypeDescription, FacilityUseFeeDescription, FacilityDirections, FacilityPhone, FacilityEmail, FacilityReservationURL, FacilityMapURL, FacilityAdaAccess, FacilityLongitude, FacilityLatitude, Keywords, StayLimit, Reservable, Enabled, LastUpdatedDate]\nIndex: []\n\n[0 rows x 22 columns]",
      "text/html": "<div>\n<style scoped>\n    .dataframe tbody tr th:only-of-type {\n        vertical-align: middle;\n    }\n\n    .dataframe tbody tr th {\n        vertical-align: top;\n    }\n\n    .dataframe thead th {\n        text-align: right;\n    }\n</style>\n<table border=\"1\" class=\"dataframe\">\n  <thead>\n    <tr style=\"text-align: right;\">\n      <th></th>\n      <th>FacilityID</th>\n      <th>LegacyFacilityID</th>\n      <th>OrgFacilityID</th>\n      <th>ParentOrgID</th>\n      <th>ParentRecAreaID</th>\n      <th>FacilityName</th>\n      <th>FacilityDescription</th>\n      <th>FacilityTypeDescription</th>\n      <th>FacilityUseFeeDescription</th>\n      <th>FacilityDirections</th>\n      <th>...</th>\n      <th>FacilityReservationURL</th>\n      <th>FacilityMapURL</th>\n      <th>FacilityAdaAccess</th>\n      <th>FacilityLongitude</th>\n      <th>FacilityLatitude</th>\n      <th>Keywords</th>\n      <th>StayLimit</th>\n      <th>Reservable</th>\n      <th>Enabled</th>\n      <th>LastUpdatedDate</th>\n    </tr>\n  </thead>\n  <tbody>\n  </tbody>\n</table>\n<p>0 rows × 22 columns</p>\n</div>"
     },
     "execution_count": 7,
     "metadata": {},
     "output_type": "execute_result"
    }
   ],
   "source": [
    "# are there any disabled campgrounds\n",
    "dfFacilities[dfFacilities.Enabled == False]"
   ],
   "metadata": {
    "collapsed": false,
    "pycharm": {
     "name": "#%%\n"
    }
   }
  },
  {
   "cell_type": "code",
   "execution_count": 8,
   "outputs": [
    {
     "data": {
      "text/plain": "      FacilityID LegacyFacilityID  OrgFacilityID ParentOrgID  ParentRecAreaID  \\\n17      10000167              NaN            126         NaN              NaN   \n20      10000305              NaN            126         NaN          16669.0   \n21      10000309              NaN            126         NaN              NaN   \n22      10000330              NaN            126         NaN              NaN   \n28      10000447              NaN            126         NaN          16820.0   \n...          ...              ...            ...         ...              ...   \n13859     275085           275085            128        6615           2802.0   \n13860     275091           275091            128        6621           2802.0   \n13861     275092           275092            128        6622           2802.0   \n13996      72417            72417            131         NaN           1023.0   \n13997      72481            72481            128         NaN           2949.0   \n\n                        FacilityName  \\\n17              Tail Race Campground   \n20           Burro Creek Campground    \n21            Windy Point Campground   \n22       Wild Cow Springs Campground   \n28            Castle Rock Campground   \n...                              ...   \n13859     Cloverleaf Campground (WA)   \n13860          Hawk Creek Campground   \n13861           Jones Bay Campground   \n13996            TEN MILE CAMPGROUND   \n13997  Juniper Campground Group Site   \n\n                                     FacilityDescription  \\\n17     The Tail Race Campground features three campsi...   \n20     <h2>Overview</h2>\\n<p>The Burro Creek Campgrou...   \n21     Located on the crest of the Cerbat Mountains, ...   \n22     Wild Cow Springs Campground is situated in a g...   \n28     <p>Located south of Prineville, Oregon, this s...   \n...                                                  ...   \n13859  <h2>Overview</h2>\\n<p>Cloverleaf is a small, w...   \n13860  <h2>Overview</h2>\\n<p>Hawk Creek Campground is...   \n13861  <h2>Overview</h2>\\n<p>Jones Bay is one of Lake...   \n13996  <h2>Overview</h2>\\n<p>Ten Mile is small campgr...   \n13997  <h2>Overview</h2>\\n<p>For groups visiting the ...   \n\n      FacilityTypeDescription  \\\n17                 Campground   \n20                 Campground   \n21                 Campground   \n22                 Campground   \n28                 Campground   \n...                       ...   \n13859              Campground   \n13860              Campground   \n13861              Campground   \n13996              Campground   \n13997              Campground   \n\n                               FacilityUseFeeDescription  \\\n17                                                   NaN   \n20     <p>The Burro Creek Campground has started acce...   \n21                                     $8/night per site   \n22      $8/night for individual campsites<br/>$20/nig...   \n28     $8 per night; $2 per extra vehicle (tow vehicl...   \n...                                                  ...   \n13859  <p>The campground is available by reservation ...   \n13860  <p>This is a reservation only campground.  All...   \n13861  <p>This is a reservation only campground.  Sit...   \n13996                                                NaN   \n13997                                                NaN   \n\n                                      FacilityDirections  ...  \\\n17     Located 1/4 mile south of Fontenelle Reservoir...  ...   \n20     <p>The Burro Creek Recreation Site is located ...  ...   \n21     From Kingman, Arizona, travel 18 miles north o...  ...   \n22     From Kingman, travel 14 miles on Hualapai Moun...  ...   \n28     From Prineville, Oregon: Drive 12.4 miles sout...  ...   \n...                                                  ...  ...   \n13859  <p>Take State Highway 395 north from Spokane. ...  ...   \n13860  <p>Take State Highway 2 west of Spokane for 32...  ...   \n13861  <p>Jones Bay is 77 miles from Spokane as you h...  ...   \n13996  <p>From Idaho City travel State Highway 21 nor...  ...   \n13997  The North Unit entrance is along U.S. Highway ...  ...   \n\n      FacilityReservationURL            FacilityMapURL  \\\n17                       NaN                       NaN   \n20                       NaN                       NaN   \n21                       NaN                       NaN   \n22                                                       \n28                       NaN  https://flic.kr/p/CNdZtg   \n...                      ...                       ...   \n13859                    NaN                       NaN   \n13860                    NaN                       NaN   \n13861                    NaN                       NaN   \n13996                    NaN                       NaN   \n13997                    NaN                       NaN   \n\n                                      FacilityAdaAccess FacilityLongitude  \\\n17                                                  NaN       -110.060900   \n20                                                  NaN       -113.451880   \n21                                                  NaN       -114.160087   \n22     Accessible camp and picnic site and vault toilet       -113.869180   \n28                        \"Vault toilet is accessible.\"       -120.833950   \n...                                                 ...               ...   \n13859                                               NaN       -118.145717   \n13860                                               NaN       -118.316381   \n13861                                               NaN       -118.582467   \n13996                                                 N       -115.712719   \n13997                                                 N       -103.333889   \n\n      FacilityLatitude                                           Keywords  \\\n17           42.024400                                                NaN   \n20           34.536050  Burro Creek Recreation Site,Burro Creek Camp,B...   \n21           35.435956                                            kingman   \n22           35.061300  Hualapai Mountains, camping, wild cow springs,...   \n28           44.158140  Prineville, Fishing, Rafting, Camping, Day Use...   \n...                ...                                                ...   \n13859        48.297583                                                NaN   \n13860        47.816515                                                NaN   \n13861        47.918483                                                NaN   \n13996        43.898560                                               None   \n13997        47.594167                                                NaN   \n\n       StayLimit Reservable Enabled  LastUpdatedDate  \n17           NaN      False    True       2020-09-10  \n20           NaN       True    True       2022-03-03  \n21       14 days      False    True       2020-09-10  \n22       14 days      False    True       2020-09-10  \n28       14 Days      False    True       2021-09-21  \n...          ...        ...     ...              ...  \n13859        NaN       True    True       2022-03-03  \n13860        NaN       True    True       2022-03-03  \n13861        NaN       True    True       2022-03-03  \n13996        NaN       True    True       2022-03-03  \n13997        NaN       True    True       2022-03-03  \n\n[4881 rows x 22 columns]",
      "text/html": "<div>\n<style scoped>\n    .dataframe tbody tr th:only-of-type {\n        vertical-align: middle;\n    }\n\n    .dataframe tbody tr th {\n        vertical-align: top;\n    }\n\n    .dataframe thead th {\n        text-align: right;\n    }\n</style>\n<table border=\"1\" class=\"dataframe\">\n  <thead>\n    <tr style=\"text-align: right;\">\n      <th></th>\n      <th>FacilityID</th>\n      <th>LegacyFacilityID</th>\n      <th>OrgFacilityID</th>\n      <th>ParentOrgID</th>\n      <th>ParentRecAreaID</th>\n      <th>FacilityName</th>\n      <th>FacilityDescription</th>\n      <th>FacilityTypeDescription</th>\n      <th>FacilityUseFeeDescription</th>\n      <th>FacilityDirections</th>\n      <th>...</th>\n      <th>FacilityReservationURL</th>\n      <th>FacilityMapURL</th>\n      <th>FacilityAdaAccess</th>\n      <th>FacilityLongitude</th>\n      <th>FacilityLatitude</th>\n      <th>Keywords</th>\n      <th>StayLimit</th>\n      <th>Reservable</th>\n      <th>Enabled</th>\n      <th>LastUpdatedDate</th>\n    </tr>\n  </thead>\n  <tbody>\n    <tr>\n      <th>17</th>\n      <td>10000167</td>\n      <td>NaN</td>\n      <td>126</td>\n      <td>NaN</td>\n      <td>NaN</td>\n      <td>Tail Race Campground</td>\n      <td>The Tail Race Campground features three campsi...</td>\n      <td>Campground</td>\n      <td>NaN</td>\n      <td>Located 1/4 mile south of Fontenelle Reservoir...</td>\n      <td>...</td>\n      <td>NaN</td>\n      <td>NaN</td>\n      <td>NaN</td>\n      <td>-110.060900</td>\n      <td>42.024400</td>\n      <td>NaN</td>\n      <td>NaN</td>\n      <td>False</td>\n      <td>True</td>\n      <td>2020-09-10</td>\n    </tr>\n    <tr>\n      <th>20</th>\n      <td>10000305</td>\n      <td>NaN</td>\n      <td>126</td>\n      <td>NaN</td>\n      <td>16669.0</td>\n      <td>Burro Creek Campground</td>\n      <td>&lt;h2&gt;Overview&lt;/h2&gt;\\n&lt;p&gt;The Burro Creek Campgrou...</td>\n      <td>Campground</td>\n      <td>&lt;p&gt;The Burro Creek Campground has started acce...</td>\n      <td>&lt;p&gt;The Burro Creek Recreation Site is located ...</td>\n      <td>...</td>\n      <td>NaN</td>\n      <td>NaN</td>\n      <td>NaN</td>\n      <td>-113.451880</td>\n      <td>34.536050</td>\n      <td>Burro Creek Recreation Site,Burro Creek Camp,B...</td>\n      <td>NaN</td>\n      <td>True</td>\n      <td>True</td>\n      <td>2022-03-03</td>\n    </tr>\n    <tr>\n      <th>21</th>\n      <td>10000309</td>\n      <td>NaN</td>\n      <td>126</td>\n      <td>NaN</td>\n      <td>NaN</td>\n      <td>Windy Point Campground</td>\n      <td>Located on the crest of the Cerbat Mountains, ...</td>\n      <td>Campground</td>\n      <td>$8/night per site</td>\n      <td>From Kingman, Arizona, travel 18 miles north o...</td>\n      <td>...</td>\n      <td>NaN</td>\n      <td>NaN</td>\n      <td>NaN</td>\n      <td>-114.160087</td>\n      <td>35.435956</td>\n      <td>kingman</td>\n      <td>14 days</td>\n      <td>False</td>\n      <td>True</td>\n      <td>2020-09-10</td>\n    </tr>\n    <tr>\n      <th>22</th>\n      <td>10000330</td>\n      <td>NaN</td>\n      <td>126</td>\n      <td>NaN</td>\n      <td>NaN</td>\n      <td>Wild Cow Springs Campground</td>\n      <td>Wild Cow Springs Campground is situated in a g...</td>\n      <td>Campground</td>\n      <td>$8/night for individual campsites&lt;br/&gt;$20/nig...</td>\n      <td>From Kingman, travel 14 miles on Hualapai Moun...</td>\n      <td>...</td>\n      <td></td>\n      <td></td>\n      <td>Accessible camp and picnic site and vault toilet</td>\n      <td>-113.869180</td>\n      <td>35.061300</td>\n      <td>Hualapai Mountains, camping, wild cow springs,...</td>\n      <td>14 days</td>\n      <td>False</td>\n      <td>True</td>\n      <td>2020-09-10</td>\n    </tr>\n    <tr>\n      <th>28</th>\n      <td>10000447</td>\n      <td>NaN</td>\n      <td>126</td>\n      <td>NaN</td>\n      <td>16820.0</td>\n      <td>Castle Rock Campground</td>\n      <td>&lt;p&gt;Located south of Prineville, Oregon, this s...</td>\n      <td>Campground</td>\n      <td>$8 per night; $2 per extra vehicle (tow vehicl...</td>\n      <td>From Prineville, Oregon: Drive 12.4 miles sout...</td>\n      <td>...</td>\n      <td>NaN</td>\n      <td>https://flic.kr/p/CNdZtg</td>\n      <td>\"Vault toilet is accessible.\"</td>\n      <td>-120.833950</td>\n      <td>44.158140</td>\n      <td>Prineville, Fishing, Rafting, Camping, Day Use...</td>\n      <td>14 Days</td>\n      <td>False</td>\n      <td>True</td>\n      <td>2021-09-21</td>\n    </tr>\n    <tr>\n      <th>...</th>\n      <td>...</td>\n      <td>...</td>\n      <td>...</td>\n      <td>...</td>\n      <td>...</td>\n      <td>...</td>\n      <td>...</td>\n      <td>...</td>\n      <td>...</td>\n      <td>...</td>\n      <td>...</td>\n      <td>...</td>\n      <td>...</td>\n      <td>...</td>\n      <td>...</td>\n      <td>...</td>\n      <td>...</td>\n      <td>...</td>\n      <td>...</td>\n      <td>...</td>\n      <td>...</td>\n    </tr>\n    <tr>\n      <th>13859</th>\n      <td>275085</td>\n      <td>275085</td>\n      <td>128</td>\n      <td>6615</td>\n      <td>2802.0</td>\n      <td>Cloverleaf Campground (WA)</td>\n      <td>&lt;h2&gt;Overview&lt;/h2&gt;\\n&lt;p&gt;Cloverleaf is a small, w...</td>\n      <td>Campground</td>\n      <td>&lt;p&gt;The campground is available by reservation ...</td>\n      <td>&lt;p&gt;Take State Highway 395 north from Spokane. ...</td>\n      <td>...</td>\n      <td>NaN</td>\n      <td>NaN</td>\n      <td>NaN</td>\n      <td>-118.145717</td>\n      <td>48.297583</td>\n      <td>NaN</td>\n      <td>NaN</td>\n      <td>True</td>\n      <td>True</td>\n      <td>2022-03-03</td>\n    </tr>\n    <tr>\n      <th>13860</th>\n      <td>275091</td>\n      <td>275091</td>\n      <td>128</td>\n      <td>6621</td>\n      <td>2802.0</td>\n      <td>Hawk Creek Campground</td>\n      <td>&lt;h2&gt;Overview&lt;/h2&gt;\\n&lt;p&gt;Hawk Creek Campground is...</td>\n      <td>Campground</td>\n      <td>&lt;p&gt;This is a reservation only campground.  All...</td>\n      <td>&lt;p&gt;Take State Highway 2 west of Spokane for 32...</td>\n      <td>...</td>\n      <td>NaN</td>\n      <td>NaN</td>\n      <td>NaN</td>\n      <td>-118.316381</td>\n      <td>47.816515</td>\n      <td>NaN</td>\n      <td>NaN</td>\n      <td>True</td>\n      <td>True</td>\n      <td>2022-03-03</td>\n    </tr>\n    <tr>\n      <th>13861</th>\n      <td>275092</td>\n      <td>275092</td>\n      <td>128</td>\n      <td>6622</td>\n      <td>2802.0</td>\n      <td>Jones Bay Campground</td>\n      <td>&lt;h2&gt;Overview&lt;/h2&gt;\\n&lt;p&gt;Jones Bay is one of Lake...</td>\n      <td>Campground</td>\n      <td>&lt;p&gt;This is a reservation only campground.  Sit...</td>\n      <td>&lt;p&gt;Jones Bay is 77 miles from Spokane as you h...</td>\n      <td>...</td>\n      <td>NaN</td>\n      <td>NaN</td>\n      <td>NaN</td>\n      <td>-118.582467</td>\n      <td>47.918483</td>\n      <td>NaN</td>\n      <td>NaN</td>\n      <td>True</td>\n      <td>True</td>\n      <td>2022-03-03</td>\n    </tr>\n    <tr>\n      <th>13996</th>\n      <td>72417</td>\n      <td>72417</td>\n      <td>131</td>\n      <td>NaN</td>\n      <td>1023.0</td>\n      <td>TEN MILE CAMPGROUND</td>\n      <td>&lt;h2&gt;Overview&lt;/h2&gt;\\n&lt;p&gt;Ten Mile is small campgr...</td>\n      <td>Campground</td>\n      <td>NaN</td>\n      <td>&lt;p&gt;From Idaho City travel State Highway 21 nor...</td>\n      <td>...</td>\n      <td>NaN</td>\n      <td>NaN</td>\n      <td>N</td>\n      <td>-115.712719</td>\n      <td>43.898560</td>\n      <td>None</td>\n      <td>NaN</td>\n      <td>True</td>\n      <td>True</td>\n      <td>2022-03-03</td>\n    </tr>\n    <tr>\n      <th>13997</th>\n      <td>72481</td>\n      <td>72481</td>\n      <td>128</td>\n      <td>NaN</td>\n      <td>2949.0</td>\n      <td>Juniper Campground Group Site</td>\n      <td>&lt;h2&gt;Overview&lt;/h2&gt;\\n&lt;p&gt;For groups visiting the ...</td>\n      <td>Campground</td>\n      <td>NaN</td>\n      <td>The North Unit entrance is along U.S. Highway ...</td>\n      <td>...</td>\n      <td>NaN</td>\n      <td>NaN</td>\n      <td>N</td>\n      <td>-103.333889</td>\n      <td>47.594167</td>\n      <td>NaN</td>\n      <td>NaN</td>\n      <td>True</td>\n      <td>True</td>\n      <td>2022-03-03</td>\n    </tr>\n  </tbody>\n</table>\n<p>4881 rows × 22 columns</p>\n</div>"
     },
     "execution_count": 8,
     "metadata": {},
     "output_type": "execute_result"
    }
   ],
   "source": [
    "dfFacilities[dfFacilities.FacilityTypeDescription == 'Campground']"
   ],
   "metadata": {
    "collapsed": false,
    "pycharm": {
     "name": "#%%\n"
    }
   }
  },
  {
   "cell_type": "code",
   "execution_count": 9,
   "outputs": [],
   "source": [
    "dfCampgrounds = dfFacilities[dfFacilities.FacilityTypeDescription == 'Campground']"
   ],
   "metadata": {
    "collapsed": false,
    "pycharm": {
     "name": "#%%\n"
    }
   }
  },
  {
   "cell_type": "code",
   "execution_count": 10,
   "outputs": [],
   "source": [
    "proposed_features = ['FacilityID', 'FacilityName', 'FacilityDescription', 'FacilityDirections', 'FacilityAdaAccess', 'Keywords']"
   ],
   "metadata": {
    "collapsed": false,
    "pycharm": {
     "name": "#%%\n"
    }
   }
  },
  {
   "cell_type": "code",
   "execution_count": 11,
   "outputs": [
    {
     "data": {
      "text/plain": "      FacilityID                   FacilityName  \\\n17      10000167           Tail Race Campground   \n20      10000305        Burro Creek Campground    \n21      10000309         Windy Point Campground   \n22      10000330    Wild Cow Springs Campground   \n28      10000447         Castle Rock Campground   \n...          ...                            ...   \n13859     275085     Cloverleaf Campground (WA)   \n13860     275091          Hawk Creek Campground   \n13861     275092           Jones Bay Campground   \n13996      72417            TEN MILE CAMPGROUND   \n13997      72481  Juniper Campground Group Site   \n\n                                     FacilityDescription  \\\n17     The Tail Race Campground features three campsi...   \n20     <h2>Overview</h2>\\n<p>The Burro Creek Campgrou...   \n21     Located on the crest of the Cerbat Mountains, ...   \n22     Wild Cow Springs Campground is situated in a g...   \n28     <p>Located south of Prineville, Oregon, this s...   \n...                                                  ...   \n13859  <h2>Overview</h2>\\n<p>Cloverleaf is a small, w...   \n13860  <h2>Overview</h2>\\n<p>Hawk Creek Campground is...   \n13861  <h2>Overview</h2>\\n<p>Jones Bay is one of Lake...   \n13996  <h2>Overview</h2>\\n<p>Ten Mile is small campgr...   \n13997  <h2>Overview</h2>\\n<p>For groups visiting the ...   \n\n                                      FacilityDirections  \\\n17     Located 1/4 mile south of Fontenelle Reservoir...   \n20     <p>The Burro Creek Recreation Site is located ...   \n21     From Kingman, Arizona, travel 18 miles north o...   \n22     From Kingman, travel 14 miles on Hualapai Moun...   \n28     From Prineville, Oregon: Drive 12.4 miles sout...   \n...                                                  ...   \n13859  <p>Take State Highway 395 north from Spokane. ...   \n13860  <p>Take State Highway 2 west of Spokane for 32...   \n13861  <p>Jones Bay is 77 miles from Spokane as you h...   \n13996  <p>From Idaho City travel State Highway 21 nor...   \n13997  The North Unit entrance is along U.S. Highway ...   \n\n                                      FacilityAdaAccess  \\\n17                                                  NaN   \n20                                                  NaN   \n21                                                  NaN   \n22     Accessible camp and picnic site and vault toilet   \n28                        \"Vault toilet is accessible.\"   \n...                                                 ...   \n13859                                               NaN   \n13860                                               NaN   \n13861                                               NaN   \n13996                                                 N   \n13997                                                 N   \n\n                                                Keywords  \n17                                                   NaN  \n20     Burro Creek Recreation Site,Burro Creek Camp,B...  \n21                                               kingman  \n22     Hualapai Mountains, camping, wild cow springs,...  \n28     Prineville, Fishing, Rafting, Camping, Day Use...  \n...                                                  ...  \n13859                                                NaN  \n13860                                                NaN  \n13861                                                NaN  \n13996                                               None  \n13997                                                NaN  \n\n[4881 rows x 6 columns]",
      "text/html": "<div>\n<style scoped>\n    .dataframe tbody tr th:only-of-type {\n        vertical-align: middle;\n    }\n\n    .dataframe tbody tr th {\n        vertical-align: top;\n    }\n\n    .dataframe thead th {\n        text-align: right;\n    }\n</style>\n<table border=\"1\" class=\"dataframe\">\n  <thead>\n    <tr style=\"text-align: right;\">\n      <th></th>\n      <th>FacilityID</th>\n      <th>FacilityName</th>\n      <th>FacilityDescription</th>\n      <th>FacilityDirections</th>\n      <th>FacilityAdaAccess</th>\n      <th>Keywords</th>\n    </tr>\n  </thead>\n  <tbody>\n    <tr>\n      <th>17</th>\n      <td>10000167</td>\n      <td>Tail Race Campground</td>\n      <td>The Tail Race Campground features three campsi...</td>\n      <td>Located 1/4 mile south of Fontenelle Reservoir...</td>\n      <td>NaN</td>\n      <td>NaN</td>\n    </tr>\n    <tr>\n      <th>20</th>\n      <td>10000305</td>\n      <td>Burro Creek Campground</td>\n      <td>&lt;h2&gt;Overview&lt;/h2&gt;\\n&lt;p&gt;The Burro Creek Campgrou...</td>\n      <td>&lt;p&gt;The Burro Creek Recreation Site is located ...</td>\n      <td>NaN</td>\n      <td>Burro Creek Recreation Site,Burro Creek Camp,B...</td>\n    </tr>\n    <tr>\n      <th>21</th>\n      <td>10000309</td>\n      <td>Windy Point Campground</td>\n      <td>Located on the crest of the Cerbat Mountains, ...</td>\n      <td>From Kingman, Arizona, travel 18 miles north o...</td>\n      <td>NaN</td>\n      <td>kingman</td>\n    </tr>\n    <tr>\n      <th>22</th>\n      <td>10000330</td>\n      <td>Wild Cow Springs Campground</td>\n      <td>Wild Cow Springs Campground is situated in a g...</td>\n      <td>From Kingman, travel 14 miles on Hualapai Moun...</td>\n      <td>Accessible camp and picnic site and vault toilet</td>\n      <td>Hualapai Mountains, camping, wild cow springs,...</td>\n    </tr>\n    <tr>\n      <th>28</th>\n      <td>10000447</td>\n      <td>Castle Rock Campground</td>\n      <td>&lt;p&gt;Located south of Prineville, Oregon, this s...</td>\n      <td>From Prineville, Oregon: Drive 12.4 miles sout...</td>\n      <td>\"Vault toilet is accessible.\"</td>\n      <td>Prineville, Fishing, Rafting, Camping, Day Use...</td>\n    </tr>\n    <tr>\n      <th>...</th>\n      <td>...</td>\n      <td>...</td>\n      <td>...</td>\n      <td>...</td>\n      <td>...</td>\n      <td>...</td>\n    </tr>\n    <tr>\n      <th>13859</th>\n      <td>275085</td>\n      <td>Cloverleaf Campground (WA)</td>\n      <td>&lt;h2&gt;Overview&lt;/h2&gt;\\n&lt;p&gt;Cloverleaf is a small, w...</td>\n      <td>&lt;p&gt;Take State Highway 395 north from Spokane. ...</td>\n      <td>NaN</td>\n      <td>NaN</td>\n    </tr>\n    <tr>\n      <th>13860</th>\n      <td>275091</td>\n      <td>Hawk Creek Campground</td>\n      <td>&lt;h2&gt;Overview&lt;/h2&gt;\\n&lt;p&gt;Hawk Creek Campground is...</td>\n      <td>&lt;p&gt;Take State Highway 2 west of Spokane for 32...</td>\n      <td>NaN</td>\n      <td>NaN</td>\n    </tr>\n    <tr>\n      <th>13861</th>\n      <td>275092</td>\n      <td>Jones Bay Campground</td>\n      <td>&lt;h2&gt;Overview&lt;/h2&gt;\\n&lt;p&gt;Jones Bay is one of Lake...</td>\n      <td>&lt;p&gt;Jones Bay is 77 miles from Spokane as you h...</td>\n      <td>NaN</td>\n      <td>NaN</td>\n    </tr>\n    <tr>\n      <th>13996</th>\n      <td>72417</td>\n      <td>TEN MILE CAMPGROUND</td>\n      <td>&lt;h2&gt;Overview&lt;/h2&gt;\\n&lt;p&gt;Ten Mile is small campgr...</td>\n      <td>&lt;p&gt;From Idaho City travel State Highway 21 nor...</td>\n      <td>N</td>\n      <td>None</td>\n    </tr>\n    <tr>\n      <th>13997</th>\n      <td>72481</td>\n      <td>Juniper Campground Group Site</td>\n      <td>&lt;h2&gt;Overview&lt;/h2&gt;\\n&lt;p&gt;For groups visiting the ...</td>\n      <td>The North Unit entrance is along U.S. Highway ...</td>\n      <td>N</td>\n      <td>NaN</td>\n    </tr>\n  </tbody>\n</table>\n<p>4881 rows × 6 columns</p>\n</div>"
     },
     "execution_count": 11,
     "metadata": {},
     "output_type": "execute_result"
    }
   ],
   "source": [
    "dfCampgrounds[proposed_features]"
   ],
   "metadata": {
    "collapsed": false,
    "pycharm": {
     "name": "#%%\n"
    }
   }
  },
  {
   "cell_type": "code",
   "execution_count": 12,
   "outputs": [
    {
     "data": {
      "text/plain": "17       The Tail Race Campground features three campsi...\n20       Overview\\nThe Burro Creek Campground (1,960’ e...\n21       Located on the crest of the Cerbat Mountains, ...\n22       Wild Cow Springs Campground is situated in a g...\n28       Located south of Prineville, Oregon, this six-...\n                               ...                        \n13859    Overview\\nCloverleaf is a small, walk-in only ...\n13860    Overview\\nHawk Creek Campground is tucked back...\n13861    Overview\\nJones Bay is one of Lake Roosevelt’s...\n13996    Overview\\nTen Mile is small campground, a quic...\n13997    Overview\\nFor groups visiting the North Unit o...\nName: FacilityDescription, Length: 4881, dtype: object"
     },
     "execution_count": 12,
     "metadata": {},
     "output_type": "execute_result"
    }
   ],
   "source": [
    "# stripping HTML tags\n",
    "# https://stackoverflow.com/questions/45999415/removing-html-tags-in-pandas\n",
    "dfCampgrounds['FacilityDescription'].str.replace(r'<[^<>]*>', '', regex=True)"
   ],
   "metadata": {
    "collapsed": false,
    "pycharm": {
     "name": "#%%\n"
    }
   }
  },
  {
   "cell_type": "code",
   "execution_count": 20,
   "outputs": [
    {
     "name": "stderr",
     "output_type": "stream",
     "text": [
      "<ipython-input-20-5279939d51bc>:1: SettingWithCopyWarning: \n",
      "A value is trying to be set on a copy of a slice from a DataFrame.\n",
      "Try using .loc[row_indexer,col_indexer] = value instead\n",
      "\n",
      "See the caveats in the documentation: https://pandas.pydata.org/pandas-docs/stable/user_guide/indexing.html#returning-a-view-versus-a-copy\n",
      "  dfCampgrounds['FacilityDescription'] = dfCampgrounds['FacilityDescription'].str.replace(r'<[^<>]*>', '', regex=True)\n"
     ]
    }
   ],
   "source": [
    "dfCampgrounds['FacilityDescription'] = dfCampgrounds['FacilityDescription'].str.replace(r'<[^<>]*>', '', regex=True)"
   ],
   "metadata": {
    "collapsed": false,
    "pycharm": {
     "name": "#%%\n"
    }
   }
  },
  {
   "cell_type": "code",
   "execution_count": 18,
   "outputs": [
    {
     "name": "stderr",
     "output_type": "stream",
     "text": [
      "<ipython-input-18-30e373bd710a>:1: SettingWithCopyWarning: \n",
      "A value is trying to be set on a copy of a slice from a DataFrame.\n",
      "Try using .loc[row_indexer,col_indexer] = value instead\n",
      "\n",
      "See the caveats in the documentation: https://pandas.pydata.org/pandas-docs/stable/user_guide/indexing.html#returning-a-view-versus-a-copy\n",
      "  dfCampgrounds['FacilityDirections'] = dfCampgrounds['FacilityDirections'].str.replace(r'<[^<>]*>', '', regex=True)\n"
     ]
    }
   ],
   "source": [
    "dfCampgrounds['FacilityDirections'] = dfCampgrounds['FacilityDirections'].str.replace(r'<[^<>]*>', '', regex=True)"
   ],
   "metadata": {
    "collapsed": false,
    "pycharm": {
     "name": "#%%\n"
    }
   }
  },
  {
   "cell_type": "code",
   "execution_count": 19,
   "outputs": [
    {
     "data": {
      "text/plain": "17       Located 1/4 mile south of Fontenelle Reservoir...\n20       The Burro Creek Recreation Site is located 60 ...\n21       From Kingman, Arizona, travel 18 miles north o...\n22       From Kingman, travel 14 miles on Hualapai Moun...\n28       From Prineville, Oregon: Drive 12.4 miles sout...\n                               ...                        \n13859    Take State Highway 395 north from Spokane. Tra...\n13860    Take State Highway 2 west of Spokane for 32 mi...\n13861    Jones Bay is 77 miles from Spokane as you head...\n13996    From Idaho City travel State Highway 21 north ...\n13997    The North Unit entrance is along U.S. Highway ...\nName: FacilityDirections, Length: 4881, dtype: object"
     },
     "execution_count": 19,
     "metadata": {},
     "output_type": "execute_result"
    }
   ],
   "source": [
    "dfCampgrounds['FacilityDirections']"
   ],
   "metadata": {
    "collapsed": false,
    "pycharm": {
     "name": "#%%\n"
    }
   }
  },
  {
   "cell_type": "code",
   "execution_count": 19,
   "outputs": [
    {
     "name": "stdout",
     "output_type": "stream",
     "text": [
      "Collecting textblob\r\n",
      "  Downloading textblob-0.17.1-py2.py3-none-any.whl (636 kB)\r\n",
      "     |████████████████████████████████| 636 kB 4.4 MB/s            \r\n",
      "\u001B[?25hRequirement already satisfied: nltk>=3.1 in /Users/natburgwyn/opt/anaconda3/lib/python3.8/site-packages (from textblob) (3.5)\r\n",
      "Requirement already satisfied: tqdm in /Users/natburgwyn/opt/anaconda3/lib/python3.8/site-packages (from nltk>=3.1->textblob) (4.51.0)\r\n",
      "Requirement already satisfied: regex in /Users/natburgwyn/opt/anaconda3/lib/python3.8/site-packages (from nltk>=3.1->textblob) (2020.11.13)\r\n",
      "Requirement already satisfied: joblib in /Users/natburgwyn/opt/anaconda3/lib/python3.8/site-packages (from nltk>=3.1->textblob) (0.17.0)\r\n",
      "Requirement already satisfied: click in /Users/natburgwyn/opt/anaconda3/lib/python3.8/site-packages (from nltk>=3.1->textblob) (7.1.2)\r\n",
      "Installing collected packages: textblob\r\n",
      "Successfully installed textblob-0.17.1\r\n",
      "\u001B[33mWARNING: You are using pip version 21.3.1; however, version 22.0.4 is available.\r\n",
      "You should consider upgrading via the '/Users/natburgwyn/opt/anaconda3/bin/python -m pip install --upgrade pip' command.\u001B[0m\r\n"
     ]
    }
   ],
   "source": [
    "!pip install textblob"
   ],
   "metadata": {
    "collapsed": false,
    "pycharm": {
     "name": "#%%\n"
    }
   }
  },
  {
   "cell_type": "code",
   "execution_count": 24,
   "outputs": [],
   "source": [
    "from sklearn.feature_extraction.text import CountVectorizer\n",
    "\n",
    "cv = CountVectorizer(stop_words='english')"
   ],
   "metadata": {
    "collapsed": false,
    "pycharm": {
     "name": "#%%\n"
    }
   }
  },
  {
   "cell_type": "code",
   "execution_count": null,
   "outputs": [],
   "source": [],
   "metadata": {
    "collapsed": false,
    "pycharm": {
     "name": "#%%\n"
    }
   }
  }
 ],
 "metadata": {
  "kernelspec": {
   "display_name": "Python 3",
   "language": "python",
   "name": "python3"
  },
  "language_info": {
   "codemirror_mode": {
    "name": "ipython",
    "version": 2
   },
   "file_extension": ".py",
   "mimetype": "text/x-python",
   "name": "python",
   "nbconvert_exporter": "python",
   "pygments_lexer": "ipython2",
   "version": "2.7.6"
  }
 },
 "nbformat": 4,
 "nbformat_minor": 0
}