{
 "cells": [
  {
   "cell_type": "code",
   "execution_count": 111,
   "metadata": {
    "collapsed": true,
    "pycharm": {
     "name": "#%%\n"
    }
   },
   "outputs": [],
   "source": [
    "import pandas as pd"
   ]
  },
  {
   "cell_type": "code",
   "execution_count": 112,
   "outputs": [],
   "source": [
    "dfFacilities = pd.read_csv('./Facilities_API_v1.csv')"
   ],
   "metadata": {
    "collapsed": false,
    "pycharm": {
     "name": "#%%\n"
    }
   }
  },
  {
   "cell_type": "code",
   "execution_count": 113,
   "outputs": [
    {
     "data": {
      "text/plain": "                             FacilityID LegacyFacilityID  OrgFacilityID  \\\n0  0377bfa0-e64c-11ea-b327-2e4b29211486              NaN            131   \n1  0422847b-e7d4-11ea-8710-eabd4664df5f              NaN            131   \n2  04f0a13e-7acf-11eb-9b8e-72edbbd009f6              NaN            130   \n3  058e22e2-e648-11ea-8a7e-f638cd389a69              NaN            131   \n4  05c725ae-7acc-11eb-9b8e-72edbbd009f6              NaN            130   \n\n  ParentOrgID  ParentRecAreaID  \\\n0         NaN           1055.0   \n1         NaN           1012.0   \n2         NaN            515.0   \n3         NaN           1060.0   \n4         NaN            516.0   \n\n                                        FacilityName FacilityDescription  \\\n0  White River National Forest Christmas Tree Permit                 NaN   \n1  Nez Perce Clearwater National Forest Christmas...                 NaN   \n2                                       Willis Creek                 NaN   \n3     Shoshone National Forest Christmas Tree Permit                 NaN   \n4                                            Russell                 NaN   \n\n  FacilityTypeDescription FacilityUseFeeDescription FacilityDirections  ...  \\\n0             Tree Permit                       NaN                NaN  ...   \n1             Tree Permit                       NaN                NaN  ...   \n2           Activity Pass                       NaN                NaN  ...   \n3             Tree Permit                       NaN                NaN  ...   \n4           Activity Pass                       NaN                NaN  ...   \n\n  FacilityReservationURL FacilityMapURL FacilityAdaAccess FacilityLongitude  \\\n0                    NaN            NaN               NaN       -107.230034   \n1                    NaN            NaN               NaN       -115.917500   \n2                    NaN            NaN               NaN        -97.398541   \n3                    NaN            NaN               NaN       -109.502600   \n4                    NaN            NaN               NaN        -97.762456   \n\n  FacilityLatitude  Keywords  StayLimit Reservable Enabled  LastUpdatedDate  \n0        39.363945       NaN        NaN       True    True       2021-09-23  \n1        45.450000       NaN        NaN       True    True       2021-09-23  \n2        30.695534       NaN        NaN       True    True       2021-09-23  \n3        43.923700       NaN        NaN       True    True       2021-09-23  \n4        30.679976       NaN        NaN       True    True       2021-09-23  \n\n[5 rows x 22 columns]",
      "text/html": "<div>\n<style scoped>\n    .dataframe tbody tr th:only-of-type {\n        vertical-align: middle;\n    }\n\n    .dataframe tbody tr th {\n        vertical-align: top;\n    }\n\n    .dataframe thead th {\n        text-align: right;\n    }\n</style>\n<table border=\"1\" class=\"dataframe\">\n  <thead>\n    <tr style=\"text-align: right;\">\n      <th></th>\n      <th>FacilityID</th>\n      <th>LegacyFacilityID</th>\n      <th>OrgFacilityID</th>\n      <th>ParentOrgID</th>\n      <th>ParentRecAreaID</th>\n      <th>FacilityName</th>\n      <th>FacilityDescription</th>\n      <th>FacilityTypeDescription</th>\n      <th>FacilityUseFeeDescription</th>\n      <th>FacilityDirections</th>\n      <th>...</th>\n      <th>FacilityReservationURL</th>\n      <th>FacilityMapURL</th>\n      <th>FacilityAdaAccess</th>\n      <th>FacilityLongitude</th>\n      <th>FacilityLatitude</th>\n      <th>Keywords</th>\n      <th>StayLimit</th>\n      <th>Reservable</th>\n      <th>Enabled</th>\n      <th>LastUpdatedDate</th>\n    </tr>\n  </thead>\n  <tbody>\n    <tr>\n      <th>0</th>\n      <td>0377bfa0-e64c-11ea-b327-2e4b29211486</td>\n      <td>NaN</td>\n      <td>131</td>\n      <td>NaN</td>\n      <td>1055.0</td>\n      <td>White River National Forest Christmas Tree Permit</td>\n      <td>NaN</td>\n      <td>Tree Permit</td>\n      <td>NaN</td>\n      <td>NaN</td>\n      <td>...</td>\n      <td>NaN</td>\n      <td>NaN</td>\n      <td>NaN</td>\n      <td>-107.230034</td>\n      <td>39.363945</td>\n      <td>NaN</td>\n      <td>NaN</td>\n      <td>True</td>\n      <td>True</td>\n      <td>2021-09-23</td>\n    </tr>\n    <tr>\n      <th>1</th>\n      <td>0422847b-e7d4-11ea-8710-eabd4664df5f</td>\n      <td>NaN</td>\n      <td>131</td>\n      <td>NaN</td>\n      <td>1012.0</td>\n      <td>Nez Perce Clearwater National Forest Christmas...</td>\n      <td>NaN</td>\n      <td>Tree Permit</td>\n      <td>NaN</td>\n      <td>NaN</td>\n      <td>...</td>\n      <td>NaN</td>\n      <td>NaN</td>\n      <td>NaN</td>\n      <td>-115.917500</td>\n      <td>45.450000</td>\n      <td>NaN</td>\n      <td>NaN</td>\n      <td>True</td>\n      <td>True</td>\n      <td>2021-09-23</td>\n    </tr>\n    <tr>\n      <th>2</th>\n      <td>04f0a13e-7acf-11eb-9b8e-72edbbd009f6</td>\n      <td>NaN</td>\n      <td>130</td>\n      <td>NaN</td>\n      <td>515.0</td>\n      <td>Willis Creek</td>\n      <td>NaN</td>\n      <td>Activity Pass</td>\n      <td>NaN</td>\n      <td>NaN</td>\n      <td>...</td>\n      <td>NaN</td>\n      <td>NaN</td>\n      <td>NaN</td>\n      <td>-97.398541</td>\n      <td>30.695534</td>\n      <td>NaN</td>\n      <td>NaN</td>\n      <td>True</td>\n      <td>True</td>\n      <td>2021-09-23</td>\n    </tr>\n    <tr>\n      <th>3</th>\n      <td>058e22e2-e648-11ea-8a7e-f638cd389a69</td>\n      <td>NaN</td>\n      <td>131</td>\n      <td>NaN</td>\n      <td>1060.0</td>\n      <td>Shoshone National Forest Christmas Tree Permit</td>\n      <td>NaN</td>\n      <td>Tree Permit</td>\n      <td>NaN</td>\n      <td>NaN</td>\n      <td>...</td>\n      <td>NaN</td>\n      <td>NaN</td>\n      <td>NaN</td>\n      <td>-109.502600</td>\n      <td>43.923700</td>\n      <td>NaN</td>\n      <td>NaN</td>\n      <td>True</td>\n      <td>True</td>\n      <td>2021-09-23</td>\n    </tr>\n    <tr>\n      <th>4</th>\n      <td>05c725ae-7acc-11eb-9b8e-72edbbd009f6</td>\n      <td>NaN</td>\n      <td>130</td>\n      <td>NaN</td>\n      <td>516.0</td>\n      <td>Russell</td>\n      <td>NaN</td>\n      <td>Activity Pass</td>\n      <td>NaN</td>\n      <td>NaN</td>\n      <td>...</td>\n      <td>NaN</td>\n      <td>NaN</td>\n      <td>NaN</td>\n      <td>-97.762456</td>\n      <td>30.679976</td>\n      <td>NaN</td>\n      <td>NaN</td>\n      <td>True</td>\n      <td>True</td>\n      <td>2021-09-23</td>\n    </tr>\n  </tbody>\n</table>\n<p>5 rows × 22 columns</p>\n</div>"
     },
     "execution_count": 113,
     "metadata": {},
     "output_type": "execute_result"
    }
   ],
   "source": [
    "dfFacilities.head()"
   ],
   "metadata": {
    "collapsed": false,
    "pycharm": {
     "name": "#%%\n"
    }
   }
  },
  {
   "cell_type": "code",
   "execution_count": 114,
   "outputs": [
    {
     "name": "stdout",
     "output_type": "stream",
     "text": [
      "<class 'pandas.core.frame.DataFrame'>\n",
      "RangeIndex: 14121 entries, 0 to 14120\n",
      "Data columns (total 22 columns):\n",
      " #   Column                     Non-Null Count  Dtype  \n",
      "---  ------                     --------------  -----  \n",
      " 0   FacilityID                 14121 non-null  object \n",
      " 1   LegacyFacilityID           3905 non-null   object \n",
      " 2   OrgFacilityID              14121 non-null  int64  \n",
      " 3   ParentOrgID                11897 non-null  object \n",
      " 4   ParentRecAreaID            13209 non-null  float64\n",
      " 5   FacilityName               14109 non-null  object \n",
      " 6   FacilityDescription        13854 non-null  object \n",
      " 7   FacilityTypeDescription    14121 non-null  object \n",
      " 8   FacilityUseFeeDescription  1618 non-null   object \n",
      " 9   FacilityDirections         8195 non-null   object \n",
      " 10  FacilityPhone              5811 non-null   object \n",
      " 11  FacilityEmail              3251 non-null   object \n",
      " 12  FacilityReservationURL     120 non-null    object \n",
      " 13  FacilityMapURL             291 non-null    object \n",
      " 14  FacilityAdaAccess          4781 non-null   object \n",
      " 15  FacilityLongitude          14121 non-null  float64\n",
      " 16  FacilityLatitude           14121 non-null  float64\n",
      " 17  Keywords                   4778 non-null   object \n",
      " 18  StayLimit                  438 non-null    object \n",
      " 19  Reservable                 14121 non-null  bool   \n",
      " 20  Enabled                    14121 non-null  bool   \n",
      " 21  LastUpdatedDate            14121 non-null  object \n",
      "dtypes: bool(2), float64(3), int64(1), object(16)\n",
      "memory usage: 2.2+ MB\n"
     ]
    }
   ],
   "source": [
    "dfFacilities.info()"
   ],
   "metadata": {
    "collapsed": false,
    "pycharm": {
     "name": "#%%\n"
    }
   }
  },
  {
   "cell_type": "code",
   "execution_count": 115,
   "outputs": [
    {
     "data": {
      "text/plain": "(14121, 22)"
     },
     "execution_count": 115,
     "metadata": {},
     "output_type": "execute_result"
    }
   ],
   "source": [
    "dfFacilities.shape"
   ],
   "metadata": {
    "collapsed": false,
    "pycharm": {
     "name": "#%%\n"
    }
   }
  },
  {
   "cell_type": "code",
   "execution_count": 116,
   "outputs": [
    {
     "data": {
      "text/plain": "array(['Tree Permit', 'Activity Pass', 'Campground', 'Facility',\n       'Visitor Center', 'Ticket Facility', 'Timed Entry', 'Permit',\n       'Library', 'Archives', 'Museum', 'Construction Camp site',\n       'Cemetery and Memorial', 'National Fish Hatchery', 'Federal',\n       'Kiosk'], dtype=object)"
     },
     "execution_count": 116,
     "metadata": {},
     "output_type": "execute_result"
    }
   ],
   "source": [
    "dfFacilities.FacilityTypeDescription.unique()"
   ],
   "metadata": {
    "collapsed": false,
    "pycharm": {
     "name": "#%%\n"
    }
   }
  },
  {
   "cell_type": "code",
   "execution_count": 117,
   "outputs": [
    {
     "data": {
      "text/plain": "Empty DataFrame\nColumns: [FacilityID, LegacyFacilityID, OrgFacilityID, ParentOrgID, ParentRecAreaID, FacilityName, FacilityDescription, FacilityTypeDescription, FacilityUseFeeDescription, FacilityDirections, FacilityPhone, FacilityEmail, FacilityReservationURL, FacilityMapURL, FacilityAdaAccess, FacilityLongitude, FacilityLatitude, Keywords, StayLimit, Reservable, Enabled, LastUpdatedDate]\nIndex: []\n\n[0 rows x 22 columns]",
      "text/html": "<div>\n<style scoped>\n    .dataframe tbody tr th:only-of-type {\n        vertical-align: middle;\n    }\n\n    .dataframe tbody tr th {\n        vertical-align: top;\n    }\n\n    .dataframe thead th {\n        text-align: right;\n    }\n</style>\n<table border=\"1\" class=\"dataframe\">\n  <thead>\n    <tr style=\"text-align: right;\">\n      <th></th>\n      <th>FacilityID</th>\n      <th>LegacyFacilityID</th>\n      <th>OrgFacilityID</th>\n      <th>ParentOrgID</th>\n      <th>ParentRecAreaID</th>\n      <th>FacilityName</th>\n      <th>FacilityDescription</th>\n      <th>FacilityTypeDescription</th>\n      <th>FacilityUseFeeDescription</th>\n      <th>FacilityDirections</th>\n      <th>...</th>\n      <th>FacilityReservationURL</th>\n      <th>FacilityMapURL</th>\n      <th>FacilityAdaAccess</th>\n      <th>FacilityLongitude</th>\n      <th>FacilityLatitude</th>\n      <th>Keywords</th>\n      <th>StayLimit</th>\n      <th>Reservable</th>\n      <th>Enabled</th>\n      <th>LastUpdatedDate</th>\n    </tr>\n  </thead>\n  <tbody>\n  </tbody>\n</table>\n<p>0 rows × 22 columns</p>\n</div>"
     },
     "execution_count": 117,
     "metadata": {},
     "output_type": "execute_result"
    }
   ],
   "source": [
    "# are there any disabled campgrounds?\n",
    "dfFacilities[dfFacilities.Enabled == False]"
   ],
   "metadata": {
    "collapsed": false,
    "pycharm": {
     "name": "#%%\n"
    }
   }
  },
  {
   "cell_type": "code",
   "execution_count": 118,
   "outputs": [
    {
     "data": {
      "text/plain": "      FacilityID LegacyFacilityID  OrgFacilityID ParentOrgID  ParentRecAreaID  \\\n17      10000167              NaN            126         NaN              NaN   \n20      10000305              NaN            126         NaN          16669.0   \n21      10000309              NaN            126         NaN              NaN   \n22      10000330              NaN            126         NaN              NaN   \n28      10000447              NaN            126         NaN          16820.0   \n...          ...              ...            ...         ...              ...   \n13859     275085           275085            128        6615           2802.0   \n13860     275091           275091            128        6621           2802.0   \n13861     275092           275092            128        6622           2802.0   \n13996      72417            72417            131         NaN           1023.0   \n13997      72481            72481            128         NaN           2949.0   \n\n                        FacilityName  \\\n17              Tail Race Campground   \n20           Burro Creek Campground    \n21            Windy Point Campground   \n22       Wild Cow Springs Campground   \n28            Castle Rock Campground   \n...                              ...   \n13859     Cloverleaf Campground (WA)   \n13860          Hawk Creek Campground   \n13861           Jones Bay Campground   \n13996            TEN MILE CAMPGROUND   \n13997  Juniper Campground Group Site   \n\n                                     FacilityDescription  \\\n17     The Tail Race Campground features three campsi...   \n20     <h2>Overview</h2>\\n<p>The Burro Creek Campgrou...   \n21     Located on the crest of the Cerbat Mountains, ...   \n22     Wild Cow Springs Campground is situated in a g...   \n28     <p>Located south of Prineville, Oregon, this s...   \n...                                                  ...   \n13859  <h2>Overview</h2>\\n<p>Cloverleaf is a small, w...   \n13860  <h2>Overview</h2>\\n<p>Hawk Creek Campground is...   \n13861  <h2>Overview</h2>\\n<p>Jones Bay is one of Lake...   \n13996  <h2>Overview</h2>\\n<p>Ten Mile is small campgr...   \n13997  <h2>Overview</h2>\\n<p>For groups visiting the ...   \n\n      FacilityTypeDescription  \\\n17                 Campground   \n20                 Campground   \n21                 Campground   \n22                 Campground   \n28                 Campground   \n...                       ...   \n13859              Campground   \n13860              Campground   \n13861              Campground   \n13996              Campground   \n13997              Campground   \n\n                               FacilityUseFeeDescription  \\\n17                                                   NaN   \n20     <p>The Burro Creek Campground has started acce...   \n21                                     $8/night per site   \n22      $8/night for individual campsites<br/>$20/nig...   \n28     $8 per night; $2 per extra vehicle (tow vehicl...   \n...                                                  ...   \n13859  <p>The campground is available by reservation ...   \n13860  <p>This is a reservation only campground.  All...   \n13861  <p>This is a reservation only campground.  Sit...   \n13996                                                NaN   \n13997                                                NaN   \n\n                                      FacilityDirections  ...  \\\n17     Located 1/4 mile south of Fontenelle Reservoir...  ...   \n20     <p>The Burro Creek Recreation Site is located ...  ...   \n21     From Kingman, Arizona, travel 18 miles north o...  ...   \n22     From Kingman, travel 14 miles on Hualapai Moun...  ...   \n28     From Prineville, Oregon: Drive 12.4 miles sout...  ...   \n...                                                  ...  ...   \n13859  <p>Take State Highway 395 north from Spokane. ...  ...   \n13860  <p>Take State Highway 2 west of Spokane for 32...  ...   \n13861  <p>Jones Bay is 77 miles from Spokane as you h...  ...   \n13996  <p>From Idaho City travel State Highway 21 nor...  ...   \n13997  The North Unit entrance is along U.S. Highway ...  ...   \n\n      FacilityReservationURL            FacilityMapURL  \\\n17                       NaN                       NaN   \n20                       NaN                       NaN   \n21                       NaN                       NaN   \n22                                                       \n28                       NaN  https://flic.kr/p/CNdZtg   \n...                      ...                       ...   \n13859                    NaN                       NaN   \n13860                    NaN                       NaN   \n13861                    NaN                       NaN   \n13996                    NaN                       NaN   \n13997                    NaN                       NaN   \n\n                                      FacilityAdaAccess FacilityLongitude  \\\n17                                                  NaN       -110.060900   \n20                                                  NaN       -113.451880   \n21                                                  NaN       -114.160087   \n22     Accessible camp and picnic site and vault toilet       -113.869180   \n28                        \"Vault toilet is accessible.\"       -120.833950   \n...                                                 ...               ...   \n13859                                               NaN       -118.145717   \n13860                                               NaN       -118.316381   \n13861                                               NaN       -118.582467   \n13996                                                 N       -115.712719   \n13997                                                 N       -103.333889   \n\n      FacilityLatitude                                           Keywords  \\\n17           42.024400                                                NaN   \n20           34.536050  Burro Creek Recreation Site,Burro Creek Camp,B...   \n21           35.435956                                            kingman   \n22           35.061300  Hualapai Mountains, camping, wild cow springs,...   \n28           44.158140  Prineville, Fishing, Rafting, Camping, Day Use...   \n...                ...                                                ...   \n13859        48.297583                                                NaN   \n13860        47.816515                                                NaN   \n13861        47.918483                                                NaN   \n13996        43.898560                                               None   \n13997        47.594167                                                NaN   \n\n       StayLimit Reservable Enabled  LastUpdatedDate  \n17           NaN      False    True       2020-09-10  \n20           NaN       True    True       2022-03-03  \n21       14 days      False    True       2020-09-10  \n22       14 days      False    True       2020-09-10  \n28       14 Days      False    True       2021-09-21  \n...          ...        ...     ...              ...  \n13859        NaN       True    True       2022-03-03  \n13860        NaN       True    True       2022-03-03  \n13861        NaN       True    True       2022-03-03  \n13996        NaN       True    True       2022-03-03  \n13997        NaN       True    True       2022-03-03  \n\n[4881 rows x 22 columns]",
      "text/html": "<div>\n<style scoped>\n    .dataframe tbody tr th:only-of-type {\n        vertical-align: middle;\n    }\n\n    .dataframe tbody tr th {\n        vertical-align: top;\n    }\n\n    .dataframe thead th {\n        text-align: right;\n    }\n</style>\n<table border=\"1\" class=\"dataframe\">\n  <thead>\n    <tr style=\"text-align: right;\">\n      <th></th>\n      <th>FacilityID</th>\n      <th>LegacyFacilityID</th>\n      <th>OrgFacilityID</th>\n      <th>ParentOrgID</th>\n      <th>ParentRecAreaID</th>\n      <th>FacilityName</th>\n      <th>FacilityDescription</th>\n      <th>FacilityTypeDescription</th>\n      <th>FacilityUseFeeDescription</th>\n      <th>FacilityDirections</th>\n      <th>...</th>\n      <th>FacilityReservationURL</th>\n      <th>FacilityMapURL</th>\n      <th>FacilityAdaAccess</th>\n      <th>FacilityLongitude</th>\n      <th>FacilityLatitude</th>\n      <th>Keywords</th>\n      <th>StayLimit</th>\n      <th>Reservable</th>\n      <th>Enabled</th>\n      <th>LastUpdatedDate</th>\n    </tr>\n  </thead>\n  <tbody>\n    <tr>\n      <th>17</th>\n      <td>10000167</td>\n      <td>NaN</td>\n      <td>126</td>\n      <td>NaN</td>\n      <td>NaN</td>\n      <td>Tail Race Campground</td>\n      <td>The Tail Race Campground features three campsi...</td>\n      <td>Campground</td>\n      <td>NaN</td>\n      <td>Located 1/4 mile south of Fontenelle Reservoir...</td>\n      <td>...</td>\n      <td>NaN</td>\n      <td>NaN</td>\n      <td>NaN</td>\n      <td>-110.060900</td>\n      <td>42.024400</td>\n      <td>NaN</td>\n      <td>NaN</td>\n      <td>False</td>\n      <td>True</td>\n      <td>2020-09-10</td>\n    </tr>\n    <tr>\n      <th>20</th>\n      <td>10000305</td>\n      <td>NaN</td>\n      <td>126</td>\n      <td>NaN</td>\n      <td>16669.0</td>\n      <td>Burro Creek Campground</td>\n      <td>&lt;h2&gt;Overview&lt;/h2&gt;\\n&lt;p&gt;The Burro Creek Campgrou...</td>\n      <td>Campground</td>\n      <td>&lt;p&gt;The Burro Creek Campground has started acce...</td>\n      <td>&lt;p&gt;The Burro Creek Recreation Site is located ...</td>\n      <td>...</td>\n      <td>NaN</td>\n      <td>NaN</td>\n      <td>NaN</td>\n      <td>-113.451880</td>\n      <td>34.536050</td>\n      <td>Burro Creek Recreation Site,Burro Creek Camp,B...</td>\n      <td>NaN</td>\n      <td>True</td>\n      <td>True</td>\n      <td>2022-03-03</td>\n    </tr>\n    <tr>\n      <th>21</th>\n      <td>10000309</td>\n      <td>NaN</td>\n      <td>126</td>\n      <td>NaN</td>\n      <td>NaN</td>\n      <td>Windy Point Campground</td>\n      <td>Located on the crest of the Cerbat Mountains, ...</td>\n      <td>Campground</td>\n      <td>$8/night per site</td>\n      <td>From Kingman, Arizona, travel 18 miles north o...</td>\n      <td>...</td>\n      <td>NaN</td>\n      <td>NaN</td>\n      <td>NaN</td>\n      <td>-114.160087</td>\n      <td>35.435956</td>\n      <td>kingman</td>\n      <td>14 days</td>\n      <td>False</td>\n      <td>True</td>\n      <td>2020-09-10</td>\n    </tr>\n    <tr>\n      <th>22</th>\n      <td>10000330</td>\n      <td>NaN</td>\n      <td>126</td>\n      <td>NaN</td>\n      <td>NaN</td>\n      <td>Wild Cow Springs Campground</td>\n      <td>Wild Cow Springs Campground is situated in a g...</td>\n      <td>Campground</td>\n      <td>$8/night for individual campsites&lt;br/&gt;$20/nig...</td>\n      <td>From Kingman, travel 14 miles on Hualapai Moun...</td>\n      <td>...</td>\n      <td></td>\n      <td></td>\n      <td>Accessible camp and picnic site and vault toilet</td>\n      <td>-113.869180</td>\n      <td>35.061300</td>\n      <td>Hualapai Mountains, camping, wild cow springs,...</td>\n      <td>14 days</td>\n      <td>False</td>\n      <td>True</td>\n      <td>2020-09-10</td>\n    </tr>\n    <tr>\n      <th>28</th>\n      <td>10000447</td>\n      <td>NaN</td>\n      <td>126</td>\n      <td>NaN</td>\n      <td>16820.0</td>\n      <td>Castle Rock Campground</td>\n      <td>&lt;p&gt;Located south of Prineville, Oregon, this s...</td>\n      <td>Campground</td>\n      <td>$8 per night; $2 per extra vehicle (tow vehicl...</td>\n      <td>From Prineville, Oregon: Drive 12.4 miles sout...</td>\n      <td>...</td>\n      <td>NaN</td>\n      <td>https://flic.kr/p/CNdZtg</td>\n      <td>\"Vault toilet is accessible.\"</td>\n      <td>-120.833950</td>\n      <td>44.158140</td>\n      <td>Prineville, Fishing, Rafting, Camping, Day Use...</td>\n      <td>14 Days</td>\n      <td>False</td>\n      <td>True</td>\n      <td>2021-09-21</td>\n    </tr>\n    <tr>\n      <th>...</th>\n      <td>...</td>\n      <td>...</td>\n      <td>...</td>\n      <td>...</td>\n      <td>...</td>\n      <td>...</td>\n      <td>...</td>\n      <td>...</td>\n      <td>...</td>\n      <td>...</td>\n      <td>...</td>\n      <td>...</td>\n      <td>...</td>\n      <td>...</td>\n      <td>...</td>\n      <td>...</td>\n      <td>...</td>\n      <td>...</td>\n      <td>...</td>\n      <td>...</td>\n      <td>...</td>\n    </tr>\n    <tr>\n      <th>13859</th>\n      <td>275085</td>\n      <td>275085</td>\n      <td>128</td>\n      <td>6615</td>\n      <td>2802.0</td>\n      <td>Cloverleaf Campground (WA)</td>\n      <td>&lt;h2&gt;Overview&lt;/h2&gt;\\n&lt;p&gt;Cloverleaf is a small, w...</td>\n      <td>Campground</td>\n      <td>&lt;p&gt;The campground is available by reservation ...</td>\n      <td>&lt;p&gt;Take State Highway 395 north from Spokane. ...</td>\n      <td>...</td>\n      <td>NaN</td>\n      <td>NaN</td>\n      <td>NaN</td>\n      <td>-118.145717</td>\n      <td>48.297583</td>\n      <td>NaN</td>\n      <td>NaN</td>\n      <td>True</td>\n      <td>True</td>\n      <td>2022-03-03</td>\n    </tr>\n    <tr>\n      <th>13860</th>\n      <td>275091</td>\n      <td>275091</td>\n      <td>128</td>\n      <td>6621</td>\n      <td>2802.0</td>\n      <td>Hawk Creek Campground</td>\n      <td>&lt;h2&gt;Overview&lt;/h2&gt;\\n&lt;p&gt;Hawk Creek Campground is...</td>\n      <td>Campground</td>\n      <td>&lt;p&gt;This is a reservation only campground.  All...</td>\n      <td>&lt;p&gt;Take State Highway 2 west of Spokane for 32...</td>\n      <td>...</td>\n      <td>NaN</td>\n      <td>NaN</td>\n      <td>NaN</td>\n      <td>-118.316381</td>\n      <td>47.816515</td>\n      <td>NaN</td>\n      <td>NaN</td>\n      <td>True</td>\n      <td>True</td>\n      <td>2022-03-03</td>\n    </tr>\n    <tr>\n      <th>13861</th>\n      <td>275092</td>\n      <td>275092</td>\n      <td>128</td>\n      <td>6622</td>\n      <td>2802.0</td>\n      <td>Jones Bay Campground</td>\n      <td>&lt;h2&gt;Overview&lt;/h2&gt;\\n&lt;p&gt;Jones Bay is one of Lake...</td>\n      <td>Campground</td>\n      <td>&lt;p&gt;This is a reservation only campground.  Sit...</td>\n      <td>&lt;p&gt;Jones Bay is 77 miles from Spokane as you h...</td>\n      <td>...</td>\n      <td>NaN</td>\n      <td>NaN</td>\n      <td>NaN</td>\n      <td>-118.582467</td>\n      <td>47.918483</td>\n      <td>NaN</td>\n      <td>NaN</td>\n      <td>True</td>\n      <td>True</td>\n      <td>2022-03-03</td>\n    </tr>\n    <tr>\n      <th>13996</th>\n      <td>72417</td>\n      <td>72417</td>\n      <td>131</td>\n      <td>NaN</td>\n      <td>1023.0</td>\n      <td>TEN MILE CAMPGROUND</td>\n      <td>&lt;h2&gt;Overview&lt;/h2&gt;\\n&lt;p&gt;Ten Mile is small campgr...</td>\n      <td>Campground</td>\n      <td>NaN</td>\n      <td>&lt;p&gt;From Idaho City travel State Highway 21 nor...</td>\n      <td>...</td>\n      <td>NaN</td>\n      <td>NaN</td>\n      <td>N</td>\n      <td>-115.712719</td>\n      <td>43.898560</td>\n      <td>None</td>\n      <td>NaN</td>\n      <td>True</td>\n      <td>True</td>\n      <td>2022-03-03</td>\n    </tr>\n    <tr>\n      <th>13997</th>\n      <td>72481</td>\n      <td>72481</td>\n      <td>128</td>\n      <td>NaN</td>\n      <td>2949.0</td>\n      <td>Juniper Campground Group Site</td>\n      <td>&lt;h2&gt;Overview&lt;/h2&gt;\\n&lt;p&gt;For groups visiting the ...</td>\n      <td>Campground</td>\n      <td>NaN</td>\n      <td>The North Unit entrance is along U.S. Highway ...</td>\n      <td>...</td>\n      <td>NaN</td>\n      <td>NaN</td>\n      <td>N</td>\n      <td>-103.333889</td>\n      <td>47.594167</td>\n      <td>NaN</td>\n      <td>NaN</td>\n      <td>True</td>\n      <td>True</td>\n      <td>2022-03-03</td>\n    </tr>\n  </tbody>\n</table>\n<p>4881 rows × 22 columns</p>\n</div>"
     },
     "execution_count": 118,
     "metadata": {},
     "output_type": "execute_result"
    }
   ],
   "source": [
    "dfFacilities[dfFacilities.FacilityTypeDescription == 'Campground']"
   ],
   "metadata": {
    "collapsed": false,
    "pycharm": {
     "name": "#%%\n"
    }
   }
  },
  {
   "cell_type": "code",
   "execution_count": 119,
   "outputs": [],
   "source": [
    "dfCampgrounds = dfFacilities[dfFacilities.FacilityTypeDescription == 'Campground']"
   ],
   "metadata": {
    "collapsed": false,
    "pycharm": {
     "name": "#%%\n"
    }
   }
  },
  {
   "cell_type": "code",
   "execution_count": 120,
   "outputs": [],
   "source": [
    "proposed_features = ['FacilityID', 'FacilityName', 'FacilityDescription', 'FacilityDirections', 'FacilityAdaAccess', 'Keywords']"
   ],
   "metadata": {
    "collapsed": false,
    "pycharm": {
     "name": "#%%\n"
    }
   }
  },
  {
   "cell_type": "code",
   "execution_count": 121,
   "outputs": [
    {
     "data": {
      "text/plain": "      FacilityID                   FacilityName  \\\n17      10000167           Tail Race Campground   \n20      10000305        Burro Creek Campground    \n21      10000309         Windy Point Campground   \n22      10000330    Wild Cow Springs Campground   \n28      10000447         Castle Rock Campground   \n...          ...                            ...   \n13859     275085     Cloverleaf Campground (WA)   \n13860     275091          Hawk Creek Campground   \n13861     275092           Jones Bay Campground   \n13996      72417            TEN MILE CAMPGROUND   \n13997      72481  Juniper Campground Group Site   \n\n                                     FacilityDescription  \\\n17     The Tail Race Campground features three campsi...   \n20     <h2>Overview</h2>\\n<p>The Burro Creek Campgrou...   \n21     Located on the crest of the Cerbat Mountains, ...   \n22     Wild Cow Springs Campground is situated in a g...   \n28     <p>Located south of Prineville, Oregon, this s...   \n...                                                  ...   \n13859  <h2>Overview</h2>\\n<p>Cloverleaf is a small, w...   \n13860  <h2>Overview</h2>\\n<p>Hawk Creek Campground is...   \n13861  <h2>Overview</h2>\\n<p>Jones Bay is one of Lake...   \n13996  <h2>Overview</h2>\\n<p>Ten Mile is small campgr...   \n13997  <h2>Overview</h2>\\n<p>For groups visiting the ...   \n\n                                      FacilityDirections  \\\n17     Located 1/4 mile south of Fontenelle Reservoir...   \n20     <p>The Burro Creek Recreation Site is located ...   \n21     From Kingman, Arizona, travel 18 miles north o...   \n22     From Kingman, travel 14 miles on Hualapai Moun...   \n28     From Prineville, Oregon: Drive 12.4 miles sout...   \n...                                                  ...   \n13859  <p>Take State Highway 395 north from Spokane. ...   \n13860  <p>Take State Highway 2 west of Spokane for 32...   \n13861  <p>Jones Bay is 77 miles from Spokane as you h...   \n13996  <p>From Idaho City travel State Highway 21 nor...   \n13997  The North Unit entrance is along U.S. Highway ...   \n\n                                      FacilityAdaAccess  \\\n17                                                  NaN   \n20                                                  NaN   \n21                                                  NaN   \n22     Accessible camp and picnic site and vault toilet   \n28                        \"Vault toilet is accessible.\"   \n...                                                 ...   \n13859                                               NaN   \n13860                                               NaN   \n13861                                               NaN   \n13996                                                 N   \n13997                                                 N   \n\n                                                Keywords  \n17                                                   NaN  \n20     Burro Creek Recreation Site,Burro Creek Camp,B...  \n21                                               kingman  \n22     Hualapai Mountains, camping, wild cow springs,...  \n28     Prineville, Fishing, Rafting, Camping, Day Use...  \n...                                                  ...  \n13859                                                NaN  \n13860                                                NaN  \n13861                                                NaN  \n13996                                               None  \n13997                                                NaN  \n\n[4881 rows x 6 columns]",
      "text/html": "<div>\n<style scoped>\n    .dataframe tbody tr th:only-of-type {\n        vertical-align: middle;\n    }\n\n    .dataframe tbody tr th {\n        vertical-align: top;\n    }\n\n    .dataframe thead th {\n        text-align: right;\n    }\n</style>\n<table border=\"1\" class=\"dataframe\">\n  <thead>\n    <tr style=\"text-align: right;\">\n      <th></th>\n      <th>FacilityID</th>\n      <th>FacilityName</th>\n      <th>FacilityDescription</th>\n      <th>FacilityDirections</th>\n      <th>FacilityAdaAccess</th>\n      <th>Keywords</th>\n    </tr>\n  </thead>\n  <tbody>\n    <tr>\n      <th>17</th>\n      <td>10000167</td>\n      <td>Tail Race Campground</td>\n      <td>The Tail Race Campground features three campsi...</td>\n      <td>Located 1/4 mile south of Fontenelle Reservoir...</td>\n      <td>NaN</td>\n      <td>NaN</td>\n    </tr>\n    <tr>\n      <th>20</th>\n      <td>10000305</td>\n      <td>Burro Creek Campground</td>\n      <td>&lt;h2&gt;Overview&lt;/h2&gt;\\n&lt;p&gt;The Burro Creek Campgrou...</td>\n      <td>&lt;p&gt;The Burro Creek Recreation Site is located ...</td>\n      <td>NaN</td>\n      <td>Burro Creek Recreation Site,Burro Creek Camp,B...</td>\n    </tr>\n    <tr>\n      <th>21</th>\n      <td>10000309</td>\n      <td>Windy Point Campground</td>\n      <td>Located on the crest of the Cerbat Mountains, ...</td>\n      <td>From Kingman, Arizona, travel 18 miles north o...</td>\n      <td>NaN</td>\n      <td>kingman</td>\n    </tr>\n    <tr>\n      <th>22</th>\n      <td>10000330</td>\n      <td>Wild Cow Springs Campground</td>\n      <td>Wild Cow Springs Campground is situated in a g...</td>\n      <td>From Kingman, travel 14 miles on Hualapai Moun...</td>\n      <td>Accessible camp and picnic site and vault toilet</td>\n      <td>Hualapai Mountains, camping, wild cow springs,...</td>\n    </tr>\n    <tr>\n      <th>28</th>\n      <td>10000447</td>\n      <td>Castle Rock Campground</td>\n      <td>&lt;p&gt;Located south of Prineville, Oregon, this s...</td>\n      <td>From Prineville, Oregon: Drive 12.4 miles sout...</td>\n      <td>\"Vault toilet is accessible.\"</td>\n      <td>Prineville, Fishing, Rafting, Camping, Day Use...</td>\n    </tr>\n    <tr>\n      <th>...</th>\n      <td>...</td>\n      <td>...</td>\n      <td>...</td>\n      <td>...</td>\n      <td>...</td>\n      <td>...</td>\n    </tr>\n    <tr>\n      <th>13859</th>\n      <td>275085</td>\n      <td>Cloverleaf Campground (WA)</td>\n      <td>&lt;h2&gt;Overview&lt;/h2&gt;\\n&lt;p&gt;Cloverleaf is a small, w...</td>\n      <td>&lt;p&gt;Take State Highway 395 north from Spokane. ...</td>\n      <td>NaN</td>\n      <td>NaN</td>\n    </tr>\n    <tr>\n      <th>13860</th>\n      <td>275091</td>\n      <td>Hawk Creek Campground</td>\n      <td>&lt;h2&gt;Overview&lt;/h2&gt;\\n&lt;p&gt;Hawk Creek Campground is...</td>\n      <td>&lt;p&gt;Take State Highway 2 west of Spokane for 32...</td>\n      <td>NaN</td>\n      <td>NaN</td>\n    </tr>\n    <tr>\n      <th>13861</th>\n      <td>275092</td>\n      <td>Jones Bay Campground</td>\n      <td>&lt;h2&gt;Overview&lt;/h2&gt;\\n&lt;p&gt;Jones Bay is one of Lake...</td>\n      <td>&lt;p&gt;Jones Bay is 77 miles from Spokane as you h...</td>\n      <td>NaN</td>\n      <td>NaN</td>\n    </tr>\n    <tr>\n      <th>13996</th>\n      <td>72417</td>\n      <td>TEN MILE CAMPGROUND</td>\n      <td>&lt;h2&gt;Overview&lt;/h2&gt;\\n&lt;p&gt;Ten Mile is small campgr...</td>\n      <td>&lt;p&gt;From Idaho City travel State Highway 21 nor...</td>\n      <td>N</td>\n      <td>None</td>\n    </tr>\n    <tr>\n      <th>13997</th>\n      <td>72481</td>\n      <td>Juniper Campground Group Site</td>\n      <td>&lt;h2&gt;Overview&lt;/h2&gt;\\n&lt;p&gt;For groups visiting the ...</td>\n      <td>The North Unit entrance is along U.S. Highway ...</td>\n      <td>N</td>\n      <td>NaN</td>\n    </tr>\n  </tbody>\n</table>\n<p>4881 rows × 6 columns</p>\n</div>"
     },
     "execution_count": 121,
     "metadata": {},
     "output_type": "execute_result"
    }
   ],
   "source": [
    "dfCampgrounds[proposed_features]"
   ],
   "metadata": {
    "collapsed": false,
    "pycharm": {
     "name": "#%%\n"
    }
   }
  },
  {
   "cell_type": "code",
   "execution_count": 122,
   "outputs": [
    {
     "data": {
      "text/plain": "17       The Tail Race Campground features three campsi...\n20       <h2>Overview</h2>\\n<p>The Burro Creek Campgrou...\n21       Located on the crest of the Cerbat Mountains, ...\n22       Wild Cow Springs Campground is situated in a g...\n28       <p>Located south of Prineville, Oregon, this s...\n                               ...                        \n13859    <h2>Overview</h2>\\n<p>Cloverleaf is a small, w...\n13860    <h2>Overview</h2>\\n<p>Hawk Creek Campground is...\n13861    <h2>Overview</h2>\\n<p>Jones Bay is one of Lake...\n13996    <h2>Overview</h2>\\n<p>Ten Mile is small campgr...\n13997    <h2>Overview</h2>\\n<p>For groups visiting the ...\nName: FacilityDescription, Length: 4881, dtype: object"
     },
     "execution_count": 122,
     "metadata": {},
     "output_type": "execute_result"
    }
   ],
   "source": [
    "dfCampgrounds['FacilityDescription']"
   ],
   "metadata": {
    "collapsed": false,
    "pycharm": {
     "name": "#%%\n"
    }
   }
  },
  {
   "cell_type": "code",
   "execution_count": 124,
   "outputs": [
    {
     "name": "stdout",
     "output_type": "stream",
     "text": [
      "Requirement already satisfied: beautifulsoup4 in c:\\users\\nburg\\anaconda3\\lib\\site-packages (4.9.1)\n",
      "Requirement already satisfied: soupsieve>1.2 in c:\\users\\nburg\\anaconda3\\lib\\site-packages (from beautifulsoup4) (2.0.1)\n"
     ]
    }
   ],
   "source": [
    "!pip install beautifulsoup4"
   ],
   "metadata": {
    "collapsed": false,
    "pycharm": {
     "name": "#%%\n"
    }
   }
  },
  {
   "cell_type": "code",
   "execution_count": 142,
   "outputs": [],
   "source": [
    "from bs4 import BeautifulSoup\n",
    "\n",
    "soup = BeautifulSoup(dfCampgrounds['FacilityDescription'].iloc[1])\n",
    "\n",
    "tag_charges = soup.find_all('h2')[-1]"
   ],
   "metadata": {
    "collapsed": false,
    "pycharm": {
     "name": "#%%\n"
    }
   }
  },
  {
   "cell_type": "code",
   "execution_count": 143,
   "outputs": [],
   "source": [
    " # https://stackoverflow.com/questions/51366006/remove-everything-after-tag-in-beautifulsoup\n",
    "for e in tag_charges.find_all_next():\n",
    "    e.clear()"
   ],
   "metadata": {
    "collapsed": false,
    "pycharm": {
     "name": "#%%\n"
    }
   }
  },
  {
   "cell_type": "code",
   "execution_count": 146,
   "outputs": [
    {
     "data": {
      "text/plain": "[<html><body><h2>Overview</h2>\n <p>The Burro Creek Campground (1,960’ elevation) is situated along the 57 mile Burro Creek in a transition zone between the upper reaches of the scenic Sonoran Desert and lower reaches of the scenic Mojave Desert. The campground offers visitors a variety of scenery including saguaro-studded cliffs along steep canyon walls that contrast Burro Creek’s dense vegetation and flowing waters that form deep pools of water just adjacent to the campground. </p>\n <h2>Recreation</h2>\n <p>To enhance the visitor experience, the campground features a Watchable Wildlife Exhibit and an Interpretive Desert Garden as well as access to Burro Creek via hiking trails from the campground. The creek offers opportunities for rockhounding, wading, and wildlife viewing especially for birding with a wide-array of raptors and other species of birds. Sites 7, 8, and 9 are best for bird watching. </p>\n <h2>Facilities</h2>\n <p>Access to the Burro Creek Campground is provided via a 1.25 mile paved road from U.S. Highway 93 at mile post 140.2. The campground offers visitors 23 individual campsites, 1 group site, and 2 day-use sites featuring shaded picnic tables, fire rings with grates, and grills at the group site and day-use area. Flush toilet facilities are provided at 2 different locations in the campground as well as 1 dump station. Although water hookups are not available at campsites, drinking water is provided a various locations throughout the campground. </p>\n <p>In planning your trip, please note that sites 1, 2, and 10 through 17 are best for larger RVs (Class A) and trailers (fifth wheels) due to maneuverability throughout the site. Other sites can be utilized for larger RVs and trailers, but it is recommended for visitor convenience that the aforementioned sites are used first. </p>\n <h2>Natural Features</h2>\n <p>The campground scenery features an adjacent canyon carved by the flow of Burro Creek with other mountains and mesas visible in the background as well as a diverse Sonoran desert plant community including saguaros, a variety of cholla and barrel cacti, creosote bushes, Palo Verde trees, and catclaw. Nearby, on the banks of Burro Creek, visitors will also see willow and cottonwood trees as well as a wide-variety of riparian shrubs. </p>\n <p>Wildlife is frequent in the campground and include occasional sightings of desert bighorn sheep on the cliffs above Burro Creek and a variety of birds including cactus wren, Gambel’s quail, Gila woodpecker, great horned owl, great blue heron, Vermilion flycatcher, and cliff swallow to name a few. Javelina, raccoons, coyotes, and foxes have been known to use the area as the creek serves an important role in the harsh desert environment.     </p>\n <h2>Nearby Attractions</h2>\n <p>The public lands surrounding the Burro Creek Campground are readily available for visitors interested in sightseeing via use of a four-wheel drive vehicle along county-maintained dirt roads. These roads wind through a variety of interesting geologic scenery combined with unique vegetative communities including Sonoran and Mojave deserts intermingled with areas of interior chaparral and pinyon-juniper woodlands. County roads are maintained regularly, but it is always a good idea to check with the local BLM office prior to planning your trip as well as exercising caution when travelling on any of these unimproved dirt roads as visitors travel at their own risk. </p>\n <p>The area, while desolate during the warm summer months, gives way to cooler temperatures from October through April annually and provides exceptional opportunities for hunting, off-highway vehicle use, wildlife watching, photography, sightseeing, and a variety of other dispersed recreational opportunities. Depending upon winter and spring precipitation, the area surrounding the Burro Creek Campground provides visitors with excellent spring wildflower displays March through May.   </p>\n <h2>Charges &amp; Cancellations</h2>\n <p></p>\n <p></p>\n <p></p>\n <p></p>\n <p></p>\n <p></p>\n <p></p>\n <p></p>\n </body></html>]"
     },
     "execution_count": 146,
     "metadata": {},
     "output_type": "execute_result"
    }
   ],
   "source": [
    "soup.contents"
   ],
   "metadata": {
    "collapsed": false,
    "pycharm": {
     "name": "#%%\n"
    }
   }
  },
  {
   "cell_type": "code",
   "execution_count": 144,
   "outputs": [
    {
     "data": {
      "text/plain": "''"
     },
     "execution_count": 144,
     "metadata": {},
     "output_type": "execute_result"
    }
   ],
   "source": [
    "content = ''\n",
    "for e in soup.tags.find_all_next():\n",
    "    content += e.contents\n",
    "\n",
    "content"
   ],
   "metadata": {
    "collapsed": false,
    "pycharm": {
     "name": "#%%\n"
    }
   }
  },
  {
   "cell_type": "code",
   "execution_count": 81,
   "outputs": [
    {
     "data": {
      "text/plain": "17       The Tail Race Campground features three campsi...\n20       Overview\\nThe Burro Creek Campground (1,960’ e...\n21       Located on the crest of the Cerbat Mountains, ...\n22       Wild Cow Springs Campground is situated in a g...\n28       Located south of Prineville, Oregon, this six-...\n                               ...                        \n13859    Overview\\nCloverleaf is a small, walk-in only ...\n13860    Overview\\nHawk Creek Campground is tucked back...\n13861    Overview\\nJones Bay is one of Lake Roosevelt’s...\n13996    Overview\\nTen Mile is small campground, a quic...\n13997    Overview\\nFor groups visiting the North Unit o...\nName: FacilityDescription, Length: 4881, dtype: object"
     },
     "execution_count": 81,
     "metadata": {},
     "output_type": "execute_result"
    }
   ],
   "source": [
    "# stripping HTML tags\n",
    "# https://stackoverflow.com/questions/45999415/removing-html-tags-in-pandas\n",
    "dfCampgrounds['FacilityDescription'].str.replace(r'<[^<>]*>', '', regex=True)"
   ],
   "metadata": {
    "collapsed": false,
    "pycharm": {
     "name": "#%%\n"
    }
   }
  },
  {
   "cell_type": "code",
   "execution_count": 82,
   "outputs": [
    {
     "name": "stderr",
     "output_type": "stream",
     "text": [
      "<ipython-input-82-5279939d51bc>:1: SettingWithCopyWarning: \n",
      "A value is trying to be set on a copy of a slice from a DataFrame.\n",
      "Try using .loc[row_indexer,col_indexer] = value instead\n",
      "\n",
      "See the caveats in the documentation: https://pandas.pydata.org/pandas-docs/stable/user_guide/indexing.html#returning-a-view-versus-a-copy\n",
      "  dfCampgrounds['FacilityDescription'] = dfCampgrounds['FacilityDescription'].str.replace(r'<[^<>]*>', '', regex=True)\n"
     ]
    }
   ],
   "source": [
    "dfCampgrounds['FacilityDescription'] = dfCampgrounds['FacilityDescription'].str.replace(r'<[^<>]*>', '', regex=True)"
   ],
   "metadata": {
    "collapsed": false,
    "pycharm": {
     "name": "#%%\n"
    }
   }
  },
  {
   "cell_type": "markdown",
   "source": [],
   "metadata": {
    "collapsed": false,
    "pycharm": {
     "name": "#%% md\n"
    }
   }
  },
  {
   "cell_type": "code",
   "execution_count": 83,
   "outputs": [
    {
     "name": "stderr",
     "output_type": "stream",
     "text": [
      "<ipython-input-83-1862caae7500>:1: SettingWithCopyWarning: \n",
      "A value is trying to be set on a copy of a slice from a DataFrame.\n",
      "Try using .loc[row_indexer,col_indexer] = value instead\n",
      "\n",
      "See the caveats in the documentation: https://pandas.pydata.org/pandas-docs/stable/user_guide/indexing.html#returning-a-view-versus-a-copy\n",
      "  dfCampgrounds['FacilityDescription'] = dfCampgrounds['FacilityDescription'].str.replace('\\n', ' ', regex=True)\n"
     ]
    }
   ],
   "source": [
    "dfCampgrounds['FacilityDescription'] = dfCampgrounds['FacilityDescription'].str.replace('\\n', ' ', regex=True)"
   ],
   "metadata": {
    "collapsed": false,
    "pycharm": {
     "name": "#%%\n"
    }
   }
  },
  {
   "cell_type": "code",
   "execution_count": 84,
   "outputs": [
    {
     "name": "stderr",
     "output_type": "stream",
     "text": [
      "<ipython-input-84-5f7e441cf811>:1: SettingWithCopyWarning: \n",
      "A value is trying to be set on a copy of a slice from a DataFrame.\n",
      "Try using .loc[row_indexer,col_indexer] = value instead\n",
      "\n",
      "See the caveats in the documentation: https://pandas.pydata.org/pandas-docs/stable/user_guide/indexing.html#returning-a-view-versus-a-copy\n",
      "  dfCampgrounds['FacilityDescription'] = dfCampgrounds['FacilityDescription'].str.replace('\\r', ' ', regex=True)\n"
     ]
    }
   ],
   "source": [
    "dfCampgrounds['FacilityDescription'] = dfCampgrounds['FacilityDescription'].str.replace('\\r', ' ', regex=True)"
   ],
   "metadata": {
    "collapsed": false,
    "pycharm": {
     "name": "#%%\n"
    }
   }
  },
  {
   "cell_type": "code",
   "execution_count": 85,
   "outputs": [
    {
     "data": {
      "text/plain": "17       The Tail Race Campground features three campsi...\n20       Overview The Burro Creek Campground (1,960’ el...\n21       Located on the crest of the Cerbat Mountains, ...\n22       Wild Cow Springs Campground is situated in a g...\n28       Located south of Prineville, Oregon, this six-...\n                               ...                        \n13859    Overview Cloverleaf is a small, walk-in only c...\n13860    Overview Hawk Creek Campground is tucked back ...\n13861    Overview Jones Bay is one of Lake Roosevelt’s ...\n13996    Overview Ten Mile is small campground, a quick...\n13997    Overview For groups visiting the North Unit of...\nName: FacilityDescription, Length: 4881, dtype: object"
     },
     "execution_count": 85,
     "metadata": {},
     "output_type": "execute_result"
    }
   ],
   "source": [
    "dfCampgrounds['FacilityDescription']"
   ],
   "metadata": {
    "collapsed": false,
    "pycharm": {
     "name": "#%%\n"
    }
   }
  },
  {
   "cell_type": "code",
   "execution_count": 86,
   "outputs": [
    {
     "name": "stderr",
     "output_type": "stream",
     "text": [
      "<ipython-input-86-30e373bd710a>:1: SettingWithCopyWarning: \n",
      "A value is trying to be set on a copy of a slice from a DataFrame.\n",
      "Try using .loc[row_indexer,col_indexer] = value instead\n",
      "\n",
      "See the caveats in the documentation: https://pandas.pydata.org/pandas-docs/stable/user_guide/indexing.html#returning-a-view-versus-a-copy\n",
      "  dfCampgrounds['FacilityDirections'] = dfCampgrounds['FacilityDirections'].str.replace(r'<[^<>]*>', '', regex=True)\n"
     ]
    }
   ],
   "source": [
    "dfCampgrounds['FacilityDirections'] = dfCampgrounds['FacilityDirections'].str.replace(r'<[^<>]*>', '', regex=True)"
   ],
   "metadata": {
    "collapsed": false,
    "pycharm": {
     "name": "#%%\n"
    }
   }
  },
  {
   "cell_type": "code",
   "execution_count": 87,
   "outputs": [
    {
     "ename": "SyntaxError",
     "evalue": "EOL while scanning string literal (<ipython-input-87-c565071b0984>, line 1)",
     "output_type": "error",
     "traceback": [
      "\u001B[1;36m  File \u001B[1;32m\"<ipython-input-87-c565071b0984>\"\u001B[1;36m, line \u001B[1;32m1\u001B[0m\n\u001B[1;33m    dfCampgrounds['FacilityDirections'] = dfCampgrounds['FacilityDirections'].str.replace('\\n, ' ', regex=True)\u001B[0m\n\u001B[1;37m                                                                                                               ^\u001B[0m\n\u001B[1;31mSyntaxError\u001B[0m\u001B[1;31m:\u001B[0m EOL while scanning string literal\n"
     ]
    }
   ],
   "source": [
    "dfCampgrounds['FacilityDirections'] = dfCampgrounds['FacilityDirections'].str.replace('\\n, ' ', regex=True)"
   ],
   "metadata": {
    "collapsed": false,
    "pycharm": {
     "name": "#%%\n"
    }
   }
  },
  {
   "cell_type": "code",
   "execution_count": 88,
   "outputs": [
    {
     "name": "stderr",
     "output_type": "stream",
     "text": [
      "<ipython-input-88-64474a9f8285>:1: SettingWithCopyWarning: \n",
      "A value is trying to be set on a copy of a slice from a DataFrame.\n",
      "Try using .loc[row_indexer,col_indexer] = value instead\n",
      "\n",
      "See the caveats in the documentation: https://pandas.pydata.org/pandas-docs/stable/user_guide/indexing.html#returning-a-view-versus-a-copy\n",
      "  dfCampgrounds['FacilityDirections'] = dfCampgrounds['FacilityDirections'].str.replace('\\r', ' ', regex=True)\n"
     ]
    }
   ],
   "source": [
    "dfCampgrounds['FacilityDirections'] = dfCampgrounds['FacilityDirections'].str.replace('\\r', ' ', regex=True)"
   ],
   "metadata": {
    "collapsed": false,
    "pycharm": {
     "name": "#%%\n"
    }
   }
  },
  {
   "cell_type": "code",
   "execution_count": 89,
   "outputs": [
    {
     "data": {
      "text/plain": "17       Located 1/4 mile south of Fontenelle Reservoir...\n20       The Burro Creek Recreation Site is located 60 ...\n21       From Kingman, Arizona, travel 18 miles north o...\n22       From Kingman, travel 14 miles on Hualapai Moun...\n28       From Prineville, Oregon: Drive 12.4 miles sout...\n                               ...                        \n13859    Take State Highway 395 north from Spokane. Tra...\n13860    Take State Highway 2 west of Spokane for 32 mi...\n13861    Jones Bay is 77 miles from Spokane as you head...\n13996    From Idaho City travel State Highway 21 north ...\n13997    The North Unit entrance is along U.S. Highway ...\nName: FacilityDirections, Length: 4881, dtype: object"
     },
     "execution_count": 89,
     "metadata": {},
     "output_type": "execute_result"
    }
   ],
   "source": [
    "dfCampgrounds['FacilityDirections']"
   ],
   "metadata": {
    "collapsed": false,
    "pycharm": {
     "name": "#%%\n"
    }
   }
  },
  {
   "cell_type": "code",
   "execution_count": 90,
   "outputs": [
    {
     "name": "stdout",
     "output_type": "stream",
     "text": [
      "Requirement already satisfied: textblob in c:\\users\\nburg\\anaconda3\\lib\\site-packages (0.17.1)\n",
      "Requirement already satisfied: nltk>=3.1; python_version >= \"3\" in c:\\users\\nburg\\anaconda3\\lib\\site-packages (from textblob) (3.5)\n",
      "Requirement already satisfied: click in c:\\users\\nburg\\anaconda3\\lib\\site-packages (from nltk>=3.1; python_version >= \"3\"->textblob) (7.1.2)\n",
      "Requirement already satisfied: tqdm in c:\\users\\nburg\\anaconda3\\lib\\site-packages (from nltk>=3.1; python_version >= \"3\"->textblob) (4.47.0)\n",
      "Requirement already satisfied: regex in c:\\users\\nburg\\anaconda3\\lib\\site-packages (from nltk>=3.1; python_version >= \"3\"->textblob) (2020.6.8)\n",
      "Requirement already satisfied: joblib in c:\\users\\nburg\\anaconda3\\lib\\site-packages (from nltk>=3.1; python_version >= \"3\"->textblob) (0.16.0)\n"
     ]
    }
   ],
   "source": [
    "!pip install textblob"
   ],
   "metadata": {
    "collapsed": false,
    "pycharm": {
     "name": "#%%\n"
    }
   }
  },
  {
   "cell_type": "code",
   "execution_count": 91,
   "outputs": [
    {
     "name": "stdout",
     "output_type": "stream",
     "text": [
      "Finished."
     ]
    },
    {
     "name": "stderr",
     "output_type": "stream",
     "text": [
      "[nltk_data] Downloading package brown to\n",
      "[nltk_data]     C:\\Users\\nburg\\AppData\\Roaming\\nltk_data...\n",
      "[nltk_data]   Package brown is already up-to-date!\n",
      "[nltk_data] Downloading package punkt to\n",
      "[nltk_data]     C:\\Users\\nburg\\AppData\\Roaming\\nltk_data...\n",
      "[nltk_data]   Package punkt is already up-to-date!\n"
     ]
    },
    {
     "name": "stdout",
     "output_type": "stream",
     "text": [
      "\n"
     ]
    },
    {
     "name": "stderr",
     "output_type": "stream",
     "text": [
      "[nltk_data] Downloading package wordnet to\n",
      "[nltk_data]     C:\\Users\\nburg\\AppData\\Roaming\\nltk_data...\n",
      "[nltk_data]   Package wordnet is already up-to-date!\n",
      "[nltk_data] Downloading package averaged_perceptron_tagger to\n",
      "[nltk_data]     C:\\Users\\nburg\\AppData\\Roaming\\nltk_data...\n",
      "[nltk_data]   Package averaged_perceptron_tagger is already up-to-\n",
      "[nltk_data]       date!\n",
      "[nltk_data] Downloading package conll2000 to\n",
      "[nltk_data]     C:\\Users\\nburg\\AppData\\Roaming\\nltk_data...\n",
      "[nltk_data]   Package conll2000 is already up-to-date!\n",
      "[nltk_data] Downloading package movie_reviews to\n",
      "[nltk_data]     C:\\Users\\nburg\\AppData\\Roaming\\nltk_data...\n",
      "[nltk_data]   Package movie_reviews is already up-to-date!\n"
     ]
    }
   ],
   "source": [
    "!python -m textblob.download_corpora"
   ],
   "metadata": {
    "collapsed": false,
    "pycharm": {
     "name": "#%%\n"
    }
   }
  },
  {
   "cell_type": "code",
   "execution_count": 92,
   "outputs": [],
   "source": [
    "from textblob import TextBlob"
   ],
   "metadata": {
    "collapsed": false,
    "pycharm": {
     "name": "#%%\n"
    }
   }
  },
  {
   "cell_type": "code",
   "execution_count": 93,
   "outputs": [],
   "source": [
    "description1 = TextBlob(dfCampgrounds['FacilityDescription'].iloc[0])"
   ],
   "metadata": {
    "collapsed": false,
    "pycharm": {
     "name": "#%%\n"
    }
   }
  },
  {
   "cell_type": "code",
   "execution_count": 94,
   "outputs": [
    {
     "data": {
      "text/plain": "[('The', 'DT'),\n ('Tail', 'NNP'),\n ('Race', 'NNP'),\n ('Campground', 'NNP'),\n ('features', 'VBZ'),\n ('three', 'CD'),\n ('campsites', 'NNS'),\n ('with', 'IN'),\n ('fire', 'NN'),\n ('rings', 'NNS'),\n ('and', 'CC'),\n ('a', 'DT'),\n ('vault', 'NN'),\n ('toilet', 'NN'),\n ('This', 'DT'),\n ('campground', 'NN'),\n ('is', 'VBZ'),\n ('wedged', 'VBN'),\n ('between', 'IN'),\n ('Fontenelle', 'NNP'),\n ('Reservoir', 'NNP'),\n ('and', 'CC'),\n ('Seedskadee', 'NNP'),\n ('National', 'NNP'),\n ('Wildlife', 'NNP'),\n ('Refuge', 'NNP'),\n ('and', 'CC'),\n ('so', 'RB'),\n ('makes', 'VBZ'),\n ('a', 'DT'),\n ('fantastic', 'JJ'),\n ('site', 'NN'),\n ('for', 'IN'),\n ('birding', 'NN'),\n ('fishing', 'NN'),\n ('or', 'CC'),\n ('non-motorized', 'JJ'),\n ('water', 'NN'),\n ('sports', 'NNS'),\n ('Historically', 'RB'),\n ('this', 'DT'),\n ('area', 'NN'),\n ('was', 'VBD'),\n ('a', 'DT'),\n ('gathering', 'JJ'),\n ('place', 'NN'),\n ('for', 'IN'),\n ('trappers', 'NNS'),\n ('during', 'IN'),\n ('their', 'PRP$'),\n ('annual', 'JJ'),\n ('rendezvous', 'JJ'),\n ('and', 'CC'),\n ('the', 'DT'),\n ('modern', 'JJ'),\n ('day', 'NN'),\n ('explorer', 'NN'),\n ('can', 'MD'),\n ('still', 'RB'),\n ('see', 'VB'),\n ('the', 'DT'),\n ('lure', 'NN'),\n ('of', 'IN'),\n ('such', 'JJ'),\n ('a', 'DT'),\n ('rich', 'JJ'),\n ('and', 'CC'),\n ('welcoming', 'JJ'),\n ('area', 'NN')]"
     },
     "execution_count": 94,
     "metadata": {},
     "output_type": "execute_result"
    }
   ],
   "source": [
    "description1.tags"
   ],
   "metadata": {
    "collapsed": false,
    "pycharm": {
     "name": "#%%\n"
    }
   }
  },
  {
   "cell_type": "code",
   "execution_count": 95,
   "outputs": [
    {
     "data": {
      "text/plain": "WordList(['tail', 'campground', 'fire rings', 'vault toilet', 'fontenelle reservoir', 'seedskadee', 'wildlife refuge', 'fantastic site', 'water sports', 'historically', 'gathering place', 'annual rendezvous', 'modern day explorer'])"
     },
     "execution_count": 95,
     "metadata": {},
     "output_type": "execute_result"
    }
   ],
   "source": [
    "description1.noun_phrases"
   ],
   "metadata": {
    "collapsed": false,
    "pycharm": {
     "name": "#%%\n"
    }
   }
  },
  {
   "cell_type": "code",
   "execution_count": 96,
   "outputs": [
    {
     "data": {
      "text/plain": "Sentiment(polarity=0.15694444444444444, subjectivity=0.4083333333333334)"
     },
     "execution_count": 96,
     "metadata": {},
     "output_type": "execute_result"
    }
   ],
   "source": [
    "description1.sentiment"
   ],
   "metadata": {
    "collapsed": false,
    "pycharm": {
     "name": "#%%\n"
    }
   }
  },
  {
   "cell_type": "code",
   "execution_count": 99,
   "outputs": [
    {
     "name": "stderr",
     "output_type": "stream",
     "text": [
      "<ipython-input-99-c7c3d31c7872>:3: SettingWithCopyWarning: \n",
      "A value is trying to be set on a copy of a slice from a DataFrame.\n",
      "Try using .loc[row_indexer,col_indexer] = value instead\n",
      "\n",
      "See the caveats in the documentation: https://pandas.pydata.org/pandas-docs/stable/user_guide/indexing.html#returning-a-view-versus-a-copy\n",
      "  dfCampgrounds['FacilityDescription'] = dfCampgrounds['FacilityDescription'].fillna('')\n"
     ]
    },
    {
     "data": {
      "text/plain": "(4881, 18771)"
     },
     "execution_count": 99,
     "metadata": {},
     "output_type": "execute_result"
    }
   ],
   "source": [
    "from sklearn.feature_extraction.text import TfidfVectorizer\n",
    "\n",
    "dfCampgrounds['FacilityDescription'] = dfCampgrounds['FacilityDescription'].fillna('')\n",
    "\n",
    "tfidf = TfidfVectorizer(stop_words='english')\n",
    "\n",
    "tfidf_matrix = tfidf.fit_transform(dfCampgrounds['FacilityDescription'])\n",
    "\n",
    "tfidf_matrix.shape"
   ],
   "metadata": {
    "collapsed": false,
    "pycharm": {
     "name": "#%%\n"
    }
   }
  },
  {
   "cell_type": "code",
   "execution_count": 100,
   "outputs": [],
   "source": [
    "from sklearn.metrics.pairwise import linear_kernel\n",
    "\n",
    "cosine_sim = linear_kernel(tfidf_matrix, tfidf_matrix)"
   ],
   "metadata": {
    "collapsed": false,
    "pycharm": {
     "name": "#%%\n"
    }
   }
  },
  {
   "cell_type": "code",
   "execution_count": 105,
   "outputs": [],
   "source": [
    "def content_recommender(name, cosine_sim=cosine_sim, df=dfCampgrounds):\n",
    "    indices = pd.Series(dfCampgrounds.index, df['FacilityName'])\n",
    "    idx = indices[name]\n",
    "\n",
    "    sim_scores = list(enumerate(cosine_sim[idx]))\n",
    "\n",
    "    sim_scores = sorted(sim_scores, key=lambda x: x[1], reverse=True)\n",
    "\n",
    "    sim_scores = sim_scores[1:11]\n",
    "\n",
    "    campground_indices = [i[0] for i in sim_scores]\n",
    "\n",
    "    return df['FacilityName'].iloc[campground_indices]"
   ],
   "metadata": {
    "collapsed": false,
    "pycharm": {
     "name": "#%%\n"
    }
   }
  },
  {
   "cell_type": "code",
   "execution_count": 106,
   "outputs": [
    {
     "data": {
      "text/plain": "61                       McGee Bridge Park\n62             Rocky Point Recreation Area\n64      Yellowjacket Creek Recreation Area\n58                      Hardley Creek Park\n59                        Horace King Park\n1095                      Sunny Point Park\n63                       Veasey Creek Park\n1092                         Anderson Park\n1093                     Glass Bridge Park\n52                          Eagleview Park\nName: FacilityName, dtype: object"
     },
     "execution_count": 106,
     "metadata": {},
     "output_type": "execute_result"
    }
   ],
   "source": [
    "content_recommender('Tail Race Campground')"
   ],
   "metadata": {
    "collapsed": false,
    "pycharm": {
     "name": "#%%\n"
    }
   }
  },
  {
   "cell_type": "code",
   "execution_count": 107,
   "outputs": [
    {
     "data": {
      "text/plain": "(4881, 18771)"
     },
     "execution_count": 107,
     "metadata": {},
     "output_type": "execute_result"
    }
   ],
   "source": [
    "from sklearn.feature_extraction.text import CountVectorizer\n",
    "\n",
    "cv = CountVectorizer(stop_words='english')\n",
    "\n",
    "cv_matrix = cv.fit_transform(dfCampgrounds['FacilityDescription'])\n",
    "\n",
    "cv_matrix.shape"
   ],
   "metadata": {
    "collapsed": false,
    "pycharm": {
     "name": "#%%\n"
    }
   }
  },
  {
   "cell_type": "code",
   "execution_count": 108,
   "outputs": [],
   "source": [
    "cv_cosine_sim = linear_kernel(cv_matrix, cv_matrix)"
   ],
   "metadata": {
    "collapsed": false,
    "pycharm": {
     "name": "#%%\n"
    }
   }
  },
  {
   "cell_type": "code",
   "execution_count": 109,
   "outputs": [
    {
     "data": {
      "text/plain": "301                    Shenoah Picnic Area\n282                Chokecherry Picnic Area\n308                     Dewitt Picnic Area\n2870                      RECREATION POINT\n294                 Magpie Campground (UT)\n276                 Beaver View Campground\n305               Upper Meadows Campground\n345              Wood Camp Campground (UT)\n280     China Meadows Trailhead Campground\n311               Lower Meadows Campground\nName: FacilityName, dtype: object"
     },
     "execution_count": 109,
     "metadata": {},
     "output_type": "execute_result"
    }
   ],
   "source": [
    "content_recommender('Tail Race Campground', cosine_sim=cv_cosine_sim)"
   ],
   "metadata": {
    "collapsed": false,
    "pycharm": {
     "name": "#%%\n"
    }
   }
  },
  {
   "cell_type": "code",
   "execution_count": null,
   "outputs": [],
   "source": [],
   "metadata": {
    "collapsed": false,
    "pycharm": {
     "name": "#%%\n"
    }
   }
  }
 ],
 "metadata": {
  "kernelspec": {
   "display_name": "Python 3",
   "language": "python",
   "name": "python3"
  },
  "language_info": {
   "codemirror_mode": {
    "name": "ipython",
    "version": 2
   },
   "file_extension": ".py",
   "mimetype": "text/x-python",
   "name": "python",
   "nbconvert_exporter": "python",
   "pygments_lexer": "ipython2",
   "version": "2.7.6"
  }
 },
 "nbformat": 4,
 "nbformat_minor": 0
}