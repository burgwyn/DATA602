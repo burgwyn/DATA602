{
 "cells": [
  {
   "cell_type": "code",
   "execution_count": 45,
   "metadata": {
    "collapsed": true,
    "pycharm": {
     "name": "#%%\n"
    }
   },
   "outputs": [],
   "source": [
    "import pandas as pd"
   ]
  },
  {
   "cell_type": "code",
   "execution_count": 47,
   "metadata": {
    "collapsed": false,
    "pycharm": {
     "name": "#%%\n"
    }
   },
   "outputs": [],
   "source": [
    "dfFacilities = pd.read_csv('./Facilities_API_v1.csv')"
   ]
  },
  {
   "cell_type": "code",
   "execution_count": 48,
   "metadata": {
    "collapsed": false,
    "pycharm": {
     "name": "#%%\n"
    }
   },
   "outputs": [
    {
     "data": {
      "text/html": [
       "<div>\n",
       "<style scoped>\n",
       "    .dataframe tbody tr th:only-of-type {\n",
       "        vertical-align: middle;\n",
       "    }\n",
       "\n",
       "    .dataframe tbody tr th {\n",
       "        vertical-align: top;\n",
       "    }\n",
       "\n",
       "    .dataframe thead th {\n",
       "        text-align: right;\n",
       "    }\n",
       "</style>\n",
       "<table border=\"1\" class=\"dataframe\">\n",
       "  <thead>\n",
       "    <tr style=\"text-align: right;\">\n",
       "      <th></th>\n",
       "      <th>FacilityID</th>\n",
       "      <th>LegacyFacilityID</th>\n",
       "      <th>OrgFacilityID</th>\n",
       "      <th>ParentOrgID</th>\n",
       "      <th>ParentRecAreaID</th>\n",
       "      <th>FacilityName</th>\n",
       "      <th>FacilityDescription</th>\n",
       "      <th>FacilityTypeDescription</th>\n",
       "      <th>FacilityUseFeeDescription</th>\n",
       "      <th>FacilityDirections</th>\n",
       "      <th>...</th>\n",
       "      <th>FacilityReservationURL</th>\n",
       "      <th>FacilityMapURL</th>\n",
       "      <th>FacilityAdaAccess</th>\n",
       "      <th>FacilityLongitude</th>\n",
       "      <th>FacilityLatitude</th>\n",
       "      <th>Keywords</th>\n",
       "      <th>StayLimit</th>\n",
       "      <th>Reservable</th>\n",
       "      <th>Enabled</th>\n",
       "      <th>LastUpdatedDate</th>\n",
       "    </tr>\n",
       "  </thead>\n",
       "  <tbody>\n",
       "    <tr>\n",
       "      <th>0</th>\n",
       "      <td>0377bfa0-e64c-11ea-b327-2e4b29211486</td>\n",
       "      <td>NaN</td>\n",
       "      <td>131</td>\n",
       "      <td>NaN</td>\n",
       "      <td>1055.0</td>\n",
       "      <td>White River National Forest Christmas Tree Permit</td>\n",
       "      <td>NaN</td>\n",
       "      <td>Tree Permit</td>\n",
       "      <td>NaN</td>\n",
       "      <td>NaN</td>\n",
       "      <td>...</td>\n",
       "      <td>NaN</td>\n",
       "      <td>NaN</td>\n",
       "      <td>NaN</td>\n",
       "      <td>-107.230034</td>\n",
       "      <td>39.363945</td>\n",
       "      <td>NaN</td>\n",
       "      <td>NaN</td>\n",
       "      <td>True</td>\n",
       "      <td>True</td>\n",
       "      <td>2021-09-23</td>\n",
       "    </tr>\n",
       "    <tr>\n",
       "      <th>1</th>\n",
       "      <td>0422847b-e7d4-11ea-8710-eabd4664df5f</td>\n",
       "      <td>NaN</td>\n",
       "      <td>131</td>\n",
       "      <td>NaN</td>\n",
       "      <td>1012.0</td>\n",
       "      <td>Nez Perce Clearwater National Forest Christmas...</td>\n",
       "      <td>NaN</td>\n",
       "      <td>Tree Permit</td>\n",
       "      <td>NaN</td>\n",
       "      <td>NaN</td>\n",
       "      <td>...</td>\n",
       "      <td>NaN</td>\n",
       "      <td>NaN</td>\n",
       "      <td>NaN</td>\n",
       "      <td>-115.917500</td>\n",
       "      <td>45.450000</td>\n",
       "      <td>NaN</td>\n",
       "      <td>NaN</td>\n",
       "      <td>True</td>\n",
       "      <td>True</td>\n",
       "      <td>2021-09-23</td>\n",
       "    </tr>\n",
       "    <tr>\n",
       "      <th>2</th>\n",
       "      <td>04f0a13e-7acf-11eb-9b8e-72edbbd009f6</td>\n",
       "      <td>NaN</td>\n",
       "      <td>130</td>\n",
       "      <td>NaN</td>\n",
       "      <td>515.0</td>\n",
       "      <td>Willis Creek</td>\n",
       "      <td>NaN</td>\n",
       "      <td>Activity Pass</td>\n",
       "      <td>NaN</td>\n",
       "      <td>NaN</td>\n",
       "      <td>...</td>\n",
       "      <td>NaN</td>\n",
       "      <td>NaN</td>\n",
       "      <td>NaN</td>\n",
       "      <td>-97.398541</td>\n",
       "      <td>30.695534</td>\n",
       "      <td>NaN</td>\n",
       "      <td>NaN</td>\n",
       "      <td>True</td>\n",
       "      <td>True</td>\n",
       "      <td>2021-09-23</td>\n",
       "    </tr>\n",
       "    <tr>\n",
       "      <th>3</th>\n",
       "      <td>058e22e2-e648-11ea-8a7e-f638cd389a69</td>\n",
       "      <td>NaN</td>\n",
       "      <td>131</td>\n",
       "      <td>NaN</td>\n",
       "      <td>1060.0</td>\n",
       "      <td>Shoshone National Forest Christmas Tree Permit</td>\n",
       "      <td>NaN</td>\n",
       "      <td>Tree Permit</td>\n",
       "      <td>NaN</td>\n",
       "      <td>NaN</td>\n",
       "      <td>...</td>\n",
       "      <td>NaN</td>\n",
       "      <td>NaN</td>\n",
       "      <td>NaN</td>\n",
       "      <td>-109.502600</td>\n",
       "      <td>43.923700</td>\n",
       "      <td>NaN</td>\n",
       "      <td>NaN</td>\n",
       "      <td>True</td>\n",
       "      <td>True</td>\n",
       "      <td>2021-09-23</td>\n",
       "    </tr>\n",
       "    <tr>\n",
       "      <th>4</th>\n",
       "      <td>05c725ae-7acc-11eb-9b8e-72edbbd009f6</td>\n",
       "      <td>NaN</td>\n",
       "      <td>130</td>\n",
       "      <td>NaN</td>\n",
       "      <td>516.0</td>\n",
       "      <td>Russell</td>\n",
       "      <td>NaN</td>\n",
       "      <td>Activity Pass</td>\n",
       "      <td>NaN</td>\n",
       "      <td>NaN</td>\n",
       "      <td>...</td>\n",
       "      <td>NaN</td>\n",
       "      <td>NaN</td>\n",
       "      <td>NaN</td>\n",
       "      <td>-97.762456</td>\n",
       "      <td>30.679976</td>\n",
       "      <td>NaN</td>\n",
       "      <td>NaN</td>\n",
       "      <td>True</td>\n",
       "      <td>True</td>\n",
       "      <td>2021-09-23</td>\n",
       "    </tr>\n",
       "  </tbody>\n",
       "</table>\n",
       "<p>5 rows × 22 columns</p>\n",
       "</div>"
      ],
      "text/plain": [
       "                             FacilityID LegacyFacilityID  OrgFacilityID  \\\n",
       "0  0377bfa0-e64c-11ea-b327-2e4b29211486              NaN            131   \n",
       "1  0422847b-e7d4-11ea-8710-eabd4664df5f              NaN            131   \n",
       "2  04f0a13e-7acf-11eb-9b8e-72edbbd009f6              NaN            130   \n",
       "3  058e22e2-e648-11ea-8a7e-f638cd389a69              NaN            131   \n",
       "4  05c725ae-7acc-11eb-9b8e-72edbbd009f6              NaN            130   \n",
       "\n",
       "  ParentOrgID  ParentRecAreaID  \\\n",
       "0         NaN           1055.0   \n",
       "1         NaN           1012.0   \n",
       "2         NaN            515.0   \n",
       "3         NaN           1060.0   \n",
       "4         NaN            516.0   \n",
       "\n",
       "                                        FacilityName FacilityDescription  \\\n",
       "0  White River National Forest Christmas Tree Permit                 NaN   \n",
       "1  Nez Perce Clearwater National Forest Christmas...                 NaN   \n",
       "2                                       Willis Creek                 NaN   \n",
       "3     Shoshone National Forest Christmas Tree Permit                 NaN   \n",
       "4                                            Russell                 NaN   \n",
       "\n",
       "  FacilityTypeDescription FacilityUseFeeDescription FacilityDirections  ...  \\\n",
       "0             Tree Permit                       NaN                NaN  ...   \n",
       "1             Tree Permit                       NaN                NaN  ...   \n",
       "2           Activity Pass                       NaN                NaN  ...   \n",
       "3             Tree Permit                       NaN                NaN  ...   \n",
       "4           Activity Pass                       NaN                NaN  ...   \n",
       "\n",
       "  FacilityReservationURL FacilityMapURL FacilityAdaAccess FacilityLongitude  \\\n",
       "0                    NaN            NaN               NaN       -107.230034   \n",
       "1                    NaN            NaN               NaN       -115.917500   \n",
       "2                    NaN            NaN               NaN        -97.398541   \n",
       "3                    NaN            NaN               NaN       -109.502600   \n",
       "4                    NaN            NaN               NaN        -97.762456   \n",
       "\n",
       "  FacilityLatitude  Keywords  StayLimit Reservable Enabled  LastUpdatedDate  \n",
       "0        39.363945       NaN        NaN       True    True       2021-09-23  \n",
       "1        45.450000       NaN        NaN       True    True       2021-09-23  \n",
       "2        30.695534       NaN        NaN       True    True       2021-09-23  \n",
       "3        43.923700       NaN        NaN       True    True       2021-09-23  \n",
       "4        30.679976       NaN        NaN       True    True       2021-09-23  \n",
       "\n",
       "[5 rows x 22 columns]"
      ]
     },
     "execution_count": 48,
     "metadata": {},
     "output_type": "execute_result"
    }
   ],
   "source": [
    "dfFacilities.head()"
   ]
  },
  {
   "cell_type": "code",
   "execution_count": 49,
   "metadata": {
    "collapsed": false,
    "pycharm": {
     "name": "#%%\n"
    }
   },
   "outputs": [
    {
     "name": "stdout",
     "output_type": "stream",
     "text": [
      "<class 'pandas.core.frame.DataFrame'>\n",
      "RangeIndex: 14120 entries, 0 to 14119\n",
      "Data columns (total 22 columns):\n",
      " #   Column                     Non-Null Count  Dtype  \n",
      "---  ------                     --------------  -----  \n",
      " 0   FacilityID                 14120 non-null  object \n",
      " 1   LegacyFacilityID           3904 non-null   object \n",
      " 2   OrgFacilityID              14120 non-null  int64  \n",
      " 3   ParentOrgID                11896 non-null  object \n",
      " 4   ParentRecAreaID            13208 non-null  float64\n",
      " 5   FacilityName               14108 non-null  object \n",
      " 6   FacilityDescription        13853 non-null  object \n",
      " 7   FacilityTypeDescription    14120 non-null  object \n",
      " 8   FacilityUseFeeDescription  1617 non-null   object \n",
      " 9   FacilityDirections         8194 non-null   object \n",
      " 10  FacilityPhone              5810 non-null   object \n",
      " 11  FacilityEmail              3250 non-null   object \n",
      " 12  FacilityReservationURL     120 non-null    object \n",
      " 13  FacilityMapURL             291 non-null    object \n",
      " 14  FacilityAdaAccess          4781 non-null   object \n",
      " 15  FacilityLongitude          14120 non-null  float64\n",
      " 16  FacilityLatitude           14120 non-null  float64\n",
      " 17  Keywords                   4780 non-null   object \n",
      " 18  StayLimit                  438 non-null    object \n",
      " 19  Reservable                 14120 non-null  bool   \n",
      " 20  Enabled                    14120 non-null  bool   \n",
      " 21  LastUpdatedDate            14120 non-null  object \n",
      "dtypes: bool(2), float64(3), int64(1), object(16)\n",
      "memory usage: 2.2+ MB\n"
     ]
    }
   ],
   "source": [
    "dfFacilities.info()"
   ]
  },
  {
   "cell_type": "code",
   "execution_count": 50,
   "metadata": {
    "collapsed": false,
    "pycharm": {
     "name": "#%%\n"
    }
   },
   "outputs": [
    {
     "data": {
      "text/plain": [
       "(14120, 22)"
      ]
     },
     "execution_count": 50,
     "metadata": {},
     "output_type": "execute_result"
    }
   ],
   "source": [
    "dfFacilities.shape"
   ]
  },
  {
   "cell_type": "code",
   "execution_count": 51,
   "metadata": {
    "collapsed": false,
    "pycharm": {
     "name": "#%%\n"
    }
   },
   "outputs": [
    {
     "data": {
      "text/plain": [
       "array(['Tree Permit', 'Activity Pass', 'Campground', 'Facility',\n",
       "       'Visitor Center', 'Ticket Facility', 'Timed Entry', 'Permit',\n",
       "       'Library', 'Archives', 'Museum', 'Construction Camp site',\n",
       "       'Cemetery and Memorial', 'National Fish Hatchery', 'Federal',\n",
       "       'Kiosk'], dtype=object)"
      ]
     },
     "execution_count": 51,
     "metadata": {},
     "output_type": "execute_result"
    }
   ],
   "source": [
    "dfFacilities.FacilityTypeDescription.unique()"
   ]
  },
  {
   "cell_type": "code",
   "execution_count": 52,
   "metadata": {
    "collapsed": false,
    "pycharm": {
     "name": "#%%\n"
    }
   },
   "outputs": [
    {
     "data": {
      "text/html": [
       "<div>\n",
       "<style scoped>\n",
       "    .dataframe tbody tr th:only-of-type {\n",
       "        vertical-align: middle;\n",
       "    }\n",
       "\n",
       "    .dataframe tbody tr th {\n",
       "        vertical-align: top;\n",
       "    }\n",
       "\n",
       "    .dataframe thead th {\n",
       "        text-align: right;\n",
       "    }\n",
       "</style>\n",
       "<table border=\"1\" class=\"dataframe\">\n",
       "  <thead>\n",
       "    <tr style=\"text-align: right;\">\n",
       "      <th></th>\n",
       "      <th>FacilityID</th>\n",
       "      <th>LegacyFacilityID</th>\n",
       "      <th>OrgFacilityID</th>\n",
       "      <th>ParentOrgID</th>\n",
       "      <th>ParentRecAreaID</th>\n",
       "      <th>FacilityName</th>\n",
       "      <th>FacilityDescription</th>\n",
       "      <th>FacilityTypeDescription</th>\n",
       "      <th>FacilityUseFeeDescription</th>\n",
       "      <th>FacilityDirections</th>\n",
       "      <th>...</th>\n",
       "      <th>FacilityReservationURL</th>\n",
       "      <th>FacilityMapURL</th>\n",
       "      <th>FacilityAdaAccess</th>\n",
       "      <th>FacilityLongitude</th>\n",
       "      <th>FacilityLatitude</th>\n",
       "      <th>Keywords</th>\n",
       "      <th>StayLimit</th>\n",
       "      <th>Reservable</th>\n",
       "      <th>Enabled</th>\n",
       "      <th>LastUpdatedDate</th>\n",
       "    </tr>\n",
       "  </thead>\n",
       "  <tbody>\n",
       "  </tbody>\n",
       "</table>\n",
       "<p>0 rows × 22 columns</p>\n",
       "</div>"
      ],
      "text/plain": [
       "Empty DataFrame\n",
       "Columns: [FacilityID, LegacyFacilityID, OrgFacilityID, ParentOrgID, ParentRecAreaID, FacilityName, FacilityDescription, FacilityTypeDescription, FacilityUseFeeDescription, FacilityDirections, FacilityPhone, FacilityEmail, FacilityReservationURL, FacilityMapURL, FacilityAdaAccess, FacilityLongitude, FacilityLatitude, Keywords, StayLimit, Reservable, Enabled, LastUpdatedDate]\n",
       "Index: []\n",
       "\n",
       "[0 rows x 22 columns]"
      ]
     },
     "execution_count": 52,
     "metadata": {},
     "output_type": "execute_result"
    }
   ],
   "source": [
    "# are there any disabled campgrounds?\n",
    "dfFacilities[dfFacilities.Enabled == False]"
   ]
  },
  {
   "cell_type": "code",
   "execution_count": 53,
   "metadata": {
    "collapsed": false,
    "pycharm": {
     "name": "#%%\n"
    }
   },
   "outputs": [
    {
     "data": {
      "text/html": [
       "<div>\n",
       "<style scoped>\n",
       "    .dataframe tbody tr th:only-of-type {\n",
       "        vertical-align: middle;\n",
       "    }\n",
       "\n",
       "    .dataframe tbody tr th {\n",
       "        vertical-align: top;\n",
       "    }\n",
       "\n",
       "    .dataframe thead th {\n",
       "        text-align: right;\n",
       "    }\n",
       "</style>\n",
       "<table border=\"1\" class=\"dataframe\">\n",
       "  <thead>\n",
       "    <tr style=\"text-align: right;\">\n",
       "      <th></th>\n",
       "      <th>FacilityID</th>\n",
       "      <th>LegacyFacilityID</th>\n",
       "      <th>OrgFacilityID</th>\n",
       "      <th>ParentOrgID</th>\n",
       "      <th>ParentRecAreaID</th>\n",
       "      <th>FacilityName</th>\n",
       "      <th>FacilityDescription</th>\n",
       "      <th>FacilityTypeDescription</th>\n",
       "      <th>FacilityUseFeeDescription</th>\n",
       "      <th>FacilityDirections</th>\n",
       "      <th>...</th>\n",
       "      <th>FacilityReservationURL</th>\n",
       "      <th>FacilityMapURL</th>\n",
       "      <th>FacilityAdaAccess</th>\n",
       "      <th>FacilityLongitude</th>\n",
       "      <th>FacilityLatitude</th>\n",
       "      <th>Keywords</th>\n",
       "      <th>StayLimit</th>\n",
       "      <th>Reservable</th>\n",
       "      <th>Enabled</th>\n",
       "      <th>LastUpdatedDate</th>\n",
       "    </tr>\n",
       "  </thead>\n",
       "  <tbody>\n",
       "    <tr>\n",
       "      <th>17</th>\n",
       "      <td>10000167</td>\n",
       "      <td>NaN</td>\n",
       "      <td>126</td>\n",
       "      <td>NaN</td>\n",
       "      <td>NaN</td>\n",
       "      <td>Tail Race Campground</td>\n",
       "      <td>The Tail Race Campground features three campsi...</td>\n",
       "      <td>Campground</td>\n",
       "      <td>NaN</td>\n",
       "      <td>Located 1/4 mile south of Fontenelle Reservoir...</td>\n",
       "      <td>...</td>\n",
       "      <td>NaN</td>\n",
       "      <td>NaN</td>\n",
       "      <td>NaN</td>\n",
       "      <td>-110.060900</td>\n",
       "      <td>42.024400</td>\n",
       "      <td>NaN</td>\n",
       "      <td>NaN</td>\n",
       "      <td>False</td>\n",
       "      <td>True</td>\n",
       "      <td>2020-09-10</td>\n",
       "    </tr>\n",
       "    <tr>\n",
       "      <th>20</th>\n",
       "      <td>10000305</td>\n",
       "      <td>NaN</td>\n",
       "      <td>126</td>\n",
       "      <td>NaN</td>\n",
       "      <td>16669.0</td>\n",
       "      <td>Burro Creek Campground</td>\n",
       "      <td>&lt;h2&gt;Overview&lt;/h2&gt;\\n&lt;p&gt;The Burro Creek Campgrou...</td>\n",
       "      <td>Campground</td>\n",
       "      <td>&lt;p&gt;The Burro Creek Campground has started acce...</td>\n",
       "      <td>&lt;p&gt;The Burro Creek Recreation Site is located ...</td>\n",
       "      <td>...</td>\n",
       "      <td>NaN</td>\n",
       "      <td>NaN</td>\n",
       "      <td>NaN</td>\n",
       "      <td>-113.451880</td>\n",
       "      <td>34.536050</td>\n",
       "      <td>Burro Creek Recreation Site,Burro Creek Camp,B...</td>\n",
       "      <td>NaN</td>\n",
       "      <td>True</td>\n",
       "      <td>True</td>\n",
       "      <td>2022-03-01</td>\n",
       "    </tr>\n",
       "    <tr>\n",
       "      <th>21</th>\n",
       "      <td>10000309</td>\n",
       "      <td>NaN</td>\n",
       "      <td>126</td>\n",
       "      <td>NaN</td>\n",
       "      <td>NaN</td>\n",
       "      <td>Windy Point Campground</td>\n",
       "      <td>Located on the crest of the Cerbat Mountains, ...</td>\n",
       "      <td>Campground</td>\n",
       "      <td>$8/night per site</td>\n",
       "      <td>From Kingman, Arizona, travel 18 miles north o...</td>\n",
       "      <td>...</td>\n",
       "      <td>NaN</td>\n",
       "      <td>NaN</td>\n",
       "      <td>NaN</td>\n",
       "      <td>-114.160087</td>\n",
       "      <td>35.435956</td>\n",
       "      <td>kingman</td>\n",
       "      <td>14 days</td>\n",
       "      <td>False</td>\n",
       "      <td>True</td>\n",
       "      <td>2020-09-10</td>\n",
       "    </tr>\n",
       "    <tr>\n",
       "      <th>22</th>\n",
       "      <td>10000330</td>\n",
       "      <td>NaN</td>\n",
       "      <td>126</td>\n",
       "      <td>NaN</td>\n",
       "      <td>NaN</td>\n",
       "      <td>Wild Cow Springs Campground</td>\n",
       "      <td>Wild Cow Springs Campground is situated in a g...</td>\n",
       "      <td>Campground</td>\n",
       "      <td>$8/night for individual campsites&lt;br/&gt;$20/nig...</td>\n",
       "      <td>From Kingman, travel 14 miles on Hualapai Moun...</td>\n",
       "      <td>...</td>\n",
       "      <td></td>\n",
       "      <td></td>\n",
       "      <td>Accessible camp and picnic site and vault toilet</td>\n",
       "      <td>-113.869180</td>\n",
       "      <td>35.061300</td>\n",
       "      <td>Hualapai Mountains, camping, wild cow springs,...</td>\n",
       "      <td>14 days</td>\n",
       "      <td>False</td>\n",
       "      <td>True</td>\n",
       "      <td>2020-09-10</td>\n",
       "    </tr>\n",
       "    <tr>\n",
       "      <th>28</th>\n",
       "      <td>10000447</td>\n",
       "      <td>NaN</td>\n",
       "      <td>126</td>\n",
       "      <td>NaN</td>\n",
       "      <td>16820.0</td>\n",
       "      <td>Castle Rock Campground</td>\n",
       "      <td>&lt;p&gt;Located south of Prineville, Oregon, this s...</td>\n",
       "      <td>Campground</td>\n",
       "      <td>$8 per night; $2 per extra vehicle (tow vehicl...</td>\n",
       "      <td>From Prineville, Oregon: Drive 12.4 miles sout...</td>\n",
       "      <td>...</td>\n",
       "      <td>NaN</td>\n",
       "      <td>https://flic.kr/p/CNdZtg</td>\n",
       "      <td>\"Vault toilet is accessible.\"</td>\n",
       "      <td>-120.833950</td>\n",
       "      <td>44.158140</td>\n",
       "      <td>Prineville, Fishing, Rafting, Camping, Day Use...</td>\n",
       "      <td>14 Days</td>\n",
       "      <td>False</td>\n",
       "      <td>True</td>\n",
       "      <td>2021-09-21</td>\n",
       "    </tr>\n",
       "    <tr>\n",
       "      <th>...</th>\n",
       "      <td>...</td>\n",
       "      <td>...</td>\n",
       "      <td>...</td>\n",
       "      <td>...</td>\n",
       "      <td>...</td>\n",
       "      <td>...</td>\n",
       "      <td>...</td>\n",
       "      <td>...</td>\n",
       "      <td>...</td>\n",
       "      <td>...</td>\n",
       "      <td>...</td>\n",
       "      <td>...</td>\n",
       "      <td>...</td>\n",
       "      <td>...</td>\n",
       "      <td>...</td>\n",
       "      <td>...</td>\n",
       "      <td>...</td>\n",
       "      <td>...</td>\n",
       "      <td>...</td>\n",
       "      <td>...</td>\n",
       "      <td>...</td>\n",
       "    </tr>\n",
       "    <tr>\n",
       "      <th>13858</th>\n",
       "      <td>275085</td>\n",
       "      <td>275085</td>\n",
       "      <td>128</td>\n",
       "      <td>6615</td>\n",
       "      <td>2802.0</td>\n",
       "      <td>Cloverleaf Campground (WA)</td>\n",
       "      <td>&lt;h2&gt;Overview&lt;/h2&gt;\\n&lt;p&gt;Cloverleaf is a small, w...</td>\n",
       "      <td>Campground</td>\n",
       "      <td>&lt;p&gt;The campground is available by reservation ...</td>\n",
       "      <td>&lt;p&gt;Take State Highway 395 north from Spokane. ...</td>\n",
       "      <td>...</td>\n",
       "      <td>NaN</td>\n",
       "      <td>NaN</td>\n",
       "      <td>NaN</td>\n",
       "      <td>-118.145717</td>\n",
       "      <td>48.297583</td>\n",
       "      <td>NaN</td>\n",
       "      <td>NaN</td>\n",
       "      <td>True</td>\n",
       "      <td>True</td>\n",
       "      <td>2022-03-01</td>\n",
       "    </tr>\n",
       "    <tr>\n",
       "      <th>13859</th>\n",
       "      <td>275091</td>\n",
       "      <td>275091</td>\n",
       "      <td>128</td>\n",
       "      <td>6621</td>\n",
       "      <td>2802.0</td>\n",
       "      <td>Hawk Creek Campground</td>\n",
       "      <td>&lt;h2&gt;Overview&lt;/h2&gt;\\n&lt;p&gt;Hawk Creek Campground is...</td>\n",
       "      <td>Campground</td>\n",
       "      <td>&lt;p&gt;This is a reservation only campground.  All...</td>\n",
       "      <td>&lt;p&gt;Take State Highway 2 west of Spokane for 32...</td>\n",
       "      <td>...</td>\n",
       "      <td>NaN</td>\n",
       "      <td>NaN</td>\n",
       "      <td>NaN</td>\n",
       "      <td>-118.316381</td>\n",
       "      <td>47.816515</td>\n",
       "      <td>NaN</td>\n",
       "      <td>NaN</td>\n",
       "      <td>True</td>\n",
       "      <td>True</td>\n",
       "      <td>2022-03-01</td>\n",
       "    </tr>\n",
       "    <tr>\n",
       "      <th>13860</th>\n",
       "      <td>275092</td>\n",
       "      <td>275092</td>\n",
       "      <td>128</td>\n",
       "      <td>6622</td>\n",
       "      <td>2802.0</td>\n",
       "      <td>Jones Bay Campground</td>\n",
       "      <td>&lt;h2&gt;Overview&lt;/h2&gt;\\n&lt;p&gt;Jones Bay is one of Lake...</td>\n",
       "      <td>Campground</td>\n",
       "      <td>&lt;p&gt;This is a reservation only campground.  Sit...</td>\n",
       "      <td>&lt;p&gt;Jones Bay is 77 miles from Spokane as you h...</td>\n",
       "      <td>...</td>\n",
       "      <td>NaN</td>\n",
       "      <td>NaN</td>\n",
       "      <td>NaN</td>\n",
       "      <td>-118.582467</td>\n",
       "      <td>47.918483</td>\n",
       "      <td>NaN</td>\n",
       "      <td>NaN</td>\n",
       "      <td>True</td>\n",
       "      <td>True</td>\n",
       "      <td>2022-03-01</td>\n",
       "    </tr>\n",
       "    <tr>\n",
       "      <th>13995</th>\n",
       "      <td>72417</td>\n",
       "      <td>72417</td>\n",
       "      <td>131</td>\n",
       "      <td>NaN</td>\n",
       "      <td>1023.0</td>\n",
       "      <td>TEN MILE CAMPGROUND</td>\n",
       "      <td>&lt;h2&gt;Overview&lt;/h2&gt;\\n&lt;p&gt;Ten Mile is small campgr...</td>\n",
       "      <td>Campground</td>\n",
       "      <td>NaN</td>\n",
       "      <td>&lt;p&gt;From Idaho City travel State Highway 21 nor...</td>\n",
       "      <td>...</td>\n",
       "      <td>NaN</td>\n",
       "      <td>NaN</td>\n",
       "      <td>N</td>\n",
       "      <td>-115.712719</td>\n",
       "      <td>43.898560</td>\n",
       "      <td>None</td>\n",
       "      <td>NaN</td>\n",
       "      <td>True</td>\n",
       "      <td>True</td>\n",
       "      <td>2022-03-01</td>\n",
       "    </tr>\n",
       "    <tr>\n",
       "      <th>13996</th>\n",
       "      <td>72481</td>\n",
       "      <td>72481</td>\n",
       "      <td>128</td>\n",
       "      <td>NaN</td>\n",
       "      <td>2949.0</td>\n",
       "      <td>Juniper Campground Group Site</td>\n",
       "      <td>&lt;h2&gt;Overview&lt;/h2&gt;\\n&lt;p&gt;For groups visiting the ...</td>\n",
       "      <td>Campground</td>\n",
       "      <td>NaN</td>\n",
       "      <td>The North Unit entrance is along U.S. Highway ...</td>\n",
       "      <td>...</td>\n",
       "      <td>NaN</td>\n",
       "      <td>NaN</td>\n",
       "      <td>N</td>\n",
       "      <td>-103.333889</td>\n",
       "      <td>47.594167</td>\n",
       "      <td>NaN</td>\n",
       "      <td>NaN</td>\n",
       "      <td>True</td>\n",
       "      <td>True</td>\n",
       "      <td>2022-03-01</td>\n",
       "    </tr>\n",
       "  </tbody>\n",
       "</table>\n",
       "<p>4880 rows × 22 columns</p>\n",
       "</div>"
      ],
      "text/plain": [
       "      FacilityID LegacyFacilityID  OrgFacilityID ParentOrgID  ParentRecAreaID  \\\n",
       "17      10000167              NaN            126         NaN              NaN   \n",
       "20      10000305              NaN            126         NaN          16669.0   \n",
       "21      10000309              NaN            126         NaN              NaN   \n",
       "22      10000330              NaN            126         NaN              NaN   \n",
       "28      10000447              NaN            126         NaN          16820.0   \n",
       "...          ...              ...            ...         ...              ...   \n",
       "13858     275085           275085            128        6615           2802.0   \n",
       "13859     275091           275091            128        6621           2802.0   \n",
       "13860     275092           275092            128        6622           2802.0   \n",
       "13995      72417            72417            131         NaN           1023.0   \n",
       "13996      72481            72481            128         NaN           2949.0   \n",
       "\n",
       "                        FacilityName  \\\n",
       "17              Tail Race Campground   \n",
       "20           Burro Creek Campground    \n",
       "21            Windy Point Campground   \n",
       "22       Wild Cow Springs Campground   \n",
       "28            Castle Rock Campground   \n",
       "...                              ...   \n",
       "13858     Cloverleaf Campground (WA)   \n",
       "13859          Hawk Creek Campground   \n",
       "13860           Jones Bay Campground   \n",
       "13995            TEN MILE CAMPGROUND   \n",
       "13996  Juniper Campground Group Site   \n",
       "\n",
       "                                     FacilityDescription  \\\n",
       "17     The Tail Race Campground features three campsi...   \n",
       "20     <h2>Overview</h2>\\n<p>The Burro Creek Campgrou...   \n",
       "21     Located on the crest of the Cerbat Mountains, ...   \n",
       "22     Wild Cow Springs Campground is situated in a g...   \n",
       "28     <p>Located south of Prineville, Oregon, this s...   \n",
       "...                                                  ...   \n",
       "13858  <h2>Overview</h2>\\n<p>Cloverleaf is a small, w...   \n",
       "13859  <h2>Overview</h2>\\n<p>Hawk Creek Campground is...   \n",
       "13860  <h2>Overview</h2>\\n<p>Jones Bay is one of Lake...   \n",
       "13995  <h2>Overview</h2>\\n<p>Ten Mile is small campgr...   \n",
       "13996  <h2>Overview</h2>\\n<p>For groups visiting the ...   \n",
       "\n",
       "      FacilityTypeDescription  \\\n",
       "17                 Campground   \n",
       "20                 Campground   \n",
       "21                 Campground   \n",
       "22                 Campground   \n",
       "28                 Campground   \n",
       "...                       ...   \n",
       "13858              Campground   \n",
       "13859              Campground   \n",
       "13860              Campground   \n",
       "13995              Campground   \n",
       "13996              Campground   \n",
       "\n",
       "                               FacilityUseFeeDescription  \\\n",
       "17                                                   NaN   \n",
       "20     <p>The Burro Creek Campground has started acce...   \n",
       "21                                     $8/night per site   \n",
       "22      $8/night for individual campsites<br/>$20/nig...   \n",
       "28     $8 per night; $2 per extra vehicle (tow vehicl...   \n",
       "...                                                  ...   \n",
       "13858  <p>The campground is available by reservation ...   \n",
       "13859  <p>This is a reservation only campground.  All...   \n",
       "13860  <p>This is a reservation only campground.  Sit...   \n",
       "13995                                                NaN   \n",
       "13996                                                NaN   \n",
       "\n",
       "                                      FacilityDirections  ...  \\\n",
       "17     Located 1/4 mile south of Fontenelle Reservoir...  ...   \n",
       "20     <p>The Burro Creek Recreation Site is located ...  ...   \n",
       "21     From Kingman, Arizona, travel 18 miles north o...  ...   \n",
       "22     From Kingman, travel 14 miles on Hualapai Moun...  ...   \n",
       "28     From Prineville, Oregon: Drive 12.4 miles sout...  ...   \n",
       "...                                                  ...  ...   \n",
       "13858  <p>Take State Highway 395 north from Spokane. ...  ...   \n",
       "13859  <p>Take State Highway 2 west of Spokane for 32...  ...   \n",
       "13860  <p>Jones Bay is 77 miles from Spokane as you h...  ...   \n",
       "13995  <p>From Idaho City travel State Highway 21 nor...  ...   \n",
       "13996  The North Unit entrance is along U.S. Highway ...  ...   \n",
       "\n",
       "      FacilityReservationURL            FacilityMapURL  \\\n",
       "17                       NaN                       NaN   \n",
       "20                       NaN                       NaN   \n",
       "21                       NaN                       NaN   \n",
       "22                                                       \n",
       "28                       NaN  https://flic.kr/p/CNdZtg   \n",
       "...                      ...                       ...   \n",
       "13858                    NaN                       NaN   \n",
       "13859                    NaN                       NaN   \n",
       "13860                    NaN                       NaN   \n",
       "13995                    NaN                       NaN   \n",
       "13996                    NaN                       NaN   \n",
       "\n",
       "                                      FacilityAdaAccess FacilityLongitude  \\\n",
       "17                                                  NaN       -110.060900   \n",
       "20                                                  NaN       -113.451880   \n",
       "21                                                  NaN       -114.160087   \n",
       "22     Accessible camp and picnic site and vault toilet       -113.869180   \n",
       "28                        \"Vault toilet is accessible.\"       -120.833950   \n",
       "...                                                 ...               ...   \n",
       "13858                                               NaN       -118.145717   \n",
       "13859                                               NaN       -118.316381   \n",
       "13860                                               NaN       -118.582467   \n",
       "13995                                                 N       -115.712719   \n",
       "13996                                                 N       -103.333889   \n",
       "\n",
       "      FacilityLatitude                                           Keywords  \\\n",
       "17           42.024400                                                NaN   \n",
       "20           34.536050  Burro Creek Recreation Site,Burro Creek Camp,B...   \n",
       "21           35.435956                                            kingman   \n",
       "22           35.061300  Hualapai Mountains, camping, wild cow springs,...   \n",
       "28           44.158140  Prineville, Fishing, Rafting, Camping, Day Use...   \n",
       "...                ...                                                ...   \n",
       "13858        48.297583                                                NaN   \n",
       "13859        47.816515                                                NaN   \n",
       "13860        47.918483                                                NaN   \n",
       "13995        43.898560                                               None   \n",
       "13996        47.594167                                                NaN   \n",
       "\n",
       "       StayLimit Reservable Enabled  LastUpdatedDate  \n",
       "17           NaN      False    True       2020-09-10  \n",
       "20           NaN       True    True       2022-03-01  \n",
       "21       14 days      False    True       2020-09-10  \n",
       "22       14 days      False    True       2020-09-10  \n",
       "28       14 Days      False    True       2021-09-21  \n",
       "...          ...        ...     ...              ...  \n",
       "13858        NaN       True    True       2022-03-01  \n",
       "13859        NaN       True    True       2022-03-01  \n",
       "13860        NaN       True    True       2022-03-01  \n",
       "13995        NaN       True    True       2022-03-01  \n",
       "13996        NaN       True    True       2022-03-01  \n",
       "\n",
       "[4880 rows x 22 columns]"
      ]
     },
     "execution_count": 53,
     "metadata": {},
     "output_type": "execute_result"
    }
   ],
   "source": [
    "dfFacilities[dfFacilities.FacilityTypeDescription == 'Campground']"
   ]
  },
  {
   "cell_type": "code",
   "execution_count": 54,
   "metadata": {
    "collapsed": false,
    "pycharm": {
     "name": "#%%\n"
    }
   },
   "outputs": [],
   "source": [
    "dfCampgrounds = dfFacilities[dfFacilities.FacilityTypeDescription == 'Campground']"
   ]
  },
  {
   "cell_type": "code",
   "execution_count": 55,
   "metadata": {
    "collapsed": false,
    "pycharm": {
     "name": "#%%\n"
    }
   },
   "outputs": [],
   "source": [
    "proposed_features = ['FacilityID', 'FacilityName', 'FacilityDescription', 'FacilityDirections', 'FacilityAdaAccess', 'Keywords']"
   ]
  },
  {
   "cell_type": "code",
   "execution_count": 56,
   "metadata": {
    "collapsed": false,
    "pycharm": {
     "name": "#%%\n"
    }
   },
   "outputs": [
    {
     "data": {
      "text/html": [
       "<div>\n",
       "<style scoped>\n",
       "    .dataframe tbody tr th:only-of-type {\n",
       "        vertical-align: middle;\n",
       "    }\n",
       "\n",
       "    .dataframe tbody tr th {\n",
       "        vertical-align: top;\n",
       "    }\n",
       "\n",
       "    .dataframe thead th {\n",
       "        text-align: right;\n",
       "    }\n",
       "</style>\n",
       "<table border=\"1\" class=\"dataframe\">\n",
       "  <thead>\n",
       "    <tr style=\"text-align: right;\">\n",
       "      <th></th>\n",
       "      <th>FacilityID</th>\n",
       "      <th>FacilityName</th>\n",
       "      <th>FacilityDescription</th>\n",
       "      <th>FacilityDirections</th>\n",
       "      <th>FacilityAdaAccess</th>\n",
       "      <th>Keywords</th>\n",
       "    </tr>\n",
       "  </thead>\n",
       "  <tbody>\n",
       "    <tr>\n",
       "      <th>17</th>\n",
       "      <td>10000167</td>\n",
       "      <td>Tail Race Campground</td>\n",
       "      <td>The Tail Race Campground features three campsi...</td>\n",
       "      <td>Located 1/4 mile south of Fontenelle Reservoir...</td>\n",
       "      <td>NaN</td>\n",
       "      <td>NaN</td>\n",
       "    </tr>\n",
       "    <tr>\n",
       "      <th>20</th>\n",
       "      <td>10000305</td>\n",
       "      <td>Burro Creek Campground</td>\n",
       "      <td>&lt;h2&gt;Overview&lt;/h2&gt;\\n&lt;p&gt;The Burro Creek Campgrou...</td>\n",
       "      <td>&lt;p&gt;The Burro Creek Recreation Site is located ...</td>\n",
       "      <td>NaN</td>\n",
       "      <td>Burro Creek Recreation Site,Burro Creek Camp,B...</td>\n",
       "    </tr>\n",
       "    <tr>\n",
       "      <th>21</th>\n",
       "      <td>10000309</td>\n",
       "      <td>Windy Point Campground</td>\n",
       "      <td>Located on the crest of the Cerbat Mountains, ...</td>\n",
       "      <td>From Kingman, Arizona, travel 18 miles north o...</td>\n",
       "      <td>NaN</td>\n",
       "      <td>kingman</td>\n",
       "    </tr>\n",
       "    <tr>\n",
       "      <th>22</th>\n",
       "      <td>10000330</td>\n",
       "      <td>Wild Cow Springs Campground</td>\n",
       "      <td>Wild Cow Springs Campground is situated in a g...</td>\n",
       "      <td>From Kingman, travel 14 miles on Hualapai Moun...</td>\n",
       "      <td>Accessible camp and picnic site and vault toilet</td>\n",
       "      <td>Hualapai Mountains, camping, wild cow springs,...</td>\n",
       "    </tr>\n",
       "    <tr>\n",
       "      <th>28</th>\n",
       "      <td>10000447</td>\n",
       "      <td>Castle Rock Campground</td>\n",
       "      <td>&lt;p&gt;Located south of Prineville, Oregon, this s...</td>\n",
       "      <td>From Prineville, Oregon: Drive 12.4 miles sout...</td>\n",
       "      <td>\"Vault toilet is accessible.\"</td>\n",
       "      <td>Prineville, Fishing, Rafting, Camping, Day Use...</td>\n",
       "    </tr>\n",
       "    <tr>\n",
       "      <th>...</th>\n",
       "      <td>...</td>\n",
       "      <td>...</td>\n",
       "      <td>...</td>\n",
       "      <td>...</td>\n",
       "      <td>...</td>\n",
       "      <td>...</td>\n",
       "    </tr>\n",
       "    <tr>\n",
       "      <th>13858</th>\n",
       "      <td>275085</td>\n",
       "      <td>Cloverleaf Campground (WA)</td>\n",
       "      <td>&lt;h2&gt;Overview&lt;/h2&gt;\\n&lt;p&gt;Cloverleaf is a small, w...</td>\n",
       "      <td>&lt;p&gt;Take State Highway 395 north from Spokane. ...</td>\n",
       "      <td>NaN</td>\n",
       "      <td>NaN</td>\n",
       "    </tr>\n",
       "    <tr>\n",
       "      <th>13859</th>\n",
       "      <td>275091</td>\n",
       "      <td>Hawk Creek Campground</td>\n",
       "      <td>&lt;h2&gt;Overview&lt;/h2&gt;\\n&lt;p&gt;Hawk Creek Campground is...</td>\n",
       "      <td>&lt;p&gt;Take State Highway 2 west of Spokane for 32...</td>\n",
       "      <td>NaN</td>\n",
       "      <td>NaN</td>\n",
       "    </tr>\n",
       "    <tr>\n",
       "      <th>13860</th>\n",
       "      <td>275092</td>\n",
       "      <td>Jones Bay Campground</td>\n",
       "      <td>&lt;h2&gt;Overview&lt;/h2&gt;\\n&lt;p&gt;Jones Bay is one of Lake...</td>\n",
       "      <td>&lt;p&gt;Jones Bay is 77 miles from Spokane as you h...</td>\n",
       "      <td>NaN</td>\n",
       "      <td>NaN</td>\n",
       "    </tr>\n",
       "    <tr>\n",
       "      <th>13995</th>\n",
       "      <td>72417</td>\n",
       "      <td>TEN MILE CAMPGROUND</td>\n",
       "      <td>&lt;h2&gt;Overview&lt;/h2&gt;\\n&lt;p&gt;Ten Mile is small campgr...</td>\n",
       "      <td>&lt;p&gt;From Idaho City travel State Highway 21 nor...</td>\n",
       "      <td>N</td>\n",
       "      <td>None</td>\n",
       "    </tr>\n",
       "    <tr>\n",
       "      <th>13996</th>\n",
       "      <td>72481</td>\n",
       "      <td>Juniper Campground Group Site</td>\n",
       "      <td>&lt;h2&gt;Overview&lt;/h2&gt;\\n&lt;p&gt;For groups visiting the ...</td>\n",
       "      <td>The North Unit entrance is along U.S. Highway ...</td>\n",
       "      <td>N</td>\n",
       "      <td>NaN</td>\n",
       "    </tr>\n",
       "  </tbody>\n",
       "</table>\n",
       "<p>4880 rows × 6 columns</p>\n",
       "</div>"
      ],
      "text/plain": [
       "      FacilityID                   FacilityName  \\\n",
       "17      10000167           Tail Race Campground   \n",
       "20      10000305        Burro Creek Campground    \n",
       "21      10000309         Windy Point Campground   \n",
       "22      10000330    Wild Cow Springs Campground   \n",
       "28      10000447         Castle Rock Campground   \n",
       "...          ...                            ...   \n",
       "13858     275085     Cloverleaf Campground (WA)   \n",
       "13859     275091          Hawk Creek Campground   \n",
       "13860     275092           Jones Bay Campground   \n",
       "13995      72417            TEN MILE CAMPGROUND   \n",
       "13996      72481  Juniper Campground Group Site   \n",
       "\n",
       "                                     FacilityDescription  \\\n",
       "17     The Tail Race Campground features three campsi...   \n",
       "20     <h2>Overview</h2>\\n<p>The Burro Creek Campgrou...   \n",
       "21     Located on the crest of the Cerbat Mountains, ...   \n",
       "22     Wild Cow Springs Campground is situated in a g...   \n",
       "28     <p>Located south of Prineville, Oregon, this s...   \n",
       "...                                                  ...   \n",
       "13858  <h2>Overview</h2>\\n<p>Cloverleaf is a small, w...   \n",
       "13859  <h2>Overview</h2>\\n<p>Hawk Creek Campground is...   \n",
       "13860  <h2>Overview</h2>\\n<p>Jones Bay is one of Lake...   \n",
       "13995  <h2>Overview</h2>\\n<p>Ten Mile is small campgr...   \n",
       "13996  <h2>Overview</h2>\\n<p>For groups visiting the ...   \n",
       "\n",
       "                                      FacilityDirections  \\\n",
       "17     Located 1/4 mile south of Fontenelle Reservoir...   \n",
       "20     <p>The Burro Creek Recreation Site is located ...   \n",
       "21     From Kingman, Arizona, travel 18 miles north o...   \n",
       "22     From Kingman, travel 14 miles on Hualapai Moun...   \n",
       "28     From Prineville, Oregon: Drive 12.4 miles sout...   \n",
       "...                                                  ...   \n",
       "13858  <p>Take State Highway 395 north from Spokane. ...   \n",
       "13859  <p>Take State Highway 2 west of Spokane for 32...   \n",
       "13860  <p>Jones Bay is 77 miles from Spokane as you h...   \n",
       "13995  <p>From Idaho City travel State Highway 21 nor...   \n",
       "13996  The North Unit entrance is along U.S. Highway ...   \n",
       "\n",
       "                                      FacilityAdaAccess  \\\n",
       "17                                                  NaN   \n",
       "20                                                  NaN   \n",
       "21                                                  NaN   \n",
       "22     Accessible camp and picnic site and vault toilet   \n",
       "28                        \"Vault toilet is accessible.\"   \n",
       "...                                                 ...   \n",
       "13858                                               NaN   \n",
       "13859                                               NaN   \n",
       "13860                                               NaN   \n",
       "13995                                                 N   \n",
       "13996                                                 N   \n",
       "\n",
       "                                                Keywords  \n",
       "17                                                   NaN  \n",
       "20     Burro Creek Recreation Site,Burro Creek Camp,B...  \n",
       "21                                               kingman  \n",
       "22     Hualapai Mountains, camping, wild cow springs,...  \n",
       "28     Prineville, Fishing, Rafting, Camping, Day Use...  \n",
       "...                                                  ...  \n",
       "13858                                                NaN  \n",
       "13859                                                NaN  \n",
       "13860                                                NaN  \n",
       "13995                                               None  \n",
       "13996                                                NaN  \n",
       "\n",
       "[4880 rows x 6 columns]"
      ]
     },
     "execution_count": 56,
     "metadata": {},
     "output_type": "execute_result"
    }
   ],
   "source": [
    "dfCampgrounds[proposed_features]"
   ]
  },
  {
   "cell_type": "code",
   "execution_count": 57,
   "metadata": {},
   "outputs": [
    {
     "data": {
      "text/plain": [
       "17       The Tail Race Campground features three campsi...\n",
       "20       <h2>Overview</h2>\\n<p>The Burro Creek Campgrou...\n",
       "21       Located on the crest of the Cerbat Mountains, ...\n",
       "22       Wild Cow Springs Campground is situated in a g...\n",
       "28       <p>Located south of Prineville, Oregon, this s...\n",
       "                               ...                        \n",
       "13858    <h2>Overview</h2>\\n<p>Cloverleaf is a small, w...\n",
       "13859    <h2>Overview</h2>\\n<p>Hawk Creek Campground is...\n",
       "13860    <h2>Overview</h2>\\n<p>Jones Bay is one of Lake...\n",
       "13995    <h2>Overview</h2>\\n<p>Ten Mile is small campgr...\n",
       "13996    <h2>Overview</h2>\\n<p>For groups visiting the ...\n",
       "Name: FacilityDescription, Length: 4880, dtype: object"
      ]
     },
     "execution_count": 57,
     "metadata": {},
     "output_type": "execute_result"
    }
   ],
   "source": [
    "# fill empty cells\n",
    "dfCampgrounds['FacilityDescription'].fillna('')"
   ]
  },
  {
   "cell_type": "code",
   "execution_count": 58,
   "metadata": {
    "collapsed": false,
    "pycharm": {
     "name": "#%%\n"
    }
   },
   "outputs": [
    {
     "name": "stdout",
     "output_type": "stream",
     "text": [
      "Requirement already satisfied: beautifulsoup4 in /Users/burgwyn/opt/anaconda3/lib/python3.9/site-packages (4.10.0)\n",
      "Requirement already satisfied: soupsieve>1.2 in /Users/burgwyn/opt/anaconda3/lib/python3.9/site-packages (from beautifulsoup4) (2.2.1)\n",
      "Note: you may need to restart the kernel to use updated packages.\n"
     ]
    }
   ],
   "source": [
    "%pip install beautifulsoup4"
   ]
  },
  {
   "cell_type": "code",
   "execution_count": 59,
   "metadata": {
    "collapsed": false,
    "pycharm": {
     "name": "#%%\n"
    }
   },
   "outputs": [],
   "source": [
    "from bs4 import BeautifulSoup\n",
    "\n",
    "soup = BeautifulSoup(dfCampgrounds['FacilityDescription'].iloc[1])\n",
    "\n",
    "tag_charges = soup.find_all('h2')[-1]"
   ]
  },
  {
   "cell_type": "code",
   "execution_count": 60,
   "metadata": {},
   "outputs": [
    {
     "data": {
      "text/plain": [
       "['Charges & Cancellations']"
      ]
     },
     "execution_count": 60,
     "metadata": {},
     "output_type": "execute_result"
    }
   ],
   "source": [
    "tag_charges.contents"
   ]
  },
  {
   "cell_type": "code",
   "execution_count": 62,
   "metadata": {
    "collapsed": false,
    "pycharm": {
     "name": "#%%\n"
    }
   },
   "outputs": [],
   "source": [
    " # https://stackoverflow.com/questions/51366006/remove-everything-after-tag-in-beautifulsoup\n",
    "if tag_charges.contents == ['Charges & Cancellations']:\n",
    "    for e in tag_charges.find_all_next():\n",
    "        e.clear()"
   ]
  },
  {
   "cell_type": "code",
   "execution_count": 65,
   "metadata": {},
   "outputs": [],
   "source": [
    "for h2 in soup.find_all('h2'):\n",
    "    h2.clear()"
   ]
  },
  {
   "cell_type": "code",
   "execution_count": 88,
   "metadata": {
    "collapsed": false,
    "pycharm": {
     "name": "#%%\n"
    }
   },
   "outputs": [
    {
     "data": {
      "text/plain": [
       "'\\nThe Burro Creek Campground (1,960’ elevation) is situated along the 57 mile Burro Creek in a transition zone between the upper reaches of the scenic Sonoran Desert and lower reaches of the scenic Mojave Desert. The campground offers visitors a variety of scenery including saguaro-studded cliffs along steep canyon walls that contrast Burro Creek’s dense vegetation and flowing waters that form deep pools of water just adjacent to the campground.\\xa0\\n\\nTo enhance the visitor experience, the campground features a Watchable Wildlife Exhibit and an Interpretive Desert Garden as well as access to Burro Creek via hiking trails from the campground. The creek offers opportunities for rockhounding, wading, and wildlife viewing especially for birding with a wide-array of raptors and other species of birds. Sites 7, 8, and 9 are best for bird watching.\\xa0\\n\\nAccess to the Burro Creek Campground is provided via a 1.25 mile paved road from U.S. Highway 93 at mile post 140.2. The campground offers visitors 23 individual campsites, 1 group site, and 2 day-use sites featuring shaded picnic tables, fire rings with grates, and grills at the group site and day-use area. Flush toilet facilities are provided at 2 different locations in the campground as well as 1 dump station. Although water hookups are not available at campsites, drinking water is provided a various locations throughout the campground.\\xa0\\nIn planning your trip, please note that sites 1, 2, and 10 through 17 are best for larger RVs (Class A) and trailers (fifth wheels) due to maneuverability throughout the site. Other sites can be utilized for larger RVs and trailers, but it is recommended for visitor convenience that the aforementioned sites are used first.\\xa0\\n\\nThe campground scenery features an adjacent canyon carved by the flow of Burro Creek with other mountains and mesas visible in the background as well as a diverse Sonoran desert plant community including saguaros, a variety of cholla and barrel cacti, creosote bushes, Palo Verde trees, and catclaw. Nearby, on the banks of Burro Creek, visitors will also see willow and cottonwood trees as well as a wide-variety of riparian shrubs.\\xa0\\nWildlife is frequent in the campground and include occasional sightings of desert bighorn sheep on the cliffs above Burro Creek and a variety of birds including cactus wren, Gambel’s quail, Gila woodpecker, great horned owl, great blue heron, Vermilion flycatcher, and cliff swallow to name a few. Javelina, raccoons, coyotes, and foxes have been known to use the area as the creek serves an important role in the harsh desert environment.\\xa0\\xa0\\xa0\\xa0\\xa0\\n\\nThe public lands surrounding the Burro Creek Campground are readily available for visitors interested in sightseeing via use of a four-wheel drive vehicle along county-maintained dirt roads. These roads wind through a variety of interesting geologic scenery combined with unique vegetative communities including Sonoran and Mojave deserts intermingled with areas of interior chaparral and pinyon-juniper woodlands. County roads are maintained regularly, but it is always a good idea to check with the local BLM office prior to planning your trip as well as exercising caution when travelling on any of these unimproved dirt roads as visitors travel at their own risk.\\xa0\\nThe area, while desolate during the warm summer months, gives way to cooler temperatures from October through April annually and provides exceptional opportunities for hunting, off-highway vehicle use, wildlife watching, photography, sightseeing, and a variety of other dispersed recreational opportunities. Depending upon winter and spring precipitation, the area surrounding the Burro Creek Campground provides visitors with excellent spring wildflower displays March through May.\\xa0\\xa0\\xa0\\n\\n\\n\\n\\n\\n\\n\\n\\n\\n'"
      ]
     },
     "execution_count": 88,
     "metadata": {},
     "output_type": "execute_result"
    }
   ],
   "source": [
    "soup.text"
   ]
  },
  {
   "cell_type": "code",
   "execution_count": 119,
   "metadata": {},
   "outputs": [],
   "source": [
    "def strip_text(text):\n",
    "    try:\n",
    "        soup = BeautifulSoup(text)\n",
    "\n",
    "        tag_charges = soup.find_all('h2')[-1]\n",
    "\n",
    "        if tag_charges.contents == ['Charges & Cancellations']:\n",
    "            for e in tag_charges.find_all_next():\n",
    "                e.clear()\n",
    "\n",
    "        for h2 in soup.find_all('h2'):\n",
    "            h2.clear()\n",
    "\n",
    "        soup_text =  soup.text\n",
    "        return soup_text.replace('\\n', ' ' ).replace('\\r', ' ' ).replace('\\xa0', ' ').rstrip().lstrip()\n",
    "    except:\n",
    "        return text.replace('\\n', ' ' ).replace('\\r', ' ' ).replace('\\xa0', ' ').rstrip().lstrip()"
   ]
  },
  {
   "cell_type": "code",
   "execution_count": 120,
   "metadata": {},
   "outputs": [
    {
     "data": {
      "text/plain": [
       "'The Burro Creek Campground (1,960’ elevation) is situated along the 57 mile Burro Creek in a transition zone between the upper reaches of the scenic Sonoran Desert and lower reaches of the scenic Mojave Desert. The campground offers visitors a variety of scenery including saguaro-studded cliffs along steep canyon walls that contrast Burro Creek’s dense vegetation and flowing waters that form deep pools of water just adjacent to the campground.   To enhance the visitor experience, the campground features a Watchable Wildlife Exhibit and an Interpretive Desert Garden as well as access to Burro Creek via hiking trails from the campground. The creek offers opportunities for rockhounding, wading, and wildlife viewing especially for birding with a wide-array of raptors and other species of birds. Sites 7, 8, and 9 are best for bird watching.   Access to the Burro Creek Campground is provided via a 1.25 mile paved road from U.S. Highway 93 at mile post 140.2. The campground offers visitors 23 individual campsites, 1 group site, and 2 day-use sites featuring shaded picnic tables, fire rings with grates, and grills at the group site and day-use area. Flush toilet facilities are provided at 2 different locations in the campground as well as 1 dump station. Although water hookups are not available at campsites, drinking water is provided a various locations throughout the campground.  In planning your trip, please note that sites 1, 2, and 10 through 17 are best for larger RVs (Class A) and trailers (fifth wheels) due to maneuverability throughout the site. Other sites can be utilized for larger RVs and trailers, but it is recommended for visitor convenience that the aforementioned sites are used first.   The campground scenery features an adjacent canyon carved by the flow of Burro Creek with other mountains and mesas visible in the background as well as a diverse Sonoran desert plant community including saguaros, a variety of cholla and barrel cacti, creosote bushes, Palo Verde trees, and catclaw. Nearby, on the banks of Burro Creek, visitors will also see willow and cottonwood trees as well as a wide-variety of riparian shrubs.  Wildlife is frequent in the campground and include occasional sightings of desert bighorn sheep on the cliffs above Burro Creek and a variety of birds including cactus wren, Gambel’s quail, Gila woodpecker, great horned owl, great blue heron, Vermilion flycatcher, and cliff swallow to name a few. Javelina, raccoons, coyotes, and foxes have been known to use the area as the creek serves an important role in the harsh desert environment.       The public lands surrounding the Burro Creek Campground are readily available for visitors interested in sightseeing via use of a four-wheel drive vehicle along county-maintained dirt roads. These roads wind through a variety of interesting geologic scenery combined with unique vegetative communities including Sonoran and Mojave deserts intermingled with areas of interior chaparral and pinyon-juniper woodlands. County roads are maintained regularly, but it is always a good idea to check with the local BLM office prior to planning your trip as well as exercising caution when travelling on any of these unimproved dirt roads as visitors travel at their own risk.  The area, while desolate during the warm summer months, gives way to cooler temperatures from October through April annually and provides exceptional opportunities for hunting, off-highway vehicle use, wildlife watching, photography, sightseeing, and a variety of other dispersed recreational opportunities. Depending upon winter and spring precipitation, the area surrounding the Burro Creek Campground provides visitors with excellent spring wildflower displays March through May.'"
      ]
     },
     "execution_count": 120,
     "metadata": {},
     "output_type": "execute_result"
    }
   ],
   "source": [
    "strip_text(dfCampgrounds['FacilityDescription'].iloc[1])"
   ]
  },
  {
   "cell_type": "code",
   "execution_count": 122,
   "metadata": {},
   "outputs": [
    {
     "data": {
      "text/plain": [
       "'lorem ipsum dolor amet'"
      ]
     },
     "execution_count": 122,
     "metadata": {},
     "output_type": "execute_result"
    }
   ],
   "source": [
    "strip_text('lorem ipsum dolor amet \\n  ')"
   ]
  },
  {
   "cell_type": "code",
   "execution_count": 18,
   "metadata": {
    "collapsed": false,
    "pycharm": {
     "name": "#%%\n"
    }
   },
   "outputs": [
    {
     "data": {
      "text/plain": [
       "17       The Tail Race Campground features three campsi...\n",
       "20       Overview\\nThe Burro Creek Campground (1,960’ e...\n",
       "21       Located on the crest of the Cerbat Mountains, ...\n",
       "22       Wild Cow Springs Campground is situated in a g...\n",
       "28       Located south of Prineville, Oregon, this six-...\n",
       "                               ...                        \n",
       "13858    Overview\\nCloverleaf is a small, walk-in only ...\n",
       "13859    Overview\\nHawk Creek Campground is tucked back...\n",
       "13860    Overview\\nJones Bay is one of Lake Roosevelt’s...\n",
       "13995    Overview\\nTen Mile is small campground, a quic...\n",
       "13996    Overview\\nFor groups visiting the North Unit o...\n",
       "Name: FacilityDescription, Length: 4880, dtype: object"
      ]
     },
     "execution_count": 18,
     "metadata": {},
     "output_type": "execute_result"
    }
   ],
   "source": [
    "# stripping HTML tags\n",
    "# https://stackoverflow.com/questions/45999415/removing-html-tags-in-pandas\n",
    "dfCampgrounds['FacilityDescription'].str.replace(r'<[^<>]*>', '', regex=True)"
   ]
  },
  {
   "cell_type": "code",
   "execution_count": 19,
   "metadata": {
    "collapsed": false,
    "pycharm": {
     "name": "#%%\n"
    }
   },
   "outputs": [
    {
     "name": "stderr",
     "output_type": "stream",
     "text": [
      "/var/folders/zz/yldyqfkd2d70ympmb906zp000000gn/T/ipykernel_79312/82866449.py:1: SettingWithCopyWarning: \n",
      "A value is trying to be set on a copy of a slice from a DataFrame.\n",
      "Try using .loc[row_indexer,col_indexer] = value instead\n",
      "\n",
      "See the caveats in the documentation: https://pandas.pydata.org/pandas-docs/stable/user_guide/indexing.html#returning-a-view-versus-a-copy\n",
      "  dfCampgrounds['FacilityDescription'] = dfCampgrounds['FacilityDescription'].str.replace(r'<[^<>]*>', '', regex=True)\n"
     ]
    }
   ],
   "source": [
    "dfCampgrounds['FacilityDescription'] = dfCampgrounds['FacilityDescription'].str.replace(r'<[^<>]*>', '', regex=True)"
   ]
  },
  {
   "cell_type": "markdown",
   "metadata": {
    "collapsed": false,
    "pycharm": {
     "name": "#%% md\n"
    }
   },
   "source": []
  },
  {
   "cell_type": "code",
   "execution_count": 20,
   "metadata": {
    "collapsed": false,
    "pycharm": {
     "name": "#%%\n"
    }
   },
   "outputs": [
    {
     "name": "stderr",
     "output_type": "stream",
     "text": [
      "/var/folders/zz/yldyqfkd2d70ympmb906zp000000gn/T/ipykernel_79312/2074636175.py:1: SettingWithCopyWarning: \n",
      "A value is trying to be set on a copy of a slice from a DataFrame.\n",
      "Try using .loc[row_indexer,col_indexer] = value instead\n",
      "\n",
      "See the caveats in the documentation: https://pandas.pydata.org/pandas-docs/stable/user_guide/indexing.html#returning-a-view-versus-a-copy\n",
      "  dfCampgrounds['FacilityDescription'] = dfCampgrounds['FacilityDescription'].str.replace('\\n', ' ', regex=True)\n"
     ]
    }
   ],
   "source": [
    "dfCampgrounds['FacilityDescription'] = dfCampgrounds['FacilityDescription'].str.replace('\\n', ' ', regex=True)"
   ]
  },
  {
   "cell_type": "code",
   "execution_count": 21,
   "metadata": {
    "collapsed": false,
    "pycharm": {
     "name": "#%%\n"
    }
   },
   "outputs": [
    {
     "name": "stderr",
     "output_type": "stream",
     "text": [
      "/var/folders/zz/yldyqfkd2d70ympmb906zp000000gn/T/ipykernel_79312/2066571433.py:1: SettingWithCopyWarning: \n",
      "A value is trying to be set on a copy of a slice from a DataFrame.\n",
      "Try using .loc[row_indexer,col_indexer] = value instead\n",
      "\n",
      "See the caveats in the documentation: https://pandas.pydata.org/pandas-docs/stable/user_guide/indexing.html#returning-a-view-versus-a-copy\n",
      "  dfCampgrounds['FacilityDescription'] = dfCampgrounds['FacilityDescription'].str.replace('\\r', ' ', regex=True)\n"
     ]
    }
   ],
   "source": [
    "dfCampgrounds['FacilityDescription'] = dfCampgrounds['FacilityDescription'].str.replace('\\r', ' ', regex=True)"
   ]
  },
  {
   "cell_type": "code",
   "execution_count": 22,
   "metadata": {
    "collapsed": false,
    "pycharm": {
     "name": "#%%\n"
    }
   },
   "outputs": [
    {
     "data": {
      "text/plain": [
       "17       The Tail Race Campground features three campsi...\n",
       "20       Overview The Burro Creek Campground (1,960’ el...\n",
       "21       Located on the crest of the Cerbat Mountains, ...\n",
       "22       Wild Cow Springs Campground is situated in a g...\n",
       "28       Located south of Prineville, Oregon, this six-...\n",
       "                               ...                        \n",
       "13858    Overview Cloverleaf is a small, walk-in only c...\n",
       "13859    Overview Hawk Creek Campground is tucked back ...\n",
       "13860    Overview Jones Bay is one of Lake Roosevelt’s ...\n",
       "13995    Overview Ten Mile is small campground, a quick...\n",
       "13996    Overview For groups visiting the North Unit of...\n",
       "Name: FacilityDescription, Length: 4880, dtype: object"
      ]
     },
     "execution_count": 22,
     "metadata": {},
     "output_type": "execute_result"
    }
   ],
   "source": [
    "dfCampgrounds['FacilityDescription']"
   ]
  },
  {
   "cell_type": "code",
   "execution_count": 23,
   "metadata": {
    "collapsed": false,
    "pycharm": {
     "name": "#%%\n"
    }
   },
   "outputs": [
    {
     "name": "stderr",
     "output_type": "stream",
     "text": [
      "/var/folders/zz/yldyqfkd2d70ympmb906zp000000gn/T/ipykernel_79312/1866420285.py:1: SettingWithCopyWarning: \n",
      "A value is trying to be set on a copy of a slice from a DataFrame.\n",
      "Try using .loc[row_indexer,col_indexer] = value instead\n",
      "\n",
      "See the caveats in the documentation: https://pandas.pydata.org/pandas-docs/stable/user_guide/indexing.html#returning-a-view-versus-a-copy\n",
      "  dfCampgrounds['FacilityDirections'] = dfCampgrounds['FacilityDirections'].str.replace(r'<[^<>]*>', '', regex=True)\n"
     ]
    }
   ],
   "source": [
    "dfCampgrounds['FacilityDirections'] = dfCampgrounds['FacilityDirections'].str.replace(r'<[^<>]*>', '', regex=True)"
   ]
  },
  {
   "cell_type": "code",
   "execution_count": 24,
   "metadata": {
    "collapsed": false,
    "pycharm": {
     "name": "#%%\n"
    }
   },
   "outputs": [
    {
     "name": "stderr",
     "output_type": "stream",
     "text": [
      "/var/folders/zz/yldyqfkd2d70ympmb906zp000000gn/T/ipykernel_79312/3296462491.py:1: SettingWithCopyWarning: \n",
      "A value is trying to be set on a copy of a slice from a DataFrame.\n",
      "Try using .loc[row_indexer,col_indexer] = value instead\n",
      "\n",
      "See the caveats in the documentation: https://pandas.pydata.org/pandas-docs/stable/user_guide/indexing.html#returning-a-view-versus-a-copy\n",
      "  dfCampgrounds['FacilityDirections'] = dfCampgrounds['FacilityDirections'].str.replace('\\n', ' ', regex=True)\n"
     ]
    }
   ],
   "source": [
    "dfCampgrounds['FacilityDirections'] = dfCampgrounds['FacilityDirections'].str.replace('\\n', ' ', regex=True)"
   ]
  },
  {
   "cell_type": "code",
   "execution_count": 25,
   "metadata": {
    "collapsed": false,
    "pycharm": {
     "name": "#%%\n"
    }
   },
   "outputs": [
    {
     "name": "stderr",
     "output_type": "stream",
     "text": [
      "/var/folders/zz/yldyqfkd2d70ympmb906zp000000gn/T/ipykernel_79312/4269386445.py:1: SettingWithCopyWarning: \n",
      "A value is trying to be set on a copy of a slice from a DataFrame.\n",
      "Try using .loc[row_indexer,col_indexer] = value instead\n",
      "\n",
      "See the caveats in the documentation: https://pandas.pydata.org/pandas-docs/stable/user_guide/indexing.html#returning-a-view-versus-a-copy\n",
      "  dfCampgrounds['FacilityDirections'] = dfCampgrounds['FacilityDirections'].str.replace('\\r', ' ', regex=True)\n"
     ]
    }
   ],
   "source": [
    "dfCampgrounds['FacilityDirections'] = dfCampgrounds['FacilityDirections'].str.replace('\\r', ' ', regex=True)"
   ]
  },
  {
   "cell_type": "code",
   "execution_count": 26,
   "metadata": {
    "collapsed": false,
    "pycharm": {
     "name": "#%%\n"
    }
   },
   "outputs": [
    {
     "data": {
      "text/plain": [
       "17       Located 1/4 mile south of Fontenelle Reservoir...\n",
       "20       The Burro Creek Recreation Site is located 60 ...\n",
       "21       From Kingman, Arizona, travel 18 miles north o...\n",
       "22       From Kingman, travel 14 miles on Hualapai Moun...\n",
       "28       From Prineville, Oregon: Drive 12.4 miles sout...\n",
       "                               ...                        \n",
       "13858    Take State Highway 395 north from Spokane. Tra...\n",
       "13859    Take State Highway 2 west of Spokane for 32 mi...\n",
       "13860    Jones Bay is 77 miles from Spokane as you head...\n",
       "13995    From Idaho City travel State Highway 21 north ...\n",
       "13996    The North Unit entrance is along U.S. Highway ...\n",
       "Name: FacilityDirections, Length: 4880, dtype: object"
      ]
     },
     "execution_count": 26,
     "metadata": {},
     "output_type": "execute_result"
    }
   ],
   "source": [
    "dfCampgrounds['FacilityDirections']"
   ]
  },
  {
   "cell_type": "code",
   "execution_count": 41,
   "metadata": {
    "collapsed": false,
    "pycharm": {
     "name": "#%%\n"
    }
   },
   "outputs": [
    {
     "name": "stdout",
     "output_type": "stream",
     "text": [
      "Requirement already satisfied: textblob in /Users/burgwyn/opt/anaconda3/lib/python3.9/site-packages (0.17.1)\n",
      "Requirement already satisfied: nltk>=3.1 in /Users/burgwyn/opt/anaconda3/lib/python3.9/site-packages (from textblob) (3.6.5)\n",
      "Requirement already satisfied: click in /Users/burgwyn/opt/anaconda3/lib/python3.9/site-packages (from nltk>=3.1->textblob) (8.0.3)\n",
      "Requirement already satisfied: joblib in /Users/burgwyn/opt/anaconda3/lib/python3.9/site-packages (from nltk>=3.1->textblob) (1.1.0)\n",
      "Requirement already satisfied: regex>=2021.8.3 in /Users/burgwyn/opt/anaconda3/lib/python3.9/site-packages (from nltk>=3.1->textblob) (2021.8.3)\n",
      "Requirement already satisfied: tqdm in /Users/burgwyn/opt/anaconda3/lib/python3.9/site-packages (from nltk>=3.1->textblob) (4.62.3)\n",
      "Note: you may need to restart the kernel to use updated packages.\n"
     ]
    }
   ],
   "source": [
    "%pip install textblob"
   ]
  },
  {
   "cell_type": "code",
   "execution_count": 28,
   "metadata": {
    "collapsed": false,
    "pycharm": {
     "name": "#%%\n"
    }
   },
   "outputs": [
    {
     "name": "stdout",
     "output_type": "stream",
     "text": [
      "[nltk_data] Downloading package brown to /Users/burgwyn/nltk_data...\n",
      "[nltk_data]   Unzipping corpora/brown.zip.\n",
      "[nltk_data] Downloading package punkt to /Users/burgwyn/nltk_data...\n",
      "[nltk_data]   Unzipping tokenizers/punkt.zip.\n",
      "[nltk_data] Downloading package wordnet to /Users/burgwyn/nltk_data...\n",
      "[nltk_data]   Unzipping corpora/wordnet.zip.\n",
      "[nltk_data] Downloading package averaged_perceptron_tagger to\n",
      "[nltk_data]     /Users/burgwyn/nltk_data...\n",
      "[nltk_data]   Unzipping taggers/averaged_perceptron_tagger.zip.\n",
      "[nltk_data] Downloading package conll2000 to\n",
      "[nltk_data]     /Users/burgwyn/nltk_data...\n",
      "[nltk_data]   Unzipping corpora/conll2000.zip.\n",
      "[nltk_data] Downloading package movie_reviews to\n",
      "[nltk_data]     /Users/burgwyn/nltk_data...\n",
      "[nltk_data]   Unzipping corpora/movie_reviews.zip.\n",
      "Finished.\n"
     ]
    }
   ],
   "source": [
    "!python -m textblob.download_corpora"
   ]
  },
  {
   "cell_type": "code",
   "execution_count": 29,
   "metadata": {
    "collapsed": false,
    "pycharm": {
     "name": "#%%\n"
    }
   },
   "outputs": [],
   "source": [
    "from textblob import TextBlob\n",
    "description1 = TextBlob(dfCampgrounds['FacilityDescription'].iloc[0])"
   ]
  },
  {
   "cell_type": "code",
   "execution_count": 30,
   "metadata": {
    "collapsed": false,
    "pycharm": {
     "name": "#%%\n"
    }
   },
   "outputs": [
    {
     "data": {
      "text/plain": [
       "[('The', 'DT'),\n",
       " ('Tail', 'NNP'),\n",
       " ('Race', 'NNP'),\n",
       " ('Campground', 'NNP'),\n",
       " ('features', 'VBZ'),\n",
       " ('three', 'CD'),\n",
       " ('campsites', 'NNS'),\n",
       " ('with', 'IN'),\n",
       " ('fire', 'NN'),\n",
       " ('rings', 'NNS'),\n",
       " ('and', 'CC'),\n",
       " ('a', 'DT'),\n",
       " ('vault', 'NN'),\n",
       " ('toilet', 'NN'),\n",
       " ('This', 'DT'),\n",
       " ('campground', 'NN'),\n",
       " ('is', 'VBZ'),\n",
       " ('wedged', 'VBN'),\n",
       " ('between', 'IN'),\n",
       " ('Fontenelle', 'NNP'),\n",
       " ('Reservoir', 'NNP'),\n",
       " ('and', 'CC'),\n",
       " ('Seedskadee', 'NNP'),\n",
       " ('National', 'NNP'),\n",
       " ('Wildlife', 'NNP'),\n",
       " ('Refuge', 'NNP'),\n",
       " ('and', 'CC'),\n",
       " ('so', 'RB'),\n",
       " ('makes', 'VBZ'),\n",
       " ('a', 'DT'),\n",
       " ('fantastic', 'JJ'),\n",
       " ('site', 'NN'),\n",
       " ('for', 'IN'),\n",
       " ('birding', 'NN'),\n",
       " ('fishing', 'NN'),\n",
       " ('or', 'CC'),\n",
       " ('non-motorized', 'JJ'),\n",
       " ('water', 'NN'),\n",
       " ('sports', 'NNS'),\n",
       " ('Historically', 'RB'),\n",
       " ('this', 'DT'),\n",
       " ('area', 'NN'),\n",
       " ('was', 'VBD'),\n",
       " ('a', 'DT'),\n",
       " ('gathering', 'JJ'),\n",
       " ('place', 'NN'),\n",
       " ('for', 'IN'),\n",
       " ('trappers', 'NNS'),\n",
       " ('during', 'IN'),\n",
       " ('their', 'PRP$'),\n",
       " ('annual', 'JJ'),\n",
       " ('rendezvous', 'JJ'),\n",
       " ('and', 'CC'),\n",
       " ('the', 'DT'),\n",
       " ('modern', 'JJ'),\n",
       " ('day', 'NN'),\n",
       " ('explorer', 'NN'),\n",
       " ('can', 'MD'),\n",
       " ('still', 'RB'),\n",
       " ('see', 'VB'),\n",
       " ('the', 'DT'),\n",
       " ('lure', 'NN'),\n",
       " ('of', 'IN'),\n",
       " ('such', 'JJ'),\n",
       " ('a', 'DT'),\n",
       " ('rich', 'JJ'),\n",
       " ('and', 'CC'),\n",
       " ('welcoming', 'JJ'),\n",
       " ('area', 'NN')]"
      ]
     },
     "execution_count": 30,
     "metadata": {},
     "output_type": "execute_result"
    }
   ],
   "source": [
    "description1.tags"
   ]
  },
  {
   "cell_type": "code",
   "execution_count": 31,
   "metadata": {
    "collapsed": false,
    "pycharm": {
     "name": "#%%\n"
    }
   },
   "outputs": [
    {
     "data": {
      "text/plain": [
       "WordList(['tail', 'campground', 'fire rings', 'vault toilet', 'fontenelle reservoir', 'seedskadee', 'wildlife refuge', 'fantastic site', 'water sports', 'historically', 'gathering place', 'annual rendezvous', 'modern day explorer'])"
      ]
     },
     "execution_count": 31,
     "metadata": {},
     "output_type": "execute_result"
    }
   ],
   "source": [
    "description1.noun_phrases"
   ]
  },
  {
   "cell_type": "code",
   "execution_count": 32,
   "metadata": {
    "collapsed": false,
    "pycharm": {
     "name": "#%%\n"
    }
   },
   "outputs": [
    {
     "data": {
      "text/plain": [
       "Sentiment(polarity=0.15694444444444444, subjectivity=0.4083333333333334)"
      ]
     },
     "execution_count": 32,
     "metadata": {},
     "output_type": "execute_result"
    }
   ],
   "source": [
    "description1.sentiment"
   ]
  },
  {
   "cell_type": "code",
   "execution_count": 42,
   "metadata": {},
   "outputs": [],
   "source": [
    "def calculate_sentiment(text):\n",
    "    return TextBlob(text).sentiment"
   ]
  },
  {
   "cell_type": "code",
   "execution_count": 43,
   "metadata": {},
   "outputs": [
    {
     "name": "stderr",
     "output_type": "stream",
     "text": [
      "/var/folders/zz/yldyqfkd2d70ympmb906zp000000gn/T/ipykernel_79312/420631083.py:1: SettingWithCopyWarning: \n",
      "A value is trying to be set on a copy of a slice from a DataFrame.\n",
      "Try using .loc[row_indexer,col_indexer] = value instead\n",
      "\n",
      "See the caveats in the documentation: https://pandas.pydata.org/pandas-docs/stable/user_guide/indexing.html#returning-a-view-versus-a-copy\n",
      "  dfCampgrounds['FacilityDescription_sentiment'] = dfCampgrounds['FacilityDescription'].apply(calculate_sentiment)\n"
     ]
    }
   ],
   "source": [
    "dfCampgrounds['FacilityDescription_sentiment'] = dfCampgrounds['FacilityDescription'].apply(calculate_sentiment)"
   ]
  },
  {
   "cell_type": "code",
   "execution_count": 44,
   "metadata": {},
   "outputs": [
    {
     "data": {
      "text/plain": [
       "17        (0.15694444444444444, 0.4083333333333334)\n",
       "20        (0.14703389830508476, 0.3983376792698826)\n",
       "21                      (0.23333333333333334, 0.45)\n",
       "22        (0.2691798941798942, 0.46335978835978836)\n",
       "28       (0.05119047619047619, 0.20952380952380953)\n",
       "                            ...                    \n",
       "13858     (0.14457282913165265, 0.5696778711484594)\n",
       "13859     (0.03910256410256408, 0.4741147741147741)\n",
       "13860      (0.16140873015873014, 0.607638888888889)\n",
       "13995    (-0.02666666666666665, 0.3805882352941176)\n",
       "13996      (0.09655172413793106, 0.478448275862069)\n",
       "Name: FacilityDescription_sentiment, Length: 4880, dtype: object"
      ]
     },
     "execution_count": 44,
     "metadata": {},
     "output_type": "execute_result"
    }
   ],
   "source": [
    "dfCampgrounds['FacilityDescription_sentiment']"
   ]
  },
  {
   "cell_type": "code",
   "execution_count": 34,
   "metadata": {
    "collapsed": false,
    "pycharm": {
     "name": "#%%\n"
    }
   },
   "outputs": [
    {
     "data": {
      "text/plain": [
       "(4880, 18757)"
      ]
     },
     "execution_count": 34,
     "metadata": {},
     "output_type": "execute_result"
    }
   ],
   "source": [
    "from sklearn.feature_extraction.text import TfidfVectorizer\n",
    "\n",
    "tfidf = TfidfVectorizer(stop_words='english')\n",
    "\n",
    "tfidf_matrix = tfidf.fit_transform(dfCampgrounds['FacilityDescription'])\n",
    "\n",
    "tfidf_matrix.shape"
   ]
  },
  {
   "cell_type": "code",
   "execution_count": 35,
   "metadata": {
    "collapsed": false,
    "pycharm": {
     "name": "#%%\n"
    }
   },
   "outputs": [],
   "source": [
    "from sklearn.metrics.pairwise import linear_kernel\n",
    "\n",
    "cosine_sim = linear_kernel(tfidf_matrix, tfidf_matrix)"
   ]
  },
  {
   "cell_type": "code",
   "execution_count": 36,
   "metadata": {
    "collapsed": false,
    "pycharm": {
     "name": "#%%\n"
    }
   },
   "outputs": [],
   "source": [
    "def content_recommender(name, cosine_sim=cosine_sim, df=dfCampgrounds):\n",
    "    indices = pd.Series(dfCampgrounds.index, df['FacilityName'])\n",
    "    idx = indices[name]\n",
    "\n",
    "    sim_scores = list(enumerate(cosine_sim[idx]))\n",
    "\n",
    "    sim_scores = sorted(sim_scores, key=lambda x: x[1], reverse=True)\n",
    "\n",
    "    sim_scores = sim_scores[1:11]\n",
    "\n",
    "    campground_indices = [i[0] for i in sim_scores]\n",
    "\n",
    "    return df['FacilityName'].iloc[campground_indices]"
   ]
  },
  {
   "cell_type": "code",
   "execution_count": 106,
   "metadata": {
    "collapsed": false,
    "pycharm": {
     "name": "#%%\n"
    }
   },
   "outputs": [
    {
     "data": {
      "text/plain": [
       "61                       McGee Bridge Park\n",
       "62             Rocky Point Recreation Area\n",
       "64      Yellowjacket Creek Recreation Area\n",
       "58                      Hardley Creek Park\n",
       "59                        Horace King Park\n",
       "1095                      Sunny Point Park\n",
       "63                       Veasey Creek Park\n",
       "1092                         Anderson Park\n",
       "1093                     Glass Bridge Park\n",
       "52                          Eagleview Park\n",
       "Name: FacilityName, dtype: object"
      ]
     },
     "execution_count": 106,
     "metadata": {},
     "output_type": "execute_result"
    }
   ],
   "source": [
    "content_recommender('Tail Race Campground')"
   ]
  },
  {
   "cell_type": "code",
   "execution_count": 37,
   "metadata": {
    "collapsed": false,
    "pycharm": {
     "name": "#%%\n"
    }
   },
   "outputs": [
    {
     "data": {
      "text/plain": [
       "(4880, 18757)"
      ]
     },
     "execution_count": 37,
     "metadata": {},
     "output_type": "execute_result"
    }
   ],
   "source": [
    "from sklearn.feature_extraction.text import CountVectorizer\n",
    "\n",
    "cv = CountVectorizer(stop_words='english')\n",
    "\n",
    "cv_matrix = cv.fit_transform(dfCampgrounds['FacilityDescription'])\n",
    "\n",
    "cv_matrix.shape"
   ]
  },
  {
   "cell_type": "code",
   "execution_count": 38,
   "metadata": {
    "collapsed": false,
    "pycharm": {
     "name": "#%%\n"
    }
   },
   "outputs": [],
   "source": [
    "cv_cosine_sim = linear_kernel(cv_matrix, cv_matrix)"
   ]
  },
  {
   "cell_type": "code",
   "execution_count": 39,
   "metadata": {
    "collapsed": false,
    "pycharm": {
     "name": "#%%\n"
    }
   },
   "outputs": [
    {
     "data": {
      "text/plain": [
       "301                    Shenoah Picnic Area\n",
       "282                Chokecherry Picnic Area\n",
       "308                     Dewitt Picnic Area\n",
       "2870                      RECREATION POINT\n",
       "294                 Magpie Campground (UT)\n",
       "276                 Beaver View Campground\n",
       "305               Upper Meadows Campground\n",
       "345              Wood Camp Campground (UT)\n",
       "280     China Meadows Trailhead Campground\n",
       "311               Lower Meadows Campground\n",
       "Name: FacilityName, dtype: object"
      ]
     },
     "execution_count": 39,
     "metadata": {},
     "output_type": "execute_result"
    }
   ],
   "source": [
    "content_recommender('Tail Race Campground', cosine_sim=cv_cosine_sim)"
   ]
  },
  {
   "cell_type": "code",
   "execution_count": null,
   "metadata": {
    "collapsed": false,
    "pycharm": {
     "name": "#%%\n"
    }
   },
   "outputs": [],
   "source": []
  }
 ],
 "metadata": {
  "kernelspec": {
   "display_name": "Python 3",
   "language": "python",
   "name": "python3"
  },
  "language_info": {
   "codemirror_mode": {
    "name": "ipython",
    "version": 3
   },
   "file_extension": ".py",
   "mimetype": "text/x-python",
   "name": "python",
   "nbconvert_exporter": "python",
   "pygments_lexer": "ipython3",
   "version": "3.8.3"
  }
 },
 "nbformat": 4,
 "nbformat_minor": 0
}
