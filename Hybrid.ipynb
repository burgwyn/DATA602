{
 "cells": [
  {
   "cell_type": "markdown",
   "metadata": {
    "pycharm": {
     "name": "#%% md\n"
    }
   },
   "source": [
    "# Hybrid\n",
    "\n"
   ]
  },
  {
   "cell_type": "code",
   "execution_count": 1,
   "metadata": {},
   "outputs": [],
   "source": [
    "from pyspark.sql import SparkSession\n",
    "\n",
    "MAX_MEMORY = \"8g\"\n",
    "\n",
    "spark = SparkSession.builder.appName('recreation.gov hybrid recommendations') \\\n",
    "    .config(\"spark.executor.memory\", MAX_MEMORY) \\\n",
    "    .config(\"spark.driver.memory\", MAX_MEMORY) \\\n",
    "    .getOrCreate()"
   ]
  },
  {
   "cell_type": "markdown",
   "metadata": {},
   "source": [
    "## Import Collaborative Filtering Model\n",
    "\n",
    "Load model via native PySpark approach"
   ]
  },
  {
   "cell_type": "code",
   "execution_count": 2,
   "metadata": {},
   "outputs": [],
   "source": [
    " from pyspark.ml.recommendation import ALS, ALSModel\n",
    "\n",
    "# load model\n",
    "als = ALSModel.load('./model/als.model')"
   ]
  },
  {
   "cell_type": "markdown",
   "metadata": {},
   "source": [
    "## Import Content Filtering Model"
   ]
  },
  {
   "cell_type": "code",
   "execution_count": 3,
   "metadata": {
    "collapsed": false,
    "jupyter": {
     "outputs_hidden": false
    },
    "pycharm": {
     "name": "#%%\n"
    }
   },
   "outputs": [
    {
     "data": {
      "text/plain": [
       "array([[1188.,  178.,  176., ...,   68.,  148.,  151.],\n",
       "       [ 178.,  531.,  371., ...,   80.,   50.,  117.],\n",
       "       [ 176.,  371.,  548., ...,   90.,   46.,  142.],\n",
       "       ...,\n",
       "       [  68.,   80.,   90., ...,  191.,   29.,   47.],\n",
       "       [ 148.,   50.,   46., ...,   29.,  140.,   40.],\n",
       "       [ 151.,  117.,  142., ...,   47.,   40.,  493.]])"
      ]
     },
     "execution_count": 3,
     "metadata": {},
     "output_type": "execute_result"
    }
   ],
   "source": [
    "import numpy as np\n",
    "\n",
    "# load cosine similarity scores from content filtering\n",
    "cosine_sim = np.loadtxt('./data/cs.csv', delimiter=',')\n",
    "cosine_sim"
   ]
  },
  {
   "cell_type": "code",
   "execution_count": 4,
   "metadata": {},
   "outputs": [
    {
     "data": {
      "text/plain": [
       "FacilityName\n",
       "Burro Creek Campground              0\n",
       "Cold Brook Campground               1\n",
       "Cottonwood Springs Campground       2\n",
       "Steel Creek Campground              3\n",
       "Chinamen's Campground               4\n",
       "                                 ... \n",
       "Cloverleaf Campground (WA)       3862\n",
       "Hawk Creek Campground            3863\n",
       "Jones Bay Campground             3864\n",
       "TEN MILE CAMPGROUND              3865\n",
       "Juniper Campground Group Site    3866\n",
       "Length: 3867, dtype: int64"
      ]
     },
     "execution_count": 4,
     "metadata": {},
     "output_type": "execute_result"
    }
   ],
   "source": [
    "import pandas as pd\n",
    "\n",
    "# load facility data \n",
    "dfCampgrounds = pd.read_csv('./data/REC_Content_Facility.csv')\n",
    "\n",
    "# build an index for facility name lookups\n",
    "indices = pd.Series(dfCampgrounds.index, dfCampgrounds['FacilityName'])\n",
    "indices"
   ]
  },
  {
   "cell_type": "code",
   "execution_count": 5,
   "metadata": {},
   "outputs": [],
   "source": [
    "from pyspark.sql.types import StructType, StructField, IntegerType\n",
    "\n",
    "# define schema\n",
    "schemaRating = StructType([\n",
    "    StructField(\"user\", IntegerType(), True),\n",
    "    StructField(\"item\", IntegerType(), True),\n",
    "    StructField(\"rating\", IntegerType(), True),\n",
    "])"
   ]
  },
  {
   "cell_type": "code",
   "execution_count": 6,
   "metadata": {},
   "outputs": [],
   "source": [
    "from pyspark.sql.functions import explode\n",
    "\n",
    "# function for hybrid recommendations\n",
    "# user - zip code as integer\n",
    "# name - facility name as string\n",
    "def hybrid_recommender(user, name):\n",
    "    # get on facility name\n",
    "    idx = indices[name]\n",
    "\n",
    "    # calculate similarity scores\n",
    "    sim_scores = list(enumerate(cosine_sim[idx]))\n",
    "\n",
    "    # sort scores\n",
    "    sim_scores = sorted(sim_scores, key=lambda x: x[1], reverse=True)\n",
    "\n",
    "    # take ten scores\n",
    "    # omitting the first entry because it is the same item \n",
    "    sim_scores = sim_scores[1:201]\n",
    "\n",
    "    # map scores to campgrounds\n",
    "    campground_indices = [i[0] for i in sim_scores]\n",
    "\n",
    "    # build a dataframe with results\n",
    "    # include faciltity info and similarity score\n",
    "    dfContent = dfCampgrounds[['FacilityID', 'FacilityName']].iloc[campground_indices]\n",
    "    dfContent = dfContent.astype({'FacilityID': int})\n",
    "    dfContent.rename(columns={'FacilityID': 'item', 'FacilityName': 'name'}, inplace=True)\n",
    "    \n",
    "    # cast to SPark dataframe\n",
    "    dfContent = spark.createDataFrame(dfContent)\n",
    "    \n",
    "    # create a dummy dataframe to input into model\n",
    "    # user - user zip code as passed into function\n",
    "    # 123456 - made up facility id (does not exist)\n",
    "    # rating - made up value of 5\n",
    "    data = [(user, 123456, 5)]\n",
    "    df = spark.createDataFrame(data=data,schema=schemaRating)\n",
    "    \n",
    "    # fetch top 20 suggestions for the user\n",
    "    recommendations = als.recommendForUserSubset(df, 200)\n",
    "    dfCollab = recommendations.select(explode('recommendations').alias('recs')).select('recs.item', 'recs.rating').sort('recs.rating', ascending=False)\n",
    "    \n",
    "    # join dataframes from the two approaches\n",
    "    dfHybrid = dfContent.join(dfCollab, on=['item'] , how = 'inner')\n",
    "\n",
    "    # return results\n",
    "    return dfHybrid"
   ]
  },
  {
   "cell_type": "code",
   "execution_count": 7,
   "metadata": {},
   "outputs": [
    {
     "name": "stderr",
     "output_type": "stream",
     "text": [
      "/usr/local/spark/python/pyspark/sql/context.py:125: FutureWarning: Deprecated in 3.0.0. Use SparkSession.builder.getOrCreate() instead.\n",
      "  warnings.warn(\n"
     ]
    },
    {
     "name": "stdout",
     "output_type": "stream",
     "text": [
      "+------+--------------------+----------+\n",
      "|  item|                name|    rating|\n",
      "+------+--------------------+----------+\n",
      "|232508|BLACKWOODS CAMPGR...| 1.4867854|\n",
      "|232459|Big Meadows Campg...| 1.4550209|\n",
      "|233563|     NORTH BEND PARK| 1.4480174|\n",
      "|232445| WATCHMAN CAMPGROUND| 1.2318366|\n",
      "|234674|  SEAWALL CAMPGROUND| 1.2278949|\n",
      "|233379|OAK RIDGE CAMPGROUND| 1.2272805|\n",
      "|232433|Loft Mountain Cam...|  1.188844|\n",
      "|233610|RUDDS CREEK REC. AR.| 1.1886418|\n",
      "|247661|Gros Ventre Campg...| 1.0981816|\n",
      "|258830|Colter Bay Campgr...| 1.0461879|\n",
      "|251833|Schoodic Woods Ca...| 1.0230056|\n",
      "|232432|MATHEWS ARM CAMPG...| 1.0141722|\n",
      "|233545|       LONGWOOD PARK| 0.9982892|\n",
      "|232487|  ELKMONT CAMPGROUND| 0.9689453|\n",
      "|247762|OWENS CREEK CAMPG...| 0.9486409|\n",
      "|272266|SOUTH CAMPGROUND ...|0.94061893|\n",
      "|258887| Dunewood Campground| 0.9399563|\n",
      "|232486|SMOKEMONT CAMPGROUND|0.90700966|\n",
      "|232488|CADES COVE CAMPGR...| 0.8973129|\n",
      "|232479|    COSBY CAMPGROUND| 0.8957743|\n",
      "+------+--------------------+----------+\n",
      "only showing top 20 rows\n",
      "\n"
     ]
    }
   ],
   "source": [
    "# generate recommendations for Silver Spring, MD\n",
    "hybrid_recommender(20901, 'ASSATEAGUE ISLAND NATIONAL SEASHORE CAMPGROUND').show()"
   ]
  },
  {
   "cell_type": "code",
   "execution_count": 8,
   "metadata": {},
   "outputs": [
    {
     "name": "stderr",
     "output_type": "stream",
     "text": [
      "/usr/local/spark/python/pyspark/sql/context.py:125: FutureWarning: Deprecated in 3.0.0. Use SparkSession.builder.getOrCreate() instead.\n",
      "  warnings.warn(\n"
     ]
    },
    {
     "name": "stdout",
     "output_type": "stream",
     "text": [
      "+------+--------------------+----------+\n",
      "|  item|                name|    rating|\n",
      "+------+--------------------+----------+\n",
      "|232459|Big Meadows Campg...| 0.8889697|\n",
      "|233563|     NORTH BEND PARK| 0.8884244|\n",
      "|232508|BLACKWOODS CAMPGR...|0.87956417|\n",
      "|233610|RUDDS CREEK REC. AR.| 0.7297037|\n",
      "|233379|OAK RIDGE CAMPGROUND| 0.7281464|\n",
      "|234674|  SEAWALL CAMPGROUND|0.71626663|\n",
      "|232445| WATCHMAN CAMPGROUND|0.71578556|\n",
      "|232433|Loft Mountain Cam...|  0.706338|\n",
      "|247661|Gros Ventre Campg...|0.62384105|\n",
      "|232487|  ELKMONT CAMPGROUND| 0.6209286|\n",
      "|233545|       LONGWOOD PARK| 0.6092055|\n",
      "|251833|Schoodic Woods Ca...| 0.6070009|\n",
      "|232432|MATHEWS ARM CAMPG...| 0.5981165|\n",
      "|258830|Colter Bay Campgr...| 0.5939697|\n",
      "|232488|CADES COVE CAMPGR...|0.58337194|\n",
      "|247762|OWENS CREEK CAMPG...|0.56165624|\n",
      "|232486|SMOKEMONT CAMPGROUND| 0.5601537|\n",
      "|232479|    COSBY CAMPGROUND| 0.5462062|\n",
      "|272266|SOUTH CAMPGROUND ...| 0.5264804|\n",
      "|258887| Dunewood Campground| 0.5158505|\n",
      "+------+--------------------+----------+\n",
      "only showing top 20 rows\n",
      "\n"
     ]
    }
   ],
   "source": [
    "# generate recommendations for user in Warrenton, VA - very close to Shenandoah National Park\n",
    "hybrid_recommender(20186, 'ASSATEAGUE ISLAND NATIONAL SEASHORE CAMPGROUND').show()"
   ]
  },
  {
   "cell_type": "code",
   "execution_count": 9,
   "metadata": {},
   "outputs": [
    {
     "name": "stderr",
     "output_type": "stream",
     "text": [
      "/usr/local/spark/python/pyspark/sql/context.py:125: FutureWarning: Deprecated in 3.0.0. Use SparkSession.builder.getOrCreate() instead.\n",
      "  warnings.warn(\n"
     ]
    },
    {
     "name": "stdout",
     "output_type": "stream",
     "text": [
      "+------+--------------------+---------+\n",
      "|  item|                name|   rating|\n",
      "+------+--------------------+---------+\n",
      "|247661|Gros Ventre Campg...|1.7680298|\n",
      "|232445| WATCHMAN CAMPGROUND|1.7635858|\n",
      "|258830|Colter Bay Campgr...| 1.719458|\n",
      "|272266|SOUTH CAMPGROUND ...|1.4971321|\n",
      "|232508|BLACKWOODS CAMPGR...|1.4841872|\n",
      "|232458|PLATTE RIVER CAMP...| 1.475952|\n",
      "|258887| Dunewood Campground| 1.457395|\n",
      "|232487|  ELKMONT CAMPGROUND| 1.435745|\n",
      "|232493|FISH CREEK CAMPGR...|1.3996298|\n",
      "|232488|CADES COVE CAMPGR...|1.3563443|\n",
      "|234079|  SUNSET CAMPGROUND |1.3366435|\n",
      "|232463|MORAINE PARK CAMP...|1.3212997|\n",
      "|247571|Mammoth Campgroun...|1.2304827|\n",
      "|232486|SMOKEMONT CAMPGROUND|1.2238264|\n",
      "|234059|DEVILS GARDEN CAM...|1.2056688|\n",
      "|259242| D.H. Day Campground|1.1962025|\n",
      "|232479|    COSBY CAMPGROUND| 1.193162|\n",
      "|251869|MANY GLACIER CAMP...|1.1907613|\n",
      "|247663|Signal Mountain C...|1.1892022|\n",
      "|232447|         UPPER PINES|1.1854603|\n",
      "+------+--------------------+---------+\n",
      "only showing top 20 rows\n",
      "\n"
     ]
    }
   ],
   "source": [
    "# generate recommendations for Chicago, IL\n",
    "hybrid_recommender(60657, 'ASSATEAGUE ISLAND NATIONAL SEASHORE CAMPGROUND').show()"
   ]
  }
 ],
 "metadata": {
  "interpreter": {
   "hash": "a9e49237f3225e56c5bc43658cdc0a90dbebc23b3eaeee781a0f05ef40bc4a00"
  },
  "kernelspec": {
   "display_name": "Python 3 (ipykernel)",
   "language": "python",
   "name": "python3"
  },
  "language_info": {
   "codemirror_mode": {
    "name": "ipython",
    "version": 3
   },
   "file_extension": ".py",
   "mimetype": "text/x-python",
   "name": "python",
   "nbconvert_exporter": "python",
   "pygments_lexer": "ipython3",
   "version": "3.9.10"
  }
 },
 "nbformat": 4,
 "nbformat_minor": 4
}
