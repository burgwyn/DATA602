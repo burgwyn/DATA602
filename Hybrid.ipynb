{
 "cells": [
  {
   "cell_type": "markdown",
   "metadata": {
    "pycharm": {
     "name": "#%% md\n"
    }
   },
   "source": [
    "# Hybrid\n",
    "\n"
   ]
  },
  {
   "cell_type": "code",
   "execution_count": 1,
   "metadata": {},
   "outputs": [],
   "source": [
    "from pyspark.sql import SparkSession\n",
    "\n",
    "MAX_MEMORY = \"8g\"\n",
    "\n",
    "spark = SparkSession.builder.appName('recreation.gov hybrid recommendations') \\\n",
    "    .config(\"spark.executor.memory\", MAX_MEMORY) \\\n",
    "    .config(\"spark.driver.memory\", MAX_MEMORY) \\\n",
    "    .getOrCreate()"
   ]
  },
  {
   "cell_type": "markdown",
   "metadata": {},
   "source": [
    "## Import Collaborative Filtering Model\n",
    "\n",
    "Load model via native PySpark approach"
   ]
  },
  {
   "cell_type": "code",
   "execution_count": 2,
   "metadata": {},
   "outputs": [],
   "source": [
    " from pyspark.ml.recommendation import ALS, ALSModel\n",
    "\n",
    "# load model\n",
    "als = ALSModel.load('./model/als.model')"
   ]
  },
  {
   "cell_type": "markdown",
   "metadata": {},
   "source": [
    "## Import Content Filtering Model"
   ]
  },
  {
   "cell_type": "code",
   "execution_count": 3,
   "metadata": {
    "collapsed": false,
    "jupyter": {
     "outputs_hidden": false
    },
    "pycharm": {
     "name": "#%%\n"
    }
   },
   "outputs": [
    {
     "data": {
      "text/plain": [
       "array([[1188.,  178.,  176., ...,   68.,  148.,  151.],\n",
       "       [ 178.,  531.,  371., ...,   80.,   50.,  117.],\n",
       "       [ 176.,  371.,  548., ...,   90.,   46.,  142.],\n",
       "       ...,\n",
       "       [  68.,   80.,   90., ...,  191.,   29.,   47.],\n",
       "       [ 148.,   50.,   46., ...,   29.,  140.,   40.],\n",
       "       [ 151.,  117.,  142., ...,   47.,   40.,  493.]])"
      ]
     },
     "execution_count": 3,
     "metadata": {},
     "output_type": "execute_result"
    }
   ],
   "source": [
    "import numpy as np\n",
    "\n",
    "# load cosine similarity scores from content filtering\n",
    "cosine_sim = np.loadtxt('./data/cs.csv', delimiter=',')\n",
    "cosine_sim"
   ]
  },
  {
   "cell_type": "code",
   "execution_count": 4,
   "metadata": {},
   "outputs": [
    {
     "data": {
      "text/plain": [
       "FacilityName\n",
       "Burro Creek Campground              0\n",
       "Cold Brook Campground               1\n",
       "Cottonwood Springs Campground       2\n",
       "Steel Creek Campground              3\n",
       "Chinamen's Campground               4\n",
       "                                 ... \n",
       "Cloverleaf Campground (WA)       3862\n",
       "Hawk Creek Campground            3863\n",
       "Jones Bay Campground             3864\n",
       "TEN MILE CAMPGROUND              3865\n",
       "Juniper Campground Group Site    3866\n",
       "Length: 3867, dtype: int64"
      ]
     },
     "execution_count": 4,
     "metadata": {},
     "output_type": "execute_result"
    }
   ],
   "source": [
    "import pandas as pd\n",
    "\n",
    "# load facility data \n",
    "dfCampgrounds = pd.read_csv('./data/REC_Content_Facility.csv')\n",
    "\n",
    "# build an index for facility name lookups\n",
    "indices = pd.Series(dfCampgrounds.index, dfCampgrounds['FacilityName'])\n",
    "indices"
   ]
  },
  {
   "cell_type": "code",
   "execution_count": 5,
   "metadata": {},
   "outputs": [],
   "source": [
    "from pyspark.sql.types import StructType, StructField, IntegerType\n",
    "\n",
    "# define schema\n",
    "schemaRating = StructType([\n",
    "    StructField(\"user\", IntegerType(), True),\n",
    "    StructField(\"item\", IntegerType(), True),\n",
    "    StructField(\"rating\", IntegerType(), True),\n",
    "])"
   ]
  },
  {
   "cell_type": "code",
   "execution_count": 6,
   "metadata": {},
   "outputs": [],
   "source": [
    "from pyspark.sql.functions import explode\n",
    "\n",
    "# function for hybrid recommendations\n",
    "# user - zip code as integer\n",
    "# name - facility name as string\n",
    "def hybrid_recommender(user, name):\n",
    "    # get on facility name\n",
    "    idx = indices[name]\n",
    "\n",
    "    # calculate similarity scores\n",
    "    sim_scores = list(enumerate(cosine_sim[idx]))\n",
    "\n",
    "    # sort scores\n",
    "    sim_scores = sorted(sim_scores, key=lambda x: x[1], reverse=True)\n",
    "\n",
    "    # take ten scores\n",
    "    # omitting the first entry because it is the same item \n",
    "    sim_scores = sim_scores[1:201]\n",
    "\n",
    "    # map scores to campgrounds\n",
    "    campground_indices = [i[0] for i in sim_scores]\n",
    "\n",
    "    # build a dataframe with results\n",
    "    # include faciltity info and similarity score\n",
    "    dfContent = dfCampgrounds[['FacilityID', 'FacilityName']].iloc[campground_indices]\n",
    "    dfContent = dfContent.astype({'FacilityID': int})\n",
    "    dfContent.rename(columns={'FacilityID': 'item', 'FacilityName': 'name'}, inplace=True)\n",
    "    \n",
    "    # cast to SPark dataframe\n",
    "    dfContent = spark.createDataFrame(dfContent)\n",
    "    \n",
    "    # create a dummy dataframe to input into model\n",
    "    # user - user zip code as passed into function\n",
    "    # 123456 - made up facility id (does not exist)\n",
    "    # rating - made up value of 5\n",
    "    data = [(user, 123456, 5)]\n",
    "    df = spark.createDataFrame(data=data,schema=schemaRating)\n",
    "    \n",
    "    # fetch top 20 suggestions for the user\n",
    "    recommendations = als.recommendForUserSubset(df, 200)\n",
    "    dfCollab = recommendations.select(explode('recommendations').alias('recs')).select('recs.item', 'recs.rating').sort('recs.rating', ascending=False)\n",
    "    \n",
    "    # join dataframes from the two approaches\n",
    "    dfHybrid = dfContent.join(dfCollab, on=['item'] , how = 'inner')\n",
    "\n",
    "    # return results\n",
    "    return dfHybrid"
   ]
  },
  {
   "cell_type": "code",
   "execution_count": 7,
   "metadata": {},
   "outputs": [
    {
     "name": "stderr",
     "output_type": "stream",
     "text": [
      "/usr/local/spark/python/pyspark/sql/context.py:125: FutureWarning: Deprecated in 3.0.0. Use SparkSession.builder.getOrCreate() instead.\n",
      "  warnings.warn(\n"
     ]
    },
    {
     "name": "stdout",
     "output_type": "stream",
     "text": [
      "+------+--------------------+----------+\n",
      "|  item|                name|    rating|\n",
      "+------+--------------------+----------+\n",
      "|232508|BLACKWOODS CAMPGR...| 1.4581807|\n",
      "|232459|Big Meadows Campg...| 1.4481729|\n",
      "|233563|     NORTH BEND PARK| 1.4352831|\n",
      "|233379|OAK RIDGE CAMPGROUND| 1.2120297|\n",
      "|234674|  SEAWALL CAMPGROUND| 1.1969109|\n",
      "|232433|Loft Mountain Cam...| 1.1777505|\n",
      "|232445| WATCHMAN CAMPGROUND| 1.1603916|\n",
      "|233610|RUDDS CREEK REC. AR.| 1.1539274|\n",
      "|247661|Gros Ventre Campg...| 1.0957811|\n",
      "|258830|Colter Bay Campgr...| 1.0390134|\n",
      "|232487|  ELKMONT CAMPGROUND| 1.0150874|\n",
      "|251833|Schoodic Woods Ca...|   1.00803|\n",
      "|232432|MATHEWS ARM CAMPG...| 0.9984433|\n",
      "|232488|CADES COVE CAMPGR...|  0.964038|\n",
      "|233545|       LONGWOOD PARK| 0.9571022|\n",
      "|247762|OWENS CREEK CAMPG...| 0.9553257|\n",
      "|258887| Dunewood Campground|0.94385546|\n",
      "|232479|    COSBY CAMPGROUND| 0.9309759|\n",
      "|232486|SMOKEMONT CAMPGROUND| 0.9238846|\n",
      "|232458|PLATTE RIVER CAMP...|0.90346843|\n",
      "+------+--------------------+----------+\n",
      "only showing top 20 rows\n",
      "\n"
     ]
    }
   ],
   "source": [
    "# generate recommendations for Silver Spring, MD\n",
    "hybrid_recommender(20901, 'ASSATEAGUE ISLAND NATIONAL SEASHORE CAMPGROUND').show()"
   ]
  },
  {
   "cell_type": "code",
   "execution_count": 8,
   "metadata": {},
   "outputs": [
    {
     "name": "stderr",
     "output_type": "stream",
     "text": [
      "/usr/local/spark/python/pyspark/sql/context.py:125: FutureWarning: Deprecated in 3.0.0. Use SparkSession.builder.getOrCreate() instead.\n",
      "  warnings.warn(\n"
     ]
    },
    {
     "name": "stdout",
     "output_type": "stream",
     "text": [
      "+------+--------------------+----------+\n",
      "|  item|                name|    rating|\n",
      "+------+--------------------+----------+\n",
      "|232459|Big Meadows Campg...|0.88768506|\n",
      "|232508|BLACKWOODS CAMPGR...|0.87505835|\n",
      "|233563|     NORTH BEND PARK| 0.8624001|\n",
      "|234674|  SEAWALL CAMPGROUND|0.70938677|\n",
      "|233379|OAK RIDGE CAMPGROUND| 0.7081781|\n",
      "|232433|Loft Mountain Cam...| 0.7032229|\n",
      "|233610|RUDDS CREEK REC. AR.|0.68378454|\n",
      "|232445| WATCHMAN CAMPGROUND|0.66759324|\n",
      "|232487|  ELKMONT CAMPGROUND| 0.6295696|\n",
      "|247661|Gros Ventre Campg...| 0.6230592|\n",
      "|251833|Schoodic Woods Ca...|0.60925657|\n",
      "|232488|CADES COVE CAMPGR...| 0.6082825|\n",
      "|232432|MATHEWS ARM CAMPG...| 0.5890002|\n",
      "|232486|SMOKEMONT CAMPGROUND| 0.5859728|\n",
      "|258830|Colter Bay Campgr...| 0.5847155|\n",
      "|232479|    COSBY CAMPGROUND|0.56823766|\n",
      "|233545|       LONGWOOD PARK|  0.567935|\n",
      "|247762|OWENS CREEK CAMPG...|  0.563095|\n",
      "|272266|SOUTH CAMPGROUND ...| 0.5056641|\n",
      "|232127|          WILLOW BAY|0.50564224|\n",
      "+------+--------------------+----------+\n",
      "only showing top 20 rows\n",
      "\n"
     ]
    }
   ],
   "source": [
    "# generate recommendations for user in Warrenton, VA - very close to Shenandoah National Park\n",
    "hybrid_recommender(20186, 'ASSATEAGUE ISLAND NATIONAL SEASHORE CAMPGROUND').show()"
   ]
  },
  {
   "cell_type": "code",
   "execution_count": 9,
   "metadata": {},
   "outputs": [
    {
     "name": "stderr",
     "output_type": "stream",
     "text": [
      "/usr/local/spark/python/pyspark/sql/context.py:125: FutureWarning: Deprecated in 3.0.0. Use SparkSession.builder.getOrCreate() instead.\n",
      "  warnings.warn(\n"
     ]
    },
    {
     "name": "stdout",
     "output_type": "stream",
     "text": [
      "+------+--------------------+---------+\n",
      "|  item|                name|   rating|\n",
      "+------+--------------------+---------+\n",
      "|232445| WATCHMAN CAMPGROUND|1.8326873|\n",
      "|247661|Gros Ventre Campg...|1.8194071|\n",
      "|258830|Colter Bay Campgr...|1.7723007|\n",
      "|272266|SOUTH CAMPGROUND ...| 1.533896|\n",
      "|232508|BLACKWOODS CAMPGR...|1.5266832|\n",
      "|232458|PLATTE RIVER CAMP...|1.4978869|\n",
      "|258887| Dunewood Campground|1.4566641|\n",
      "|232487|  ELKMONT CAMPGROUND|1.4382622|\n",
      "|232493|FISH CREEK CAMPGR...| 1.413854|\n",
      "|234079|  SUNSET CAMPGROUND |1.3799112|\n",
      "|232488|CADES COVE CAMPGR...| 1.357354|\n",
      "|232463|MORAINE PARK CAMP...|1.3050985|\n",
      "|232459|Big Meadows Campg...|1.2228596|\n",
      "|234674|  SEAWALL CAMPGROUND|1.2146326|\n",
      "|247571|Mammoth Campgroun...|1.2100481|\n",
      "|259242| D.H. Day Campground|1.1995796|\n",
      "|232486|SMOKEMONT CAMPGROUND|1.1978376|\n",
      "|234059|DEVILS GARDEN CAM...|1.1910813|\n",
      "|232447|         UPPER PINES|1.1697999|\n",
      "|232479|    COSBY CAMPGROUND| 1.165125|\n",
      "+------+--------------------+---------+\n",
      "only showing top 20 rows\n",
      "\n"
     ]
    }
   ],
   "source": [
    "# generate recommendations for Chicago, IL\n",
    "hybrid_recommender(60657, 'ASSATEAGUE ISLAND NATIONAL SEASHORE CAMPGROUND').show()"
   ]
  },
  {
   "cell_type": "code",
   "execution_count": 10,
   "metadata": {},
   "outputs": [
    {
     "name": "stderr",
     "output_type": "stream",
     "text": [
      "/usr/local/spark/python/pyspark/sql/context.py:125: FutureWarning: Deprecated in 3.0.0. Use SparkSession.builder.getOrCreate() instead.\n",
      "  warnings.warn(\n"
     ]
    },
    {
     "name": "stdout",
     "output_type": "stream",
     "text": [
      "+------+--------------------+----------+\n",
      "|  item|                name|    rating|\n",
      "+------+--------------------+----------+\n",
      "|232445| WATCHMAN CAMPGROUND|0.93320566|\n",
      "|232447|         UPPER PINES|0.87823737|\n",
      "|272266|SOUTH CAMPGROUND ...| 0.8379693|\n",
      "|247661|Gros Ventre Campg...|0.82207036|\n",
      "|258830|Colter Bay Campgr...| 0.8002135|\n",
      "|232473|BLACK ROCK CAMPGR...| 0.7849175|\n",
      "|234079|  SUNSET CAMPGROUND | 0.7665216|\n",
      "|232496|Furnace Creek Cam...| 0.7600115|\n",
      "|232450|         LOWER PINES| 0.7051035|\n",
      "|232446|              WAWONA|0.69105035|\n",
      "|232449|         NORTH PINES|0.66969043|\n",
      "|232493|FISH CREEK CAMPGR...|0.65730965|\n",
      "|234059|DEVILS GARDEN CAM...|0.62517375|\n",
      "|232498| SANTA CRUZ SCORPION| 0.6163664|\n",
      "|233359|Point Reyes Natio...|0.60489327|\n",
      "|232508|BLACKWOODS CAMPGR...|0.59975374|\n",
      "|247571|Mammoth Campgroun...| 0.5708881|\n",
      "|232453|    Bridalveil Creek|0.55841666|\n",
      "|232463|MORAINE PARK CAMP...| 0.5392513|\n",
      "|258825|Desert View Campg...|0.53544027|\n",
      "+------+--------------------+----------+\n",
      "only showing top 20 rows\n",
      "\n"
     ]
    }
   ],
   "source": [
    "# generate recommendations for Beverly Hills, CA\n",
    "hybrid_recommender(90210, 'ASSATEAGUE ISLAND NATIONAL SEASHORE CAMPGROUND').show()"
   ]
  }
 ],
 "metadata": {
  "interpreter": {
   "hash": "a9e49237f3225e56c5bc43658cdc0a90dbebc23b3eaeee781a0f05ef40bc4a00"
  },
  "kernelspec": {
   "display_name": "Python 3 (ipykernel)",
   "language": "python",
   "name": "python3"
  },
  "language_info": {
   "codemirror_mode": {
    "name": "ipython",
    "version": 3
   },
   "file_extension": ".py",
   "mimetype": "text/x-python",
   "name": "python",
   "nbconvert_exporter": "python",
   "pygments_lexer": "ipython3",
   "version": "3.9.10"
  }
 },
 "nbformat": 4,
 "nbformat_minor": 4
}
