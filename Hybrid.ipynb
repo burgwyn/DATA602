{
 "cells": [
  {
   "cell_type": "markdown",
   "metadata": {
    "collapsed": false,
    "pycharm": {
     "name": "#%% md\n"
    }
   },
   "source": [
    "# Hybrid\n",
    "\n"
   ]
  },
  {
   "cell_type": "code",
   "execution_count": 4,
   "metadata": {
    "collapsed": false,
    "pycharm": {
     "name": "#%%\n"
    }
   },
   "outputs": [
    {
     "name": "stdout",
     "output_type": "stream",
     "text": [
      "Note: you may need to restart the kernel to use updated packages.\n"
     ]
    },
    {
     "name": "stderr",
     "output_type": "stream",
     "text": [
      "The filename, directory name, or volume label syntax is incorrect.\n"
     ]
    }
   ],
   "source": [
    "%pip install scikit-surprise"
   ]
  },
  {
   "cell_type": "markdown",
   "metadata": {},
   "source": [
    "## Import Model\n",
    "\n",
    "Load model with pickle"
   ]
  },
  {
   "cell_type": "code",
   "execution_count": 2,
   "metadata": {},
   "outputs": [],
   "source": [
    "import pickle\n",
    "\n",
    "svd = pickle.load(open('./model/svd.pkl', 'rb'))"
   ]
  },
  {
   "cell_type": "code",
   "execution_count": 3,
   "metadata": {},
   "outputs": [
    {
     "data": {
      "text/plain": [
       "2.2744071056785615"
      ]
     },
     "execution_count": 3,
     "metadata": {},
     "output_type": "execute_result"
    }
   ],
   "source": [
    "# create a test user and item\n",
    "uid = str(20901)\n",
    "iid = str(232507)\n",
    "\n",
    "# get prediction\n",
    "prediction = svd.predict(uid, iid)\n",
    "prediction.est"
   ]
  },
  {
   "cell_type": "code",
   "execution_count": 12,
   "metadata": {
    "collapsed": false,
    "pycharm": {
     "name": "#%%\n"
    }
   },
   "outputs": [],
   "source": [
    "import numpy as np\n",
    "import pandas as pd\n",
    "\n",
    "cosine_sim = np.loadtxt('./cs.csv', delimiter=',')\n",
    "dfCS = pd.read_csv('./cs_cv.csv', header=None)"
   ]
  },
  {
   "cell_type": "code",
   "execution_count": 14,
   "metadata": {},
   "outputs": [
    {
     "data": {
      "text/plain": [
       "array([[1188.,  178.,  176., ...,   68.,  148.,  151.],\n",
       "       [ 178.,  531.,  371., ...,   80.,   50.,  117.],\n",
       "       [ 176.,  371.,  548., ...,   90.,   46.,  142.],\n",
       "       ...,\n",
       "       [  68.,   80.,   90., ...,  191.,   29.,   47.],\n",
       "       [ 148.,   50.,   46., ...,   29.,  140.,   40.],\n",
       "       [ 151.,  117.,  142., ...,   47.,   40.,  493.]])"
      ]
     },
     "execution_count": 14,
     "metadata": {},
     "output_type": "execute_result"
    }
   ],
   "source": [
    "cosine_sim"
   ]
  },
  {
   "cell_type": "code",
   "execution_count": 10,
   "metadata": {},
   "outputs": [
    {
     "data": {
      "text/html": [
       "<div>\n",
       "<style scoped>\n",
       "    .dataframe tbody tr th:only-of-type {\n",
       "        vertical-align: middle;\n",
       "    }\n",
       "\n",
       "    .dataframe tbody tr th {\n",
       "        vertical-align: top;\n",
       "    }\n",
       "\n",
       "    .dataframe thead th {\n",
       "        text-align: right;\n",
       "    }\n",
       "</style>\n",
       "<table border=\"1\" class=\"dataframe\">\n",
       "  <thead>\n",
       "    <tr style=\"text-align: right;\">\n",
       "      <th></th>\n",
       "      <th>0</th>\n",
       "      <th>1</th>\n",
       "      <th>2</th>\n",
       "      <th>3</th>\n",
       "      <th>4</th>\n",
       "      <th>5</th>\n",
       "      <th>6</th>\n",
       "      <th>7</th>\n",
       "      <th>8</th>\n",
       "      <th>9</th>\n",
       "      <th>...</th>\n",
       "      <th>3857</th>\n",
       "      <th>3858</th>\n",
       "      <th>3859</th>\n",
       "      <th>3860</th>\n",
       "      <th>3861</th>\n",
       "      <th>3862</th>\n",
       "      <th>3863</th>\n",
       "      <th>3864</th>\n",
       "      <th>3865</th>\n",
       "      <th>3866</th>\n",
       "    </tr>\n",
       "  </thead>\n",
       "  <tbody>\n",
       "    <tr>\n",
       "      <th>0</th>\n",
       "      <td>0.0</td>\n",
       "      <td>1.0</td>\n",
       "      <td>2.0</td>\n",
       "      <td>3.0</td>\n",
       "      <td>4.0</td>\n",
       "      <td>5.0</td>\n",
       "      <td>6.0</td>\n",
       "      <td>7.0</td>\n",
       "      <td>8.0</td>\n",
       "      <td>9.0</td>\n",
       "      <td>...</td>\n",
       "      <td>3857.0</td>\n",
       "      <td>3858.0</td>\n",
       "      <td>3859.0</td>\n",
       "      <td>3860.0</td>\n",
       "      <td>3861.0</td>\n",
       "      <td>3862.0</td>\n",
       "      <td>3863.0</td>\n",
       "      <td>3864.0</td>\n",
       "      <td>3865.0</td>\n",
       "      <td>3866.0</td>\n",
       "    </tr>\n",
       "    <tr>\n",
       "      <th>1</th>\n",
       "      <td>1188.0</td>\n",
       "      <td>178.0</td>\n",
       "      <td>176.0</td>\n",
       "      <td>189.0</td>\n",
       "      <td>141.0</td>\n",
       "      <td>184.0</td>\n",
       "      <td>20.0</td>\n",
       "      <td>237.0</td>\n",
       "      <td>90.0</td>\n",
       "      <td>39.0</td>\n",
       "      <td>...</td>\n",
       "      <td>168.0</td>\n",
       "      <td>79.0</td>\n",
       "      <td>175.0</td>\n",
       "      <td>137.0</td>\n",
       "      <td>130.0</td>\n",
       "      <td>122.0</td>\n",
       "      <td>197.0</td>\n",
       "      <td>68.0</td>\n",
       "      <td>148.0</td>\n",
       "      <td>151.0</td>\n",
       "    </tr>\n",
       "    <tr>\n",
       "      <th>2</th>\n",
       "      <td>178.0</td>\n",
       "      <td>531.0</td>\n",
       "      <td>371.0</td>\n",
       "      <td>52.0</td>\n",
       "      <td>88.0</td>\n",
       "      <td>94.0</td>\n",
       "      <td>30.0</td>\n",
       "      <td>127.0</td>\n",
       "      <td>69.0</td>\n",
       "      <td>29.0</td>\n",
       "      <td>...</td>\n",
       "      <td>107.0</td>\n",
       "      <td>72.0</td>\n",
       "      <td>121.0</td>\n",
       "      <td>117.0</td>\n",
       "      <td>89.0</td>\n",
       "      <td>78.0</td>\n",
       "      <td>76.0</td>\n",
       "      <td>80.0</td>\n",
       "      <td>50.0</td>\n",
       "      <td>117.0</td>\n",
       "    </tr>\n",
       "    <tr>\n",
       "      <th>3</th>\n",
       "      <td>176.0</td>\n",
       "      <td>371.0</td>\n",
       "      <td>548.0</td>\n",
       "      <td>65.0</td>\n",
       "      <td>95.0</td>\n",
       "      <td>128.0</td>\n",
       "      <td>38.0</td>\n",
       "      <td>134.0</td>\n",
       "      <td>69.0</td>\n",
       "      <td>17.0</td>\n",
       "      <td>...</td>\n",
       "      <td>119.0</td>\n",
       "      <td>78.0</td>\n",
       "      <td>118.0</td>\n",
       "      <td>110.0</td>\n",
       "      <td>99.0</td>\n",
       "      <td>100.0</td>\n",
       "      <td>90.0</td>\n",
       "      <td>90.0</td>\n",
       "      <td>46.0</td>\n",
       "      <td>142.0</td>\n",
       "    </tr>\n",
       "    <tr>\n",
       "      <th>4</th>\n",
       "      <td>189.0</td>\n",
       "      <td>52.0</td>\n",
       "      <td>65.0</td>\n",
       "      <td>338.0</td>\n",
       "      <td>54.0</td>\n",
       "      <td>78.0</td>\n",
       "      <td>17.0</td>\n",
       "      <td>122.0</td>\n",
       "      <td>63.0</td>\n",
       "      <td>8.0</td>\n",
       "      <td>...</td>\n",
       "      <td>58.0</td>\n",
       "      <td>33.0</td>\n",
       "      <td>135.0</td>\n",
       "      <td>88.0</td>\n",
       "      <td>47.0</td>\n",
       "      <td>49.0</td>\n",
       "      <td>79.0</td>\n",
       "      <td>26.0</td>\n",
       "      <td>45.0</td>\n",
       "      <td>125.0</td>\n",
       "    </tr>\n",
       "  </tbody>\n",
       "</table>\n",
       "<p>5 rows × 3867 columns</p>\n",
       "</div>"
      ],
      "text/plain": [
       "     0      1      2      3      4      5     6      7     8     9     ...  \\\n",
       "0     0.0    1.0    2.0    3.0    4.0    5.0   6.0    7.0   8.0   9.0  ...   \n",
       "1  1188.0  178.0  176.0  189.0  141.0  184.0  20.0  237.0  90.0  39.0  ...   \n",
       "2   178.0  531.0  371.0   52.0   88.0   94.0  30.0  127.0  69.0  29.0  ...   \n",
       "3   176.0  371.0  548.0   65.0   95.0  128.0  38.0  134.0  69.0  17.0  ...   \n",
       "4   189.0   52.0   65.0  338.0   54.0   78.0  17.0  122.0  63.0   8.0  ...   \n",
       "\n",
       "     3857    3858    3859    3860    3861    3862    3863    3864    3865  \\\n",
       "0  3857.0  3858.0  3859.0  3860.0  3861.0  3862.0  3863.0  3864.0  3865.0   \n",
       "1   168.0    79.0   175.0   137.0   130.0   122.0   197.0    68.0   148.0   \n",
       "2   107.0    72.0   121.0   117.0    89.0    78.0    76.0    80.0    50.0   \n",
       "3   119.0    78.0   118.0   110.0    99.0   100.0    90.0    90.0    46.0   \n",
       "4    58.0    33.0   135.0    88.0    47.0    49.0    79.0    26.0    45.0   \n",
       "\n",
       "     3866  \n",
       "0  3866.0  \n",
       "1   151.0  \n",
       "2   117.0  \n",
       "3   142.0  \n",
       "4   125.0  \n",
       "\n",
       "[5 rows x 3867 columns]"
      ]
     },
     "execution_count": 10,
     "metadata": {},
     "output_type": "execute_result"
    }
   ],
   "source": [
    "dfCS.head()"
   ]
  },
  {
   "cell_type": "code",
   "execution_count": 16,
   "metadata": {},
   "outputs": [],
   "source": [
    "dfCampgrounds = pd.read_csv('./REC_Content_Facility.csv')"
   ]
  },
  {
   "cell_type": "code",
   "execution_count": 17,
   "metadata": {},
   "outputs": [],
   "source": [
    "indices = pd.Series(dfCampgrounds.index, dfCampgrounds['FacilityName'])"
   ]
  },
  {
   "cell_type": "code",
   "execution_count": 18,
   "metadata": {},
   "outputs": [
    {
     "data": {
      "text/plain": [
       "FacilityName\n",
       "Burro Creek Campground              0\n",
       "Cold Brook Campground               1\n",
       "Cottonwood Springs Campground       2\n",
       "Steel Creek Campground              3\n",
       "Chinamen's Campground               4\n",
       "                                 ... \n",
       "Cloverleaf Campground (WA)       3862\n",
       "Hawk Creek Campground            3863\n",
       "Jones Bay Campground             3864\n",
       "TEN MILE CAMPGROUND              3865\n",
       "Juniper Campground Group Site    3866\n",
       "Length: 3867, dtype: int64"
      ]
     },
     "execution_count": 18,
     "metadata": {},
     "output_type": "execute_result"
    }
   ],
   "source": [
    "indices"
   ]
  },
  {
   "cell_type": "code",
   "execution_count": 35,
   "metadata": {},
   "outputs": [],
   "source": [
    "def hybrid_recommender(user, name):\n",
    "    # get on facility name\n",
    "    idx = indices[name]\n",
    "\n",
    "    # calculate similarity scores\n",
    "    sim_scores = list(enumerate(cosine_sim[idx]))\n",
    "\n",
    "    # sort scores\n",
    "    sim_scores = sorted(sim_scores, key=lambda x: x[1], reverse=True)\n",
    "\n",
    "    # take ten scores\n",
    "    # omitting the first entry because it is the same item \n",
    "    sim_scores = sim_scores[1:11]\n",
    "\n",
    "    # map scores to campgrounds\n",
    "    campground_indices = [i[0] for i in sim_scores]\n",
    "\n",
    "    # build a dataframe with results\n",
    "    # include faciltity info and similarity score\n",
    "    dfResults = dfCampgrounds[['FacilityID', 'FacilityName']].iloc[campground_indices]\n",
    "    dfResults['Score'] = dfResults['FacilityID'].apply(lambda x: svd.predict(str(user), str(x)).est)\n",
    "\n",
    "    # sort results in descending order\n",
    "    dfResults = dfResults.sort_values('Score', ascending=False)\n",
    "\n",
    "    # return results\n",
    "    return dfResults"
   ]
  },
  {
   "cell_type": "code",
   "execution_count": 36,
   "metadata": {},
   "outputs": [
    {
     "data": {
      "text/html": [
       "<div>\n",
       "<style scoped>\n",
       "    .dataframe tbody tr th:only-of-type {\n",
       "        vertical-align: middle;\n",
       "    }\n",
       "\n",
       "    .dataframe tbody tr th {\n",
       "        vertical-align: top;\n",
       "    }\n",
       "\n",
       "    .dataframe thead th {\n",
       "        text-align: right;\n",
       "    }\n",
       "</style>\n",
       "<table border=\"1\" class=\"dataframe\">\n",
       "  <thead>\n",
       "    <tr style=\"text-align: right;\">\n",
       "      <th></th>\n",
       "      <th>FacilityID</th>\n",
       "      <th>FacilityName</th>\n",
       "      <th>Score</th>\n",
       "    </tr>\n",
       "  </thead>\n",
       "  <tbody>\n",
       "    <tr>\n",
       "      <th>3672</th>\n",
       "      <td>261700</td>\n",
       "      <td>SANTA ROSA ISLAND BACKCOUNTRY BEACH CAMPING</td>\n",
       "      <td>2.274407</td>\n",
       "    </tr>\n",
       "    <tr>\n",
       "      <th>3599</th>\n",
       "      <td>253730</td>\n",
       "      <td>Cumberland Island National Seashore Camping Pe...</td>\n",
       "      <td>2.274407</td>\n",
       "    </tr>\n",
       "    <tr>\n",
       "      <th>3310</th>\n",
       "      <td>249981</td>\n",
       "      <td>Voyageurs National Park Camping Permits</td>\n",
       "      <td>2.274407</td>\n",
       "    </tr>\n",
       "    <tr>\n",
       "      <th>1094</th>\n",
       "      <td>232501</td>\n",
       "      <td>SAN MIGUEL ISLAND</td>\n",
       "      <td>2.274407</td>\n",
       "    </tr>\n",
       "    <tr>\n",
       "      <th>1092</th>\n",
       "      <td>232499</td>\n",
       "      <td>SANTA CRUZ DEL NORTE BACKCOUNTRY</td>\n",
       "      <td>2.274407</td>\n",
       "    </tr>\n",
       "    <tr>\n",
       "      <th>1090</th>\n",
       "      <td>232497</td>\n",
       "      <td>SANTA ROSA ISLAND</td>\n",
       "      <td>2.274407</td>\n",
       "    </tr>\n",
       "    <tr>\n",
       "      <th>1091</th>\n",
       "      <td>232498</td>\n",
       "      <td>SANTA CRUZ SCORPION</td>\n",
       "      <td>2.274407</td>\n",
       "    </tr>\n",
       "    <tr>\n",
       "      <th>1908</th>\n",
       "      <td>233359</td>\n",
       "      <td>Point Reyes National Seashore Campground</td>\n",
       "      <td>2.274407</td>\n",
       "    </tr>\n",
       "    <tr>\n",
       "      <th>3657</th>\n",
       "      <td>258851</td>\n",
       "      <td>Pine Springs Campground</td>\n",
       "      <td>2.274407</td>\n",
       "    </tr>\n",
       "    <tr>\n",
       "      <th>3298</th>\n",
       "      <td>247663</td>\n",
       "      <td>Signal Mountain Campground</td>\n",
       "      <td>2.274407</td>\n",
       "    </tr>\n",
       "  </tbody>\n",
       "</table>\n",
       "</div>"
      ],
      "text/plain": [
       "      FacilityID                                       FacilityName     Score\n",
       "3672      261700        SANTA ROSA ISLAND BACKCOUNTRY BEACH CAMPING  2.274407\n",
       "3599      253730  Cumberland Island National Seashore Camping Pe...  2.274407\n",
       "3310      249981            Voyageurs National Park Camping Permits  2.274407\n",
       "1094      232501                                  SAN MIGUEL ISLAND  2.274407\n",
       "1092      232499                   SANTA CRUZ DEL NORTE BACKCOUNTRY  2.274407\n",
       "1090      232497                                  SANTA ROSA ISLAND  2.274407\n",
       "1091      232498                                SANTA CRUZ SCORPION  2.274407\n",
       "1908      233359           Point Reyes National Seashore Campground  2.274407\n",
       "3657      258851                            Pine Springs Campground  2.274407\n",
       "3298      247663                         Signal Mountain Campground  2.274407"
      ]
     },
     "execution_count": 36,
     "metadata": {},
     "output_type": "execute_result"
    }
   ],
   "source": [
    "hybrid_recommender(uid, 'ASSATEAGUE ISLAND NATIONAL SEASHORE CAMPGROUND')"
   ]
  },
  {
   "cell_type": "code",
   "execution_count": 34,
   "metadata": {},
   "outputs": [
    {
     "data": {
      "text/plain": [
       "2.2744071056785615"
      ]
     },
     "execution_count": 34,
     "metadata": {},
     "output_type": "execute_result"
    }
   ],
   "source": [
    "svd.predict(uid, str(247663)).est"
   ]
  }
 ],
 "metadata": {
  "interpreter": {
   "hash": "a9e49237f3225e56c5bc43658cdc0a90dbebc23b3eaeee781a0f05ef40bc4a00"
  },
  "kernelspec": {
   "display_name": "Python 3.8.3 ('base')",
   "language": "python",
   "name": "python3"
  },
  "language_info": {
   "codemirror_mode": {
    "name": "ipython",
    "version": 3
   },
   "file_extension": ".py",
   "mimetype": "text/x-python",
   "name": "python",
   "nbconvert_exporter": "python",
   "pygments_lexer": "ipython3",
   "version": "3.8.3"
  }
 },
 "nbformat": 4,
 "nbformat_minor": 0
}
