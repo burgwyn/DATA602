{
 "cells": [
  {
   "cell_type": "markdown",
   "metadata": {
    "collapsed": false,
    "pycharm": {
     "name": "#%% md\n"
    }
   },
   "source": [
    "# SVD\n",
    "\n",
    " Singular Value Decomposition with [Surprise](http://surpriselib.com/), a “Simple Python Recommendation System Engine” built on scikit.\n",
    "\n",
    "Inputs are fairly straightforward, using three inputs, all integers, to build the model:\n",
    "- user - person record in the transaction, customerzip was used\n",
    "- item - facilityid, the product identifier\n",
    "- rating - a score to the item assigned by the user, used a quantile mapping based upon \"days stayed x number of people\" calculation to simulate this value\n"
   ]
  },
  {
   "cell_type": "code",
   "execution_count": 103,
   "metadata": {
    "collapsed": false,
    "pycharm": {
     "name": "#%%\n"
    }
   },
   "outputs": [
    {
     "data": {
      "text/html": [
       "<div>\n",
       "<style scoped>\n",
       "    .dataframe tbody tr th:only-of-type {\n",
       "        vertical-align: middle;\n",
       "    }\n",
       "\n",
       "    .dataframe tbody tr th {\n",
       "        vertical-align: top;\n",
       "    }\n",
       "\n",
       "    .dataframe thead th {\n",
       "        text-align: right;\n",
       "    }\n",
       "</style>\n",
       "<table border=\"1\" class=\"dataframe\">\n",
       "  <thead>\n",
       "    <tr style=\"text-align: right;\">\n",
       "      <th></th>\n",
       "      <th>user</th>\n",
       "      <th>item</th>\n",
       "      <th>rating</th>\n",
       "    </tr>\n",
       "  </thead>\n",
       "  <tbody>\n",
       "    <tr>\n",
       "      <th>0</th>\n",
       "      <td>99709</td>\n",
       "      <td>252494</td>\n",
       "      <td>1</td>\n",
       "    </tr>\n",
       "    <tr>\n",
       "      <th>1</th>\n",
       "      <td>99706</td>\n",
       "      <td>252494</td>\n",
       "      <td>1</td>\n",
       "    </tr>\n",
       "    <tr>\n",
       "      <th>2</th>\n",
       "      <td>99709</td>\n",
       "      <td>252494</td>\n",
       "      <td>1</td>\n",
       "    </tr>\n",
       "    <tr>\n",
       "      <th>3</th>\n",
       "      <td>84401</td>\n",
       "      <td>252494</td>\n",
       "      <td>2</td>\n",
       "    </tr>\n",
       "    <tr>\n",
       "      <th>4</th>\n",
       "      <td>99709</td>\n",
       "      <td>252494</td>\n",
       "      <td>2</td>\n",
       "    </tr>\n",
       "  </tbody>\n",
       "</table>\n",
       "</div>"
      ],
      "text/plain": [
       "    user    item  rating\n",
       "0  99709  252494       1\n",
       "1  99706  252494       1\n",
       "2  99709  252494       1\n",
       "3  84401  252494       2\n",
       "4  99709  252494       2"
      ]
     },
     "execution_count": 103,
     "metadata": {},
     "output_type": "execute_result"
    }
   ],
   "source": [
    "import pandas as pd\n",
    "\n",
    "df = pd.read_csv('./REC_Collaborative_Facility.csv')\n",
    "df.head()"
   ]
  },
  {
   "cell_type": "markdown",
   "metadata": {},
   "source": [
    "## Surprise"
   ]
  },
  {
   "cell_type": "code",
   "execution_count": 106,
   "metadata": {
    "collapsed": false,
    "pycharm": {
     "name": "#%%\n"
    }
   },
   "outputs": [
    {
     "name": "stdout",
     "output_type": "stream",
     "text": [
      "Requirement already satisfied: scikit-surprise in c:\\users\\nburg\\anaconda3\\lib\\site-packages (1.1.1)\n",
      "Requirement already satisfied: joblib>=0.11 in c:\\users\\nburg\\anaconda3\\lib\\site-packages (from scikit-surprise) (0.16.0)\n",
      "Requirement already satisfied: numpy>=1.11.2 in c:\\users\\nburg\\anaconda3\\lib\\site-packages (from scikit-surprise) (1.18.5)\n",
      "Requirement already satisfied: scipy>=1.0.0 in c:\\users\\nburg\\anaconda3\\lib\\site-packages (from scikit-surprise) (1.5.0)\n",
      "Requirement already satisfied: six>=1.10.0 in c:\\users\\nburg\\anaconda3\\lib\\site-packages (from scikit-surprise) (1.15.0)Note: you may need to restart the kernel to use updated packages.\n",
      "\n"
     ]
    }
   ],
   "source": [
    "%pip install scikit-surprise"
   ]
  },
  {
   "cell_type": "code",
   "execution_count": 107,
   "metadata": {
    "collapsed": false,
    "pycharm": {
     "name": "#%%\n"
    }
   },
   "outputs": [
    {
     "name": "stdout",
     "output_type": "stream",
     "text": [
      "Evaluating RMSE, MAE of algorithm SVD on 5 split(s).\n",
      "\n",
      "                  Fold 1  Fold 2  Fold 3  Fold 4  Fold 5  Mean    Std     \n",
      "RMSE (testset)    0.7600  0.7609  0.7604  0.7601  0.7605  0.7604  0.0003  \n",
      "MAE (testset)     0.6446  0.6455  0.6448  0.6447  0.6449  0.6449  0.0003  \n",
      "Fit time          137.92  152.66  138.36  137.91  138.06  140.98  5.84    \n",
      "Test time         6.74    10.33   6.47    10.35   6.34    8.04    1.88    \n"
     ]
    },
    {
     "data": {
      "text/plain": [
       "{'test_rmse': array([0.76000763, 0.76088314, 0.7603865 , 0.76005597, 0.76045914]),\n",
       " 'test_mae': array([0.64460879, 0.64545655, 0.64475401, 0.64465793, 0.64490836]),\n",
       " 'fit_time': (137.91500735282898,\n",
       "  152.66097354888916,\n",
       "  138.364360332489,\n",
       "  137.9148120880127,\n",
       "  138.0557165145874),\n",
       " 'test_time': (6.735996246337891,\n",
       "  10.327003240585327,\n",
       "  6.470874786376953,\n",
       "  10.353585720062256,\n",
       "  6.3371148109436035)}"
      ]
     },
     "execution_count": 107,
     "metadata": {},
     "output_type": "execute_result"
    }
   ],
   "source": [
    "from surprise import SVD, Dataset, Reader\n",
    "from surprise.model_selection import cross_validate\n",
    "\n",
    "# load dataset from dataframe\n",
    "reader = Reader(rating_scale=(1, 5))\n",
    "data = Dataset.load_from_df(df[['user', 'item', 'rating']], reader)\n",
    "\n",
    "# create SVD model\n",
    "algo = SVD()\n",
    "\n",
    "# cross validate model using RMSE\n",
    "cross_validate(algo, data, measures=['RMSE', 'MAE'], cv=5, verbose=True)"
   ]
  },
  {
   "cell_type": "code",
   "execution_count": 108,
   "metadata": {
    "collapsed": false,
    "pycharm": {
     "name": "#%%\n"
    }
   },
   "outputs": [
    {
     "data": {
      "text/plain": [
       "2.2410661153746125"
      ]
     },
     "execution_count": 108,
     "metadata": {},
     "output_type": "execute_result"
    }
   ],
   "source": [
    "# create a test user and item\n",
    "# uid - Silver Spring, MD\n",
    "# iid - Assateague National Seashore Campground\n",
    "uid = str(20901)\n",
    "iid = str(232507)\n",
    "\n",
    "# get prediction\n",
    "prediction = algo.predict(uid, iid)\n",
    "prediction.est"
   ]
  },
  {
   "cell_type": "code",
   "execution_count": 111,
   "metadata": {},
   "outputs": [
    {
     "data": {
      "text/plain": [
       "2.2410661153746125"
      ]
     },
     "execution_count": 111,
     "metadata": {},
     "output_type": "execute_result"
    }
   ],
   "source": [
    "# get prediction\n",
    "# user - Beverly Hills, CA\n",
    "# item - Burro Creek Campground, AZ\n",
    "prediction = algo.predict(str(90210), str(10000305))\n",
    "prediction.est"
   ]
  },
  {
   "cell_type": "markdown",
   "metadata": {},
   "source": [
    "## Export Model\n",
    "\n",
    "Save model for future use with pickle"
   ]
  },
  {
   "cell_type": "code",
   "execution_count": 109,
   "metadata": {},
   "outputs": [],
   "source": [
    "import pickle\n",
    "\n",
    "pickle.dump(algo, open('./model/svd.pkl', 'wb'))"
   ]
  },
  {
   "cell_type": "markdown",
   "metadata": {},
   "source": [
    "## Conclusion\n",
    "\n",
    "Suprise's SVD implementation was straightforward, but the resulting predictions were identical, no matter the input parameters."
   ]
  }
 ],
 "metadata": {
  "interpreter": {
   "hash": "f24670ad0007af815599fcabdbbd50e117dd9a3bbe184cd8f92ad5612cd486d7"
  },
  "kernelspec": {
   "display_name": "Python 3.8.3 ('base')",
   "language": "python",
   "name": "python3"
  },
  "language_info": {
   "codemirror_mode": {
    "name": "ipython",
    "version": 3
   },
   "file_extension": ".py",
   "mimetype": "text/x-python",
   "name": "python",
   "nbconvert_exporter": "python",
   "pygments_lexer": "ipython3",
   "version": "3.8.3"
  }
 },
 "nbformat": 4,
 "nbformat_minor": 0
}
