{
 "cells": [
  {
   "cell_type": "markdown",
   "metadata": {
    "collapsed": false,
    "pycharm": {
     "name": "#%% md\n"
    }
   },
   "source": [
    "# SVD\n",
    "\n",
    " Singular Value Decomposition with [Surprise](http://surpriselib.com/), a “Simple Python Recommendation System Engine” built on scikit.\n",
    "\n",
    "Inputs are fairly straightforward, using three inputs, all integers, to build the model:\n",
    "- user - person record in the transaction, customerzip was used\n",
    "- item - facilityid, the product identifier\n",
    "- rating - a score to the item assigned by the user, used a quantile mapping based upon \"days stayed x number of people\" calculation to simulate this value\n"
   ]
  },
  {
   "cell_type": "code",
   "execution_count": 1,
   "metadata": {
    "collapsed": false,
    "pycharm": {
     "name": "#%%\n"
    }
   },
   "outputs": [
    {
     "data": {
      "text/html": [
       "<div>\n",
       "<style scoped>\n",
       "    .dataframe tbody tr th:only-of-type {\n",
       "        vertical-align: middle;\n",
       "    }\n",
       "\n",
       "    .dataframe tbody tr th {\n",
       "        vertical-align: top;\n",
       "    }\n",
       "\n",
       "    .dataframe thead th {\n",
       "        text-align: right;\n",
       "    }\n",
       "</style>\n",
       "<table border=\"1\" class=\"dataframe\">\n",
       "  <thead>\n",
       "    <tr style=\"text-align: right;\">\n",
       "      <th></th>\n",
       "      <th>user</th>\n",
       "      <th>item</th>\n",
       "      <th>rating</th>\n",
       "    </tr>\n",
       "  </thead>\n",
       "  <tbody>\n",
       "    <tr>\n",
       "      <th>0</th>\n",
       "      <td>99709</td>\n",
       "      <td>252494</td>\n",
       "      <td>1</td>\n",
       "    </tr>\n",
       "    <tr>\n",
       "      <th>1</th>\n",
       "      <td>99706</td>\n",
       "      <td>252494</td>\n",
       "      <td>1</td>\n",
       "    </tr>\n",
       "    <tr>\n",
       "      <th>2</th>\n",
       "      <td>99709</td>\n",
       "      <td>252494</td>\n",
       "      <td>1</td>\n",
       "    </tr>\n",
       "    <tr>\n",
       "      <th>3</th>\n",
       "      <td>84401</td>\n",
       "      <td>252494</td>\n",
       "      <td>2</td>\n",
       "    </tr>\n",
       "    <tr>\n",
       "      <th>4</th>\n",
       "      <td>99709</td>\n",
       "      <td>252494</td>\n",
       "      <td>2</td>\n",
       "    </tr>\n",
       "  </tbody>\n",
       "</table>\n",
       "</div>"
      ],
      "text/plain": [
       "    user    item  rating\n",
       "0  99709  252494       1\n",
       "1  99706  252494       1\n",
       "2  99709  252494       1\n",
       "3  84401  252494       2\n",
       "4  99709  252494       2"
      ]
     },
     "execution_count": 1,
     "metadata": {},
     "output_type": "execute_result"
    }
   ],
   "source": [
    "import pandas as pd\n",
    "\n",
    "df = pd.read_csv('./data/REC_Collaborative_Facility.csv')\n",
    "df.head()"
   ]
  },
  {
   "cell_type": "markdown",
   "metadata": {},
   "source": [
    "## Surprise"
   ]
  },
  {
   "cell_type": "code",
   "execution_count": 2,
   "metadata": {
    "collapsed": false,
    "pycharm": {
     "name": "#%%\n"
    }
   },
   "outputs": [
    {
     "name": "stdout",
     "output_type": "stream",
     "text": [
      "Requirement already satisfied: scikit-surprise in /Users/natburgwyn/opt/anaconda3/lib/python3.8/site-packages (1.1.1)\n",
      "Requirement already satisfied: numpy>=1.11.2 in /Users/natburgwyn/opt/anaconda3/lib/python3.8/site-packages (from scikit-surprise) (1.19.2)\n",
      "Requirement already satisfied: six>=1.10.0 in /Users/natburgwyn/opt/anaconda3/lib/python3.8/site-packages (from scikit-surprise) (1.12.0)\n",
      "Requirement already satisfied: joblib>=0.11 in /Users/natburgwyn/opt/anaconda3/lib/python3.8/site-packages (from scikit-surprise) (0.17.0)\n",
      "Requirement already satisfied: scipy>=1.0.0 in /Users/natburgwyn/opt/anaconda3/lib/python3.8/site-packages (from scikit-surprise) (1.5.2)\n",
      "\u001b[33mWARNING: You are using pip version 22.0.4; however, version 22.1 is available.\n",
      "You should consider upgrading via the '/Users/natburgwyn/opt/anaconda3/bin/python -m pip install --upgrade pip' command.\u001b[0m\u001b[33m\n",
      "\u001b[0mNote: you may need to restart the kernel to use updated packages.\n"
     ]
    }
   ],
   "source": [
    "%pip install scikit-surprise"
   ]
  },
  {
   "cell_type": "code",
   "execution_count": 3,
   "metadata": {
    "collapsed": false,
    "pycharm": {
     "name": "#%%\n"
    }
   },
   "outputs": [
    {
     "name": "stdout",
     "output_type": "stream",
     "text": [
      "Evaluating RMSE, MAE of algorithm SVD on 5 split(s).\n",
      "\n",
      "                  Fold 1  Fold 2  Fold 3  Fold 4  Fold 5  Mean    Std     \n",
      "RMSE (testset)    0.7511  0.7521  0.7514  0.7511  0.7522  0.7516  0.0005  \n",
      "MAE (testset)     0.6392  0.6405  0.6397  0.6398  0.6406  0.6400  0.0005  \n",
      "Fit time          145.31  145.26  143.51  142.88  141.46  143.68  1.47    \n",
      "Test time         7.37    6.17    6.82    5.73    6.76    6.57    0.57    \n"
     ]
    },
    {
     "data": {
      "text/plain": [
       "{'test_rmse': array([0.75106408, 0.75209558, 0.75140012, 0.75114862, 0.75218144]),\n",
       " 'test_mae': array([0.63922196, 0.64052933, 0.63967922, 0.63982613, 0.64064955]),\n",
       " 'fit_time': (145.31082892417908,\n",
       "  145.2574269771576,\n",
       "  143.51176810264587,\n",
       "  142.8846538066864,\n",
       "  141.45607924461365),\n",
       " 'test_time': (7.374969005584717,\n",
       "  6.166829824447632,\n",
       "  6.816119194030762,\n",
       "  5.730846166610718,\n",
       "  6.7603631019592285)}"
      ]
     },
     "execution_count": 3,
     "metadata": {},
     "output_type": "execute_result"
    }
   ],
   "source": [
    "from surprise import SVD, Dataset, Reader\n",
    "from surprise.model_selection import cross_validate\n",
    "\n",
    "# load dataset from dataframe\n",
    "reader = Reader(rating_scale=(1, 5))\n",
    "data = Dataset.load_from_df(df[['user', 'item', 'rating']], reader)\n",
    "\n",
    "# create SVD model\n",
    "algo = SVD()\n",
    "\n",
    "# cross validate model using RMSE\n",
    "cross_validate(algo, data, measures=['RMSE', 'MAE'], cv=5, verbose=True)"
   ]
  },
  {
   "cell_type": "code",
   "execution_count": 4,
   "metadata": {
    "collapsed": false,
    "pycharm": {
     "name": "#%%\n"
    }
   },
   "outputs": [
    {
     "data": {
      "text/plain": [
       "2.2347728344669204"
      ]
     },
     "execution_count": 4,
     "metadata": {},
     "output_type": "execute_result"
    }
   ],
   "source": [
    "# create a test user and item\n",
    "# uid - Silver Spring, MD\n",
    "# iid - Assateague National Seashore Campground\n",
    "uid = str(20901)\n",
    "iid = str(232507)\n",
    "\n",
    "# get prediction\n",
    "prediction = algo.predict(uid, iid)\n",
    "prediction.est"
   ]
  },
  {
   "cell_type": "code",
   "execution_count": 5,
   "metadata": {},
   "outputs": [
    {
     "data": {
      "text/plain": [
       "2.2347728344669204"
      ]
     },
     "execution_count": 5,
     "metadata": {},
     "output_type": "execute_result"
    }
   ],
   "source": [
    "# get prediction\n",
    "# user - Beverly Hills, CA\n",
    "# item - Burro Creek Campground, AZ\n",
    "prediction = algo.predict(str(90210), str(10000305))\n",
    "prediction.est"
   ]
  },
  {
   "cell_type": "markdown",
   "metadata": {},
   "source": [
    "## Export Model\n",
    "\n",
    "Save model for future use with pickle"
   ]
  },
  {
   "cell_type": "code",
   "execution_count": 6,
   "metadata": {},
   "outputs": [],
   "source": [
    "import pickle\n",
    "\n",
    "pickle.dump(algo, open('./model/svd.pkl', 'wb'))"
   ]
  },
  {
   "cell_type": "markdown",
   "metadata": {},
   "source": [
    "## Conclusion\n",
    "\n",
    "Suprise's SVD implementation was straightforward, but the resulting predictions were identical, no matter the input parameters."
   ]
  }
 ],
 "metadata": {
  "interpreter": {
   "hash": "f24670ad0007af815599fcabdbbd50e117dd9a3bbe184cd8f92ad5612cd486d7"
  },
  "kernelspec": {
   "display_name": "Python 3.8.3 ('base')",
   "language": "python",
   "name": "python3"
  },
  "language_info": {
   "codemirror_mode": {
    "name": "ipython",
    "version": 3
   },
   "file_extension": ".py",
   "mimetype": "text/x-python",
   "name": "python",
   "nbconvert_exporter": "python",
   "pygments_lexer": "ipython3",
   "version": "3.8.3"
  }
 },
 "nbformat": 4,
 "nbformat_minor": 0
}
