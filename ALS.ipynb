{
 "cells": [
  {
   "cell_type": "markdown",
   "id": "a2cf60eb-93cb-430b-8ea5-433156fd2513",
   "metadata": {},
   "source": [
    "## ALS\n",
    "\n",
    "The final goal was to attempt to create a basic recommendation system using past reservations. This uses [Alternating Least Squares](https://spark.apache.org/docs/latest/api/python/reference/api/pyspark.ml.recommendation.ALS.html), a native recommender in PySpark's ML library. This documentation, along with [this walkthrough](https://github.com/shashwatwork/Building-Recommeder-System-in-PySpark/blob/master/Crafting%20Recommedation%20System%20with%20PySpark.ipynb) guided this implementation.\n",
    "\n",
    "ALS is fairly straightforward, using three inputs, all integers, to build the model:\n",
    "- userCol - person record in the transaction, customerzip was used in this model\n",
    "- itemCol - facilityid, the product identifier\n",
    "- ratingCol - a score to the item assigned by the user, used a \"days stayed\" calculation to simulate this value"
   ]
  },
  {
   "cell_type": "code",
   "execution_count": 1,
   "id": "a28d2ff2-56f8-4809-b857-aaac6e1d42e7",
   "metadata": {},
   "outputs": [],
   "source": [
    "from pyspark.sql import SparkSession\n",
    "\n",
    "MAX_MEMORY = \"8g\"\n",
    "\n",
    "spark = SparkSession.builder.appName('recreation.gov reservations') \\\n",
    "    .config(\"spark.executor.memory\", MAX_MEMORY) \\\n",
    "    .config(\"spark.driver.memory\", MAX_MEMORY) \\\n",
    "    .getOrCreate()"
   ]
  },
  {
   "cell_type": "code",
   "execution_count": 17,
   "id": "32b7e61b-453d-4e98-a6e7-7e629e0e8cbe",
   "metadata": {},
   "outputs": [],
   "source": [
    "from pyspark.sql.types import StructType, StructField, IntegerType, FloatType\n",
    "\n",
    "schemaRating = StructType([\n",
    "    StructField(\"productid\", IntegerType(), True),\n",
    "    StructField(\"cleanzip\", FloatType(), True),\n",
    "    StructField(\"participation\", FloatType(), True),\n",
    "])"
   ]
  },
  {
   "cell_type": "code",
   "execution_count": 18,
   "id": "1b72eeda-0f41-4fc1-b170-055d66e136ac",
   "metadata": {},
   "outputs": [],
   "source": [
    "dfReservations2021 = spark.read.format('csv').schema(schemaRating).csv('REC_ALS.csv', header=True, ignoreTrailingWhiteSpace=True)"
   ]
  },
  {
   "cell_type": "code",
   "execution_count": 19,
   "id": "8b47a4bb-53bd-4074-8b6e-a6d984d27696",
   "metadata": {},
   "outputs": [],
   "source": [
    "dfReservations2021 = dfReservations2021.withColumn('cleanzip', dfReservations2021['cleanzip'].cast(IntegerType()))"
   ]
  },
  {
   "cell_type": "code",
   "execution_count": 20,
   "id": "66fab529-79d1-407a-8f17-79ab58a8566c",
   "metadata": {},
   "outputs": [],
   "source": [
    "dfReservations2021 = dfReservations2021.withColumn('participation', dfReservations2021['participation'].cast(IntegerType()))"
   ]
  },
  {
   "cell_type": "code",
   "execution_count": 21,
   "id": "4f36afe5-e07e-42b8-9840-a64a122f78f2",
   "metadata": {},
   "outputs": [
    {
     "name": "stdout",
     "output_type": "stream",
     "text": [
      "+---------+--------+-------------+\n",
      "|productid|cleanzip|participation|\n",
      "+---------+--------+-------------+\n",
      "|   250877|   96555|         null|\n",
      "|   232490|   55424|         null|\n",
      "|   232490|   91501|         null|\n",
      "|   232490|   33774|         null|\n",
      "|   247571|   33176|         null|\n",
      "|   247571|   92831|         null|\n",
      "|   247661|   16823|         null|\n",
      "|   247661|   16823|         null|\n",
      "|   247661|   16823|         null|\n",
      "|   247661|   16823|         null|\n",
      "|   247661|   16823|         null|\n",
      "|   247661|   16823|         null|\n",
      "|   247661|   16823|         null|\n",
      "|   247661|   14830|         null|\n",
      "|   250009|   80516|         null|\n",
      "|   258830|   15017|         null|\n",
      "|   272266|   11771|         null|\n",
      "|   272266|   20782|         null|\n",
      "|   258887|   49046|         null|\n",
      "|   251833|   21401|         null|\n",
      "+---------+--------+-------------+\n",
      "only showing top 20 rows\n",
      "\n"
     ]
    }
   ],
   "source": [
    "dfReservations2021.filter(dfReservations2021.participation.isNull()).show()"
   ]
  },
  {
   "cell_type": "code",
   "execution_count": 22,
   "id": "670c3fd6-f680-48e9-bbe3-cd312b72554a",
   "metadata": {},
   "outputs": [
    {
     "name": "stdout",
     "output_type": "stream",
     "text": [
      "+---------+--------+-------------+\n",
      "|productid|cleanzip|participation|\n",
      "+---------+--------+-------------+\n",
      "|639772   |99709   |2            |\n",
      "|639772   |99706   |0            |\n",
      "|639772   |99706   |2            |\n",
      "|639772   |99709   |0            |\n",
      "|639772   |99709   |1            |\n",
      "|639772   |84401   |4            |\n",
      "|639772   |99709   |4            |\n",
      "|99821    |99709   |2            |\n",
      "|639772   |99743   |0            |\n",
      "|639772   |99743   |4            |\n",
      "|99799    |99708   |12           |\n",
      "|639772   |84401   |4            |\n",
      "|639772   |99710   |2            |\n",
      "|99821    |99705   |2            |\n",
      "|99799    |99709   |2            |\n",
      "|99821    |99709   |2            |\n",
      "|99862    |99712   |4            |\n",
      "|639822   |99556   |0            |\n",
      "|99799    |99709   |2            |\n",
      "|99766    |99712   |3            |\n",
      "+---------+--------+-------------+\n",
      "only showing top 20 rows\n",
      "\n"
     ]
    }
   ],
   "source": [
    "dfReservations2021.show(truncate=False)"
   ]
  },
  {
   "cell_type": "code",
   "execution_count": 23,
   "id": "24821a27-988b-4804-8c44-7c4d3e7d6a56",
   "metadata": {},
   "outputs": [],
   "source": [
    "dfReservations2021 = dfReservations2021.dropna()"
   ]
  },
  {
   "cell_type": "code",
   "execution_count": 24,
   "id": "63d0fac0-b8fb-4524-97b9-b4730dddb199",
   "metadata": {},
   "outputs": [],
   "source": [
    "from pyspark.ml.evaluation import RegressionEvaluator\n",
    "from pyspark.ml.recommendation import ALS\n",
    "\n",
    "#split train and test\n",
    "trainDF, testDF = dfReservations2021.randomSplit([0.8, 0.2])\n",
    "trainDF.cache()\n",
    "\n",
    "# build model\n",
    "# coldStartStrategy - helped drop nulls\n",
    "als = ALS(maxIter=5, regParam=0.01, userCol=\"cleanzip\", itemCol=\"productid\", ratingCol=\"participation\", coldStartStrategy=\"drop\")\n",
    "model = als.fit(trainDF)"
   ]
  },
  {
   "cell_type": "code",
   "execution_count": 25,
   "id": "448fb102-c99c-43cb-b918-4ea505799278",
   "metadata": {},
   "outputs": [
    {
     "data": {
      "text/plain": [
       "48.55433850515385"
      ]
     },
     "execution_count": 25,
     "metadata": {},
     "output_type": "execute_result"
    }
   ],
   "source": [
    "# generate predictions\n",
    "predictions = model.transform(testDF)\n",
    "\n",
    "# evalute model using root mean squared evaluator\n",
    "evaluator = RegressionEvaluator(metricName=\"rmse\", labelCol=\"participation\",predictionCol=\"prediction\")\n",
    "evaluator.evaluate(predictions)"
   ]
  },
  {
   "cell_type": "code",
   "execution_count": 26,
   "id": "56e8fb04-5a67-43b0-beb9-7580fcb0064b",
   "metadata": {},
   "outputs": [
    {
     "name": "stdout",
     "output_type": "stream",
     "text": [
      "+--------+---------+-------------+\n",
      "|cleanzip|productid|participation|\n",
      "+--------+---------+-------------+\n",
      "|   20901|     1550|            2|\n",
      "|   20901|     1810|           15|\n",
      "|   20901|     5713|           10|\n",
      "|   20901|     5741|            4|\n",
      "|   20901|     5745|           12|\n",
      "|   20901|     5766|            6|\n",
      "|   20901|     5771|           12|\n",
      "|   20901|     5787|            2|\n",
      "|   20901|     5796|            6|\n",
      "|   20901|     5796|            8|\n",
      "|   20901|     6256|            4|\n",
      "|   20901|     6459|            2|\n",
      "|   20901|     6460|            2|\n",
      "|   20901|     6462|            6|\n",
      "|   20901|     6474|            6|\n",
      "|   20901|     7481|           12|\n",
      "|   20901|    10330|            4|\n",
      "|   20901|    10379|           18|\n",
      "|   20901|    76418|            0|\n",
      "|   20901|    77841|           28|\n",
      "+--------+---------+-------------+\n",
      "only showing top 20 rows\n",
      "\n"
     ]
    }
   ],
   "source": [
    "# create a test user from Silver Spring, MD\n",
    "test_user = testDF.filter('cleanzip == 20901').select('cleanzip', 'productid', 'participation')\n",
    "test_user.show()"
   ]
  },
  {
   "cell_type": "code",
   "execution_count": 27,
   "id": "929c47b8-a248-4eba-b138-5f6447ac6939",
   "metadata": {},
   "outputs": [
    {
     "name": "stdout",
     "output_type": "stream",
     "text": [
      "+--------+---------+-------------+----------+\n",
      "|cleanzip|productid|participation|prediction|\n",
      "+--------+---------+-------------+----------+\n",
      "|   20901|     6256|            4|  68.52154|\n",
      "|   20901|    37740|           24|  59.58333|\n",
      "|   20901|    37740|           16|  59.58333|\n",
      "|   20901|    83907|           21| 39.448288|\n",
      "|   20901|    78821|            6|  34.85572|\n",
      "|   20901|    19718|            4| 31.878809|\n",
      "|   20901|     5787|            2| 28.387165|\n",
      "|   20901|    53218|            5| 26.003227|\n",
      "|   20901|   100231|            8| 20.048817|\n",
      "|   20901|    40059|            8| 15.074044|\n",
      "|   20901|     5741|            4|  13.98929|\n",
      "|   20901|    90163|            3| 11.828209|\n",
      "|   20901|    90163|            9| 11.828209|\n",
      "|   20901|    40525|            1| 11.456576|\n",
      "|   20901|    19706|            8|  9.517392|\n",
      "|   20901|    19743|            6|  9.347351|\n",
      "|   20901|     6462|            6|  8.621582|\n",
      "|   20901| 10098728|            3|  8.451751|\n",
      "|   20901|   100801|            8|  8.390136|\n",
      "|   20901|    77841|           28|   7.72339|\n",
      "+--------+---------+-------------+----------+\n",
      "only showing top 20 rows\n",
      "\n"
     ]
    }
   ],
   "source": [
    "# get recommendations for test user\n",
    "recommendations = model.transform(test_user)\n",
    "recommendations.sort('prediction', ascending=False).show()"
   ]
  },
  {
   "cell_type": "code",
   "execution_count": 29,
   "id": "0c654b63-c272-4580-ad00-db6afd5c1ea4",
   "metadata": {},
   "outputs": [
    {
     "name": "stdout",
     "output_type": "stream",
     "text": [
      "Requirement already satisfied: requests in /opt/conda/lib/python3.9/site-packages (2.27.1)\n",
      "Requirement already satisfied: charset-normalizer~=2.0.0 in /opt/conda/lib/python3.9/site-packages (from requests) (2.0.12)\n",
      "Requirement already satisfied: idna<4,>=2.5 in /opt/conda/lib/python3.9/site-packages (from requests) (3.3)\n",
      "Requirement already satisfied: certifi>=2017.4.17 in /opt/conda/lib/python3.9/site-packages (from requests) (2021.10.8)\n",
      "Requirement already satisfied: urllib3<1.27,>=1.21.1 in /opt/conda/lib/python3.9/site-packages (from requests) (1.26.9)\n",
      "Note: you may need to restart the kernel to use updated packages.\n"
     ]
    }
   ],
   "source": [
    "%pip install requests"
   ]
  },
  {
   "cell_type": "code",
   "execution_count": 30,
   "id": "de332701-6c55-4bd9-a358-62d5d45cdc23",
   "metadata": {},
   "outputs": [
    {
     "data": {
      "text/plain": [
       "[{'CampsiteID': '19758',\n",
       "  'FacilityID': '232095',\n",
       "  'CampsiteName': '053',\n",
       "  'CampsiteType': 'WALK TO',\n",
       "  'TypeOfUse': 'Overnight',\n",
       "  'Loop': 'WALK',\n",
       "  'CampsiteAccessible': False,\n",
       "  'CampsiteReservable': True,\n",
       "  'CampsiteLongitude': -79.381987,\n",
       "  'CampsiteLatitude': 38.8316930000001,\n",
       "  'CreatedDate': '2014-05-02',\n",
       "  'LastUpdatedDate': '2020-10-15',\n",
       "  'ATTRIBUTES': [{'AttributeName': 'Checkin Time',\n",
       "    'AttributeValue': '2:00 PM'},\n",
       "   {'AttributeName': 'Min Num of People', 'AttributeValue': '1'},\n",
       "   {'AttributeName': 'Campfire Allowed', 'AttributeValue': 'Yes'},\n",
       "   {'AttributeName': 'Checkout Time', 'AttributeValue': '1:00 PM'},\n",
       "   {'AttributeName': 'IS EQUIPMENT MANDATORY', 'AttributeValue': 'true'},\n",
       "   {'AttributeName': 'Picnic Table', 'AttributeValue': 'Y'},\n",
       "   {'AttributeName': 'Site Rating', 'AttributeValue': 'Preferred'},\n",
       "   {'AttributeName': 'Max Vehicle Length', 'AttributeValue': '0'},\n",
       "   {'AttributeName': 'Placed on Map', 'AttributeValue': '1'},\n",
       "   {'AttributeName': 'Fire Pit', 'AttributeValue': 'Y'},\n",
       "   {'AttributeName': 'Grills/Fire Ring', 'AttributeValue': 'Y'},\n",
       "   {'AttributeName': 'Max Num of People', 'AttributeValue': '12'},\n",
       "   {'AttributeName': 'Capacity/Size Rating', 'AttributeValue': 'Double'},\n",
       "   {'AttributeName': 'Driveway Surface', 'AttributeValue': 'Paved'},\n",
       "   {'AttributeName': 'Max Num of Vehicles', 'AttributeValue': '4'},\n",
       "   {'AttributeName': 'Pets Allowed', 'AttributeValue': 'Yes'}],\n",
       "  'ENTITYMEDIA': [],\n",
       "  'PERMITTEDEQUIPMENT': [{'EquipmentName': 'Tent', 'MaxLength': 0}]}]"
      ]
     },
     "execution_count": 30,
     "metadata": {},
     "output_type": "execute_result"
    }
   ],
   "source": [
    "import requests\n",
    "r = requests.get('https://ridb.recreation.gov/api/v1/campsites/19758', headers={'apikey': '6DD62AA61A9A4211BD4414728184BFE4'})\n",
    "r.json()"
   ]
  },
  {
   "cell_type": "code",
   "execution_count": null,
   "id": "1bb7d47a-f5a4-4bfb-8820-0d44ec635e8f",
   "metadata": {},
   "outputs": [],
   "source": []
  }
 ],
 "metadata": {
  "kernelspec": {
   "display_name": "Python 3 (ipykernel)",
   "language": "python",
   "name": "python3"
  },
  "language_info": {
   "codemirror_mode": {
    "name": "ipython",
    "version": 3
   },
   "file_extension": ".py",
   "mimetype": "text/x-python",
   "name": "python",
   "nbconvert_exporter": "python",
   "pygments_lexer": "ipython3",
   "version": "3.9.10"
  }
 },
 "nbformat": 4,
 "nbformat_minor": 5
}
