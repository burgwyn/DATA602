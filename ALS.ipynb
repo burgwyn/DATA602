{
 "cells": [
  {
   "cell_type": "markdown",
   "id": "a2cf60eb-93cb-430b-8ea5-433156fd2513",
   "metadata": {},
   "source": [
    "## ALS\n",
    "\n",
    "The final goal was to attempt to create a basic recommendation system using past reservations. This uses [Alternating Least Squares](https://spark.apache.org/docs/latest/api/python/reference/api/pyspark.ml.recommendation.ALS.html), a native recommender in PySpark's ML library. This documentation, along with [this walkthrough](https://github.com/shashwatwork/Building-Recommeder-System-in-PySpark/blob/master/Crafting%20Recommedation%20System%20with%20PySpark.ipynb) guided this implementation.\n",
    "\n",
    "ALS is fairly straightforward, using three inputs, all integers, to build the model:\n",
    "- userCol - person record in the transaction, customerzip was used in this model\n",
    "- itemCol - facilityid, the product identifier\n",
    "- ratingCol - a score to the item assigned by the user, used a \"days stayed\" calculation to simulate this value"
   ]
  },
  {
   "cell_type": "code",
   "execution_count": 1,
   "id": "a28d2ff2-56f8-4809-b857-aaac6e1d42e7",
   "metadata": {},
   "outputs": [],
   "source": [
    "from pyspark.sql import SparkSession\n",
    "\n",
    "MAX_MEMORY = \"8g\"\n",
    "\n",
    "spark = SparkSession.builder.appName('recreation.gov reservations') \\\n",
    "    .config(\"spark.executor.memory\", MAX_MEMORY) \\\n",
    "    .config(\"spark.driver.memory\", MAX_MEMORY) \\\n",
    "    .getOrCreate()"
   ]
  },
  {
   "cell_type": "code",
   "execution_count": 11,
   "id": "32b7e61b-453d-4e98-a6e7-7e629e0e8cbe",
   "metadata": {},
   "outputs": [],
   "source": [
    "from pyspark.sql.types import StructType, StructField, IntegerType, FloatType\n",
    "\n",
    "schemaRating = StructType([\n",
    "    StructField(\"user\", IntegerType(), True),\n",
    "    StructField(\"item\", IntegerType(), True),\n",
    "    StructField(\"rating\", IntegerType(), True),\n",
    "])"
   ]
  },
  {
   "cell_type": "code",
   "execution_count": 12,
   "id": "1b72eeda-0f41-4fc1-b170-055d66e136ac",
   "metadata": {},
   "outputs": [],
   "source": [
    "dfReservations2021 = spark.read.format('csv').schema(schemaRating).csv('REC_Collaborative_Facility.csv', header=True, ignoreTrailingWhiteSpace=True)"
   ]
  },
  {
   "cell_type": "code",
   "execution_count": 13,
   "id": "670c3fd6-f680-48e9-bbe3-cd312b72554a",
   "metadata": {},
   "outputs": [
    {
     "name": "stdout",
     "output_type": "stream",
     "text": [
      "+-----+------+------+\n",
      "|user |item  |rating|\n",
      "+-----+------+------+\n",
      "|99709|252494|1     |\n",
      "|99706|252494|1     |\n",
      "|99709|252494|1     |\n",
      "|84401|252494|2     |\n",
      "|99709|252494|2     |\n",
      "|99709|252494|1     |\n",
      "|99743|252494|2     |\n",
      "|99708|252494|3     |\n",
      "|84401|252494|2     |\n",
      "|99710|252494|1     |\n",
      "|99705|252494|1     |\n",
      "|99709|252494|1     |\n",
      "|99709|252494|1     |\n",
      "|99712|252494|2     |\n",
      "|99709|252494|1     |\n",
      "|99712|252494|1     |\n",
      "|99705|252494|2     |\n",
      "|99775|252494|1     |\n",
      "|99709|252494|2     |\n",
      "|99755|252494|1     |\n",
      "+-----+------+------+\n",
      "only showing top 20 rows\n",
      "\n"
     ]
    }
   ],
   "source": [
    "dfReservations2021.show(truncate=False)"
   ]
  },
  {
   "cell_type": "code",
   "execution_count": 14,
   "id": "24821a27-988b-4804-8c44-7c4d3e7d6a56",
   "metadata": {},
   "outputs": [],
   "source": [
    "dfReservations2021 = dfReservations2021.dropna()"
   ]
  },
  {
   "cell_type": "code",
   "execution_count": 15,
   "id": "63d0fac0-b8fb-4524-97b9-b4730dddb199",
   "metadata": {},
   "outputs": [],
   "source": [
    "from pyspark.ml.evaluation import RegressionEvaluator\n",
    "from pyspark.ml.recommendation import ALS\n",
    "\n",
    "#split train and test\n",
    "trainDF, testDF = dfReservations2021.randomSplit([0.8, 0.2])\n",
    "trainDF.cache()\n",
    "\n",
    "# build model\n",
    "# coldStartStrategy - helped drop nulls\n",
    "als = ALS(coldStartStrategy=\"drop\", implicitPrefs=True)\n",
    "model = als.fit(trainDF)"
   ]
  },
  {
   "cell_type": "code",
   "execution_count": 16,
   "id": "448fb102-c99c-43cb-b918-4ea505799278",
   "metadata": {},
   "outputs": [
    {
     "data": {
      "text/plain": [
       "1.4178938687063154"
      ]
     },
     "execution_count": 16,
     "metadata": {},
     "output_type": "execute_result"
    }
   ],
   "source": [
    "# generate predictions\n",
    "predictions = model.transform(testDF)\n",
    "\n",
    "# evalute model using root mean squared evaluator\n",
    "evaluator = RegressionEvaluator(metricName=\"mae\", labelCol=\"rating\",predictionCol=\"prediction\")\n",
    "evaluator.evaluate(predictions)"
   ]
  },
  {
   "cell_type": "code",
   "execution_count": 17,
   "id": "56e8fb04-5a67-43b0-beb9-7580fcb0064b",
   "metadata": {},
   "outputs": [
    {
     "name": "stdout",
     "output_type": "stream",
     "text": [
      "+-----+------+------+\n",
      "| user|  item|rating|\n",
      "+-----+------+------+\n",
      "|20901|232432|     2|\n",
      "|20901|232433|     1|\n",
      "|20901|232459|     1|\n",
      "|20901|232459|     1|\n",
      "|20901|232459|     2|\n",
      "|20901|232459|     2|\n",
      "|20901|232459|     2|\n",
      "|20901|232459|     3|\n",
      "|20901|232459|     3|\n",
      "|20901|232507|     2|\n",
      "|20901|232507|     2|\n",
      "|20901|232507|     3|\n",
      "|20901|232507|     3|\n",
      "|20901|232507|     3|\n",
      "|20901|232507|     3|\n",
      "|20901|233379|     1|\n",
      "|20901|233379|     2|\n",
      "|20901|234059|     1|\n",
      "|20901|247762|     1|\n",
      "|20901|247762|     1|\n",
      "+-----+------+------+\n",
      "only showing top 20 rows\n",
      "\n"
     ]
    }
   ],
   "source": [
    "# create a test user from Silver Spring, MD\n",
    "test_user = testDF.filter('user == 20901').select('user', 'item', 'rating')\n",
    "test_user.show()"
   ]
  },
  {
   "cell_type": "code",
   "execution_count": 18,
   "id": "7f184e0c-3a8f-4af9-a70a-da6b11c56549",
   "metadata": {},
   "outputs": [
    {
     "name": "stdout",
     "output_type": "stream",
     "text": [
      "+-----+--------------------+\n",
      "| user|     recommendations|\n",
      "+-----+--------------------+\n",
      "|20901|[{232507, 1.50426...|\n",
      "+-----+--------------------+\n",
      "\n"
     ]
    }
   ],
   "source": [
    "# get recommendations for test user\n",
    "recommendations = model.recommendForUserSubset(test_user, 5)\n",
    "recommendations.sort('recommendations', ascending=False).show()"
   ]
  },
  {
   "cell_type": "code",
   "execution_count": 19,
   "id": "49a19071-d25e-4e88-9bbe-1be7e953bb10",
   "metadata": {},
   "outputs": [
    {
     "name": "stdout",
     "output_type": "stream",
     "text": [
      "+------+---------+\n",
      "|  item|   rating|\n",
      "+------+---------+\n",
      "|232507|1.5042671|\n",
      "|232508|1.4093786|\n",
      "|232459|1.4052066|\n",
      "|251431| 1.385287|\n",
      "|233626|1.3784753|\n",
      "+------+---------+\n",
      "\n"
     ]
    }
   ],
   "source": [
    "from pyspark.sql.functions import explode\n",
    "\n",
    "recommendations.select(explode('recommendations').alias('recs')).select('recs.item', 'recs.rating').sort('recs.rating', ascending=False).show()"
   ]
  },
  {
   "cell_type": "code",
   "execution_count": 20,
   "id": "0c654b63-c272-4580-ad00-db6afd5c1ea4",
   "metadata": {},
   "outputs": [
    {
     "name": "stdout",
     "output_type": "stream",
     "text": [
      "Requirement already satisfied: requests in /opt/conda/lib/python3.9/site-packages (2.27.1)\n",
      "Requirement already satisfied: certifi>=2017.4.17 in /opt/conda/lib/python3.9/site-packages (from requests) (2021.10.8)\n",
      "Requirement already satisfied: urllib3<1.27,>=1.21.1 in /opt/conda/lib/python3.9/site-packages (from requests) (1.26.9)\n",
      "Requirement already satisfied: charset-normalizer~=2.0.0 in /opt/conda/lib/python3.9/site-packages (from requests) (2.0.12)\n",
      "Requirement already satisfied: idna<4,>=2.5 in /opt/conda/lib/python3.9/site-packages (from requests) (3.3)\n",
      "Note: you may need to restart the kernel to use updated packages.\n"
     ]
    }
   ],
   "source": [
    "%pip install requests"
   ]
  },
  {
   "cell_type": "code",
   "execution_count": 21,
   "id": "de332701-6c55-4bd9-a358-62d5d45cdc23",
   "metadata": {},
   "outputs": [
    {
     "data": {
      "text/plain": [
       "{'message': 'Unauthorized Access'}"
      ]
     },
     "execution_count": 21,
     "metadata": {},
     "output_type": "execute_result"
    }
   ],
   "source": [
    "import requests\n",
    "r = requests.get('https://ridb.recreation.gov/api/v1/facilities/232507', headers={'apikey': 'XXXXX'})\n",
    "r.json()"
   ]
  },
  {
   "cell_type": "code",
   "execution_count": 22,
   "id": "445b7247",
   "metadata": {},
   "outputs": [],
   "source": [
    "from pyspark.ml.tuning import ParamGridBuilder\n",
    "\n",
    "# set parameters for tuning\n",
    "paramGrid = ParamGridBuilder()\\\n",
    "    .addGrid(als.maxIter, [5, 10, 15])\\\n",
    "    .addGrid(als.regParam, [0.001, 0.01, 0.1])\\\n",
    "    .build()"
   ]
  },
  {
   "cell_type": "code",
   "execution_count": 23,
   "id": "1bb7d47a-f5a4-4bfb-8820-0d44ec635e8f",
   "metadata": {},
   "outputs": [],
   "source": [
    "from pyspark.ml.tuning import CrossValidator\n",
    "\n",
    "crossval = CrossValidator(estimator=als,\n",
    "                          estimatorParamMaps=paramGrid,\n",
    "                          evaluator=evaluator)\n",
    "\n",
    "# cross validate create best model\n",
    "cvModel = crossval.fit(trainDF)"
   ]
  },
  {
   "cell_type": "code",
   "execution_count": 24,
   "id": "2bfa2fc8",
   "metadata": {},
   "outputs": [
    {
     "data": {
      "text/plain": [
       "1.3887643411175716"
      ]
     },
     "execution_count": 24,
     "metadata": {},
     "output_type": "execute_result"
    }
   ],
   "source": [
    "# assess prediction model\n",
    "cvPred = cvModel.bestModel.transform(testDF)\n",
    "evaluator.evaluate(cvPred)"
   ]
  },
  {
   "cell_type": "code",
   "execution_count": 25,
   "id": "178dba38-c692-4b47-ae6d-99ffb793b5a1",
   "metadata": {
    "jupyter": {
     "source_hidden": true
    },
    "tags": []
   },
   "outputs": [
    {
     "data": {
      "text/plain": [
       "ALSModel: uid=ALS_a0c6f9b7676a, rank=10"
      ]
     },
     "execution_count": 25,
     "metadata": {},
     "output_type": "execute_result"
    }
   ],
   "source": [
    "cvModel.bestModel"
   ]
  },
  {
   "cell_type": "code",
   "execution_count": 26,
   "id": "a011d8df-13cb-4811-a823-6a765a67ecf5",
   "metadata": {},
   "outputs": [
    {
     "name": "stderr",
     "output_type": "stream",
     "text": [
      "/usr/local/spark/python/pyspark/sql/context.py:125: FutureWarning: Deprecated in 3.0.0. Use SparkSession.builder.getOrCreate() instead.\n",
      "  warnings.warn(\n"
     ]
    },
    {
     "name": "stdout",
     "output_type": "stream",
     "text": [
      "+-----+--------------------+\n",
      "| user|     recommendations|\n",
      "+-----+--------------------+\n",
      "|20901|[{232507, 1.56666...|\n",
      "+-----+--------------------+\n",
      "\n",
      "+------+---------+\n",
      "|  item|   rating|\n",
      "+------+---------+\n",
      "|232507|1.5666603|\n",
      "|232508|1.5243237|\n",
      "|251431|1.4806706|\n",
      "|232459|1.4672366|\n",
      "|233626|1.4087949|\n",
      "+------+---------+\n",
      "\n"
     ]
    }
   ],
   "source": [
    "cvRecommendations = cvModel.bestModel.recommendForUserSubset(test_user, 5)\n",
    "cvRecommendations.sort('recommendations', ascending=False).show()\n",
    "\n",
    "from pyspark.sql.functions import explode\n",
    "\n",
    "cvRecommendations.select(explode('recommendations').alias('recs')).select('recs.item', 'recs.rating').sort('recs.rating', ascending=False).show()"
   ]
  },
  {
   "cell_type": "code",
   "execution_count": 27,
   "id": "d2ea3ae4-103c-4be5-85dd-734702d7799a",
   "metadata": {},
   "outputs": [
    {
     "data": {
      "text/plain": [
       "{'message': 'Unauthorized Access'}"
      ]
     },
     "execution_count": 27,
     "metadata": {},
     "output_type": "execute_result"
    }
   ],
   "source": [
    "r = requests.get('https://ridb.recreation.gov/api/v1/facilities/233379', headers={'apikey': 'XXXXX'})\n",
    "r.json()"
   ]
  },
  {
   "cell_type": "code",
   "execution_count": null,
   "id": "78e8db7b-7247-4d66-99ad-efaf44e208b2",
   "metadata": {},
   "outputs": [],
   "source": []
  }
 ],
 "metadata": {
  "kernelspec": {
   "display_name": "Python 3 (ipykernel)",
   "language": "python",
   "name": "python3"
  },
  "language_info": {
   "codemirror_mode": {
    "name": "ipython",
    "version": 3
   },
   "file_extension": ".py",
   "mimetype": "text/x-python",
   "name": "python",
   "nbconvert_exporter": "python",
   "pygments_lexer": "ipython3",
   "version": "3.9.10"
  }
 },
 "nbformat": 4,
 "nbformat_minor": 5
}
