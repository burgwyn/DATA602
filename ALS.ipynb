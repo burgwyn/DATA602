{
 "cells": [
  {
   "cell_type": "markdown",
   "id": "a2cf60eb-93cb-430b-8ea5-433156fd2513",
   "metadata": {},
   "source": [
    "## ALS\n",
    "\n",
    "The final goal was to attempt to create a basic recommendation system using past reservations. This uses [Alternating Least Squares](https://spark.apache.org/docs/latest/api/python/reference/api/pyspark.ml.recommendation.ALS.html), a native recommender in PySpark's ML library. This documentation, along with [this walkthrough](https://github.com/shashwatwork/Building-Recommeder-System-in-PySpark/blob/master/Crafting%20Recommedation%20System%20with%20PySpark.ipynb) guided this implementation.\n",
    "\n",
    "ALS is fairly straightforward, using three inputs, all integers, to build the model:\n",
    "- userCol - person record in the transaction, customerzip was used in this model\n",
    "- itemCol - facilityid, the product identifier\n",
    "- ratingCol - a score to the item assigned by the user, used a \"days stayed\" calculation to simulate this value"
   ]
  },
  {
   "cell_type": "markdown",
   "id": "f9c3c0e1-df8d-40b7-b9b2-a06cae65c17f",
   "metadata": {},
   "source": [
    "## Load Data\n",
    "\n",
    "Create a required Spark session, define a schema and load the data into a dataframe."
   ]
  },
  {
   "cell_type": "code",
   "execution_count": 1,
   "id": "a28d2ff2-56f8-4809-b857-aaac6e1d42e7",
   "metadata": {},
   "outputs": [],
   "source": [
    "from pyspark.sql import SparkSession\n",
    "\n",
    "MAX_MEMORY = \"8g\"\n",
    "\n",
    "spark = SparkSession.builder.appName('recreation.gov reservations') \\\n",
    "    .config(\"spark.executor.memory\", MAX_MEMORY) \\\n",
    "    .config(\"spark.driver.memory\", MAX_MEMORY) \\\n",
    "    .getOrCreate()"
   ]
  },
  {
   "cell_type": "code",
   "execution_count": 2,
   "id": "32b7e61b-453d-4e98-a6e7-7e629e0e8cbe",
   "metadata": {},
   "outputs": [],
   "source": [
    "from pyspark.sql.types import StructType, StructField, IntegerType\n",
    "\n",
    "# define schema\n",
    "schemaRating = StructType([\n",
    "    StructField(\"user\", IntegerType(), True),\n",
    "    StructField(\"item\", IntegerType(), True),\n",
    "    StructField(\"rating\", IntegerType(), True),\n",
    "])"
   ]
  },
  {
   "cell_type": "code",
   "execution_count": 3,
   "id": "1b72eeda-0f41-4fc1-b170-055d66e136ac",
   "metadata": {},
   "outputs": [],
   "source": [
    "# load data with schema\n",
    "dfReservations2021 = spark.read.format('csv').schema(schemaRating).csv('./data/REC_Collaborative_Facility.csv', header=True, ignoreTrailingWhiteSpace=True)"
   ]
  },
  {
   "cell_type": "code",
   "execution_count": 4,
   "id": "670c3fd6-f680-48e9-bbe3-cd312b72554a",
   "metadata": {},
   "outputs": [
    {
     "name": "stdout",
     "output_type": "stream",
     "text": [
      "+-----+------+------+\n",
      "|user |item  |rating|\n",
      "+-----+------+------+\n",
      "|99709|252494|1     |\n",
      "|99706|252494|1     |\n",
      "|99709|252494|1     |\n",
      "|84401|252494|2     |\n",
      "|99709|252494|2     |\n",
      "|99709|252494|1     |\n",
      "|99743|252494|2     |\n",
      "|99708|252494|3     |\n",
      "|84401|252494|2     |\n",
      "|99710|252494|1     |\n",
      "|99705|252494|1     |\n",
      "|99709|252494|1     |\n",
      "|99709|252494|1     |\n",
      "|99712|252494|2     |\n",
      "|99709|252494|1     |\n",
      "|99712|252494|1     |\n",
      "|99705|252494|2     |\n",
      "|99775|252494|1     |\n",
      "|99709|252494|2     |\n",
      "|99755|252494|1     |\n",
      "+-----+------+------+\n",
      "only showing top 20 rows\n",
      "\n"
     ]
    }
   ],
   "source": [
    "# inspect data\n",
    "dfReservations2021.show(truncate=False)"
   ]
  },
  {
   "cell_type": "code",
   "execution_count": 5,
   "id": "24821a27-988b-4804-8c44-7c4d3e7d6a56",
   "metadata": {},
   "outputs": [],
   "source": [
    "# drop any nulls\n",
    "dfReservations2021 = dfReservations2021.dropna()"
   ]
  },
  {
   "cell_type": "markdown",
   "id": "d971151e-aa35-4d63-ba7f-1febedaed71f",
   "metadata": {},
   "source": [
    "## Basic Model\n",
    "\n",
    "Create a basic ALS model with no hyperparamter tuning.  Follow an 80/20 train/test split and score model with MAE.  Create a testing user and generate predeictions using the native API."
   ]
  },
  {
   "cell_type": "code",
   "execution_count": 6,
   "id": "63d0fac0-b8fb-4524-97b9-b4730dddb199",
   "metadata": {},
   "outputs": [],
   "source": [
    "from pyspark.ml.evaluation import RegressionEvaluator\n",
    "from pyspark.ml.recommendation import ALS\n",
    "\n",
    "# split train and test\n",
    "trainDF, testDF = dfReservations2021.randomSplit([0.8, 0.2])\n",
    "trainDF.cache()\n",
    "\n",
    "# build model\n",
    "# coldStartStrategy - helped drop nulls\n",
    "# implicitPrefs - the ratings are not \"hard\" ratings, but implied\n",
    "als = ALS(coldStartStrategy=\"drop\", implicitPrefs=True)\n",
    "model = als.fit(trainDF)"
   ]
  },
  {
   "cell_type": "code",
   "execution_count": 7,
   "id": "448fb102-c99c-43cb-b918-4ea505799278",
   "metadata": {},
   "outputs": [
    {
     "data": {
      "text/plain": [
       "1.4182925862033209"
      ]
     },
     "execution_count": 7,
     "metadata": {},
     "output_type": "execute_result"
    }
   ],
   "source": [
    "# generate predictions\n",
    "predictions = model.transform(testDF)\n",
    "\n",
    "# evalute model using root mean squared evaluator\n",
    "evaluator = RegressionEvaluator(metricName=\"mae\", labelCol=\"rating\",predictionCol=\"prediction\")\n",
    "evaluator.evaluate(predictions)"
   ]
  },
  {
   "cell_type": "code",
   "execution_count": 8,
   "id": "fd974241-8b82-4943-8bcb-978a0fb3bdf7",
   "metadata": {},
   "outputs": [
    {
     "data": {
      "text/plain": [
       "1.6245429718418"
      ]
     },
     "execution_count": 8,
     "metadata": {},
     "output_type": "execute_result"
    }
   ],
   "source": [
    "# evaluate RMSE\n",
    "rmse_evaluator = RegressionEvaluator(metricName=\"rmse\", labelCol=\"rating\",predictionCol=\"prediction\")\n",
    "rmse_evaluator.evaluate(predictions)"
   ]
  },
  {
   "cell_type": "code",
   "execution_count": 9,
   "id": "56e8fb04-5a67-43b0-beb9-7580fcb0064b",
   "metadata": {},
   "outputs": [
    {
     "name": "stdout",
     "output_type": "stream",
     "text": [
      "+-----+------+------+\n",
      "| user|  item|rating|\n",
      "+-----+------+------+\n",
      "|20901|232459|     2|\n",
      "|20901|232459|     2|\n",
      "|20901|232459|     3|\n",
      "|20901|232490|     3|\n",
      "|20901|232507|     1|\n",
      "|20901|232507|     2|\n",
      "|20901|232507|     3|\n",
      "|20901|232507|     3|\n",
      "|20901|232507|     3|\n",
      "|20901|232507|     3|\n",
      "|20901|232507|     3|\n",
      "|20901|232507|     3|\n",
      "|20901|232507|     3|\n",
      "|20901|233321|     2|\n",
      "|20901|234059|     1|\n",
      "|20901|234685|     3|\n",
      "|20901|247762|     2|\n",
      "|20901|252968|     1|\n",
      "|20901|252968|     3|\n",
      "|20901|258830|     2|\n",
      "+-----+------+------+\n",
      "only showing top 20 rows\n",
      "\n"
     ]
    }
   ],
   "source": [
    "# create a test user from Silver Spring, MD\n",
    "test_user = testDF.filter('user == 20901').select('user', 'item', 'rating')\n",
    "test_user.show()"
   ]
  },
  {
   "cell_type": "code",
   "execution_count": 10,
   "id": "7f184e0c-3a8f-4af9-a70a-da6b11c56549",
   "metadata": {},
   "outputs": [
    {
     "name": "stderr",
     "output_type": "stream",
     "text": [
      "/usr/local/spark/python/pyspark/sql/context.py:125: FutureWarning: Deprecated in 3.0.0. Use SparkSession.builder.getOrCreate() instead.\n",
      "  warnings.warn(\n"
     ]
    },
    {
     "name": "stdout",
     "output_type": "stream",
     "text": [
      "+------+---------+\n",
      "|  item|   rating|\n",
      "+------+---------+\n",
      "|232507|1.4952216|\n",
      "|232508|1.4192376|\n",
      "|232459| 1.399731|\n",
      "|251431|1.3828542|\n",
      "|233626|1.3669988|\n",
      "+------+---------+\n",
      "\n"
     ]
    }
   ],
   "source": [
    "from pyspark.sql.functions import explode\n",
    "\n",
    "# get recommendations for test user\n",
    "recommendations = model.recommendForUserSubset(test_user, 5)\n",
    "dfRecommendations = recommendations.select(explode('recommendations').alias('recs')).select('recs.item', 'recs.rating').sort('recs.rating', ascending=False)\n",
    "dfRecommendations.show()"
   ]
  },
  {
   "cell_type": "markdown",
   "id": "ac5218d5-ea4e-4db7-8678-bf3af332305e",
   "metadata": {},
   "source": [
    "## Requests\n",
    "\n",
    "Use the RIDB RESTful API to fetch more information about a recommendation.\n",
    "\n",
    "NOTE - requires and API key"
   ]
  },
  {
   "cell_type": "code",
   "execution_count": 22,
   "id": "6c895cc7-aa67-474d-9c97-349b7f6bbfde",
   "metadata": {},
   "outputs": [
    {
     "name": "stdout",
     "output_type": "stream",
     "text": [
      "env: RIDB_API_KEY=XXXXX\n"
     ]
    }
   ],
   "source": [
    "%env RIDB_API_KEY=XXXXX"
   ]
  },
  {
   "cell_type": "code",
   "execution_count": 12,
   "id": "0c654b63-c272-4580-ad00-db6afd5c1ea4",
   "metadata": {},
   "outputs": [
    {
     "name": "stdout",
     "output_type": "stream",
     "text": [
      "Requirement already satisfied: requests in /opt/conda/lib/python3.9/site-packages (2.27.1)\n",
      "Requirement already satisfied: certifi>=2017.4.17 in /opt/conda/lib/python3.9/site-packages (from requests) (2021.10.8)\n",
      "Requirement already satisfied: charset-normalizer~=2.0.0 in /opt/conda/lib/python3.9/site-packages (from requests) (2.0.12)\n",
      "Requirement already satisfied: idna<4,>=2.5 in /opt/conda/lib/python3.9/site-packages (from requests) (3.3)\n",
      "Requirement already satisfied: urllib3<1.27,>=1.21.1 in /opt/conda/lib/python3.9/site-packages (from requests) (1.26.9)\n",
      "Note: you may need to restart the kernel to use updated packages.\n"
     ]
    }
   ],
   "source": [
    "%pip install requests"
   ]
  },
  {
   "cell_type": "code",
   "execution_count": 13,
   "id": "de332701-6c55-4bd9-a358-62d5d45cdc23",
   "metadata": {},
   "outputs": [
    {
     "name": "stdout",
     "output_type": "stream",
     "text": [
      "{'FacilityID': '232507', 'LegacyFacilityID': '70989', 'OrgFacilityID': 'AN370989', 'ParentOrgID': '128', 'ParentRecAreaID': '2576', 'FacilityName': 'ASSATEAGUE ISLAND NATIONAL SEASHORE CAMPGROUND', 'FacilityDescription': '<h2>Overview</h2>\\n<p>Assateague Island, famed for its wild horses, lies off the Delmarva Peninsula on the Atlantic Coast. This barrier island is a constantly shifting ribbon of sand, altered daily by powerful wind and waves. <br> <br>The Assateague Island National Seashore, Assateague State Park, and the Chincoteague National Wildlife Refuge each manage and protect this unique, diverse strip of land. <br> <br>For more information go to https://www.nps.gov/asis</p>\\n<h2>Recreation</h2>\\nActivities are abundant on the island, with crabbing and clamming, and a long stretch of beach for swimming, kayaking and fishing.<h2>Facilities</h2>\\n<p>The campground is open year-round. Advance reservations are available up to 6 months in advance during the following dates:\\xa0</p>\\n<ul>\\n<li><strong>Oceanside Group Sites</strong>: Year-round.</li>\\n<li><strong>Equestrian Non-electric sites</strong>: From October 16 through April 15 each year (closed April 16 - October 15).</li>\\n<li><strong>Oceanside and Bayside Individual sites</strong>: From March 15, 2019 through November 15 each year (first come first serve only, November 16 - March 14).\\xa0</li>\\n</ul>\\n<p>Amenities include vault toilets, drinking water, and unheated showers for rinsing off sand. Water in the campground is available when temperatures are above freezing, and year round at the dump stations.</p>\\n<p>The island can be accessed from the northern route in Maryland or the southern route in Virginia, but there is no through road from one end of the island to the other. Access to both Maryland and Virginia entrances are reached by bridge over mainland routes.\\xa0</p>\\n<h2>Natural Features</h2>\\nAssateague is a 37-mile long barrier island on the Atlantic Coast of Maryland and Virginia. The terrain is a mix of sand dunes, maritime forests and salt marshes, and is just a couple miles wide at its broadest section. \\n \\nTwo herds of wild horses inhabit the island. The Maryland herd roams freely in part of Assateague Island National Seashore. The Virginia herd roams in large fenced areas in the Chincoteague National Wildlife Refuge. \\n \\nThe horses are descendants of late 17th century horses brought by colonists attempting to avoid livestock taxes. They now thrive among other wildlife including sika deer, ghost crabs and migrating birds like the great blue heron and snowy egret.\\n<h2>Nearby Attractions</h2>\\n<p>Chincoteague National Wildlife Refuge offers a 14,000-acre wildlife preserve located at the southern end of Assateague Island. To the north, Assateague State Park features two miles of pristine ocean beaches. Ocean City, Maryland is only about 10 miles away with a 2.5 mile long boardwalk filled with shops, restaurants, and a wide variety of entertainment options. The historic town of Berlin is about 10 miles west of Assateague, offering many shops and restaurants.\\xa0</p>\\n<h2>Charges &amp; Cancellations</h2>\\n<p>Cancellations/Modifications: Customers can modify/cancel reservations starting 18 days after the reservation was made. Customers cancelling a reservation will be charged a $10.00 service fee. Customers wishing to modify a reservation can do so online or over the phone and may be subject to a $10.00 service fee.</p>\\n\\n<p>Late Cancellations: Customers who cancel a reservation the day before or the day of arrival will pay a $10.00 service fee and forfeit the first night’s use fee. Cancellations for a 1-night stay will forfeit the entire amount paid and will not be subject to the additional service fee.</p>\\n\\n<p>Early Departures: Customers wishing to early depart before 11am can receive a refund for that night and subsequent nights provided they are off the campsite completely by 11am and let rangers at the Campground Office know. Customers wishing to early depart after 11am can receive a refund for subsequent days, but will not get a refund for the current night.</p>\\n', 'FacilityTypeDescription': 'Campground', 'FacilityUseFeeDescription': '\\n', 'FacilityDirections': 'Follow US Route 50 east to MD Route 611 south. Proceed over Verrazano Bridge. Take first right onto BayBerry Drive. Continue 2.25 miles to entrance station. Pay entrance fee. Take first right to ranger station to  register and check in.', 'FacilityPhone': '410-641-3030', 'FacilityEmail': 'Michael_Yandle@nps.gov', 'FacilityReservationURL': '', 'FacilityMapURL': '', 'FacilityAdaAccess': 'N', 'GEOJSON': {'TYPE': 'Point', 'COORDINATES': [-75.2, 38.0833333]}, 'FacilityLongitude': -75.2, 'FacilityLatitude': 38.0833333, 'Keywords': 'CG01,Assateague National Park,Assateague Federal Park,Assateague Oceanside,Assateague Park. Assateague Bayside,Assateague Island Park,Assateague,bay side,ocean side,Assateague Bay side,Assateague Oean Side', 'StayLimit': '', 'Reservable': True, 'Enabled': True, 'LastUpdatedDate': '2022-05-24'}\n"
     ]
    }
   ],
   "source": [
    "import os\n",
    "import requests\n",
    "\n",
    "# load RIDB API key environment variable\n",
    "RIDB_API_KEY = os.environ.get('RIDB_API_KEY')\n",
    "\n",
    "# fetch more data from RESTful API\n",
    "if RIDB_API_KEY:\n",
    "    r = requests.get('https://ridb.recreation.gov/api/v1/facilities/' + str(dfRecommendations.collect()[0][0]), headers={'apikey': RIDB_API_KEY})\n",
    "    print(r.json())\n",
    "else:\n",
    "    print('Request not available')"
   ]
  },
  {
   "cell_type": "markdown",
   "id": "9b2112c9-7be0-4c06-be5a-d8e9f963b6ff",
   "metadata": {},
   "source": [
    "## Cross Validation\n",
    "\n",
    "Create an optomized model using hyperparameters and cross validation.  Evaluate model with MAE and use the best model to generate recommendations for the test user."
   ]
  },
  {
   "cell_type": "code",
   "execution_count": 14,
   "id": "445b7247",
   "metadata": {},
   "outputs": [],
   "source": [
    "from pyspark.ml.tuning import ParamGridBuilder\n",
    "\n",
    "# set parameters for tuning\n",
    "paramGrid = ParamGridBuilder()\\\n",
    "    .addGrid(als.maxIter, [5, 10, 15])\\\n",
    "    .addGrid(als.regParam, [0.001, 0.01, 0.1])\\\n",
    "    .build()"
   ]
  },
  {
   "cell_type": "code",
   "execution_count": 15,
   "id": "1bb7d47a-f5a4-4bfb-8820-0d44ec635e8f",
   "metadata": {},
   "outputs": [],
   "source": [
    "from pyspark.ml.tuning import CrossValidator\n",
    "\n",
    "crossval = CrossValidator(estimator=als,\n",
    "                          estimatorParamMaps=paramGrid,\n",
    "                          evaluator=evaluator)\n",
    "\n",
    "# cross validate create best model\n",
    "cvModel = crossval.fit(trainDF)"
   ]
  },
  {
   "cell_type": "code",
   "execution_count": 16,
   "id": "2bfa2fc8",
   "metadata": {},
   "outputs": [
    {
     "data": {
      "text/plain": [
       "1.388201987081891"
      ]
     },
     "execution_count": 16,
     "metadata": {},
     "output_type": "execute_result"
    }
   ],
   "source": [
    "# assess prediction model\n",
    "cvPred = cvModel.bestModel.transform(testDF)\n",
    "evaluator.evaluate(cvPred)"
   ]
  },
  {
   "cell_type": "code",
   "execution_count": 17,
   "id": "ea5cd0e6-a3f6-469a-9c2b-089703c6ec97",
   "metadata": {},
   "outputs": [
    {
     "data": {
      "text/plain": [
       "1.594626026508609"
      ]
     },
     "execution_count": 17,
     "metadata": {},
     "output_type": "execute_result"
    }
   ],
   "source": [
    "# get RMSE score\n",
    "rmse_evaluator.evaluate(cvPred)"
   ]
  },
  {
   "cell_type": "code",
   "execution_count": 18,
   "id": "178dba38-c692-4b47-ae6d-99ffb793b5a1",
   "metadata": {
    "jupyter": {
     "source_hidden": true
    },
    "tags": []
   },
   "outputs": [
    {
     "data": {
      "text/plain": [
       "ALSModel: uid=ALS_1b818a5a6f87, rank=10"
      ]
     },
     "execution_count": 18,
     "metadata": {},
     "output_type": "execute_result"
    }
   ],
   "source": [
    "cvModel.bestModel"
   ]
  },
  {
   "cell_type": "code",
   "execution_count": 19,
   "id": "a011d8df-13cb-4811-a823-6a765a67ecf5",
   "metadata": {},
   "outputs": [
    {
     "name": "stderr",
     "output_type": "stream",
     "text": [
      "/usr/local/spark/python/pyspark/sql/context.py:125: FutureWarning: Deprecated in 3.0.0. Use SparkSession.builder.getOrCreate() instead.\n",
      "  warnings.warn(\n"
     ]
    },
    {
     "name": "stdout",
     "output_type": "stream",
     "text": [
      "+------+---------+\n",
      "|  item|   rating|\n",
      "+------+---------+\n",
      "|232507|1.5563093|\n",
      "|251431|1.5072519|\n",
      "|232508|1.5059693|\n",
      "|232459|1.4619796|\n",
      "|233563|1.4107742|\n",
      "+------+---------+\n",
      "\n"
     ]
    }
   ],
   "source": [
    "# get recommendations for user\n",
    "cvRecommendations = cvModel.bestModel.recommendForUserSubset(test_user, 5)\n",
    "dfCVRecommendations = cvRecommendations.select(explode('recommendations').alias('recs')).select('recs.item', 'recs.rating').sort('recs.rating', ascending=False)\n",
    "dfCVRecommendations.show()"
   ]
  },
  {
   "cell_type": "code",
   "execution_count": 20,
   "id": "d2ea3ae4-103c-4be5-85dd-734702d7799a",
   "metadata": {},
   "outputs": [
    {
     "name": "stdout",
     "output_type": "stream",
     "text": [
      "{'FacilityID': '232507', 'LegacyFacilityID': '70989', 'OrgFacilityID': 'AN370989', 'ParentOrgID': '128', 'ParentRecAreaID': '2576', 'FacilityName': 'ASSATEAGUE ISLAND NATIONAL SEASHORE CAMPGROUND', 'FacilityDescription': '<h2>Overview</h2>\\n<p>Assateague Island, famed for its wild horses, lies off the Delmarva Peninsula on the Atlantic Coast. This barrier island is a constantly shifting ribbon of sand, altered daily by powerful wind and waves. <br> <br>The Assateague Island National Seashore, Assateague State Park, and the Chincoteague National Wildlife Refuge each manage and protect this unique, diverse strip of land. <br> <br>For more information go to https://www.nps.gov/asis</p>\\n<h2>Recreation</h2>\\nActivities are abundant on the island, with crabbing and clamming, and a long stretch of beach for swimming, kayaking and fishing.<h2>Facilities</h2>\\n<p>The campground is open year-round. Advance reservations are available up to 6 months in advance during the following dates:\\xa0</p>\\n<ul>\\n<li><strong>Oceanside Group Sites</strong>: Year-round.</li>\\n<li><strong>Equestrian Non-electric sites</strong>: From October 16 through April 15 each year (closed April 16 - October 15).</li>\\n<li><strong>Oceanside and Bayside Individual sites</strong>: From March 15, 2019 through November 15 each year (first come first serve only, November 16 - March 14).\\xa0</li>\\n</ul>\\n<p>Amenities include vault toilets, drinking water, and unheated showers for rinsing off sand. Water in the campground is available when temperatures are above freezing, and year round at the dump stations.</p>\\n<p>The island can be accessed from the northern route in Maryland or the southern route in Virginia, but there is no through road from one end of the island to the other. Access to both Maryland and Virginia entrances are reached by bridge over mainland routes.\\xa0</p>\\n<h2>Natural Features</h2>\\nAssateague is a 37-mile long barrier island on the Atlantic Coast of Maryland and Virginia. The terrain is a mix of sand dunes, maritime forests and salt marshes, and is just a couple miles wide at its broadest section. \\n \\nTwo herds of wild horses inhabit the island. The Maryland herd roams freely in part of Assateague Island National Seashore. The Virginia herd roams in large fenced areas in the Chincoteague National Wildlife Refuge. \\n \\nThe horses are descendants of late 17th century horses brought by colonists attempting to avoid livestock taxes. They now thrive among other wildlife including sika deer, ghost crabs and migrating birds like the great blue heron and snowy egret.\\n<h2>Nearby Attractions</h2>\\n<p>Chincoteague National Wildlife Refuge offers a 14,000-acre wildlife preserve located at the southern end of Assateague Island. To the north, Assateague State Park features two miles of pristine ocean beaches. Ocean City, Maryland is only about 10 miles away with a 2.5 mile long boardwalk filled with shops, restaurants, and a wide variety of entertainment options. The historic town of Berlin is about 10 miles west of Assateague, offering many shops and restaurants.\\xa0</p>\\n<h2>Charges &amp; Cancellations</h2>\\n<p>Cancellations/Modifications: Customers can modify/cancel reservations starting 18 days after the reservation was made. Customers cancelling a reservation will be charged a $10.00 service fee. Customers wishing to modify a reservation can do so online or over the phone and may be subject to a $10.00 service fee.</p>\\n\\n<p>Late Cancellations: Customers who cancel a reservation the day before or the day of arrival will pay a $10.00 service fee and forfeit the first night’s use fee. Cancellations for a 1-night stay will forfeit the entire amount paid and will not be subject to the additional service fee.</p>\\n\\n<p>Early Departures: Customers wishing to early depart before 11am can receive a refund for that night and subsequent nights provided they are off the campsite completely by 11am and let rangers at the Campground Office know. Customers wishing to early depart after 11am can receive a refund for subsequent days, but will not get a refund for the current night.</p>\\n', 'FacilityTypeDescription': 'Campground', 'FacilityUseFeeDescription': '\\n', 'FacilityDirections': 'Follow US Route 50 east to MD Route 611 south. Proceed over Verrazano Bridge. Take first right onto BayBerry Drive. Continue 2.25 miles to entrance station. Pay entrance fee. Take first right to ranger station to  register and check in.', 'FacilityPhone': '410-641-3030', 'FacilityEmail': 'Michael_Yandle@nps.gov', 'FacilityReservationURL': '', 'FacilityMapURL': '', 'FacilityAdaAccess': 'N', 'GEOJSON': {'TYPE': 'Point', 'COORDINATES': [-75.2, 38.0833333]}, 'FacilityLongitude': -75.2, 'FacilityLatitude': 38.0833333, 'Keywords': 'CG01,Assateague National Park,Assateague Federal Park,Assateague Oceanside,Assateague Park. Assateague Bayside,Assateague Island Park,Assateague,bay side,ocean side,Assateague Bay side,Assateague Oean Side', 'StayLimit': '', 'Reservable': True, 'Enabled': True, 'LastUpdatedDate': '2022-05-24'}\n"
     ]
    }
   ],
   "source": [
    "# fetch more data from RESTful API\n",
    "if RIDB_API_KEY:\n",
    "    r = requests.get('https://ridb.recreation.gov/api/v1/facilities/' + str(dfCVRecommendations.collect()[0][0]), headers={'apikey': RIDB_API_KEY})\n",
    "    print(r.json())\n",
    "else:\n",
    "    print('Request not available')"
   ]
  },
  {
   "cell_type": "markdown",
   "id": "ea6e64a6-bd82-4174-90fa-f3f77df4449d",
   "metadata": {},
   "source": [
    "## Export Model\n",
    "\n",
    "Save model for future use."
   ]
  },
  {
   "cell_type": "code",
   "execution_count": 21,
   "id": "08fd2e74-c1b8-4c4b-afe4-55a16a3e1cf7",
   "metadata": {},
   "outputs": [],
   "source": [
    "# save model\n",
    "cvModel.bestModel.write().overwrite().save('./model/als.model')"
   ]
  }
 ],
 "metadata": {
  "kernelspec": {
   "display_name": "Python 3 (ipykernel)",
   "language": "python",
   "name": "python3"
  },
  "language_info": {
   "codemirror_mode": {
    "name": "ipython",
    "version": 3
   },
   "file_extension": ".py",
   "mimetype": "text/x-python",
   "name": "python",
   "nbconvert_exporter": "python",
   "pygments_lexer": "ipython3",
   "version": "3.9.10"
  }
 },
 "nbformat": 4,
 "nbformat_minor": 5
}
