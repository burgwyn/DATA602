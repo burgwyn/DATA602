{
 "cells": [
  {
   "cell_type": "markdown",
   "id": "a2cf60eb-93cb-430b-8ea5-433156fd2513",
   "metadata": {},
   "source": [
    "## ALS\n",
    "\n",
    "The final goal was to attempt to create a basic recommendation system using past reservations. This uses [Alternating Least Squares](https://spark.apache.org/docs/latest/api/python/reference/api/pyspark.ml.recommendation.ALS.html), a native recommender in PySpark's ML library. This documentation, along with [this walkthrough](https://github.com/shashwatwork/Building-Recommeder-System-in-PySpark/blob/master/Crafting%20Recommedation%20System%20with%20PySpark.ipynb) guided this implementation.\n",
    "\n",
    "ALS is fairly straightforward, using three inputs, all integers, to build the model:\n",
    "- userCol - person record in the transaction, customerzip was used in this model\n",
    "- itemCol - facilityid, the product identifier\n",
    "- ratingCol - a score to the item assigned by the user, used a \"days stayed\" calculation to simulate this value"
   ]
  },
  {
   "cell_type": "markdown",
   "id": "f9c3c0e1-df8d-40b7-b9b2-a06cae65c17f",
   "metadata": {},
   "source": [
    "## Load Data\n",
    "\n",
    "Create a required Spark session, define a schema and load the data into a dataframe."
   ]
  },
  {
   "cell_type": "code",
   "execution_count": 1,
   "id": "a28d2ff2-56f8-4809-b857-aaac6e1d42e7",
   "metadata": {},
   "outputs": [],
   "source": [
    "from pyspark.sql import SparkSession\n",
    "\n",
    "MAX_MEMORY = \"8g\"\n",
    "\n",
    "spark = SparkSession.builder.appName('recreation.gov reservations') \\\n",
    "    .config(\"spark.executor.memory\", MAX_MEMORY) \\\n",
    "    .config(\"spark.driver.memory\", MAX_MEMORY) \\\n",
    "    .getOrCreate()"
   ]
  },
  {
   "cell_type": "code",
   "execution_count": 28,
   "id": "32b7e61b-453d-4e98-a6e7-7e629e0e8cbe",
   "metadata": {},
   "outputs": [],
   "source": [
    "from pyspark.sql.types import StructType, StructField, IntegerType, FloatType\n",
    "\n",
    "# define schema\n",
    "schemaRating = StructType([\n",
    "    StructField(\"user\", IntegerType(), True),\n",
    "    StructField(\"item\", IntegerType(), True),\n",
    "    StructField(\"rating\", IntegerType(), True),\n",
    "])"
   ]
  },
  {
   "cell_type": "code",
   "execution_count": 29,
   "id": "1b72eeda-0f41-4fc1-b170-055d66e136ac",
   "metadata": {},
   "outputs": [],
   "source": [
    "# load data with schema\n",
    "dfReservations2021 = spark.read.format('csv').schema(schemaRating).csv('REC_Collaborative_Facility.csv', header=True, ignoreTrailingWhiteSpace=True)"
   ]
  },
  {
   "cell_type": "code",
   "execution_count": 30,
   "id": "670c3fd6-f680-48e9-bbe3-cd312b72554a",
   "metadata": {},
   "outputs": [
    {
     "name": "stdout",
     "output_type": "stream",
     "text": [
      "+-----+------+------+\n",
      "|user |item  |rating|\n",
      "+-----+------+------+\n",
      "|99709|252494|1     |\n",
      "|99706|252494|1     |\n",
      "|99709|252494|1     |\n",
      "|84401|252494|2     |\n",
      "|99709|252494|2     |\n",
      "|99709|252494|1     |\n",
      "|99743|252494|2     |\n",
      "|99708|252494|3     |\n",
      "|84401|252494|2     |\n",
      "|99710|252494|1     |\n",
      "|99705|252494|1     |\n",
      "|99709|252494|1     |\n",
      "|99709|252494|1     |\n",
      "|99712|252494|2     |\n",
      "|99709|252494|1     |\n",
      "|99712|252494|1     |\n",
      "|99705|252494|2     |\n",
      "|99775|252494|1     |\n",
      "|99709|252494|2     |\n",
      "|99755|252494|1     |\n",
      "+-----+------+------+\n",
      "only showing top 20 rows\n",
      "\n"
     ]
    }
   ],
   "source": [
    "# inspect data\n",
    "dfReservations2021.show(truncate=False)"
   ]
  },
  {
   "cell_type": "code",
   "execution_count": 31,
   "id": "24821a27-988b-4804-8c44-7c4d3e7d6a56",
   "metadata": {},
   "outputs": [],
   "source": [
    "# drop any nulls\n",
    "dfReservations2021 = dfReservations2021.dropna()"
   ]
  },
  {
   "cell_type": "markdown",
   "id": "d971151e-aa35-4d63-ba7f-1febedaed71f",
   "metadata": {},
   "source": [
    "## Basic Model\n",
    "\n",
    "Create a basic ALS model with no hyperparamter tuning.  Follow an 80/20 train/test split and score model with MAE.  Create a testing user and generate predeictions using the native API."
   ]
  },
  {
   "cell_type": "code",
   "execution_count": 32,
   "id": "63d0fac0-b8fb-4524-97b9-b4730dddb199",
   "metadata": {},
   "outputs": [],
   "source": [
    "from pyspark.ml.evaluation import RegressionEvaluator\n",
    "from pyspark.ml.recommendation import ALS\n",
    "\n",
    "# split train and test\n",
    "trainDF, testDF = dfReservations2021.randomSplit([0.8, 0.2])\n",
    "trainDF.cache()\n",
    "\n",
    "# build model\n",
    "# coldStartStrategy - helped drop nulls\n",
    "# implicitPrefs - the ratings are not \"hard\" ratings, but implied\n",
    "als = ALS(coldStartStrategy=\"drop\", implicitPrefs=True)\n",
    "model = als.fit(trainDF)"
   ]
  },
  {
   "cell_type": "code",
   "execution_count": 33,
   "id": "448fb102-c99c-43cb-b918-4ea505799278",
   "metadata": {},
   "outputs": [
    {
     "data": {
      "text/plain": [
       "1.4170840733953038"
      ]
     },
     "execution_count": 33,
     "metadata": {},
     "output_type": "execute_result"
    }
   ],
   "source": [
    "# generate predictions\n",
    "predictions = model.transform(testDF)\n",
    "\n",
    "# evalute model using root mean squared evaluator\n",
    "evaluator = RegressionEvaluator(metricName=\"mae\", labelCol=\"rating\",predictionCol=\"prediction\")\n",
    "evaluator.evaluate(predictions)"
   ]
  },
  {
   "cell_type": "code",
   "execution_count": 34,
   "id": "56e8fb04-5a67-43b0-beb9-7580fcb0064b",
   "metadata": {},
   "outputs": [
    {
     "name": "stdout",
     "output_type": "stream",
     "text": [
      "+-----+------+------+\n",
      "| user|  item|rating|\n",
      "+-----+------+------+\n",
      "|20901|232432|     2|\n",
      "|20901|232433|     2|\n",
      "|20901|232433|     2|\n",
      "|20901|232459|     1|\n",
      "|20901|232459|     2|\n",
      "|20901|232459|     3|\n",
      "|20901|232463|     2|\n",
      "|20901|232507|     1|\n",
      "|20901|232507|     1|\n",
      "|20901|232507|     1|\n",
      "|20901|232507|     2|\n",
      "|20901|232507|     3|\n",
      "|20901|232507|     3|\n",
      "|20901|232507|     3|\n",
      "|20901|232507|     3|\n",
      "|20901|232507|     3|\n",
      "|20901|232507|     3|\n",
      "|20901|232507|     3|\n",
      "|20901|232508|     2|\n",
      "|20901|233379|     2|\n",
      "+-----+------+------+\n",
      "only showing top 20 rows\n",
      "\n"
     ]
    }
   ],
   "source": [
    "# create a test user from Silver Spring, MD\n",
    "test_user = testDF.filter('user == 20901').select('user', 'item', 'rating')\n",
    "test_user.show()"
   ]
  },
  {
   "cell_type": "code",
   "execution_count": 35,
   "id": "7f184e0c-3a8f-4af9-a70a-da6b11c56549",
   "metadata": {},
   "outputs": [
    {
     "name": "stdout",
     "output_type": "stream",
     "text": [
      "+------+---------+\n",
      "|  item|   rating|\n",
      "+------+---------+\n",
      "|232507|1.4859892|\n",
      "|232508|1.4284883|\n",
      "|232459|1.4030318|\n",
      "|251431|1.3911495|\n",
      "|233563|1.3731725|\n",
      "+------+---------+\n",
      "\n"
     ]
    }
   ],
   "source": [
    "from pyspark.sql.functions import explode\n",
    "\n",
    "# get recommendations for test user\n",
    "recommendations = model.recommendForUserSubset(test_user, 5)\n",
    "recommendations.select(explode('recommendations').alias('recs')).select('recs.item', 'recs.rating').sort('recs.rating', ascending=False).show()"
   ]
  },
  {
   "cell_type": "code",
   "execution_count": 36,
   "id": "0c654b63-c272-4580-ad00-db6afd5c1ea4",
   "metadata": {},
   "outputs": [
    {
     "name": "stdout",
     "output_type": "stream",
     "text": [
      "Requirement already satisfied: requests in /opt/conda/lib/python3.9/site-packages (2.27.1)\n",
      "Requirement already satisfied: urllib3<1.27,>=1.21.1 in /opt/conda/lib/python3.9/site-packages (from requests) (1.26.9)\n",
      "Requirement already satisfied: idna<4,>=2.5 in /opt/conda/lib/python3.9/site-packages (from requests) (3.3)\n",
      "Requirement already satisfied: certifi>=2017.4.17 in /opt/conda/lib/python3.9/site-packages (from requests) (2021.10.8)\n",
      "Requirement already satisfied: charset-normalizer~=2.0.0 in /opt/conda/lib/python3.9/site-packages (from requests) (2.0.12)\n",
      "Note: you may need to restart the kernel to use updated packages.\n"
     ]
    }
   ],
   "source": [
    "%pip install requests"
   ]
  },
  {
   "cell_type": "code",
   "execution_count": 38,
   "id": "de332701-6c55-4bd9-a358-62d5d45cdc23",
   "metadata": {},
   "outputs": [
    {
     "data": {
      "text/plain": [
       "{'message': 'Unauthorized Access'}"
      ]
     },
     "execution_count": 38,
     "metadata": {},
     "output_type": "execute_result"
    }
   ],
   "source": [
    "import requests\n",
    "\n",
    "r = requests.get('https://ridb.recreation.gov/api/v1/facilities/232507', headers={'apikey': 'XXXXX'})\n",
    "r.json()"
   ]
  },
  {
   "cell_type": "markdown",
   "id": "9b2112c9-7be0-4c06-be5a-d8e9f963b6ff",
   "metadata": {},
   "source": [
    "## Cross Validation\n",
    "\n",
    "Create an optomized model using hyperparameters and cross validation.  Evaluate model with MAE and use the best model to generate recommendations for the test user."
   ]
  },
  {
   "cell_type": "code",
   "execution_count": 39,
   "id": "445b7247",
   "metadata": {},
   "outputs": [],
   "source": [
    "from pyspark.ml.tuning import ParamGridBuilder\n",
    "\n",
    "# set parameters for tuning\n",
    "paramGrid = ParamGridBuilder()\\\n",
    "    .addGrid(als.maxIter, [5, 10, 15])\\\n",
    "    .addGrid(als.regParam, [0.001, 0.01, 0.1])\\\n",
    "    .build()"
   ]
  },
  {
   "cell_type": "code",
   "execution_count": 40,
   "id": "1bb7d47a-f5a4-4bfb-8820-0d44ec635e8f",
   "metadata": {},
   "outputs": [],
   "source": [
    "from pyspark.ml.tuning import CrossValidator\n",
    "\n",
    "crossval = CrossValidator(estimator=als,\n",
    "                          estimatorParamMaps=paramGrid,\n",
    "                          evaluator=evaluator)\n",
    "\n",
    "# cross validate create best model\n",
    "cvModel = crossval.fit(trainDF)"
   ]
  },
  {
   "cell_type": "code",
   "execution_count": 41,
   "id": "2bfa2fc8",
   "metadata": {},
   "outputs": [
    {
     "data": {
      "text/plain": [
       "1.3874826119513284"
      ]
     },
     "execution_count": 41,
     "metadata": {},
     "output_type": "execute_result"
    }
   ],
   "source": [
    "# assess prediction model\n",
    "cvPred = cvModel.bestModel.transform(testDF)\n",
    "evaluator.evaluate(cvPred)"
   ]
  },
  {
   "cell_type": "code",
   "execution_count": 42,
   "id": "178dba38-c692-4b47-ae6d-99ffb793b5a1",
   "metadata": {
    "jupyter": {
     "source_hidden": true
    },
    "tags": []
   },
   "outputs": [
    {
     "data": {
      "text/plain": [
       "ALSModel: uid=ALS_514f1170bcf6, rank=10"
      ]
     },
     "execution_count": 42,
     "metadata": {},
     "output_type": "execute_result"
    }
   ],
   "source": [
    "cvModel.bestModel"
   ]
  },
  {
   "cell_type": "code",
   "execution_count": 43,
   "id": "a011d8df-13cb-4811-a823-6a765a67ecf5",
   "metadata": {},
   "outputs": [
    {
     "name": "stdout",
     "output_type": "stream",
     "text": [
      "+------+---------+\n",
      "|  item|   rating|\n",
      "+------+---------+\n",
      "|232507|1.5436949|\n",
      "|251431|1.4961312|\n",
      "|232508|1.4867854|\n",
      "|232459|1.4550209|\n",
      "|233563|1.4480174|\n",
      "+------+---------+\n",
      "\n"
     ]
    }
   ],
   "source": [
    "# get recommendations for user\n",
    "cvRecommendations = cvModel.bestModel.recommendForUserSubset(test_user, 5)\n",
    "cvRecommendations.select(explode('recommendations').alias('recs')).select('recs.item', 'recs.rating').sort('recs.rating', ascending=False).show()"
   ]
  },
  {
   "cell_type": "code",
   "execution_count": 44,
   "id": "d2ea3ae4-103c-4be5-85dd-734702d7799a",
   "metadata": {},
   "outputs": [
    {
     "data": {
      "text/plain": [
       "{'message': 'Unauthorized Access'}"
      ]
     },
     "execution_count": 44,
     "metadata": {},
     "output_type": "execute_result"
    }
   ],
   "source": [
    "r = requests.get('https://ridb.recreation.gov/api/v1/facilities/233379', headers={'apikey': 'XXXXX'})\n",
    "r.json()"
   ]
  }
 ],
 "metadata": {
  "kernelspec": {
   "display_name": "Python 3 (ipykernel)",
   "language": "python",
   "name": "python3"
  },
  "language_info": {
   "codemirror_mode": {
    "name": "ipython",
    "version": 3
   },
   "file_extension": ".py",
   "mimetype": "text/x-python",
   "name": "python",
   "nbconvert_exporter": "python",
   "pygments_lexer": "ipython3",
   "version": "3.9.10"
  }
 },
 "nbformat": 4,
 "nbformat_minor": 5
}
