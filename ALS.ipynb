{
 "cells": [
  {
   "cell_type": "markdown",
   "id": "a2cf60eb-93cb-430b-8ea5-433156fd2513",
   "metadata": {},
   "source": [
    "## ALS\n",
    "\n",
    "The final goal was to attempt to create a basic recommendation system using past reservations. This uses [Alternating Least Squares](https://spark.apache.org/docs/latest/api/python/reference/api/pyspark.ml.recommendation.ALS.html), a native recommender in PySpark's ML library. This documentation, along with [this walkthrough](https://github.com/shashwatwork/Building-Recommeder-System-in-PySpark/blob/master/Crafting%20Recommedation%20System%20with%20PySpark.ipynb) guided this implementation.\n",
    "\n",
    "ALS is fairly straightforward, using three inputs, all integers, to build the model:\n",
    "- userCol - person record in the transaction, customerzip was used in this model\n",
    "- itemCol - facilityid, the product identifier\n",
    "- ratingCol - a score to the item assigned by the user, used a \"days stayed\" calculation to simulate this value"
   ]
  },
  {
   "cell_type": "code",
   "execution_count": 1,
   "id": "a28d2ff2-56f8-4809-b857-aaac6e1d42e7",
   "metadata": {},
   "outputs": [],
   "source": [
    "from pyspark.sql import SparkSession\n",
    "\n",
    "MAX_MEMORY = \"8g\"\n",
    "\n",
    "spark = SparkSession.builder.appName('recreation.gov reservations') \\\n",
    "    .config(\"spark.executor.memory\", MAX_MEMORY) \\\n",
    "    .config(\"spark.driver.memory\", MAX_MEMORY) \\\n",
    "    .getOrCreate()"
   ]
  },
  {
   "cell_type": "code",
   "execution_count": 2,
   "id": "32b7e61b-453d-4e98-a6e7-7e629e0e8cbe",
   "metadata": {},
   "outputs": [],
   "source": [
    "from pyspark.sql.types import StructType, StructField, IntegerType, FloatType\n",
    "\n",
    "schemaRating = StructType([\n",
    "    StructField(\"item\", IntegerType(), True),\n",
    "    StructField(\"user\", IntegerType(), True),\n",
    "    StructField(\"rating\", IntegerType(), True),\n",
    "])"
   ]
  },
  {
   "cell_type": "code",
   "execution_count": 3,
   "id": "1b72eeda-0f41-4fc1-b170-055d66e136ac",
   "metadata": {},
   "outputs": [],
   "source": [
    "dfReservations2021 = spark.read.format('csv').schema(schemaRating).csv('REC_Collaborative_Facility.csv', header=True, ignoreTrailingWhiteSpace=True)"
   ]
  },
  {
   "cell_type": "code",
   "execution_count": 4,
   "id": "4f36afe5-e07e-42b8-9840-a64a122f78f2",
   "metadata": {},
   "outputs": [
    {
     "name": "stdout",
     "output_type": "stream",
     "text": [
      "+----+----+------+\n",
      "|item|user|rating|\n",
      "+----+----+------+\n",
      "+----+----+------+\n",
      "\n"
     ]
    }
   ],
   "source": [
    "dfReservations2021.filter(dfReservations2021.rating.isNull()).show()"
   ]
  },
  {
   "cell_type": "code",
   "execution_count": 5,
   "id": "670c3fd6-f680-48e9-bbe3-cd312b72554a",
   "metadata": {},
   "outputs": [
    {
     "name": "stdout",
     "output_type": "stream",
     "text": [
      "+------+-----+------+\n",
      "|item  |user |rating|\n",
      "+------+-----+------+\n",
      "|252494|99709|1     |\n",
      "|252494|99706|1     |\n",
      "|252494|99709|1     |\n",
      "|252494|99709|1     |\n",
      "|252494|84401|2     |\n",
      "|252494|99709|2     |\n",
      "|252494|99709|1     |\n",
      "|252494|99743|1     |\n",
      "|252494|99743|2     |\n",
      "|252494|99708|3     |\n",
      "|252494|84401|2     |\n",
      "|252494|99710|1     |\n",
      "|252494|99705|1     |\n",
      "|252494|99709|1     |\n",
      "|252494|99709|1     |\n",
      "|252494|99712|2     |\n",
      "|252494|99556|1     |\n",
      "|252494|99709|1     |\n",
      "|252494|99712|2     |\n",
      "|252494|99705|2     |\n",
      "+------+-----+------+\n",
      "only showing top 20 rows\n",
      "\n"
     ]
    }
   ],
   "source": [
    "dfReservations2021.show(truncate=False)"
   ]
  },
  {
   "cell_type": "code",
   "execution_count": 6,
   "id": "24821a27-988b-4804-8c44-7c4d3e7d6a56",
   "metadata": {},
   "outputs": [],
   "source": [
    "dfReservations2021 = dfReservations2021.dropna()"
   ]
  },
  {
   "cell_type": "code",
   "execution_count": 7,
   "id": "63d0fac0-b8fb-4524-97b9-b4730dddb199",
   "metadata": {},
   "outputs": [],
   "source": [
    "from pyspark.ml.evaluation import RegressionEvaluator\n",
    "from pyspark.ml.recommendation import ALS\n",
    "\n",
    "#split train and test\n",
    "trainDF, testDF = dfReservations2021.randomSplit([0.8, 0.2])\n",
    "trainDF.cache()\n",
    "\n",
    "# build model\n",
    "# coldStartStrategy - helped drop nulls\n",
    "als = ALS(coldStartStrategy=\"drop\", implicitPrefs=True)\n",
    "model = als.fit(trainDF)"
   ]
  },
  {
   "cell_type": "code",
   "execution_count": 8,
   "id": "448fb102-c99c-43cb-b918-4ea505799278",
   "metadata": {},
   "outputs": [
    {
     "data": {
      "text/plain": [
       "1.636292417364111"
      ]
     },
     "execution_count": 8,
     "metadata": {},
     "output_type": "execute_result"
    }
   ],
   "source": [
    "# generate predictions\n",
    "predictions = model.transform(testDF)\n",
    "\n",
    "# evalute model using root mean squared evaluator\n",
    "evaluator = RegressionEvaluator(metricName=\"rmse\", labelCol=\"rating\",predictionCol=\"prediction\")\n",
    "evaluator.evaluate(predictions)"
   ]
  },
  {
   "cell_type": "code",
   "execution_count": 9,
   "id": "56e8fb04-5a67-43b0-beb9-7580fcb0064b",
   "metadata": {},
   "outputs": [
    {
     "name": "stdout",
     "output_type": "stream",
     "text": [
      "+-----+------+------+\n",
      "| user|  item|rating|\n",
      "+-----+------+------+\n",
      "|20901|232432|     2|\n",
      "|20901|232432|     2|\n",
      "|20901|232432|     3|\n",
      "|20901|232432|     3|\n",
      "|20901|232433|     2|\n",
      "|20901|232459|     1|\n",
      "|20901|232459|     2|\n",
      "|20901|232459|     3|\n",
      "|20901|232459|     3|\n",
      "|20901|232507|     1|\n",
      "|20901|232507|     1|\n",
      "|20901|232507|     1|\n",
      "|20901|232507|     2|\n",
      "|20901|232507|     2|\n",
      "|20901|232507|     2|\n",
      "|20901|232507|     2|\n",
      "|20901|232507|     3|\n",
      "|20901|232507|     3|\n",
      "|20901|232507|     3|\n",
      "|20901|232507|     3|\n",
      "+-----+------+------+\n",
      "only showing top 20 rows\n",
      "\n"
     ]
    }
   ],
   "source": [
    "# create a test user from Silver Spring, MD\n",
    "test_user = testDF.filter('user == 20901').select('user', 'item', 'rating')\n",
    "test_user.show()"
   ]
  },
  {
   "cell_type": "code",
   "execution_count": 26,
   "id": "7f184e0c-3a8f-4af9-a70a-da6b11c56549",
   "metadata": {},
   "outputs": [
    {
     "name": "stdout",
     "output_type": "stream",
     "text": [
      "+-----+--------------------+\n",
      "| user|     recommendations|\n",
      "+-----+--------------------+\n",
      "|20901|[{232507, 1.48820...|\n",
      "+-----+--------------------+\n",
      "\n"
     ]
    }
   ],
   "source": [
    "# get recommendations for test user\n",
    "recommendations = model.recommendForUserSubset(test_user, 5)\n",
    "recommendations.sort('recommendations', ascending=False).show()"
   ]
  },
  {
   "cell_type": "code",
   "execution_count": 27,
   "id": "49a19071-d25e-4e88-9bbe-1be7e953bb10",
   "metadata": {},
   "outputs": [
    {
     "name": "stdout",
     "output_type": "stream",
     "text": [
      "+------+---------+\n",
      "|  item|   rating|\n",
      "+------+---------+\n",
      "|232507|1.4882011|\n",
      "|233626|   1.4415|\n",
      "|232508|1.3851465|\n",
      "|232459|1.3799562|\n",
      "|251431| 1.359406|\n",
      "+------+---------+\n",
      "\n"
     ]
    }
   ],
   "source": [
    "from pyspark.sql.functions import explode\n",
    "\n",
    "recommendations.select(explode('recommendations').alias('recs')).select('recs.item', 'recs.rating').sort('recs.rating', ascending=False).show()"
   ]
  },
  {
   "cell_type": "code",
   "execution_count": 15,
   "id": "0c654b63-c272-4580-ad00-db6afd5c1ea4",
   "metadata": {},
   "outputs": [
    {
     "name": "stdout",
     "output_type": "stream",
     "text": [
      "Requirement already satisfied: requests in /opt/conda/lib/python3.9/site-packages (2.27.1)\n",
      "Requirement already satisfied: charset-normalizer~=2.0.0 in /opt/conda/lib/python3.9/site-packages (from requests) (2.0.12)\n",
      "Requirement already satisfied: idna<4,>=2.5 in /opt/conda/lib/python3.9/site-packages (from requests) (3.3)\n",
      "Requirement already satisfied: urllib3<1.27,>=1.21.1 in /opt/conda/lib/python3.9/site-packages (from requests) (1.26.9)\n",
      "Requirement already satisfied: certifi>=2017.4.17 in /opt/conda/lib/python3.9/site-packages (from requests) (2021.10.8)\n",
      "Note: you may need to restart the kernel to use updated packages.\n"
     ]
    }
   ],
   "source": [
    "%pip install requests"
   ]
  },
  {
   "cell_type": "code",
   "execution_count": 20,
   "id": "de332701-6c55-4bd9-a358-62d5d45cdc23",
   "metadata": {},
   "outputs": [
    {
     "data": {
      "text/plain": [
       "{'FacilityID': '232507',\n",
       " 'LegacyFacilityID': '70989',\n",
       " 'OrgFacilityID': 'AN370989',\n",
       " 'ParentOrgID': '128',\n",
       " 'ParentRecAreaID': '2576',\n",
       " 'FacilityName': 'ASSATEAGUE ISLAND NATIONAL SEASHORE CAMPGROUND',\n",
       " 'FacilityDescription': '<h2>Overview</h2>\\n<p>Assateague Island, famed for its wild horses, lies off the Delmarva Peninsula on the Atlantic Coast. This barrier island is a constantly shifting ribbon of sand, altered daily by powerful wind and waves. <br> <br>The Assateague Island National Seashore, Assateague State Park, and the Chincoteague National Wildlife Refuge each manage and protect this unique, diverse strip of land. <br> <br>For more information go to https://www.nps.gov/asis</p>\\n<h2>Recreation</h2>\\nActivities are abundant on the island, with crabbing and clamming, and a long stretch of beach for swimming, kayaking and fishing.<h2>Facilities</h2>\\n<p>The campground is open year-round. Advance reservations are available up to 6 months in advance during the following dates:\\xa0</p>\\n<ul>\\n<li><strong>Oceanside Group Sites</strong>: Year-round.</li>\\n<li><strong>Equestrian Non-electric sites</strong>: From October 16 through April 15 each year (closed April 16 - October 15).</li>\\n<li><strong>Oceanside and Bayside Individual sites</strong>: From March 15, 2019 through November 15 each year (first come first serve only, November 16 - March 14).\\xa0</li>\\n</ul>\\n<p>Amenities include vault toilets, drinking water, and unheated showers for rinsing off sand. Water in the campground is available when temperatures are above freezing, and year round at the dump stations.</p>\\n<p>The island can be accessed from the northern route in Maryland or the southern route in Virginia, but there is no through road from one end of the island to the other. Access to both Maryland and Virginia entrances are reached by bridge over mainland routes.\\xa0</p>\\n<h2>Natural Features</h2>\\nAssateague is a 37-mile long barrier island on the Atlantic Coast of Maryland and Virginia. The terrain is a mix of sand dunes, maritime forests and salt marshes, and is just a couple miles wide at its broadest section. \\n \\nTwo herds of wild horses inhabit the island. The Maryland herd roams freely in part of Assateague Island National Seashore. The Virginia herd roams in large fenced areas in the Chincoteague National Wildlife Refuge. \\n \\nThe horses are descendants of late 17th century horses brought by colonists attempting to avoid livestock taxes. They now thrive among other wildlife including sika deer, ghost crabs and migrating birds like the great blue heron and snowy egret.\\n<h2>Nearby Attractions</h2>\\n<p>Chincoteague National Wildlife Refuge offers a 14,000-acre wildlife preserve located at the southern end of Assateague Island. To the north, Assateague State Park features two miles of pristine ocean beaches. Ocean City, Maryland is only about 10 miles away with a 2.5 mile long boardwalk filled with shops, restaurants, and a wide variety of entertainment options. The historic town of Berlin is about 10 miles west of Assateague, offering many shops and restaurants.\\xa0</p>\\n<h2>Charges &amp; Cancellations</h2>\\n<p>Cancellations/Modifications: Customers can modify/cancel reservations starting 18 days after the reservation was made. Customers cancelling a reservation will be charged a $10.00 service fee. Customers wishing to modify a reservation can do so online or over the phone and may be subject to a $10.00 service fee.</p>\\n\\n<p>Late Cancellations: Customers who cancel a reservation the day before or the day of arrival will pay a $10.00 service fee and forfeit the first night’s use fee. Cancellations for a 1-night stay will forfeit the entire amount paid and will not be subject to the additional service fee.</p>\\n\\n<p>Early Departures: Customers wishing to early depart before 11am can receive a refund for that night and subsequent nights provided they are off the campsite completely by 11am and let rangers at the Campground Office know. Customers wishing to early depart after 11am can receive a refund for subsequent days, but will not get a refund for the current night.</p>\\n',\n",
       " 'FacilityTypeDescription': 'Campground',\n",
       " 'FacilityUseFeeDescription': '\\n',\n",
       " 'FacilityDirections': 'Follow US Route 50 east to MD Route 611 south. Proceed over Verrazano Bridge. Take first right onto BayBerry Drive. Continue 2.25 miles to entrance station. Pay entrance fee. Take first right to ranger station to  register and check in.',\n",
       " 'FacilityPhone': '410-641-3030',\n",
       " 'FacilityEmail': 'Michael_Yandle@nps.gov',\n",
       " 'FacilityReservationURL': '',\n",
       " 'FacilityMapURL': '',\n",
       " 'FacilityAdaAccess': 'N',\n",
       " 'GEOJSON': {'TYPE': 'Point', 'COORDINATES': [-75.2, 38.0833333]},\n",
       " 'FacilityLongitude': -75.2,\n",
       " 'FacilityLatitude': 38.0833333,\n",
       " 'Keywords': 'CG01,Assateague National Park,Assateague Federal Park,Assateague Oceanside,Assateague Park. Assateague Bayside,Assateague Island Park,Assateague,bay side,ocean side,Assateague Bay side,Assateague Oean Side',\n",
       " 'StayLimit': '',\n",
       " 'Reservable': True,\n",
       " 'Enabled': True,\n",
       " 'LastUpdatedDate': '2022-05-08'}"
      ]
     },
     "execution_count": 20,
     "metadata": {},
     "output_type": "execute_result"
    }
   ],
   "source": [
    "import requests\n",
    "r = requests.get('https://ridb.recreation.gov/api/v1/facilities/232507', headers={'apikey': 'XXXXX'})\n",
    "r.json()"
   ]
  },
  {
   "cell_type": "code",
   "execution_count": 18,
   "id": "445b7247",
   "metadata": {},
   "outputs": [],
   "source": [
    "from pyspark.ml.tuning import ParamGridBuilder\n",
    "\n",
    "# set parameters for tuning\n",
    "paramGrid = ParamGridBuilder()\\\n",
    "    .addGrid(als.maxIter, [5, 10, 15, 25])\\\n",
    "    .addGrid(als.rank, [10, 20, 50, 100])\\\n",
    "    .addGrid(als.regParam, [0.001, 0.01, 0.1, 0.2])\\\n",
    "    .build()"
   ]
  },
  {
   "cell_type": "code",
   "execution_count": 19,
   "id": "1bb7d47a-f5a4-4bfb-8820-0d44ec635e8f",
   "metadata": {},
   "outputs": [],
   "source": [
    "from pyspark.ml.tuning import CrossValidator\n",
    "\n",
    "crossval = CrossValidator(estimator=als,\n",
    "                          estimatorParamMaps=paramGrid,\n",
    "                          evaluator=evaluator)\n",
    "\n",
    "# cross validate create best model\n",
    "cvModel = crossval.fit(trainDF)"
   ]
  },
  {
   "cell_type": "code",
   "execution_count": 21,
   "id": "2bfa2fc8",
   "metadata": {},
   "outputs": [
    {
     "data": {
      "text/plain": [
       "1.5081936325379801"
      ]
     },
     "execution_count": 21,
     "metadata": {},
     "output_type": "execute_result"
    }
   ],
   "source": [
    "# assess prediction model\n",
    "cvPred = cvModel.bestModel.transform(testDF)\n",
    "evaluator.evaluate(cvPred)"
   ]
  },
  {
   "cell_type": "code",
   "execution_count": 22,
   "id": "178dba38-c692-4b47-ae6d-99ffb793b5a1",
   "metadata": {},
   "outputs": [
    {
     "data": {
      "text/plain": [
       "ALSModel: uid=ALS_cab102eee562, rank=50"
      ]
     },
     "execution_count": 22,
     "metadata": {},
     "output_type": "execute_result"
    }
   ],
   "source": [
    "cvModel.bestModel"
   ]
  },
  {
   "cell_type": "code",
   "execution_count": 23,
   "id": "74e06eb0-cb7d-4a46-a423-823922ae13ac",
   "metadata": {},
   "outputs": [
    {
     "name": "stderr",
     "output_type": "stream",
     "text": [
      "/usr/local/spark/python/pyspark/sql/context.py:125: FutureWarning: Deprecated in 3.0.0. Use SparkSession.builder.getOrCreate() instead.\n",
      "  warnings.warn(\n"
     ]
    },
    {
     "name": "stdout",
     "output_type": "stream",
     "text": [
      "+-----+--------------------+\n",
      "| user|     recommendations|\n",
      "+-----+--------------------+\n",
      "|20901|[{233379, 1.46403...|\n",
      "+-----+--------------------+\n",
      "\n"
     ]
    }
   ],
   "source": [
    "cvRecommendations = cvModel.bestModel.recommendForUserSubset(test_user, 5)\n",
    "cvRecommendations.sort('recommendations', ascending=False).show()"
   ]
  },
  {
   "cell_type": "code",
   "execution_count": 24,
   "id": "5afaa007-1114-4f18-93e8-7109b5279606",
   "metadata": {},
   "outputs": [
    {
     "name": "stdout",
     "output_type": "stream",
     "text": [
      "+------+---------+\n",
      "|  item|   rating|\n",
      "+------+---------+\n",
      "|233379|1.4640328|\n",
      "|232459| 1.436412|\n",
      "|232507| 1.423916|\n",
      "|232095|1.4138017|\n",
      "|247762|1.3669013|\n",
      "+------+---------+\n",
      "\n"
     ]
    }
   ],
   "source": [
    "from pyspark.sql.functions import explode\n",
    "\n",
    "cvRecommendations.select(explode('recommendations').alias('recs')).select('recs.item', 'recs.rating').sort('recs.rating', ascending=False).show()"
   ]
  },
  {
   "cell_type": "code",
   "execution_count": 25,
   "id": "d2ea3ae4-103c-4be5-85dd-734702d7799a",
   "metadata": {},
   "outputs": [
    {
     "data": {
      "text/plain": [
       "{'FacilityID': '233379',\n",
       " 'LegacyFacilityID': '72421',\n",
       " 'OrgFacilityID': 'AN372421',\n",
       " 'ParentOrgID': '128',\n",
       " 'ParentRecAreaID': '2896',\n",
       " 'FacilityName': 'OAK RIDGE CAMPGROUND',\n",
       " 'FacilityDescription': '<h2>Overview</h2>\\n<p>Oak Ridge Campground is a 100-site, wooded campground located in Prince William Forest Park, 35 miles southwest of Washington, DC. The park\\'s land was set aside during the Great Depression, and in 1935 the Civilian Conservation Corps (CCC) began restoring the previously over-farmed acreage, converting it to recreational lands for public use. The CCC built trails, dams and cabins, making the park a wonderful place for recreation and relaxation. <br><br>Large group camping is not permitted at Oak Ridge Campground. Please read the need to know section for additional information.</p>\\n<h2>Recreation</h2>\\n<p>The park offers many recreational activities, including hiking, biking, orienteering and fishing. Hikers enjoy exploring the park\\'s 37 miles of foot trails. The South Valley, Oak Ridge and Farms to Forest Trails all begin at the campground entrance.<br><br>Bicyclists will find 21 miles of paved roads within the park, including the 12-mile Scenic Drive. Little traffic and a 25 m.p.h. speed limit make this a popular biking spot. A 3-mile, family-friendly paved bike lane leads to the campground. Mountain biking is also available on 10 miles of gravel fire roads.<br><br>The park boasts 30 orienteering courses with picturesque settings. Orienteering is a 19th century Scandinavian sport primarily used as military training. The courses were developed in 1972 and continue to provide hours of entertainment and exploration for park visitors.<br><br>Approximately 18 miles of streams and two small lakes are open to the public for fishing. The water quality of Quantico Creek supports numerous fish species and other aquatic life. The most common fish species are bluegill, pumpkinseed, largemouth bass and channel catfish.</p>\\n<h2>Facilities</h2>\\nThe campground is open March through November and accommodates tents, RVs and trailers. \"Recreational vehicles are limited to 32 feet in length and 12 feet in height. Trailers and fifth wheels are limited to 26 feet in length and 12 feet in height. Each site has a picnic table, grill, lantern post and parking spur. Each loop has restrooms with sinks and flush toilets. Loop B also has showers. A and C unit comfort stations close down at the first part of November for winterizing. Loop B comfort station is open till the camp closure the first of December.<h2>Natural Features</h2>\\n<p>Prince William Forest Park preserves approximately 15,000 acres of Piedmont forest covering a major portion of the Quantico Creek watershed. The park represents one of the largest parcels of undeveloped land in the area and is the third largest unit of the National Park System in Virginia. The area is the largest example of a Piedmont forest ecosystem in the National Park Service, makeing it a significant natural resource. <br>  <br> Various geological outcroppings, winding creeks, gently rolling slopes and man-made lakes make wonderful destinations for any adventurous visitor.  <br>  <br>The park is home to 46 species of mammals, 22 species of amphibians, 25 species of reptiles, more than 129 species of birds, 26 species of fish and an unknown number of invertebrates.<br>  <br>More than 900 plant species exist in Prince William Forest Park. From the smallest wildflower to the tallest tree, each species has a special role to play in this forest ecosystem. From tree bark in winter, wildflowers in spring, canopy cover in summer and autumn colors in fall, Prince William Forest Park offers beautiful scenery year-round.</p>\\n\\n<h2>Nearby Attractions</h2>\\n<p>Prince William Forest Park is centrally located, with easy access to all of the attractions the Northern Virginia and Washington, D.C., area have to offer. From the park entrance, the National Museum of the Marine Corps and the main gate of the United States Marine Corps Base Quantico are just a mile away. <br><br>The park is located directly between historic Fredericksburg and Spotsylvania National Military Park and Manassas National Battlefield Park.</p>\\n',\n",
       " 'FacilityTypeDescription': 'Campground',\n",
       " 'FacilityUseFeeDescription': '',\n",
       " 'FacilityDirections': '<p>From Washington, D.C., and points north, take I-95 south to exit 150-B toward VA Route 619/Joplin Road. The park entrance is the second right. It is an additional 15-20 minute drive from the park entrance to Oak Ridge Campground. <br><br>From Fredericksburg, Virginia, and points south, take I-95 north to exit 150 toward VA Route 619/Joplin Road. Turn left at the bottom of the exit ramp and continue on VA Route 619 West approximately 1/4 mile to the park entrance. <br><br>Washington Dulles International Airport and Ronald Reagan Washington National Airport are approximately 45 minutes drive-time from Prince William Forest Park. Baltimore/Washington International Airport and Richmond International Airport are 90 minutes away. <br><br>There is no bus service near the park. Local commuter buses may be available near the park via the PRTC system. Amtrak and Virginia Railway Express services are available in nearby Quantico, Virginia, approximately 5 miles from the park entrance. There is no public transportation directly to the park.</p>\\n',\n",
       " 'FacilityPhone': '703-221-7181',\n",
       " 'FacilityEmail': 'PRWI_INFO@NPS.GOV',\n",
       " 'FacilityReservationURL': '',\n",
       " 'FacilityMapURL': '',\n",
       " 'FacilityAdaAccess': 'N',\n",
       " 'GEOJSON': {'TYPE': 'Point', 'COORDINATES': [-77.3491667, 38.5525]},\n",
       " 'FacilityLongitude': -77.3491667,\n",
       " 'FacilityLatitude': 38.5525,\n",
       " 'Keywords': 'Prince William Forest,Oak Ridge',\n",
       " 'StayLimit': '',\n",
       " 'Reservable': True,\n",
       " 'Enabled': True,\n",
       " 'LastUpdatedDate': '2022-05-08'}"
      ]
     },
     "execution_count": 25,
     "metadata": {},
     "output_type": "execute_result"
    }
   ],
   "source": [
    "r = requests.get('https://ridb.recreation.gov/api/v1/facilities/233379', headers={'apikey': 'XXXXX'})\n",
    "r.json()"
   ]
  },
  {
   "cell_type": "code",
   "execution_count": null,
   "id": "95970f31-5f8c-4dbf-aa3e-1e5fab6f944c",
   "metadata": {},
   "outputs": [],
   "source": []
  }
 ],
 "metadata": {
  "kernelspec": {
   "display_name": "Python 3 (ipykernel)",
   "language": "python",
   "name": "python3"
  },
  "language_info": {
   "codemirror_mode": {
    "name": "ipython",
    "version": 3
   },
   "file_extension": ".py",
   "mimetype": "text/x-python",
   "name": "python",
   "nbconvert_exporter": "python",
   "pygments_lexer": "ipython3",
   "version": "3.9.10"
  }
 },
 "nbformat": 4,
 "nbformat_minor": 5
}
