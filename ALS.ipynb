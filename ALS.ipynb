{
 "cells": [
  {
   "cell_type": "markdown",
   "id": "a2cf60eb-93cb-430b-8ea5-433156fd2513",
   "metadata": {},
   "source": [
    "## ALS\n",
    "\n",
    "The final goal was to attempt to create a basic recommendation system using past reservations. This uses [Alternating Least Squares](https://spark.apache.org/docs/latest/api/python/reference/api/pyspark.ml.recommendation.ALS.html), a native recommender in PySpark's ML library. This documentation, along with [this walkthrough](https://github.com/shashwatwork/Building-Recommeder-System-in-PySpark/blob/master/Crafting%20Recommedation%20System%20with%20PySpark.ipynb) guided this implementation.\n",
    "\n",
    "ALS is fairly straightforward, using three inputs, all integers, to build the model:\n",
    "- userCol - person record in the transaction, customerzip was used in this model\n",
    "- itemCol - facilityid, the product identifier\n",
    "- ratingCol - a score to the item assigned by the user, used a \"days stayed\" calculation to simulate this value"
   ]
  },
  {
   "cell_type": "code",
   "execution_count": 1,
   "id": "a28d2ff2-56f8-4809-b857-aaac6e1d42e7",
   "metadata": {},
   "outputs": [],
   "source": [
    "from pyspark.sql import SparkSession\n",
    "\n",
    "MAX_MEMORY = \"8g\"\n",
    "\n",
    "spark = SparkSession.builder.appName('recreation.gov reservations') \\\n",
    "    .config(\"spark.executor.memory\", MAX_MEMORY) \\\n",
    "    .config(\"spark.driver.memory\", MAX_MEMORY) \\\n",
    "    .getOrCreate()"
   ]
  },
  {
   "cell_type": "code",
   "execution_count": 2,
   "id": "32b7e61b-453d-4e98-a6e7-7e629e0e8cbe",
   "metadata": {},
   "outputs": [],
   "source": [
    "from pyspark.sql.types import StructType, StructField, IntegerType, FloatType\n",
    "\n",
    "schemaRating = StructType([\n",
    "    StructField(\"item\", IntegerType(), True),\n",
    "    StructField(\"user\", FloatType(), True),\n",
    "    StructField(\"rating\", FloatType(), True),\n",
    "])"
   ]
  },
  {
   "cell_type": "code",
   "execution_count": 3,
   "id": "1b72eeda-0f41-4fc1-b170-055d66e136ac",
   "metadata": {},
   "outputs": [],
   "source": [
    "dfReservations2021 = spark.read.format('csv').schema(schemaRating).csv('REC_ALS.csv', header=True, ignoreTrailingWhiteSpace=True)"
   ]
  },
  {
   "cell_type": "code",
   "execution_count": 4,
   "id": "8b47a4bb-53bd-4074-8b6e-a6d984d27696",
   "metadata": {},
   "outputs": [],
   "source": [
    "dfReservations2021 = dfReservations2021.withColumn('user', dfReservations2021['user'].cast(IntegerType()))"
   ]
  },
  {
   "cell_type": "code",
   "execution_count": 5,
   "id": "66fab529-79d1-407a-8f17-79ab58a8566c",
   "metadata": {},
   "outputs": [],
   "source": [
    "dfReservations2021 = dfReservations2021.withColumn('rating', dfReservations2021['rating'].cast(IntegerType()))"
   ]
  },
  {
   "cell_type": "code",
   "execution_count": 6,
   "id": "4f36afe5-e07e-42b8-9840-a64a122f78f2",
   "metadata": {},
   "outputs": [
    {
     "name": "stdout",
     "output_type": "stream",
     "text": [
      "+------+-----+------+\n",
      "|  item| user|rating|\n",
      "+------+-----+------+\n",
      "|250877|96555|  null|\n",
      "|232490|55424|  null|\n",
      "|232490|91501|  null|\n",
      "|232490|33774|  null|\n",
      "|247571|33176|  null|\n",
      "|247571|92831|  null|\n",
      "|247661|16823|  null|\n",
      "|247661|16823|  null|\n",
      "|247661|16823|  null|\n",
      "|247661|16823|  null|\n",
      "|247661|16823|  null|\n",
      "|247661|16823|  null|\n",
      "|247661|16823|  null|\n",
      "|247661|14830|  null|\n",
      "|250009|80516|  null|\n",
      "|258830|15017|  null|\n",
      "|272266|11771|  null|\n",
      "|272266|20782|  null|\n",
      "|258887|49046|  null|\n",
      "|251833|21401|  null|\n",
      "+------+-----+------+\n",
      "only showing top 20 rows\n",
      "\n"
     ]
    }
   ],
   "source": [
    "dfReservations2021.filter(dfReservations2021.rating.isNull()).show()"
   ]
  },
  {
   "cell_type": "code",
   "execution_count": 7,
   "id": "670c3fd6-f680-48e9-bbe3-cd312b72554a",
   "metadata": {},
   "outputs": [
    {
     "name": "stdout",
     "output_type": "stream",
     "text": [
      "+------+-----+------+\n",
      "|item  |user |rating|\n",
      "+------+-----+------+\n",
      "|639772|99709|2     |\n",
      "|639772|99706|0     |\n",
      "|639772|99706|2     |\n",
      "|639772|99709|0     |\n",
      "|639772|99709|1     |\n",
      "|639772|84401|4     |\n",
      "|639772|99709|4     |\n",
      "|99821 |99709|2     |\n",
      "|639772|99743|0     |\n",
      "|639772|99743|4     |\n",
      "|99799 |99708|12    |\n",
      "|639772|84401|4     |\n",
      "|639772|99710|2     |\n",
      "|99821 |99705|2     |\n",
      "|99799 |99709|2     |\n",
      "|99821 |99709|2     |\n",
      "|99862 |99712|4     |\n",
      "|639822|99556|0     |\n",
      "|99799 |99709|2     |\n",
      "|99766 |99712|3     |\n",
      "+------+-----+------+\n",
      "only showing top 20 rows\n",
      "\n"
     ]
    }
   ],
   "source": [
    "dfReservations2021.show(truncate=False)"
   ]
  },
  {
   "cell_type": "code",
   "execution_count": 8,
   "id": "24821a27-988b-4804-8c44-7c4d3e7d6a56",
   "metadata": {},
   "outputs": [],
   "source": [
    "dfReservations2021 = dfReservations2021.dropna()"
   ]
  },
  {
   "cell_type": "code",
   "execution_count": 9,
   "id": "63d0fac0-b8fb-4524-97b9-b4730dddb199",
   "metadata": {},
   "outputs": [],
   "source": [
    "from pyspark.ml.evaluation import RegressionEvaluator\n",
    "from pyspark.ml.recommendation import ALS\n",
    "\n",
    "#split train and test\n",
    "trainDF, testDF = dfReservations2021.randomSplit([0.8, 0.2])\n",
    "trainDF.cache()\n",
    "\n",
    "# build model\n",
    "# coldStartStrategy - helped drop nulls\n",
    "als = ALS(coldStartStrategy=\"drop\", implicitPrefs=True)\n",
    "model = als.fit(trainDF)"
   ]
  },
  {
   "cell_type": "code",
   "execution_count": 10,
   "id": "448fb102-c99c-43cb-b918-4ea505799278",
   "metadata": {},
   "outputs": [
    {
     "data": {
      "text/plain": [
       "47.27241222984656"
      ]
     },
     "execution_count": 10,
     "metadata": {},
     "output_type": "execute_result"
    }
   ],
   "source": [
    "# generate predictions\n",
    "predictions = model.transform(testDF)\n",
    "\n",
    "# evalute model using root mean squared evaluator\n",
    "evaluator = RegressionEvaluator(metricName=\"rmse\", labelCol=\"rating\",predictionCol=\"prediction\")\n",
    "evaluator.evaluate(predictions)"
   ]
  },
  {
   "cell_type": "code",
   "execution_count": 11,
   "id": "56e8fb04-5a67-43b0-beb9-7580fcb0064b",
   "metadata": {},
   "outputs": [
    {
     "name": "stdout",
     "output_type": "stream",
     "text": [
      "+-----+-----+------+\n",
      "| user| item|rating|\n",
      "+-----+-----+------+\n",
      "|20901| 1538|     6|\n",
      "|20901| 1656|     6|\n",
      "|20901| 1682|     2|\n",
      "|20901| 1780|     8|\n",
      "|20901| 1810|    15|\n",
      "|20901| 2193|     5|\n",
      "|20901| 5700|    10|\n",
      "|20901| 5715|    54|\n",
      "|20901| 5732|     2|\n",
      "|20901| 5733|     4|\n",
      "|20901| 5736|     6|\n",
      "|20901| 5741|     4|\n",
      "|20901| 5773|     3|\n",
      "|20901| 5796|     6|\n",
      "|20901| 5800|     5|\n",
      "|20901| 6459|     2|\n",
      "|20901| 6495|     2|\n",
      "|20901| 6496|    10|\n",
      "|20901| 7889|     2|\n",
      "|20901|10330|     4|\n",
      "+-----+-----+------+\n",
      "only showing top 20 rows\n",
      "\n"
     ]
    }
   ],
   "source": [
    "# create a test user from Silver Spring, MD\n",
    "test_user = testDF.filter('user == 20901').select('user', 'item', 'rating')\n",
    "test_user.show()"
   ]
  },
  {
   "cell_type": "code",
   "execution_count": 12,
   "id": "929c47b8-a248-4eba-b138-5f6447ac6939",
   "metadata": {},
   "outputs": [
    {
     "name": "stdout",
     "output_type": "stream",
     "text": [
      "+-----+------+------+----------+\n",
      "| user|  item|rating|prediction|\n",
      "+-----+------+------+----------+\n",
      "|20901|  5700|    10| 0.3850173|\n",
      "|20901|  5715|    54|0.37054873|\n",
      "|20901|  6496|    10|0.35504553|\n",
      "|20901|  5796|     6|0.34057924|\n",
      "|20901|  1810|    15|0.28507954|\n",
      "|20901|  1682|     2|0.28400856|\n",
      "|20901|  5741|     4| 0.2742345|\n",
      "|20901|  5800|     5|0.26223382|\n",
      "|20901|  6495|     2| 0.2545454|\n",
      "|20901| 40525|    12|0.25160825|\n",
      "|20901|  5773|     3|0.24713314|\n",
      "|20901| 79730|     1| 0.2075089|\n",
      "|20901|100801|     2|0.19341911|\n",
      "|20901|  6459|     2|0.19307832|\n",
      "|20901|  5733|     4|0.19158922|\n",
      "|20901|  1780|     8|0.18888271|\n",
      "|20901|  5732|     2|0.18696325|\n",
      "|20901|  5736|     6|0.18155275|\n",
      "|20901| 10330|     4|0.17646047|\n",
      "|20901| 99743|     8|0.16214325|\n",
      "+-----+------+------+----------+\n",
      "only showing top 20 rows\n",
      "\n"
     ]
    }
   ],
   "source": [
    "# get recommendations for test user\n",
    "recommendations = model.transform(test_user)\n",
    "recommendations.sort('prediction', ascending=False).show()"
   ]
  },
  {
   "cell_type": "code",
   "execution_count": 47,
   "id": "7f184e0c-3a8f-4af9-a70a-da6b11c56549",
   "metadata": {},
   "outputs": [
    {
     "name": "stdout",
     "output_type": "stream",
     "text": [
      "+-----+--------------------+\n",
      "| user|     recommendations|\n",
      "+-----+--------------------+\n",
      "|20901|[{6487, 1.0007242...|\n",
      "+-----+--------------------+\n",
      "\n"
     ]
    }
   ],
   "source": [
    "recs = model.recommendForUserSubset(test_user, 5)\n",
    "recs.sort('recommendations', ascending=False).show()"
   ]
  },
  {
   "cell_type": "code",
   "execution_count": 48,
   "id": "49a19071-d25e-4e88-9bbe-1be7e953bb10",
   "metadata": {},
   "outputs": [
    {
     "name": "stdout",
     "output_type": "stream",
     "text": [
      "+-----+---------+\n",
      "| item|   rating|\n",
      "+-----+---------+\n",
      "| 6487|1.0007242|\n",
      "| 5757|0.8668041|\n",
      "| 5780|0.8436577|\n",
      "| 6490|0.8140193|\n",
      "|86126| 0.810674|\n",
      "+-----+---------+\n",
      "\n"
     ]
    }
   ],
   "source": [
    "from pyspark.sql.functions import explode\n",
    "\n",
    "recs.select(explode('recommendations').alias('recs')).select('recs.item', 'recs.rating').sort('recs.rating', ascending=False).show()"
   ]
  },
  {
   "cell_type": "code",
   "execution_count": 13,
   "id": "0c654b63-c272-4580-ad00-db6afd5c1ea4",
   "metadata": {},
   "outputs": [
    {
     "name": "stdout",
     "output_type": "stream",
     "text": [
      "Requirement already satisfied: requests in /opt/conda/lib/python3.9/site-packages (2.27.1)\n",
      "Requirement already satisfied: idna<4,>=2.5 in /opt/conda/lib/python3.9/site-packages (from requests) (3.3)\n",
      "Requirement already satisfied: certifi>=2017.4.17 in /opt/conda/lib/python3.9/site-packages (from requests) (2021.10.8)\n",
      "Requirement already satisfied: urllib3<1.27,>=1.21.1 in /opt/conda/lib/python3.9/site-packages (from requests) (1.26.9)\n",
      "Requirement already satisfied: charset-normalizer~=2.0.0 in /opt/conda/lib/python3.9/site-packages (from requests) (2.0.12)\n",
      "Note: you may need to restart the kernel to use updated packages.\n"
     ]
    }
   ],
   "source": [
    "%pip install requests"
   ]
  },
  {
   "cell_type": "code",
   "execution_count": 14,
   "id": "de332701-6c55-4bd9-a358-62d5d45cdc23",
   "metadata": {},
   "outputs": [
    {
     "data": {
      "text/plain": [
       "[{'CampsiteID': '19758',\n",
       "  'FacilityID': '232095',\n",
       "  'CampsiteName': '053',\n",
       "  'CampsiteType': 'WALK TO',\n",
       "  'TypeOfUse': 'Overnight',\n",
       "  'Loop': 'WALK',\n",
       "  'CampsiteAccessible': False,\n",
       "  'CampsiteReservable': True,\n",
       "  'CampsiteLongitude': -79.381987,\n",
       "  'CampsiteLatitude': 38.8316930000001,\n",
       "  'CreatedDate': '2014-05-02',\n",
       "  'LastUpdatedDate': '2020-10-15',\n",
       "  'ATTRIBUTES': [{'AttributeName': 'Checkin Time',\n",
       "    'AttributeValue': '2:00 PM'},\n",
       "   {'AttributeName': 'Min Num of People', 'AttributeValue': '1'},\n",
       "   {'AttributeName': 'Campfire Allowed', 'AttributeValue': 'Yes'},\n",
       "   {'AttributeName': 'Checkout Time', 'AttributeValue': '1:00 PM'},\n",
       "   {'AttributeName': 'IS EQUIPMENT MANDATORY', 'AttributeValue': 'true'},\n",
       "   {'AttributeName': 'Picnic Table', 'AttributeValue': 'Y'},\n",
       "   {'AttributeName': 'Site Rating', 'AttributeValue': 'Preferred'},\n",
       "   {'AttributeName': 'Max Vehicle Length', 'AttributeValue': '0'},\n",
       "   {'AttributeName': 'Placed on Map', 'AttributeValue': '1'},\n",
       "   {'AttributeName': 'Fire Pit', 'AttributeValue': 'Y'},\n",
       "   {'AttributeName': 'Grills/Fire Ring', 'AttributeValue': 'Y'},\n",
       "   {'AttributeName': 'Max Num of People', 'AttributeValue': '12'},\n",
       "   {'AttributeName': 'Capacity/Size Rating', 'AttributeValue': 'Double'},\n",
       "   {'AttributeName': 'Driveway Surface', 'AttributeValue': 'Paved'},\n",
       "   {'AttributeName': 'Max Num of Vehicles', 'AttributeValue': '4'},\n",
       "   {'AttributeName': 'Pets Allowed', 'AttributeValue': 'Yes'}],\n",
       "  'ENTITYMEDIA': [],\n",
       "  'PERMITTEDEQUIPMENT': [{'EquipmentName': 'Tent', 'MaxLength': 0}]}]"
      ]
     },
     "execution_count": 14,
     "metadata": {},
     "output_type": "execute_result"
    }
   ],
   "source": [
    "import requests\n",
    "r = requests.get('https://ridb.recreation.gov/api/v1/campsites/19758', headers={'apikey': '6DD62AA61A9A4211BD4414728184BFE4'})\n",
    "r.json()"
   ]
  },
  {
   "cell_type": "code",
   "execution_count": 15,
   "id": "445b7247",
   "metadata": {},
   "outputs": [],
   "source": [
    "from pyspark.ml.tuning import ParamGridBuilder\n",
    "\n",
    "# set parameters for tuning\n",
    "paramGrid = ParamGridBuilder()\\\n",
    "    .addGrid(als.maxIter, [5, 10, 15])\\\n",
    "    .addGrid(als.rank, [10, 20, 50])\\\n",
    "    .addGrid(als.regParam, [0.001, 0.01, 0.1])\\\n",
    "    .build()"
   ]
  },
  {
   "cell_type": "code",
   "execution_count": 16,
   "id": "1bb7d47a-f5a4-4bfb-8820-0d44ec635e8f",
   "metadata": {},
   "outputs": [],
   "source": [
    "from pyspark.ml.tuning import CrossValidator\n",
    "\n",
    "crossval = CrossValidator(estimator=als,\n",
    "                          estimatorParamMaps=paramGrid,\n",
    "                          evaluator=evaluator)\n",
    "\n",
    "# cross validate create best model\n",
    "cvModel = crossval.fit(trainDF)"
   ]
  },
  {
   "cell_type": "code",
   "execution_count": 46,
   "id": "2bfa2fc8",
   "metadata": {},
   "outputs": [
    {
     "data": {
      "text/plain": [
       "47.236821305779365"
      ]
     },
     "execution_count": 46,
     "metadata": {},
     "output_type": "execute_result"
    }
   ],
   "source": [
    "# assess prediction model\n",
    "cvPred = cvModel.bestModel.transform(testDF)\n",
    "evaluator.evaluate(cvPred)"
   ]
  },
  {
   "cell_type": "code",
   "execution_count": 17,
   "id": "178dba38-c692-4b47-ae6d-99ffb793b5a1",
   "metadata": {},
   "outputs": [
    {
     "data": {
      "text/plain": [
       "ALSModel: uid=ALS_04cd5ee26c97, rank=50"
      ]
     },
     "execution_count": 17,
     "metadata": {},
     "output_type": "execute_result"
    }
   ],
   "source": [
    "cvModel.bestModel"
   ]
  },
  {
   "cell_type": "code",
   "execution_count": 31,
   "id": "74e06eb0-cb7d-4a46-a423-823922ae13ac",
   "metadata": {},
   "outputs": [
    {
     "name": "stdout",
     "output_type": "stream",
     "text": [
      "+-----+--------------------+\n",
      "| user|     recommendations|\n",
      "+-----+--------------------+\n",
      "|20901|[{6487, 1.3010163...|\n",
      "+-----+--------------------+\n",
      "\n"
     ]
    }
   ],
   "source": [
    "cvRecommendations = cvModel.bestModel.recommendForUserSubset(test_user, 5)\n",
    "cvRecommendations.sort('recommendations', ascending=False).show()"
   ]
  },
  {
   "cell_type": "code",
   "execution_count": 44,
   "id": "5afaa007-1114-4f18-93e8-7109b5279606",
   "metadata": {},
   "outputs": [
    {
     "name": "stdout",
     "output_type": "stream",
     "text": [
      "+----+---------+\n",
      "|item|   rating|\n",
      "+----+---------+\n",
      "|6487|1.3010163|\n",
      "|5757|1.2409183|\n",
      "|6488|1.2215271|\n",
      "|5780| 1.173392|\n",
      "|6489| 1.132679|\n",
      "+----+---------+\n",
      "\n"
     ]
    }
   ],
   "source": [
    "from pyspark.sql.functions import explode\n",
    "\n",
    "cvRecommendations.select(explode('recommendations').alias('recs')).select('recs.item', 'recs.rating').sort('recs.rating', ascending=False).show()"
   ]
  },
  {
   "cell_type": "code",
   "execution_count": 32,
   "id": "d2ea3ae4-103c-4be5-85dd-734702d7799a",
   "metadata": {},
   "outputs": [
    {
     "data": {
      "text/plain": [
       "[{'CampsiteID': '6487',\n",
       "  'FacilityID': '232507',\n",
       "  'CampsiteName': 'G2',\n",
       "  'CampsiteType': 'GROUP TENT ONLY AREA NONELECTRIC',\n",
       "  'TypeOfUse': 'Overnight',\n",
       "  'Loop': 'Oceanside Group Sites',\n",
       "  'CampsiteAccessible': False,\n",
       "  'CampsiteReservable': True,\n",
       "  'CampsiteLongitude': -75.151904079,\n",
       "  'CampsiteLatitude': 38.2041493470001,\n",
       "  'CreatedDate': '2014-05-02',\n",
       "  'LastUpdatedDate': '2021-08-23',\n",
       "  'ATTRIBUTES': [{'AttributeName': 'Site Access', 'AttributeValue': 'Hike-In'},\n",
       "   {'AttributeName': 'Condition Rating', 'AttributeValue': 'Good'},\n",
       "   {'AttributeName': 'Location Rating', 'AttributeValue': 'Good'},\n",
       "   {'AttributeName': 'Pets Allowed', 'AttributeValue': 'Yes'},\n",
       "   {'AttributeName': 'Checkout Time', 'AttributeValue': '11:00 AM'},\n",
       "   {'AttributeName': 'Proximity to Water', 'AttributeValue': 'Island'},\n",
       "   {'AttributeName': 'Min Num of People', 'AttributeValue': '7'},\n",
       "   {'AttributeName': 'Hike In Distance to Site', 'AttributeValue': '600'},\n",
       "   {'AttributeName': 'Checkin Time', 'AttributeValue': '12:00 PM'},\n",
       "   {'AttributeName': 'Capacity/Size Rating', 'AttributeValue': 'Triple'},\n",
       "   {'AttributeName': 'Site Width', 'AttributeValue': '120'},\n",
       "   {'AttributeName': 'IS EQUIPMENT MANDATORY', 'AttributeValue': 'true'},\n",
       "   {'AttributeName': 'Max Vehicle Length', 'AttributeValue': '54'},\n",
       "   {'AttributeName': 'Max Num of Vehicles', 'AttributeValue': '10'},\n",
       "   {'AttributeName': 'Min Num of Vehicles', 'AttributeValue': '0'},\n",
       "   {'AttributeName': 'Site Length', 'AttributeValue': '160'},\n",
       "   {'AttributeName': 'Max Num of People', 'AttributeValue': '25'},\n",
       "   {'AttributeName': 'Picnic Table', 'AttributeValue': 'Picnic Table'},\n",
       "   {'AttributeName': 'CAMPFIRE RINGS', 'AttributeValue': 'Campfire Rings'}],\n",
       "  'ENTITYMEDIA': [{'EntityMediaID': 'bb6a0800-8839-4885-b7e5-09f6e917f368',\n",
       "    'MediaType': 'Image',\n",
       "    'EntityID': '6487',\n",
       "    'EntityType': 'Campsite',\n",
       "    'Title': '',\n",
       "    'Subtitle': '',\n",
       "    'Description': '',\n",
       "    'EmbedCode': '',\n",
       "    'Height': 338,\n",
       "    'Width': 450,\n",
       "    'URL': 'https://cdn.recreation.gov/public/2018/07/28/14/57/adba06f3-a7a4-418e-839b-e6b3fcd1921e_450.jpg',\n",
       "    'Credits': '',\n",
       "    'IsPrimary': False,\n",
       "    'IsPreview': False,\n",
       "    'IsGallery': True},\n",
       "   {'EntityMediaID': '815b563a-6e8b-473a-88ff-0cd27fa96838',\n",
       "    'MediaType': 'Image',\n",
       "    'EntityID': '6487',\n",
       "    'EntityType': 'Campsite',\n",
       "    'Title': '',\n",
       "    'Subtitle': '',\n",
       "    'Description': '',\n",
       "    'EmbedCode': '',\n",
       "    'Height': 338,\n",
       "    'Width': 450,\n",
       "    'URL': 'https://cdn.recreation.gov/public/2018/07/28/14/57/a815ab4c-368b-438f-915c-bed3132b0bbe_450.jpg',\n",
       "    'Credits': '',\n",
       "    'IsPrimary': False,\n",
       "    'IsPreview': False,\n",
       "    'IsGallery': True},\n",
       "   {'EntityMediaID': '8f85d313-3b0a-4a3d-96a4-75a07a33df35',\n",
       "    'MediaType': 'Image',\n",
       "    'EntityID': '6487',\n",
       "    'EntityType': 'Campsite',\n",
       "    'Title': '',\n",
       "    'Subtitle': '',\n",
       "    'Description': '',\n",
       "    'EmbedCode': '',\n",
       "    'Height': 338,\n",
       "    'Width': 450,\n",
       "    'URL': 'https://cdn.recreation.gov/public/2018/07/28/14/57/c48dd35f-25d3-45d5-b499-39b1e1607f16_450.jpg',\n",
       "    'Credits': '',\n",
       "    'IsPrimary': False,\n",
       "    'IsPreview': False,\n",
       "    'IsGallery': True},\n",
       "   {'EntityMediaID': '8b79960f-d857-4da8-85d8-9d22b59b7d87',\n",
       "    'MediaType': 'Image',\n",
       "    'EntityID': '6487',\n",
       "    'EntityType': 'Campsite',\n",
       "    'Title': '',\n",
       "    'Subtitle': '',\n",
       "    'Description': '',\n",
       "    'EmbedCode': '',\n",
       "    'Height': 338,\n",
       "    'Width': 450,\n",
       "    'URL': 'https://cdn.recreation.gov/public/2018/07/28/14/57/da1e9f10-500d-4121-b32a-e87fbc4b2234_450.jpg',\n",
       "    'Credits': '',\n",
       "    'IsPrimary': False,\n",
       "    'IsPreview': False,\n",
       "    'IsGallery': True}],\n",
       "  'PERMITTEDEQUIPMENT': [{'EquipmentName': 'Tent', 'MaxLength': 54}]}]"
      ]
     },
     "execution_count": 32,
     "metadata": {},
     "output_type": "execute_result"
    }
   ],
   "source": [
    "r = requests.get('https://ridb.recreation.gov/api/v1/campsites/6487', headers={'apikey': '6DD62AA61A9A4211BD4414728184BFE4'})\n",
    "r.json()"
   ]
  },
  {
   "cell_type": "code",
   "execution_count": null,
   "id": "95970f31-5f8c-4dbf-aa3e-1e5fab6f944c",
   "metadata": {},
   "outputs": [],
   "source": []
  }
 ],
 "metadata": {
  "kernelspec": {
   "display_name": "Python 3 (ipykernel)",
   "language": "python",
   "name": "python3"
  },
  "language_info": {
   "codemirror_mode": {
    "name": "ipython",
    "version": 3
   },
   "file_extension": ".py",
   "mimetype": "text/x-python",
   "name": "python",
   "nbconvert_exporter": "python",
   "pygments_lexer": "ipython3",
   "version": "3.9.10"
  }
 },
 "nbformat": 4,
 "nbformat_minor": 5
}
