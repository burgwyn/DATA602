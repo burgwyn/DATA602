{
 "cells": [
  {
   "cell_type": "markdown",
   "metadata": {
    "pycharm": {
     "name": "#%% md\n"
    }
   },
   "source": [
    "# Recreation.gov Reservations - 2021\n",
    "Reservation data for Recreation.gov is published in [Recreational Information Database](ridb.recreation.gov)\n",
    "\n",
    "The 2021 dataset is available [here](https://ridb.recreation.gov/downloads/reservations2021.zip)"
   ]
  },
  {
   "cell_type": "code",
   "execution_count": 1,
   "metadata": {
    "pycharm": {
     "name": "#%%\n"
    }
   },
   "outputs": [],
   "source": [
    "import pandas as pd"
   ]
  },
  {
   "cell_type": "code",
   "execution_count": 2,
   "metadata": {
    "pycharm": {
     "name": "#%%\n"
    }
   },
   "outputs": [
    {
     "name": "stderr",
     "output_type": "stream",
     "text": [
      "c:\\Users\\nburg\\anaconda3\\lib\\site-packages\\IPython\\core\\interactiveshell.py:3071: DtypeWarning: Columns (7,11,12,13,15,17,29,31,33) have mixed types.Specify dtype option on import or set low_memory=False.\n",
      "  has_raised = await self.run_ast_nodes(code_ast.body, cell_name,\n"
     ]
    }
   ],
   "source": [
    "dfReservations2021 = pd.read_csv('./FY21 Historical Reservations Full.csv')"
   ]
  },
  {
   "cell_type": "code",
   "execution_count": 3,
   "metadata": {
    "pycharm": {
     "name": "#%%\n"
    }
   },
   "outputs": [
    {
     "data": {
      "text/plain": [
       "(8354633, 35)"
      ]
     },
     "execution_count": 3,
     "metadata": {},
     "output_type": "execute_result"
    }
   ],
   "source": [
    "dfReservations2021.shape"
   ]
  },
  {
   "cell_type": "code",
   "execution_count": 4,
   "metadata": {
    "pycharm": {
     "name": "#%%\n"
    }
   },
   "outputs": [
    {
     "data": {
      "text/plain": [
       "<bound method DataFrame.info of                       historicalreservationid   ordernumber agency  orgid  \\\n",
       "0        edd9085a-a89f-4787-b9ec-e0794e5ac1b4  0201638440-1    BLM  126.0   \n",
       "1        1d1d4d6a-3d57-47d0-9212-d9a4411555c0  0202157822-1    BLM  126.0   \n",
       "2        bca72357-5824-4484-9eac-a824f5c00622  0208506393-1    BLM  126.0   \n",
       "3        cbf1ce58-fb2a-4605-9474-cf27f1ce4052  0208506393-2    BLM  126.0   \n",
       "4        b3e1899a-aa31-4948-8d47-29af5f6ea85f  0217769313-1    BLM  126.0   \n",
       "...                                       ...           ...    ...    ...   \n",
       "8354628  39fb8f7c-95ad-4020-a39e-d7aa954f8266  0397783574-1    NaN  131.0   \n",
       "8354629  4cf91c2f-2a08-4c67-a041-bc16aa11a822  0397783574-2    NaN  131.0   \n",
       "8354630  62a36ac8-b7db-4cda-ab68-71509d70afd7  0398026423-1    NaN  131.0   \n",
       "8354631  05bea9aa-aa31-46d5-9425-e10d19a17766  0398781775-1    NaN  131.0   \n",
       "8354632  3792e279-28b5-4fe5-bb29-6dc3545d841c  0399064881-1    NaN  131.0   \n",
       "\n",
       "                                 codehierarchy regioncode regiondescription  \\\n",
       "0                  |1|70901|72193|72194|146090         AK            Alaska   \n",
       "1                  |1|70901|72193|72194|146090         AK            Alaska   \n",
       "2                  |1|70901|72193|72194|146090         AK            Alaska   \n",
       "3                  |1|70901|72193|72194|146090         AK            Alaska   \n",
       "4                  |1|70901|72193|72194|146090         AK            Alaska   \n",
       "...                                        ...        ...               ...   \n",
       "8354628  |29364832-c4a0-11eb-9610-ca5a163054ad        NaN               NaN   \n",
       "8354629  |29364832-c4a0-11eb-9610-ca5a163054ad        NaN               NaN   \n",
       "8354630  |29364832-c4a0-11eb-9610-ca5a163054ad        NaN               NaN   \n",
       "8354631  |29364832-c4a0-11eb-9610-ca5a163054ad        NaN               NaN   \n",
       "8354632  |29364832-c4a0-11eb-9610-ca5a163054ad        NaN               NaN   \n",
       "\n",
       "        parentlocationid                            parentlocation  \\\n",
       "0                  72195  White Mountains National Recreation Area   \n",
       "1                  72195  White Mountains National Recreation Area   \n",
       "2                  72195  White Mountains National Recreation Area   \n",
       "3                  72195  White Mountains National Recreation Area   \n",
       "4                  72195  White Mountains National Recreation Area   \n",
       "...                  ...                                       ...   \n",
       "8354628      2.00003e+07                      Gila National Forest   \n",
       "8354629      2.00003e+07                      Gila National Forest   \n",
       "8354630      2.00003e+07                      Gila National Forest   \n",
       "8354631      2.00003e+07                      Gila National Forest   \n",
       "8354632      2.00003e+07                      Gila National Forest   \n",
       "\n",
       "         legacyfacilityid  ... totalbeforetax discount totalpaid  \\\n",
       "0                146090.0  ...           58.0      0.0      58.0   \n",
       "1                146090.0  ...           33.0      0.0      33.0   \n",
       "2                146090.0  ...           33.0      0.0      33.0   \n",
       "3                146090.0  ...           25.0      0.0      25.0   \n",
       "4                146090.0  ...           18.0      0.0      18.0   \n",
       "...                   ...  ...            ...      ...       ...   \n",
       "8354628               NaN  ...            3.0      0.0       3.0   \n",
       "8354629               NaN  ...            3.0      0.0       3.0   \n",
       "8354630               NaN  ...            3.0      0.0       3.0   \n",
       "8354631               NaN  ...            3.0      0.0       3.0   \n",
       "8354632               NaN  ...            3.0      0.0       3.0   \n",
       "\n",
       "                       startdate                  enddate  \\\n",
       "0        2020-10-08 00:00:00.000  2020-10-10 00:00:00.000   \n",
       "1        2020-10-23 00:00:00.000  2020-10-24 00:00:00.000   \n",
       "2        2020-10-02 00:00:00.000  2020-10-03 00:00:00.000   \n",
       "3        2020-10-03 00:00:00.000  2020-10-04 00:00:00.000   \n",
       "4        2020-10-10 00:00:00.000  2020-10-11 00:00:00.000   \n",
       "...                          ...                      ...   \n",
       "8354628  2021-08-03 00:00:00.000  2021-08-03 00:00:00.000   \n",
       "8354629  2021-08-03 00:00:00.000  2021-08-03 00:00:00.000   \n",
       "8354630  2021-09-30 00:00:00.000  2021-09-30 00:00:00.000   \n",
       "8354631  2021-08-21 00:00:00.000  2021-08-21 00:00:00.000   \n",
       "8354632  2021-08-30 00:00:00.000  2021-08-30 00:00:00.000   \n",
       "\n",
       "                       orderdate    nights numberofpeople  \\\n",
       "0        2020-09-10 09:16:58.400    2 days            1.0   \n",
       "1        2020-09-28 23:22:18.538     1 day            2.0   \n",
       "2        2020-09-19 01:03:11.146     1 day            0.0   \n",
       "3        2020-09-19 01:03:11.146     1 day            2.0   \n",
       "4        2020-09-16 19:57:02.020     1 day            0.0   \n",
       "...                          ...       ...            ...   \n",
       "8354628  2021-07-08 16:42:30.532  00:00:00            NaN   \n",
       "8354629  2021-07-08 16:42:30.532  00:00:00            NaN   \n",
       "8354630  2021-09-30 22:20:38.779  00:00:00            NaN   \n",
       "8354631  2021-08-21 19:52:40.255  00:00:00            NaN   \n",
       "8354632  2021-08-30 18:08:26.562  00:00:00            NaN   \n",
       "\n",
       "         equipmentdescription  equipmentlength  \n",
       "0                         NaN              0.0  \n",
       "1                         NaN              0.0  \n",
       "2                         NaN              0.0  \n",
       "3                         NaN              0.0  \n",
       "4                         NaN              0.0  \n",
       "...                       ...              ...  \n",
       "8354628                   NaN              NaN  \n",
       "8354629                   NaN              NaN  \n",
       "8354630                   NaN              NaN  \n",
       "8354631                   NaN              NaN  \n",
       "8354632                   NaN              NaN  \n",
       "\n",
       "[8354633 rows x 35 columns]>"
      ]
     },
     "execution_count": 4,
     "metadata": {},
     "output_type": "execute_result"
    }
   ],
   "source": [
    "dfReservations2021.info"
   ]
  },
  {
   "cell_type": "code",
   "execution_count": 5,
   "metadata": {
    "pycharm": {
     "name": "#%%\n"
    }
   },
   "outputs": [
    {
     "data": {
      "text/plain": [
       "historicalreservationid     object\n",
       "ordernumber                 object\n",
       "agency                      object\n",
       "orgid                      float64\n",
       "codehierarchy               object\n",
       "regioncode                  object\n",
       "regiondescription           object\n",
       "parentlocationid            object\n",
       "parentlocation              object\n",
       "legacyfacilityid           float64\n",
       "park                        object\n",
       "sitetype                    object\n",
       "usetype                     object\n",
       "productid                   object\n",
       "inventorytype               object\n",
       "facilityid                  object\n",
       "facilityzip                float64\n",
       "facilitystate               object\n",
       "facilitylongitude          float64\n",
       "facilitylatitude           float64\n",
       "customerzip                 object\n",
       "tax                        float64\n",
       "usefee                     float64\n",
       "tranfee                    float64\n",
       "attrfee                    float64\n",
       "totalbeforetax             float64\n",
       "discount                   float64\n",
       "totalpaid                  float64\n",
       "startdate                   object\n",
       "enddate                     object\n",
       "orderdate                   object\n",
       "nights                      object\n",
       "numberofpeople             float64\n",
       "equipmentdescription        object\n",
       "equipmentlength            float64\n",
       "dtype: object"
      ]
     },
     "execution_count": 5,
     "metadata": {},
     "output_type": "execute_result"
    }
   ],
   "source": [
    "dfReservations2021.dtypes"
   ]
  },
  {
   "cell_type": "code",
   "execution_count": 6,
   "metadata": {
    "pycharm": {
     "name": "#%%\n"
    }
   },
   "outputs": [
    {
     "data": {
      "text/html": [
       "<div>\n",
       "<style scoped>\n",
       "    .dataframe tbody tr th:only-of-type {\n",
       "        vertical-align: middle;\n",
       "    }\n",
       "\n",
       "    .dataframe tbody tr th {\n",
       "        vertical-align: top;\n",
       "    }\n",
       "\n",
       "    .dataframe thead th {\n",
       "        text-align: right;\n",
       "    }\n",
       "</style>\n",
       "<table border=\"1\" class=\"dataframe\">\n",
       "  <thead>\n",
       "    <tr style=\"text-align: right;\">\n",
       "      <th></th>\n",
       "      <th>historicalreservationid</th>\n",
       "      <th>ordernumber</th>\n",
       "      <th>agency</th>\n",
       "      <th>orgid</th>\n",
       "      <th>codehierarchy</th>\n",
       "      <th>regioncode</th>\n",
       "      <th>regiondescription</th>\n",
       "      <th>parentlocationid</th>\n",
       "      <th>parentlocation</th>\n",
       "      <th>legacyfacilityid</th>\n",
       "      <th>...</th>\n",
       "      <th>totalbeforetax</th>\n",
       "      <th>discount</th>\n",
       "      <th>totalpaid</th>\n",
       "      <th>startdate</th>\n",
       "      <th>enddate</th>\n",
       "      <th>orderdate</th>\n",
       "      <th>nights</th>\n",
       "      <th>numberofpeople</th>\n",
       "      <th>equipmentdescription</th>\n",
       "      <th>equipmentlength</th>\n",
       "    </tr>\n",
       "  </thead>\n",
       "  <tbody>\n",
       "    <tr>\n",
       "      <th>0</th>\n",
       "      <td>edd9085a-a89f-4787-b9ec-e0794e5ac1b4</td>\n",
       "      <td>0201638440-1</td>\n",
       "      <td>BLM</td>\n",
       "      <td>126.0</td>\n",
       "      <td>|1|70901|72193|72194|146090</td>\n",
       "      <td>AK</td>\n",
       "      <td>Alaska</td>\n",
       "      <td>72195</td>\n",
       "      <td>White Mountains National Recreation Area</td>\n",
       "      <td>146090.0</td>\n",
       "      <td>...</td>\n",
       "      <td>58.0</td>\n",
       "      <td>0.0</td>\n",
       "      <td>58.0</td>\n",
       "      <td>2020-10-08 00:00:00.000</td>\n",
       "      <td>2020-10-10 00:00:00.000</td>\n",
       "      <td>2020-09-10 09:16:58.400</td>\n",
       "      <td>2 days</td>\n",
       "      <td>1.0</td>\n",
       "      <td>NaN</td>\n",
       "      <td>0.0</td>\n",
       "    </tr>\n",
       "    <tr>\n",
       "      <th>1</th>\n",
       "      <td>1d1d4d6a-3d57-47d0-9212-d9a4411555c0</td>\n",
       "      <td>0202157822-1</td>\n",
       "      <td>BLM</td>\n",
       "      <td>126.0</td>\n",
       "      <td>|1|70901|72193|72194|146090</td>\n",
       "      <td>AK</td>\n",
       "      <td>Alaska</td>\n",
       "      <td>72195</td>\n",
       "      <td>White Mountains National Recreation Area</td>\n",
       "      <td>146090.0</td>\n",
       "      <td>...</td>\n",
       "      <td>33.0</td>\n",
       "      <td>0.0</td>\n",
       "      <td>33.0</td>\n",
       "      <td>2020-10-23 00:00:00.000</td>\n",
       "      <td>2020-10-24 00:00:00.000</td>\n",
       "      <td>2020-09-28 23:22:18.538</td>\n",
       "      <td>1 day</td>\n",
       "      <td>2.0</td>\n",
       "      <td>NaN</td>\n",
       "      <td>0.0</td>\n",
       "    </tr>\n",
       "    <tr>\n",
       "      <th>2</th>\n",
       "      <td>bca72357-5824-4484-9eac-a824f5c00622</td>\n",
       "      <td>0208506393-1</td>\n",
       "      <td>BLM</td>\n",
       "      <td>126.0</td>\n",
       "      <td>|1|70901|72193|72194|146090</td>\n",
       "      <td>AK</td>\n",
       "      <td>Alaska</td>\n",
       "      <td>72195</td>\n",
       "      <td>White Mountains National Recreation Area</td>\n",
       "      <td>146090.0</td>\n",
       "      <td>...</td>\n",
       "      <td>33.0</td>\n",
       "      <td>0.0</td>\n",
       "      <td>33.0</td>\n",
       "      <td>2020-10-02 00:00:00.000</td>\n",
       "      <td>2020-10-03 00:00:00.000</td>\n",
       "      <td>2020-09-19 01:03:11.146</td>\n",
       "      <td>1 day</td>\n",
       "      <td>0.0</td>\n",
       "      <td>NaN</td>\n",
       "      <td>0.0</td>\n",
       "    </tr>\n",
       "    <tr>\n",
       "      <th>3</th>\n",
       "      <td>cbf1ce58-fb2a-4605-9474-cf27f1ce4052</td>\n",
       "      <td>0208506393-2</td>\n",
       "      <td>BLM</td>\n",
       "      <td>126.0</td>\n",
       "      <td>|1|70901|72193|72194|146090</td>\n",
       "      <td>AK</td>\n",
       "      <td>Alaska</td>\n",
       "      <td>72195</td>\n",
       "      <td>White Mountains National Recreation Area</td>\n",
       "      <td>146090.0</td>\n",
       "      <td>...</td>\n",
       "      <td>25.0</td>\n",
       "      <td>0.0</td>\n",
       "      <td>25.0</td>\n",
       "      <td>2020-10-03 00:00:00.000</td>\n",
       "      <td>2020-10-04 00:00:00.000</td>\n",
       "      <td>2020-09-19 01:03:11.146</td>\n",
       "      <td>1 day</td>\n",
       "      <td>2.0</td>\n",
       "      <td>NaN</td>\n",
       "      <td>0.0</td>\n",
       "    </tr>\n",
       "    <tr>\n",
       "      <th>4</th>\n",
       "      <td>b3e1899a-aa31-4948-8d47-29af5f6ea85f</td>\n",
       "      <td>0217769313-1</td>\n",
       "      <td>BLM</td>\n",
       "      <td>126.0</td>\n",
       "      <td>|1|70901|72193|72194|146090</td>\n",
       "      <td>AK</td>\n",
       "      <td>Alaska</td>\n",
       "      <td>72195</td>\n",
       "      <td>White Mountains National Recreation Area</td>\n",
       "      <td>146090.0</td>\n",
       "      <td>...</td>\n",
       "      <td>18.0</td>\n",
       "      <td>0.0</td>\n",
       "      <td>18.0</td>\n",
       "      <td>2020-10-10 00:00:00.000</td>\n",
       "      <td>2020-10-11 00:00:00.000</td>\n",
       "      <td>2020-09-16 19:57:02.020</td>\n",
       "      <td>1 day</td>\n",
       "      <td>0.0</td>\n",
       "      <td>NaN</td>\n",
       "      <td>0.0</td>\n",
       "    </tr>\n",
       "  </tbody>\n",
       "</table>\n",
       "<p>5 rows × 35 columns</p>\n",
       "</div>"
      ],
      "text/plain": [
       "                historicalreservationid   ordernumber agency  orgid  \\\n",
       "0  edd9085a-a89f-4787-b9ec-e0794e5ac1b4  0201638440-1    BLM  126.0   \n",
       "1  1d1d4d6a-3d57-47d0-9212-d9a4411555c0  0202157822-1    BLM  126.0   \n",
       "2  bca72357-5824-4484-9eac-a824f5c00622  0208506393-1    BLM  126.0   \n",
       "3  cbf1ce58-fb2a-4605-9474-cf27f1ce4052  0208506393-2    BLM  126.0   \n",
       "4  b3e1899a-aa31-4948-8d47-29af5f6ea85f  0217769313-1    BLM  126.0   \n",
       "\n",
       "                 codehierarchy regioncode regiondescription parentlocationid  \\\n",
       "0  |1|70901|72193|72194|146090         AK            Alaska            72195   \n",
       "1  |1|70901|72193|72194|146090         AK            Alaska            72195   \n",
       "2  |1|70901|72193|72194|146090         AK            Alaska            72195   \n",
       "3  |1|70901|72193|72194|146090         AK            Alaska            72195   \n",
       "4  |1|70901|72193|72194|146090         AK            Alaska            72195   \n",
       "\n",
       "                             parentlocation  legacyfacilityid  ...  \\\n",
       "0  White Mountains National Recreation Area          146090.0  ...   \n",
       "1  White Mountains National Recreation Area          146090.0  ...   \n",
       "2  White Mountains National Recreation Area          146090.0  ...   \n",
       "3  White Mountains National Recreation Area          146090.0  ...   \n",
       "4  White Mountains National Recreation Area          146090.0  ...   \n",
       "\n",
       "  totalbeforetax discount totalpaid                startdate  \\\n",
       "0           58.0      0.0      58.0  2020-10-08 00:00:00.000   \n",
       "1           33.0      0.0      33.0  2020-10-23 00:00:00.000   \n",
       "2           33.0      0.0      33.0  2020-10-02 00:00:00.000   \n",
       "3           25.0      0.0      25.0  2020-10-03 00:00:00.000   \n",
       "4           18.0      0.0      18.0  2020-10-10 00:00:00.000   \n",
       "\n",
       "                   enddate                orderdate  nights numberofpeople  \\\n",
       "0  2020-10-10 00:00:00.000  2020-09-10 09:16:58.400  2 days            1.0   \n",
       "1  2020-10-24 00:00:00.000  2020-09-28 23:22:18.538   1 day            2.0   \n",
       "2  2020-10-03 00:00:00.000  2020-09-19 01:03:11.146   1 day            0.0   \n",
       "3  2020-10-04 00:00:00.000  2020-09-19 01:03:11.146   1 day            2.0   \n",
       "4  2020-10-11 00:00:00.000  2020-09-16 19:57:02.020   1 day            0.0   \n",
       "\n",
       "   equipmentdescription  equipmentlength  \n",
       "0                   NaN              0.0  \n",
       "1                   NaN              0.0  \n",
       "2                   NaN              0.0  \n",
       "3                   NaN              0.0  \n",
       "4                   NaN              0.0  \n",
       "\n",
       "[5 rows x 35 columns]"
      ]
     },
     "execution_count": 6,
     "metadata": {},
     "output_type": "execute_result"
    }
   ],
   "source": [
    "dfReservations2021.head()"
   ]
  },
  {
   "cell_type": "code",
   "execution_count": 7,
   "metadata": {
    "pycharm": {
     "name": "#%%\n"
    }
   },
   "outputs": [
    {
     "data": {
      "text/plain": [
       "['historicalreservationid',\n",
       " 'ordernumber',\n",
       " 'agency',\n",
       " 'orgid',\n",
       " 'codehierarchy',\n",
       " 'regioncode',\n",
       " 'regiondescription',\n",
       " 'parentlocationid',\n",
       " 'parentlocation',\n",
       " 'legacyfacilityid',\n",
       " 'park',\n",
       " 'sitetype',\n",
       " 'usetype',\n",
       " 'productid',\n",
       " 'inventorytype',\n",
       " 'facilityid',\n",
       " 'facilityzip',\n",
       " 'facilitystate',\n",
       " 'facilitylongitude',\n",
       " 'facilitylatitude',\n",
       " 'customerzip',\n",
       " 'tax',\n",
       " 'usefee',\n",
       " 'tranfee',\n",
       " 'attrfee',\n",
       " 'totalbeforetax',\n",
       " 'discount',\n",
       " 'totalpaid',\n",
       " 'startdate',\n",
       " 'enddate',\n",
       " 'orderdate',\n",
       " 'nights',\n",
       " 'numberofpeople',\n",
       " 'equipmentdescription',\n",
       " 'equipmentlength']"
      ]
     },
     "execution_count": 7,
     "metadata": {},
     "output_type": "execute_result"
    }
   ],
   "source": [
    "# columns in dataframe\n",
    "list(dfReservations2021)"
   ]
  },
  {
   "cell_type": "markdown",
   "metadata": {
    "pycharm": {
     "name": "#%% md\n"
    }
   },
   "source": [
    "## Observations\n",
    "\n",
    "- `historicalreservationid` - this is a GUID, which is not helpful\n",
    "- `ordernumber` - this is hyphenated, ie 1234-2, which looks like versions of a single order\n",
    "- `codehierarchy` - pipe-delimited, appears to be for internal reporting\n",
    "- `parentlocationid` and `parentlocation` - duplicative\n",
    "- `legacyfacilityid` - legacy unique identifier\n",
    "- `park` - duplicative\n",
    "- `sitetype`, `usetype`, `productid`, `inventorytype` - type of transaction information\n",
    "- `facility` - geographic information on multiple dimensions\n",
    "- `customerzip` - likely customer dimension\n",
    "- `nights` - format of X day(s), likely derived from `enddate` - `startdate`\n",
    "- `equipmentdescription` and `equipmentlength` - not applicable"
   ]
  },
  {
   "cell_type": "code",
   "execution_count": 8,
   "metadata": {
    "pycharm": {
     "name": "#%%\n"
    }
   },
   "outputs": [],
   "source": [
    "# drop columns that won't impact research\n",
    "dfReservations2021.drop(columns=['historicalreservationid', 'regioncode', 'regiondescription', 'parentlocation', 'codehierarchy', 'legacyfacilityid', 'tax', 'usefee', 'tranfee', 'attrfee', 'totalbeforetax', 'discount', 'equipmentdescription', 'equipmentlength'], inplace=True)"
   ]
  },
  {
   "cell_type": "markdown",
   "metadata": {
    "pycharm": {
     "name": "#%%\n"
    }
   },
   "source": [
    "## Order Number\n",
    "\n",
    "The `ordernumber` field displays as `XXX-Y` where `XXX` is a unique order transaction and `Y` is a version number.  This means that there are likely duplicate orders in the original dataset.  The goal is to reduce this down to just the max version `Y` for each order.\n",
    "\n",
    "To accomplish this:\n",
    "- Split `ordernumber` into two distinct fields: `orderno` and `orderversion`\n",
    "- Drop duplicate `orderno` values using max `orderversion`"
   ]
  },
  {
   "cell_type": "code",
   "execution_count": 9,
   "metadata": {
    "pycharm": {
     "name": "#%%\n"
    }
   },
   "outputs": [],
   "source": [
    "# https://stackoverflow.com/questions/14745022/how-to-split-a-dataframe-string-column-into-two-columns\n",
    "dfReservations2021[['orderno', 'orderversion']] = dfReservations2021['ordernumber'].str.split('-', 1, expand=True)"
   ]
  },
  {
   "cell_type": "code",
   "execution_count": 10,
   "metadata": {
    "pycharm": {
     "name": "#%%\n"
    }
   },
   "outputs": [
    {
     "data": {
      "text/html": [
       "<div>\n",
       "<style scoped>\n",
       "    .dataframe tbody tr th:only-of-type {\n",
       "        vertical-align: middle;\n",
       "    }\n",
       "\n",
       "    .dataframe tbody tr th {\n",
       "        vertical-align: top;\n",
       "    }\n",
       "\n",
       "    .dataframe thead th {\n",
       "        text-align: right;\n",
       "    }\n",
       "</style>\n",
       "<table border=\"1\" class=\"dataframe\">\n",
       "  <thead>\n",
       "    <tr style=\"text-align: right;\">\n",
       "      <th></th>\n",
       "      <th>ordernumber</th>\n",
       "      <th>agency</th>\n",
       "      <th>orgid</th>\n",
       "      <th>parentlocationid</th>\n",
       "      <th>park</th>\n",
       "      <th>sitetype</th>\n",
       "      <th>usetype</th>\n",
       "      <th>productid</th>\n",
       "      <th>inventorytype</th>\n",
       "      <th>facilityid</th>\n",
       "      <th>...</th>\n",
       "      <th>facilitylatitude</th>\n",
       "      <th>customerzip</th>\n",
       "      <th>totalpaid</th>\n",
       "      <th>startdate</th>\n",
       "      <th>enddate</th>\n",
       "      <th>orderdate</th>\n",
       "      <th>nights</th>\n",
       "      <th>numberofpeople</th>\n",
       "      <th>orderno</th>\n",
       "      <th>orderversion</th>\n",
       "    </tr>\n",
       "  </thead>\n",
       "  <tbody>\n",
       "    <tr>\n",
       "      <th>0</th>\n",
       "      <td>0201638440-1</td>\n",
       "      <td>BLM</td>\n",
       "      <td>126.0</td>\n",
       "      <td>72195</td>\n",
       "      <td>White Mountains National Recreation Area - Ala...</td>\n",
       "      <td>CABIN NONELECTRIC</td>\n",
       "      <td>Overnight</td>\n",
       "      <td>99821</td>\n",
       "      <td>CAMPING</td>\n",
       "      <td>252494</td>\n",
       "      <td>...</td>\n",
       "      <td>65.427497</td>\n",
       "      <td>NaN</td>\n",
       "      <td>58.0</td>\n",
       "      <td>2020-10-08 00:00:00.000</td>\n",
       "      <td>2020-10-10 00:00:00.000</td>\n",
       "      <td>2020-09-10 09:16:58.400</td>\n",
       "      <td>2 days</td>\n",
       "      <td>1.0</td>\n",
       "      <td>0201638440</td>\n",
       "      <td>1</td>\n",
       "    </tr>\n",
       "    <tr>\n",
       "      <th>1</th>\n",
       "      <td>0202157822-1</td>\n",
       "      <td>BLM</td>\n",
       "      <td>126.0</td>\n",
       "      <td>72195</td>\n",
       "      <td>White Mountains National Recreation Area - Ala...</td>\n",
       "      <td>CABIN NONELECTRIC</td>\n",
       "      <td>Overnight</td>\n",
       "      <td>639772</td>\n",
       "      <td>CAMPING</td>\n",
       "      <td>252494</td>\n",
       "      <td>...</td>\n",
       "      <td>65.427497</td>\n",
       "      <td>99709</td>\n",
       "      <td>33.0</td>\n",
       "      <td>2020-10-23 00:00:00.000</td>\n",
       "      <td>2020-10-24 00:00:00.000</td>\n",
       "      <td>2020-09-28 23:22:18.538</td>\n",
       "      <td>1 day</td>\n",
       "      <td>2.0</td>\n",
       "      <td>0202157822</td>\n",
       "      <td>1</td>\n",
       "    </tr>\n",
       "    <tr>\n",
       "      <th>2</th>\n",
       "      <td>0208506393-1</td>\n",
       "      <td>BLM</td>\n",
       "      <td>126.0</td>\n",
       "      <td>72195</td>\n",
       "      <td>White Mountains National Recreation Area - Ala...</td>\n",
       "      <td>CABIN NONELECTRIC</td>\n",
       "      <td>Overnight</td>\n",
       "      <td>639772</td>\n",
       "      <td>CAMPING</td>\n",
       "      <td>252494</td>\n",
       "      <td>...</td>\n",
       "      <td>65.427497</td>\n",
       "      <td>99706</td>\n",
       "      <td>33.0</td>\n",
       "      <td>2020-10-02 00:00:00.000</td>\n",
       "      <td>2020-10-03 00:00:00.000</td>\n",
       "      <td>2020-09-19 01:03:11.146</td>\n",
       "      <td>1 day</td>\n",
       "      <td>0.0</td>\n",
       "      <td>0208506393</td>\n",
       "      <td>1</td>\n",
       "    </tr>\n",
       "    <tr>\n",
       "      <th>3</th>\n",
       "      <td>0208506393-2</td>\n",
       "      <td>BLM</td>\n",
       "      <td>126.0</td>\n",
       "      <td>72195</td>\n",
       "      <td>White Mountains National Recreation Area - Ala...</td>\n",
       "      <td>CABIN NONELECTRIC</td>\n",
       "      <td>Overnight</td>\n",
       "      <td>639772</td>\n",
       "      <td>CAMPING</td>\n",
       "      <td>252494</td>\n",
       "      <td>...</td>\n",
       "      <td>65.427497</td>\n",
       "      <td>99706</td>\n",
       "      <td>25.0</td>\n",
       "      <td>2020-10-03 00:00:00.000</td>\n",
       "      <td>2020-10-04 00:00:00.000</td>\n",
       "      <td>2020-09-19 01:03:11.146</td>\n",
       "      <td>1 day</td>\n",
       "      <td>2.0</td>\n",
       "      <td>0208506393</td>\n",
       "      <td>2</td>\n",
       "    </tr>\n",
       "    <tr>\n",
       "      <th>4</th>\n",
       "      <td>0217769313-1</td>\n",
       "      <td>BLM</td>\n",
       "      <td>126.0</td>\n",
       "      <td>72195</td>\n",
       "      <td>White Mountains National Recreation Area - Ala...</td>\n",
       "      <td>CABIN NONELECTRIC</td>\n",
       "      <td>Overnight</td>\n",
       "      <td>639772</td>\n",
       "      <td>CAMPING</td>\n",
       "      <td>252494</td>\n",
       "      <td>...</td>\n",
       "      <td>65.427497</td>\n",
       "      <td>99709</td>\n",
       "      <td>18.0</td>\n",
       "      <td>2020-10-10 00:00:00.000</td>\n",
       "      <td>2020-10-11 00:00:00.000</td>\n",
       "      <td>2020-09-16 19:57:02.020</td>\n",
       "      <td>1 day</td>\n",
       "      <td>0.0</td>\n",
       "      <td>0217769313</td>\n",
       "      <td>1</td>\n",
       "    </tr>\n",
       "  </tbody>\n",
       "</table>\n",
       "<p>5 rows × 23 columns</p>\n",
       "</div>"
      ],
      "text/plain": [
       "    ordernumber agency  orgid parentlocationid  \\\n",
       "0  0201638440-1    BLM  126.0            72195   \n",
       "1  0202157822-1    BLM  126.0            72195   \n",
       "2  0208506393-1    BLM  126.0            72195   \n",
       "3  0208506393-2    BLM  126.0            72195   \n",
       "4  0217769313-1    BLM  126.0            72195   \n",
       "\n",
       "                                                park           sitetype  \\\n",
       "0  White Mountains National Recreation Area - Ala...  CABIN NONELECTRIC   \n",
       "1  White Mountains National Recreation Area - Ala...  CABIN NONELECTRIC   \n",
       "2  White Mountains National Recreation Area - Ala...  CABIN NONELECTRIC   \n",
       "3  White Mountains National Recreation Area - Ala...  CABIN NONELECTRIC   \n",
       "4  White Mountains National Recreation Area - Ala...  CABIN NONELECTRIC   \n",
       "\n",
       "     usetype productid inventorytype facilityid  ...  facilitylatitude  \\\n",
       "0  Overnight     99821       CAMPING     252494  ...         65.427497   \n",
       "1  Overnight    639772       CAMPING     252494  ...         65.427497   \n",
       "2  Overnight    639772       CAMPING     252494  ...         65.427497   \n",
       "3  Overnight    639772       CAMPING     252494  ...         65.427497   \n",
       "4  Overnight    639772       CAMPING     252494  ...         65.427497   \n",
       "\n",
       "  customerzip  totalpaid                startdate                  enddate  \\\n",
       "0         NaN       58.0  2020-10-08 00:00:00.000  2020-10-10 00:00:00.000   \n",
       "1       99709       33.0  2020-10-23 00:00:00.000  2020-10-24 00:00:00.000   \n",
       "2       99706       33.0  2020-10-02 00:00:00.000  2020-10-03 00:00:00.000   \n",
       "3       99706       25.0  2020-10-03 00:00:00.000  2020-10-04 00:00:00.000   \n",
       "4       99709       18.0  2020-10-10 00:00:00.000  2020-10-11 00:00:00.000   \n",
       "\n",
       "                 orderdate  nights numberofpeople     orderno orderversion  \n",
       "0  2020-09-10 09:16:58.400  2 days            1.0  0201638440            1  \n",
       "1  2020-09-28 23:22:18.538   1 day            2.0  0202157822            1  \n",
       "2  2020-09-19 01:03:11.146   1 day            0.0  0208506393            1  \n",
       "3  2020-09-19 01:03:11.146   1 day            2.0  0208506393            2  \n",
       "4  2020-09-16 19:57:02.020   1 day            0.0  0217769313            1  \n",
       "\n",
       "[5 rows x 23 columns]"
      ]
     },
     "execution_count": 10,
     "metadata": {},
     "output_type": "execute_result"
    }
   ],
   "source": [
    "dfReservations2021.head()"
   ]
  },
  {
   "cell_type": "code",
   "execution_count": 11,
   "metadata": {
    "pycharm": {
     "name": "#%%\n"
    }
   },
   "outputs": [
    {
     "data": {
      "text/plain": [
       "orderno         499981626.0\n",
       "orderversion            9.0\n",
       "dtype: float64"
      ]
     },
     "execution_count": 11,
     "metadata": {},
     "output_type": "execute_result"
    }
   ],
   "source": [
    "# what is the order with the most revisions?\n",
    "dfReservations2021[['orderno', 'orderversion']].max()"
   ]
  },
  {
   "cell_type": "code",
   "execution_count": 12,
   "metadata": {
    "pycharm": {
     "name": "#%%\n"
    }
   },
   "outputs": [],
   "source": [
    "# drop duplicates, keeping max orderversion\n",
    "dfReservations2021.drop_duplicates(subset=['orderno'], keep='last', inplace=True)"
   ]
  },
  {
   "cell_type": "code",
   "execution_count": 13,
   "metadata": {
    "pycharm": {
     "name": "#%%\n"
    }
   },
   "outputs": [
    {
     "data": {
      "text/plain": [
       "(7355532, 23)"
      ]
     },
     "execution_count": 13,
     "metadata": {},
     "output_type": "execute_result"
    }
   ],
   "source": [
    "# review new dataframe\n",
    "dfReservations2021.shape"
   ]
  },
  {
   "cell_type": "markdown",
   "metadata": {},
   "source": [
    "## Nights\n",
    "\n",
    "The dataset include a nights field which is a string that displays `x days`.  Somewhat confusing, but even moreso when looking at all the different values."
   ]
  },
  {
   "cell_type": "code",
   "execution_count": 14,
   "metadata": {
    "pycharm": {
     "name": "#%%\n"
    }
   },
   "outputs": [
    {
     "data": {
      "text/plain": [
       "array(['2 days', '1 day', '3 days', '8 days', '00:00:00', '21 days',\n",
       "       '29 days', '30 days', '23 days', '9 days', '-2 days', '22 days',\n",
       "       '4 days', nan, '-1 days -14:47:10.998269', '5 days', '7 days',\n",
       "       '14 days', '13 days', '6 days', '10 days', '12 days', '11 days',\n",
       "       '35 days', '16 days', '17 days', '26 days', '58 days', '32 days',\n",
       "       '-20 days', '-21:55:08.125762', '364 days', '19 days', '129 days',\n",
       "       '27 days', '18 days', '-5 days', '-13 days', '-19 days', '-3 days',\n",
       "       '142 days', '-4 days', '40 days', '15 days', '106 days', '-6 days',\n",
       "       '24 days', '-1 days', '42 days', '-12 days', '33 days', '211 days',\n",
       "       '62 days', '36 days', '31 days', '-10 days', '-22 days', '50 days',\n",
       "       '377 days', '372 days', '374 days', '370 days', '368 days',\n",
       "       '390 days', '375 days', '379 days', '386 days', '383 days',\n",
       "       '373 days', '380 days', '385 days', '392 days', '371 days',\n",
       "       '376 days', '365 days', '393 days', '366 days', '391 days',\n",
       "       '394 days', '381 days', '367 days', '384 days', '389 days',\n",
       "       '378 days', '388 days', '387 days', '382 days', '395 days',\n",
       "       '369 days', '-44 days', '-9 days', '52 days', '53 days', '88 days',\n",
       "       '156 days', '37 days', '71 days', '357 days 07:33:59.388191',\n",
       "       '121 days', '39 days', '-40 days', '93 days', '81 days', '49 days',\n",
       "       '44 days', '80 days', '45 days', '51 days', '38 days', '128 days',\n",
       "       '72 days', '43 days', '-25 days', '-34 days', '91 days',\n",
       "       '-18 days', '55 days', '-146 days', '119 days', '-110 days',\n",
       "       '149 days', '64 days', '25 days', '135 days', '176 days',\n",
       "       '113 days', '141 days', '125 days', '127 days', '114 days',\n",
       "       '115 days', '134 days', '120 days', '136 days', '116 days',\n",
       "       '132 days', '140 days', '126 days', '138 days', '110 days',\n",
       "       '112 days', '111 days', '118 days', '137 days', '130 days',\n",
       "       '133 days', '131 days', '139 days', '117 days', '162 days',\n",
       "       '115 days 04:45:45.972247', '143 days 00:44:03.788218', '20 days',\n",
       "       '123 days', '470 days', '99 days', '96 days', '65 days',\n",
       "       '241 days', '48 days', '94 days', '54 days', '169 days',\n",
       "       '108 days', '92 days', '266 days', '-11 days', '191 days',\n",
       "       '-37 days', '215 days', '197 days', '302 days', '305 days',\n",
       "       '69 days', '-36 days', '171 days', '-24 days', '185 days',\n",
       "       '95 days', '98 days', '164 days', '61 days', '-33 days',\n",
       "       '181 days', '157 days', '59 days', '78 days', '28 days',\n",
       "       '179 days', '183 days', '184 days', '163 days', '104 days',\n",
       "       '-82 days', '107 days', '-51 days', '68 days', '85 days',\n",
       "       '218 days', '122 days', '168 days', '-7 days', '101 days',\n",
       "       '297 days', '60 days', '79 days', '-80 days', '89 days',\n",
       "       '-62 days', '34 days', '57 days', '-16 days', '198 days',\n",
       "       '82 days', '70 days', '76 days', '-21 days', '194 days',\n",
       "       '178 days', '83 days', '175 days', '154 days', '-108 days',\n",
       "       '161 days', '105 days', '151 days', '46 days', '190 days',\n",
       "       '150 days', '-38 days', '187 days', '63 days', '-174 days',\n",
       "       '67 days', '-122 days', '97 days', '344 days', '-15 days',\n",
       "       '144 days', '109 days', '56 days', '-8 days', '41 days',\n",
       "       '-93 days', '-61 days', '170 days', '84 days', '-28 days',\n",
       "       '177 days', '-26 days', '-42 days', '148 days', '-68 days',\n",
       "       '-21:55:37.67653', '-21:56:01.869293', '-22:11:36.580334',\n",
       "       '86 days', '-29 days', '100 days', '-14 days', '77 days',\n",
       "       '189 days', '-27 days', '182 days', '316 days', '66 days',\n",
       "       '-30 days', '240 days', '203 days', '90 days', '200 days',\n",
       "       '73 days', '75 days', '103 days', '303 days', '174 days',\n",
       "       '-32 days', '331 days', '-41 days', '-81 days', '172 days',\n",
       "       '-78 days', '205 days', '124 days', '-53 days', '-152 days',\n",
       "       '87 days', '74 days', '-35 days', '-17 days', '-89 days',\n",
       "       '153 days', '-39 days', '-31 days', '-96 days', '-75 days',\n",
       "       '143 days', '155 days', '188 days', '173 days', '-48 days',\n",
       "       '277 days', '-47 days', '47 days', '-74 days', '398 days',\n",
       "       '152 days', '166 days', '294 days', '-17:13:14.634924', '-46 days',\n",
       "       '102 days', '-100 days', '-77 days', '-79 days', '-67 days',\n",
       "       '-109 days', '-90 days', '158 days', '-60 days', '212 days',\n",
       "       '-106 days', '165 days', '-59 days', '-73 days', '363 days',\n",
       "       '-87 days', '262 days', '-23 days', '160 days', '213 days',\n",
       "       '237 days', '186 days', '230 days', '-43 days', '-171 days',\n",
       "       '372 days 03:01:55.787239', '5 days 02:28:12.526549', '204 days',\n",
       "       '-138 days', '261 days', '-144 days', '167 days', '-88 days',\n",
       "       '325 days', '270 days', '-54 days', '-298 days', '232 days',\n",
       "       '210 days', '201 days', '-64 days', '-118 days', '-84 days',\n",
       "       '308 days', '145 days', '-72 days', '349 days', '-45 days',\n",
       "       '352 days', '-98 days', '-191 days', '239 days', '-55 days',\n",
       "       '159 days', '338 days', '147 days', '326 days', '-126 days',\n",
       "       '251 days', '-104 days', '247 days', '-50 days', '-91 days',\n",
       "       '-58 days', '146 days', '-145 days', '-52 days', '180 days',\n",
       "       '233 days', '-2 days -14:32:45.355321', '196 days', '-295 days',\n",
       "       '-173 days', '246 days', '-114 days', '-83 days', '361 days',\n",
       "       '337 days', '-224 days', '219 days', '-227 days', '282 days',\n",
       "       '353 days', '-737966 days', '-737959 days', '-738029 days',\n",
       "       '-737938 days', '-738008 days', '-737931 days', '-738015 days',\n",
       "       '-737924 days', '-737945 days', '-738001 days', '-738036 days',\n",
       "       '-738022 days', '-737987 days', '-737917 days', '-738043 days',\n",
       "       '-737980 days', '-737994 days', '-738050 days', '-737952 days',\n",
       "       '-738057 days', '-737973 days', '-737910 days', '-65 days'],\n",
       "      dtype=object)"
      ]
     },
     "execution_count": 14,
     "metadata": {},
     "output_type": "execute_result"
    }
   ],
   "source": [
    "# display all the unique nights values\n",
    "dfReservations2021['nights'].unique()"
   ]
  },
  {
   "cell_type": "markdown",
   "metadata": {},
   "source": [
    "Based upon the unique values above, it is clear that this field will require further cleaning."
   ]
  },
  {
   "cell_type": "code",
   "execution_count": 15,
   "metadata": {
    "pycharm": {
     "name": "#%%\n"
    }
   },
   "outputs": [],
   "source": [
    "# function to return \n",
    "def format_nights(night_str):\n",
    "    try:\n",
    "        result = night_str.split(' ')\n",
    "        return int(result[0])\n",
    "    except:\n",
    "        return 0"
   ]
  },
  {
   "cell_type": "code",
   "execution_count": 16,
   "metadata": {
    "pycharm": {
     "name": "#%%\n"
    }
   },
   "outputs": [
    {
     "data": {
      "text/plain": [
       "6"
      ]
     },
     "execution_count": 16,
     "metadata": {},
     "output_type": "execute_result"
    }
   ],
   "source": [
    "# execut a basic 'unit test' to validate function\n",
    "format_nights('6 days')"
   ]
  },
  {
   "cell_type": "code",
   "execution_count": 17,
   "metadata": {
    "pycharm": {
     "name": "#%%\n"
    }
   },
   "outputs": [],
   "source": [
    "# apply format_nights fucntion to create new clean column\n",
    "dfReservations2021['cleannights'] = dfReservations2021.apply(lambda x: format_nights(x['nights']), axis=1)"
   ]
  },
  {
   "cell_type": "code",
   "execution_count": 18,
   "metadata": {
    "pycharm": {
     "name": "#%%\n"
    }
   },
   "outputs": [],
   "source": [
    "# cast date fields to datetimes\n",
    "dfReservations2021['startdate'] = pd.to_datetime(dfReservations2021['startdate'], errors='coerce')\n",
    "dfReservations2021['enddate'] = pd.to_datetime(dfReservations2021['enddate'], errors='coerce')\n",
    "dfReservations2021['orderdate'] = pd.to_datetime(dfReservations2021['orderdate'], errors='coerce')"
   ]
  },
  {
   "cell_type": "code",
   "execution_count": 19,
   "metadata": {
    "pycharm": {
     "name": "#%%\n"
    }
   },
   "outputs": [],
   "source": [
    "dfReservations2021['datediff'] = (dfReservations2021.enddate - dfReservations2021.startdate).dt.days"
   ]
  },
  {
   "cell_type": "code",
   "execution_count": 20,
   "metadata": {
    "pycharm": {
     "name": "#%%\n"
    }
   },
   "outputs": [
    {
     "data": {
      "text/plain": [
       "array([   2.,    1.,    3.,    8.,    0.,   21.,   29.,   30.,   23.,\n",
       "          9.,   -2.,   22.,    4.,   nan,    5.,    7.,   14.,   13.,\n",
       "          6.,   10.,   12.,   11.,   35.,   16.,   17.,   26.,   58.,\n",
       "         32.,  -20.,   -1.,  364.,   19.,  129.,   27.,   18.,   -5.,\n",
       "        -13.,  -19.,   -3.,  142.,   -4.,   40.,   15.,  106.,   -6.,\n",
       "         24.,   42.,  -12.,   33.,  211.,   62.,   36.,   31.,  -10.,\n",
       "        -22.,   50.,  377.,  372.,  374.,  370.,  368.,  390.,  375.,\n",
       "        379.,  386.,  383.,  373.,  380.,  385.,  392.,  371.,  376.,\n",
       "        365.,  393.,  366.,  391.,  394.,  381.,  367.,  384.,  389.,\n",
       "        378.,  388.,  387.,  382.,  395.,  369.,  -44.,   -9.,   52.,\n",
       "         53.,   88.,  156.,   37.,   71.,  357.,  121.,   39.,  -40.,\n",
       "         93.,   81.,   49.,   44.,   80.,   45.,   51.,   38.,  128.,\n",
       "         72.,   43.,  -25.,  -34.,   91.,  -18.,   55., -146.,  119.,\n",
       "       -110.,  149.,   64.,   25.,  135.,  176.,  113.,  141.,  125.,\n",
       "        127.,  114.,  115.,  134.,  120.,  136.,  116.,  132.,  140.,\n",
       "        126.,  138.,  110.,  112.,  111.,  118.,  137.,  130.,  133.,\n",
       "        131.,  139.,  117.,  162.,  143.,   20.,  123.,  470.,   99.,\n",
       "         96.,   65.,  241.,   48.,   94.,   54.,  169.,  108.,   92.,\n",
       "        266.,  -11.,  191.,  -37.,  215.,  197.,  302.,  305.,   69.,\n",
       "        -36.,  171.,  -24.,  185.,   95.,   98.,  164.,   61.,  -33.,\n",
       "        181.,  157.,   59.,   78.,   28.,  179.,  183.,  184.,  163.,\n",
       "        104.,  -82.,  107.,  -51.,   68.,   85.,  218.,  122.,  168.,\n",
       "         -7.,  101.,  297.,   60.,   79.,  -80.,   89.,  -62.,   34.,\n",
       "         57.,  -16.,  198.,   82.,   70.,   76.,  -21.,  194.,  178.,\n",
       "         83.,  175.,  154., -108.,  161.,  105.,  151.,   46.,  190.,\n",
       "        150.,  -38.,  187.,   63., -174.,   67., -122.,   97.,  344.,\n",
       "        -15.,  144.,  109.,   56.,   -8.,   41.,  -93.,  -61.,  170.,\n",
       "         84.,  -28.,  177.,  -26.,  -42.,  148.,  -68.,   86.,  -29.,\n",
       "        100.,  -14.,   77.,  189.,  -27.,  182.,  316.,   66.,  -30.,\n",
       "        240.,  203.,   90.,  200.,   73.,   75.,  103.,  303.,  174.,\n",
       "        -32.,  331.,  -41.,  -81.,  172.,  -78.,  205.,  124.,  -53.,\n",
       "       -152.,   87.,   74.,  -35.,  -17.,  -89.,  153.,  -39.,  -31.,\n",
       "        -96.,  -75.,  155.,  188.,  173.,  -48.,  277.,  -47.,   47.,\n",
       "        -74.,  398.,  152.,  166.,  294.,  -46.,  102., -100.,  -77.,\n",
       "        -79.,  -67., -109.,  -90.,  158.,  -60.,  212., -106.,  165.,\n",
       "        -59.,  -73.,  363.,  -87.,  262.,  -23.,  160.,  213.,  237.,\n",
       "        186.,  230.,  -43., -171.,  204., -138.,  261., -144.,  167.,\n",
       "        -88.,  325.,  270.,  -54., -298.,  232.,  210.,  201.,  -64.,\n",
       "       -118.,  -84.,  308.,  145.,  -72.,  349.,  -45.,  352.,  -98.,\n",
       "       -191.,  239.,  -55.,  159.,  338.,  147.,  326., -126.,  251.,\n",
       "       -104.,  247.,  -50.,  -91.,  -58.,  146., -145.,  -52.,  180.,\n",
       "        233.,  196., -295., -173.,  246., -114.,  -83.,  361.,  337.,\n",
       "       -224.,  219., -227.,  282.,  353.,  -65.])"
      ]
     },
     "execution_count": 20,
     "metadata": {},
     "output_type": "execute_result"
    }
   ],
   "source": [
    "dfReservations2021['datediff'].unique()"
   ]
  },
  {
   "cell_type": "code",
   "execution_count": 21,
   "metadata": {
    "pycharm": {
     "name": "#%%\n"
    }
   },
   "outputs": [
    {
     "data": {
      "text/html": [
       "<div>\n",
       "<style scoped>\n",
       "    .dataframe tbody tr th:only-of-type {\n",
       "        vertical-align: middle;\n",
       "    }\n",
       "\n",
       "    .dataframe tbody tr th {\n",
       "        vertical-align: top;\n",
       "    }\n",
       "\n",
       "    .dataframe thead th {\n",
       "        text-align: right;\n",
       "    }\n",
       "</style>\n",
       "<table border=\"1\" class=\"dataframe\">\n",
       "  <thead>\n",
       "    <tr style=\"text-align: right;\">\n",
       "      <th></th>\n",
       "      <th>ordernumber</th>\n",
       "      <th>agency</th>\n",
       "      <th>orgid</th>\n",
       "      <th>parentlocationid</th>\n",
       "      <th>park</th>\n",
       "      <th>sitetype</th>\n",
       "      <th>usetype</th>\n",
       "      <th>productid</th>\n",
       "      <th>inventorytype</th>\n",
       "      <th>facilityid</th>\n",
       "      <th>...</th>\n",
       "      <th>totalpaid</th>\n",
       "      <th>startdate</th>\n",
       "      <th>enddate</th>\n",
       "      <th>orderdate</th>\n",
       "      <th>nights</th>\n",
       "      <th>numberofpeople</th>\n",
       "      <th>orderno</th>\n",
       "      <th>orderversion</th>\n",
       "      <th>cleannights</th>\n",
       "      <th>datediff</th>\n",
       "    </tr>\n",
       "  </thead>\n",
       "  <tbody>\n",
       "    <tr>\n",
       "      <th>11020</th>\n",
       "      <td>0347702136-1</td>\n",
       "      <td>BLM</td>\n",
       "      <td>126.0</td>\n",
       "      <td>10071676</td>\n",
       "      <td>Wire Pass Day Use</td>\n",
       "      <td>NaN</td>\n",
       "      <td>Activity</td>\n",
       "      <td>10006177</td>\n",
       "      <td>ACTIVITYPASS</td>\n",
       "      <td>10006177</td>\n",
       "      <td>...</td>\n",
       "      <td>13.0</td>\n",
       "      <td>2021-03-18 00:00:00.000</td>\n",
       "      <td>NaT</td>\n",
       "      <td>2021-03-18 17:01:26.445</td>\n",
       "      <td>NaN</td>\n",
       "      <td>NaN</td>\n",
       "      <td>0347702136</td>\n",
       "      <td>1</td>\n",
       "      <td>0</td>\n",
       "      <td>NaN</td>\n",
       "    </tr>\n",
       "    <tr>\n",
       "      <th>11225</th>\n",
       "      <td>0349335607-1</td>\n",
       "      <td>BLM</td>\n",
       "      <td>126.0</td>\n",
       "      <td>10071676</td>\n",
       "      <td>Wire Pass Day Use</td>\n",
       "      <td>NaN</td>\n",
       "      <td>Activity</td>\n",
       "      <td>10006177</td>\n",
       "      <td>ACTIVITYPASS</td>\n",
       "      <td>10006177</td>\n",
       "      <td>...</td>\n",
       "      <td>19.5</td>\n",
       "      <td>2021-04-29 00:00:00.000</td>\n",
       "      <td>NaT</td>\n",
       "      <td>2021-04-29 14:02:14.069</td>\n",
       "      <td>NaN</td>\n",
       "      <td>NaN</td>\n",
       "      <td>0349335607</td>\n",
       "      <td>1</td>\n",
       "      <td>0</td>\n",
       "      <td>NaN</td>\n",
       "    </tr>\n",
       "    <tr>\n",
       "      <th>12192</th>\n",
       "      <td>0356848903-1</td>\n",
       "      <td>BLM</td>\n",
       "      <td>126.0</td>\n",
       "      <td>10071676</td>\n",
       "      <td>Wire Pass Day Use</td>\n",
       "      <td>Day Use Fee</td>\n",
       "      <td>Activity</td>\n",
       "      <td>10006177</td>\n",
       "      <td>ACTIVITYPASS</td>\n",
       "      <td>10006177</td>\n",
       "      <td>...</td>\n",
       "      <td>0.0</td>\n",
       "      <td>2021-04-29 14:47:10.998</td>\n",
       "      <td>2021-04-28</td>\n",
       "      <td>2021-04-28 16:32:13.719</td>\n",
       "      <td>-1 days -14:47:10.998269</td>\n",
       "      <td>NaN</td>\n",
       "      <td>0356848903</td>\n",
       "      <td>1</td>\n",
       "      <td>-1</td>\n",
       "      <td>-2.0</td>\n",
       "    </tr>\n",
       "    <tr>\n",
       "      <th>15701</th>\n",
       "      <td>0384508796-1</td>\n",
       "      <td>BLM</td>\n",
       "      <td>126.0</td>\n",
       "      <td>10071676</td>\n",
       "      <td>Wire Pass Day Use</td>\n",
       "      <td>NaN</td>\n",
       "      <td>Activity</td>\n",
       "      <td>10006177</td>\n",
       "      <td>ACTIVITYPASS</td>\n",
       "      <td>10006177</td>\n",
       "      <td>...</td>\n",
       "      <td>6.5</td>\n",
       "      <td>2021-05-21 00:00:00.000</td>\n",
       "      <td>NaT</td>\n",
       "      <td>2021-05-21 19:02:05.773</td>\n",
       "      <td>NaN</td>\n",
       "      <td>NaN</td>\n",
       "      <td>0384508796</td>\n",
       "      <td>1</td>\n",
       "      <td>0</td>\n",
       "      <td>NaN</td>\n",
       "    </tr>\n",
       "    <tr>\n",
       "      <th>16179</th>\n",
       "      <td>0388042251-1</td>\n",
       "      <td>BLM</td>\n",
       "      <td>126.0</td>\n",
       "      <td>10071676</td>\n",
       "      <td>Wire Pass Day Use</td>\n",
       "      <td>NaN</td>\n",
       "      <td>Activity</td>\n",
       "      <td>10006177</td>\n",
       "      <td>ACTIVITYPASS</td>\n",
       "      <td>10006177</td>\n",
       "      <td>...</td>\n",
       "      <td>26.0</td>\n",
       "      <td>2021-04-04 00:00:00.000</td>\n",
       "      <td>NaT</td>\n",
       "      <td>2021-04-04 20:00:00.432</td>\n",
       "      <td>NaN</td>\n",
       "      <td>NaN</td>\n",
       "      <td>0388042251</td>\n",
       "      <td>1</td>\n",
       "      <td>0</td>\n",
       "      <td>NaN</td>\n",
       "    </tr>\n",
       "    <tr>\n",
       "      <th>...</th>\n",
       "      <td>...</td>\n",
       "      <td>...</td>\n",
       "      <td>...</td>\n",
       "      <td>...</td>\n",
       "      <td>...</td>\n",
       "      <td>...</td>\n",
       "      <td>...</td>\n",
       "      <td>...</td>\n",
       "      <td>...</td>\n",
       "      <td>...</td>\n",
       "      <td>...</td>\n",
       "      <td>...</td>\n",
       "      <td>...</td>\n",
       "      <td>...</td>\n",
       "      <td>...</td>\n",
       "      <td>...</td>\n",
       "      <td>...</td>\n",
       "      <td>...</td>\n",
       "      <td>...</td>\n",
       "      <td>...</td>\n",
       "      <td>...</td>\n",
       "    </tr>\n",
       "    <tr>\n",
       "      <th>8354279</th>\n",
       "      <td>0398840844-1</td>\n",
       "      <td>NaN</td>\n",
       "      <td>NaN</td>\n",
       "      <td>NaN</td>\n",
       "      <td>NaN</td>\n",
       "      <td>NaN</td>\n",
       "      <td>Overnight</td>\n",
       "      <td>3276</td>\n",
       "      <td>NaN</td>\n",
       "      <td>NaN</td>\n",
       "      <td>...</td>\n",
       "      <td>10.0</td>\n",
       "      <td>2020-10-28 00:00:00.000</td>\n",
       "      <td>NaT</td>\n",
       "      <td>NaT</td>\n",
       "      <td>NaN</td>\n",
       "      <td>NaN</td>\n",
       "      <td>0398840844</td>\n",
       "      <td>1</td>\n",
       "      <td>0</td>\n",
       "      <td>NaN</td>\n",
       "    </tr>\n",
       "    <tr>\n",
       "      <th>8354280</th>\n",
       "      <td>0398904354-1</td>\n",
       "      <td>NaN</td>\n",
       "      <td>NaN</td>\n",
       "      <td>NaN</td>\n",
       "      <td>NaN</td>\n",
       "      <td>NaN</td>\n",
       "      <td>Overnight</td>\n",
       "      <td>18135</td>\n",
       "      <td>NaN</td>\n",
       "      <td>NaN</td>\n",
       "      <td>...</td>\n",
       "      <td>18.0</td>\n",
       "      <td>2020-12-10 00:00:00.000</td>\n",
       "      <td>NaT</td>\n",
       "      <td>NaT</td>\n",
       "      <td>NaN</td>\n",
       "      <td>NaN</td>\n",
       "      <td>0398904354</td>\n",
       "      <td>1</td>\n",
       "      <td>0</td>\n",
       "      <td>NaN</td>\n",
       "    </tr>\n",
       "    <tr>\n",
       "      <th>8354281</th>\n",
       "      <td>0399219470-1</td>\n",
       "      <td>NaN</td>\n",
       "      <td>NaN</td>\n",
       "      <td>NaN</td>\n",
       "      <td>NaN</td>\n",
       "      <td>NaN</td>\n",
       "      <td>Overnight</td>\n",
       "      <td>55302</td>\n",
       "      <td>NaN</td>\n",
       "      <td>NaN</td>\n",
       "      <td>...</td>\n",
       "      <td>98.0</td>\n",
       "      <td>2020-12-19 00:00:00.000</td>\n",
       "      <td>NaT</td>\n",
       "      <td>NaT</td>\n",
       "      <td>NaN</td>\n",
       "      <td>NaN</td>\n",
       "      <td>0399219470</td>\n",
       "      <td>1</td>\n",
       "      <td>0</td>\n",
       "      <td>NaN</td>\n",
       "    </tr>\n",
       "    <tr>\n",
       "      <th>8354282</th>\n",
       "      <td>0399746669-1</td>\n",
       "      <td>NaN</td>\n",
       "      <td>NaN</td>\n",
       "      <td>NaN</td>\n",
       "      <td>NaN</td>\n",
       "      <td>NaN</td>\n",
       "      <td>Overnight</td>\n",
       "      <td>10068609</td>\n",
       "      <td>NaN</td>\n",
       "      <td>NaN</td>\n",
       "      <td>...</td>\n",
       "      <td>23.0</td>\n",
       "      <td>2020-10-23 00:00:00.000</td>\n",
       "      <td>NaT</td>\n",
       "      <td>NaT</td>\n",
       "      <td>NaN</td>\n",
       "      <td>NaN</td>\n",
       "      <td>0399746669</td>\n",
       "      <td>1</td>\n",
       "      <td>0</td>\n",
       "      <td>NaN</td>\n",
       "    </tr>\n",
       "    <tr>\n",
       "      <th>8354577</th>\n",
       "      <td>0338102127-2</td>\n",
       "      <td>NaN</td>\n",
       "      <td>131.0</td>\n",
       "      <td>2.00003e+07</td>\n",
       "      <td>Catwalk Recreation Area</td>\n",
       "      <td>NaN</td>\n",
       "      <td>Activity</td>\n",
       "      <td>29364832-c4a0-11eb-9610-ca5a163054ad</td>\n",
       "      <td>ACTIVITYPASS</td>\n",
       "      <td>29364832-c4a0-11eb-9610-ca5a163054ad</td>\n",
       "      <td>...</td>\n",
       "      <td>3.0</td>\n",
       "      <td>2021-07-07 00:00:00.000</td>\n",
       "      <td>NaT</td>\n",
       "      <td>2021-07-07 23:34:36.211</td>\n",
       "      <td>NaN</td>\n",
       "      <td>NaN</td>\n",
       "      <td>0338102127</td>\n",
       "      <td>2</td>\n",
       "      <td>0</td>\n",
       "      <td>NaN</td>\n",
       "    </tr>\n",
       "  </tbody>\n",
       "</table>\n",
       "<p>2061727 rows × 25 columns</p>\n",
       "</div>"
      ],
      "text/plain": [
       "          ordernumber agency  orgid parentlocationid                     park  \\\n",
       "11020    0347702136-1    BLM  126.0         10071676        Wire Pass Day Use   \n",
       "11225    0349335607-1    BLM  126.0         10071676        Wire Pass Day Use   \n",
       "12192    0356848903-1    BLM  126.0         10071676        Wire Pass Day Use   \n",
       "15701    0384508796-1    BLM  126.0         10071676        Wire Pass Day Use   \n",
       "16179    0388042251-1    BLM  126.0         10071676        Wire Pass Day Use   \n",
       "...               ...    ...    ...              ...                      ...   \n",
       "8354279  0398840844-1    NaN    NaN              NaN                      NaN   \n",
       "8354280  0398904354-1    NaN    NaN              NaN                      NaN   \n",
       "8354281  0399219470-1    NaN    NaN              NaN                      NaN   \n",
       "8354282  0399746669-1    NaN    NaN              NaN                      NaN   \n",
       "8354577  0338102127-2    NaN  131.0      2.00003e+07  Catwalk Recreation Area   \n",
       "\n",
       "            sitetype    usetype                             productid  \\\n",
       "11020            NaN   Activity                              10006177   \n",
       "11225            NaN   Activity                              10006177   \n",
       "12192    Day Use Fee   Activity                              10006177   \n",
       "15701            NaN   Activity                              10006177   \n",
       "16179            NaN   Activity                              10006177   \n",
       "...              ...        ...                                   ...   \n",
       "8354279          NaN  Overnight                                  3276   \n",
       "8354280          NaN  Overnight                                 18135   \n",
       "8354281          NaN  Overnight                                 55302   \n",
       "8354282          NaN  Overnight                              10068609   \n",
       "8354577          NaN   Activity  29364832-c4a0-11eb-9610-ca5a163054ad   \n",
       "\n",
       "        inventorytype                            facilityid  ...  totalpaid  \\\n",
       "11020    ACTIVITYPASS                              10006177  ...       13.0   \n",
       "11225    ACTIVITYPASS                              10006177  ...       19.5   \n",
       "12192    ACTIVITYPASS                              10006177  ...        0.0   \n",
       "15701    ACTIVITYPASS                              10006177  ...        6.5   \n",
       "16179    ACTIVITYPASS                              10006177  ...       26.0   \n",
       "...               ...                                   ...  ...        ...   \n",
       "8354279           NaN                                   NaN  ...       10.0   \n",
       "8354280           NaN                                   NaN  ...       18.0   \n",
       "8354281           NaN                                   NaN  ...       98.0   \n",
       "8354282           NaN                                   NaN  ...       23.0   \n",
       "8354577  ACTIVITYPASS  29364832-c4a0-11eb-9610-ca5a163054ad  ...        3.0   \n",
       "\n",
       "                      startdate    enddate               orderdate  \\\n",
       "11020   2021-03-18 00:00:00.000        NaT 2021-03-18 17:01:26.445   \n",
       "11225   2021-04-29 00:00:00.000        NaT 2021-04-29 14:02:14.069   \n",
       "12192   2021-04-29 14:47:10.998 2021-04-28 2021-04-28 16:32:13.719   \n",
       "15701   2021-05-21 00:00:00.000        NaT 2021-05-21 19:02:05.773   \n",
       "16179   2021-04-04 00:00:00.000        NaT 2021-04-04 20:00:00.432   \n",
       "...                         ...        ...                     ...   \n",
       "8354279 2020-10-28 00:00:00.000        NaT                     NaT   \n",
       "8354280 2020-12-10 00:00:00.000        NaT                     NaT   \n",
       "8354281 2020-12-19 00:00:00.000        NaT                     NaT   \n",
       "8354282 2020-10-23 00:00:00.000        NaT                     NaT   \n",
       "8354577 2021-07-07 00:00:00.000        NaT 2021-07-07 23:34:36.211   \n",
       "\n",
       "                           nights  numberofpeople     orderno orderversion  \\\n",
       "11020                         NaN             NaN  0347702136            1   \n",
       "11225                         NaN             NaN  0349335607            1   \n",
       "12192    -1 days -14:47:10.998269             NaN  0356848903            1   \n",
       "15701                         NaN             NaN  0384508796            1   \n",
       "16179                         NaN             NaN  0388042251            1   \n",
       "...                           ...             ...         ...          ...   \n",
       "8354279                       NaN             NaN  0398840844            1   \n",
       "8354280                       NaN             NaN  0398904354            1   \n",
       "8354281                       NaN             NaN  0399219470            1   \n",
       "8354282                       NaN             NaN  0399746669            1   \n",
       "8354577                       NaN             NaN  0338102127            2   \n",
       "\n",
       "        cleannights datediff  \n",
       "11020             0      NaN  \n",
       "11225             0      NaN  \n",
       "12192            -1     -2.0  \n",
       "15701             0      NaN  \n",
       "16179             0      NaN  \n",
       "...             ...      ...  \n",
       "8354279           0      NaN  \n",
       "8354280           0      NaN  \n",
       "8354281           0      NaN  \n",
       "8354282           0      NaN  \n",
       "8354577           0      NaN  \n",
       "\n",
       "[2061727 rows x 25 columns]"
      ]
     },
     "execution_count": 21,
     "metadata": {},
     "output_type": "execute_result"
    }
   ],
   "source": [
    "dfReservations2021[dfReservations2021['cleannights'] != dfReservations2021['datediff']]"
   ]
  },
  {
   "cell_type": "markdown",
   "metadata": {
    "pycharm": {
     "name": "#%% md\n"
    }
   },
   "source": [
    "### Zip Code\n",
    "\n",
    "Zip code is a primary dimension for grouping users."
   ]
  },
  {
   "cell_type": "code",
   "execution_count": 22,
   "metadata": {
    "pycharm": {
     "name": "#%%\n"
    }
   },
   "outputs": [
    {
     "data": {
      "text/plain": [
       "84687"
      ]
     },
     "execution_count": 22,
     "metadata": {},
     "output_type": "execute_result"
    }
   ],
   "source": [
    "# explore unique zip codes\n",
    "len(dfReservations2021['customerzip'].unique())"
   ]
  },
  {
   "cell_type": "code",
   "execution_count": 23,
   "metadata": {
    "pycharm": {
     "name": "#%%\n"
    }
   },
   "outputs": [],
   "source": [
    "# drop records with no zip code\n",
    "dfReservations2021.dropna(subset=['customerzip'], inplace=True)"
   ]
  },
  {
   "cell_type": "code",
   "execution_count": 24,
   "metadata": {
    "pycharm": {
     "name": "#%%\n"
    }
   },
   "outputs": [],
   "source": [
    "# truncate zip to 5 digit value\n",
    "dfReservations2021['cleanzip'] = dfReservations2021.customerzip.str.extract(r'(\\d{5})')"
   ]
  },
  {
   "cell_type": "code",
   "execution_count": 25,
   "metadata": {
    "pycharm": {
     "name": "#%%\n"
    }
   },
   "outputs": [
    {
     "data": {
      "text/plain": [
       "1          99709\n",
       "3          99706\n",
       "4          99709\n",
       "5          99709\n",
       "7          84401\n",
       "           ...  \n",
       "8354601    98119\n",
       "8354605    85042\n",
       "8354611    43235\n",
       "8354626    85713\n",
       "8354629    74053\n",
       "Name: cleanzip, Length: 5696706, dtype: object"
      ]
     },
     "execution_count": 25,
     "metadata": {},
     "output_type": "execute_result"
    }
   ],
   "source": [
    "dfReservations2021['cleanzip']"
   ]
  },
  {
   "cell_type": "code",
   "execution_count": 26,
   "metadata": {
    "pycharm": {
     "name": "#%%\n"
    }
   },
   "outputs": [
    {
     "data": {
      "text/plain": [
       "41985"
      ]
     },
     "execution_count": 26,
     "metadata": {},
     "output_type": "execute_result"
    }
   ],
   "source": [
    "# how many unique zip codes?\n",
    "len(dfReservations2021['cleanzip'].unique())"
   ]
  },
  {
   "cell_type": "markdown",
   "metadata": {},
   "source": [
    "## Stats"
   ]
  },
  {
   "cell_type": "code",
   "execution_count": 27,
   "metadata": {
    "pycharm": {
     "name": "#%%\n"
    }
   },
   "outputs": [
    {
     "data": {
      "text/plain": [
       "array(['BLM', 'BOR', 'FWS', 'NARA', 'NPS', 'USACE', 'USFS', nan],\n",
       "      dtype=object)"
      ]
     },
     "execution_count": 27,
     "metadata": {},
     "output_type": "execute_result"
    }
   ],
   "source": [
    "dfReservations2021['agency'].unique()"
   ]
  },
  {
   "cell_type": "code",
   "execution_count": 28,
   "metadata": {
    "pycharm": {
     "name": "#%%\n"
    }
   },
   "outputs": [
    {
     "data": {
      "text/plain": [
       "agency\n",
       "BLM      5.561115e+06\n",
       "BOR      4.682075e+05\n",
       "FWS      3.488231e+05\n",
       "NARA     6.217300e+04\n",
       "NPS      4.889224e+07\n",
       "USACE    5.042631e+07\n",
       "USFS     6.345893e+07\n",
       "Name: totalpaid, dtype: float64"
      ]
     },
     "execution_count": 28,
     "metadata": {},
     "output_type": "execute_result"
    }
   ],
   "source": [
    "dfReservations2021.groupby('agency')['totalpaid'].sum()"
   ]
  },
  {
   "cell_type": "code",
   "execution_count": 29,
   "metadata": {
    "pycharm": {
     "name": "#%%\n"
    }
   },
   "outputs": [
    {
     "data": {
      "text/plain": [
       "park\n",
       " Evans Campground                                                  18703.25\n",
       " Gifford Campground                                                24995.75\n",
       " Kamloops Island Campground                                         4900.50\n",
       "(LAKE ALPINE)  SILVER TIP CAMPGROUND                               38082.62\n",
       "(LAKE ALPINE) SILVER VALLEY CAMPGROUND                             24722.80\n",
       "                                                                    ...    \n",
       "Yellowstone Non-Commercially Guided Snowmobile Access Program      14646.00\n",
       "Yosemite National Park Ticketed Entry                            5043826.00\n",
       "ZILPO - DANIEL BOONE NAT. FOR.                                    174203.00\n",
       "ZIPS PLACE CABIN                                                   18473.00\n",
       "Zion National Park Shuttle Tickets                                561146.00\n",
       "Name: totalpaid, Length: 3919, dtype: float64"
      ]
     },
     "execution_count": 29,
     "metadata": {},
     "output_type": "execute_result"
    }
   ],
   "source": [
    "dfReservations2021.groupby('park')['totalpaid'].sum()"
   ]
  },
  {
   "cell_type": "code",
   "execution_count": 30,
   "metadata": {
    "pycharm": {
     "name": "#%%\n"
    }
   },
   "outputs": [
    {
     "data": {
      "text/plain": [
       "inventorytype\n",
       "ACTIVITYPASS       4.374508e+05\n",
       "CAMPING            1.386899e+08\n",
       "DONATION           9.400000e+01\n",
       "LOTTERY_CAMPING    7.803000e+04\n",
       "LOTTERY_PERMIT     1.997233e+06\n",
       "LOTTERY_TICKET     2.845300e+04\n",
       "PERMIT             8.518355e+06\n",
       "QUEUE_LOTTERY      4.476600e+04\n",
       "RENTAL             1.996000e+03\n",
       "TICKET             7.536508e+06\n",
       "TIMED_ENTRY        9.399436e+06\n",
       "TREE_PERMIT        7.620850e+05\n",
       "VEHICLE_PERMIT     1.730045e+06\n",
       "Name: totalpaid, dtype: float64"
      ]
     },
     "execution_count": 30,
     "metadata": {},
     "output_type": "execute_result"
    }
   ],
   "source": [
    "dfReservations2021.groupby('inventorytype')['totalpaid'].sum()"
   ]
  },
  {
   "cell_type": "markdown",
   "metadata": {
    "pycharm": {
     "name": "#%% md\n"
    }
   },
   "source": [
    "## Camping\n",
    "\n",
    "Camping is the most common and most lucrative transaction in dataset.  This will be the focus for this study, so reducing the dataset to only camping transactions and gathering some summary statistics."
   ]
  },
  {
   "cell_type": "code",
   "execution_count": 31,
   "metadata": {
    "pycharm": {
     "name": "#%%\n"
    }
   },
   "outputs": [],
   "source": [
    "# limit dataframe to just camoing transactions\n",
    "dfReservations2021 = dfReservations2021[dfReservations2021['inventorytype'] == 'CAMPING']"
   ]
  },
  {
   "cell_type": "code",
   "execution_count": 32,
   "metadata": {},
   "outputs": [
    {
     "data": {
      "text/plain": [
       "agency\n",
       "BLM      1.584150e+06\n",
       "BOR      4.682075e+05\n",
       "FWS      2.216441e+05\n",
       "NPS      2.931541e+07\n",
       "USACE    5.035481e+07\n",
       "USFS     5.673916e+07\n",
       "Name: totalpaid, dtype: float64"
      ]
     },
     "execution_count": 32,
     "metadata": {},
     "output_type": "execute_result"
    }
   ],
   "source": [
    "dfReservations2021.groupby('agency')['totalpaid'].sum()"
   ]
  },
  {
   "cell_type": "code",
   "execution_count": 33,
   "metadata": {},
   "outputs": [
    {
     "data": {
      "text/plain": [
       "park\n",
       " Evans Campground                                                           18703.25\n",
       " Gifford Campground                                                         24995.75\n",
       " Kamloops Island Campground                                                  4900.50\n",
       "(LAKE ALPINE)  SILVER TIP CAMPGROUND                                        38082.62\n",
       "(LAKE ALPINE) SILVER VALLEY CAMPGROUND                                      24722.80\n",
       "                                                                             ...    \n",
       "Yaak River Campground (MT)                                                     60.00\n",
       "Yakima River Canyon Campgrounds (Umtanum, Lmuma Creek, Big Pines, Roza)     45386.50\n",
       "Yellowjacket Creek Recreation Area                                            300.00\n",
       "ZILPO - DANIEL BOONE NAT. FOR.                                             174203.00\n",
       "ZIPS PLACE CABIN                                                            18473.00\n",
       "Name: totalpaid, Length: 3604, dtype: float64"
      ]
     },
     "execution_count": 33,
     "metadata": {},
     "output_type": "execute_result"
    }
   ],
   "source": [
    "dfReservations2021.groupby('park')['totalpaid'].sum()"
   ]
  },
  {
   "cell_type": "code",
   "execution_count": 34,
   "metadata": {
    "pycharm": {
     "name": "#%%\n"
    }
   },
   "outputs": [
    {
     "data": {
      "text/plain": [
       "park\n",
       " Evans Campground                                                           424\n",
       " Gifford Campground                                                         574\n",
       " Kamloops Island Campground                                                 136\n",
       "(LAKE ALPINE)  SILVER TIP CAMPGROUND                                        751\n",
       "(LAKE ALPINE) SILVER VALLEY CAMPGROUND                                      490\n",
       "                                                                           ... \n",
       "Yaak River Campground (MT)                                                    2\n",
       "Yakima River Canyon Campgrounds (Umtanum, Lmuma Creek, Big Pines, Roza)    1351\n",
       "Yellowjacket Creek Recreation Area                                            4\n",
       "ZILPO - DANIEL BOONE NAT. FOR.                                             2547\n",
       "ZIPS PLACE CABIN                                                            157\n",
       "Name: customerzip, Length: 3604, dtype: int64"
      ]
     },
     "execution_count": 34,
     "metadata": {},
     "output_type": "execute_result"
    }
   ],
   "source": [
    "dfReservations2021.groupby('park')['customerzip'].count()"
   ]
  },
  {
   "cell_type": "markdown",
   "metadata": {
    "pycharm": {
     "name": "#%% md\n"
    }
   },
   "source": [
    "### Data Types\n",
    "\n",
    "Cast columns to correct data type"
   ]
  },
  {
   "cell_type": "code",
   "execution_count": 35,
   "metadata": {},
   "outputs": [
    {
     "name": "stderr",
     "output_type": "stream",
     "text": [
      "<ipython-input-35-a437f74fac82>:1: SettingWithCopyWarning: \n",
      "A value is trying to be set on a copy of a slice from a DataFrame\n",
      "\n",
      "See the caveats in the documentation: https://pandas.pydata.org/pandas-docs/stable/user_guide/indexing.html#returning-a-view-versus-a-copy\n",
      "  dfReservations2021.dropna(subset=['numberofpeople', 'cleannights', 'cleanzip'], inplace=True)\n"
     ]
    }
   ],
   "source": [
    "dfReservations2021.dropna(subset=['numberofpeople', 'cleannights', 'cleanzip'], inplace=True)"
   ]
  },
  {
   "cell_type": "code",
   "execution_count": 36,
   "metadata": {
    "pycharm": {
     "name": "#%%\n"
    }
   },
   "outputs": [
    {
     "name": "stderr",
     "output_type": "stream",
     "text": [
      "<ipython-input-36-fb1beb173e89>:1: SettingWithCopyWarning: \n",
      "A value is trying to be set on a copy of a slice from a DataFrame.\n",
      "Try using .loc[row_indexer,col_indexer] = value instead\n",
      "\n",
      "See the caveats in the documentation: https://pandas.pydata.org/pandas-docs/stable/user_guide/indexing.html#returning-a-view-versus-a-copy\n",
      "  dfReservations2021['user'] = dfReservations2021['cleanzip'].astype('int')\n"
     ]
    }
   ],
   "source": [
    "dfReservations2021['user'] = dfReservations2021['cleanzip'].astype('int')"
   ]
  },
  {
   "cell_type": "code",
   "execution_count": 37,
   "metadata": {
    "pycharm": {
     "name": "#%%\n"
    }
   },
   "outputs": [
    {
     "name": "stderr",
     "output_type": "stream",
     "text": [
      "<ipython-input-37-2ab5de595f2c>:1: SettingWithCopyWarning: \n",
      "A value is trying to be set on a copy of a slice from a DataFrame.\n",
      "Try using .loc[row_indexer,col_indexer] = value instead\n",
      "\n",
      "See the caveats in the documentation: https://pandas.pydata.org/pandas-docs/stable/user_guide/indexing.html#returning-a-view-versus-a-copy\n",
      "  dfReservations2021['cleannights'] = pd.to_numeric(dfReservations2021['cleannights'], downcast='integer')\n"
     ]
    }
   ],
   "source": [
    "dfReservations2021['cleannights'] = pd.to_numeric(dfReservations2021['cleannights'], downcast='integer')"
   ]
  },
  {
   "cell_type": "code",
   "execution_count": 38,
   "metadata": {},
   "outputs": [
    {
     "name": "stderr",
     "output_type": "stream",
     "text": [
      "<ipython-input-38-3e9a359efc72>:1: SettingWithCopyWarning: \n",
      "A value is trying to be set on a copy of a slice from a DataFrame.\n",
      "Try using .loc[row_indexer,col_indexer] = value instead\n",
      "\n",
      "See the caveats in the documentation: https://pandas.pydata.org/pandas-docs/stable/user_guide/indexing.html#returning-a-view-versus-a-copy\n",
      "  dfReservations2021['numberofpeople'] = pd.to_numeric(dfReservations2021['numberofpeople'], downcast='integer')\n"
     ]
    }
   ],
   "source": [
    "dfReservations2021['numberofpeople'] = pd.to_numeric(dfReservations2021['numberofpeople'], downcast='integer')"
   ]
  },
  {
   "cell_type": "markdown",
   "metadata": {},
   "source": [
    "## Rating\n",
    "\n",
    "Collaboritive filtering requires a rating.  Because one does not exist, one will need to be created using the `numberofpeople` and `cleannights`.  The weak premise is that people are voting with their participation, so the two fields will be multiplied.  Zero values will be dropped and a quantile mappign will be applied to generate a rating in the range of 1-5."
   ]
  },
  {
   "cell_type": "code",
   "execution_count": 39,
   "metadata": {},
   "outputs": [
    {
     "data": {
      "text/plain": [
       "count    2.915293e+06\n",
       "mean     2.782796e+00\n",
       "std      3.753225e+00\n",
       "min     -2.980000e+02\n",
       "25%      1.000000e+00\n",
       "50%      2.000000e+00\n",
       "75%      3.000000e+00\n",
       "max      3.820000e+02\n",
       "Name: cleannights, dtype: float64"
      ]
     },
     "execution_count": 39,
     "metadata": {},
     "output_type": "execute_result"
    }
   ],
   "source": [
    "dfReservations2021.cleannights.describe()"
   ]
  },
  {
   "cell_type": "code",
   "execution_count": 40,
   "metadata": {},
   "outputs": [],
   "source": [
    "dfReservations2021 = dfReservations2021[dfReservations2021.cleannights > 0]"
   ]
  },
  {
   "cell_type": "code",
   "execution_count": 41,
   "metadata": {},
   "outputs": [
    {
     "data": {
      "text/plain": [
       "count    2.897992e+06\n",
       "mean     3.798712e+00\n",
       "std      4.214386e+00\n",
       "min      0.000000e+00\n",
       "25%      2.000000e+00\n",
       "50%      3.000000e+00\n",
       "75%      5.000000e+00\n",
       "max      2.500000e+02\n",
       "Name: numberofpeople, dtype: float64"
      ]
     },
     "execution_count": 41,
     "metadata": {},
     "output_type": "execute_result"
    }
   ],
   "source": [
    "dfReservations2021.numberofpeople.describe()"
   ]
  },
  {
   "cell_type": "code",
   "execution_count": 42,
   "metadata": {},
   "outputs": [],
   "source": [
    "dfReservations2021 = dfReservations2021[dfReservations2021.numberofpeople > 0]"
   ]
  },
  {
   "cell_type": "code",
   "execution_count": 43,
   "metadata": {},
   "outputs": [],
   "source": [
    "import numpy as np\n",
    "\n",
    "dfReservations2021 = dfReservations2021[np.abs(dfReservations2021.cleannights-dfReservations2021.cleannights.mean()) <= (3*dfReservations2021.cleannights.std())]\n",
    "dfReservations2021 = dfReservations2021[np.abs(dfReservations2021.numberofpeople-dfReservations2021.numberofpeople.mean()) <= (3*dfReservations2021.numberofpeople.std())]"
   ]
  },
  {
   "cell_type": "code",
   "execution_count": 44,
   "metadata": {},
   "outputs": [
    {
     "data": {
      "text/plain": [
       "<matplotlib.axes._subplots.AxesSubplot at 0x22bc22208b0>"
      ]
     },
     "execution_count": 44,
     "metadata": {},
     "output_type": "execute_result"
    },
    {
     "data": {
      "image/png": "[encoded data removed]",
      "text/plain": [
       "<Figure size 432x288 with 1 Axes>"
      ]
     },
     "metadata": {
      "needs_background": "light"
     },
     "output_type": "display_data"
    }
   ],
   "source": [
    "dfReservations2021.cleannights.plot.box()"
   ]
  },
  {
   "cell_type": "code",
   "execution_count": 45,
   "metadata": {},
   "outputs": [
    {
     "data": {
      "text/plain": [
       "<matplotlib.axes._subplots.AxesSubplot at 0x22bc29e3eb0>"
      ]
     },
     "execution_count": 45,
     "metadata": {},
     "output_type": "execute_result"
    },
    {
     "data": {
      "image/png": "[encoded data removed]",
      "text/plain": [
       "<Figure size 432x288 with 1 Axes>"
      ]
     },
     "metadata": {
      "needs_background": "light"
     },
     "output_type": "display_data"
    }
   ],
   "source": [
    "dfReservations2021.cleannights.plot.hist()"
   ]
  },
  {
   "cell_type": "code",
   "execution_count": 46,
   "metadata": {},
   "outputs": [
    {
     "data": {
      "text/plain": [
       "<matplotlib.axes._subplots.AxesSubplot at 0x22bc2d46880>"
      ]
     },
     "execution_count": 46,
     "metadata": {},
     "output_type": "execute_result"
    },
    {
     "data": {
      "image/png": "[encoded data removed]",
      "text/plain": [
       "<Figure size 432x288 with 1 Axes>"
      ]
     },
     "metadata": {
      "needs_background": "light"
     },
     "output_type": "display_data"
    }
   ],
   "source": [
    "dfReservations2021.numberofpeople.plot.box()"
   ]
  },
  {
   "cell_type": "code",
   "execution_count": 47,
   "metadata": {},
   "outputs": [
    {
     "data": {
      "text/plain": [
       "<matplotlib.axes._subplots.AxesSubplot at 0x22bc285ed30>"
      ]
     },
     "execution_count": 47,
     "metadata": {},
     "output_type": "execute_result"
    },
    {
     "data": {
      "image/png": "[encoded data removed]",
      "text/plain": [
       "<Figure size 432x288 with 1 Axes>"
      ]
     },
     "metadata": {
      "needs_background": "light"
     },
     "output_type": "display_data"
    }
   ],
   "source": [
    "dfReservations2021.numberofpeople.plot.hist()"
   ]
  },
  {
   "cell_type": "code",
   "execution_count": 48,
   "metadata": {},
   "outputs": [
    {
     "data": {
      "text/plain": [
       "<matplotlib.axes._subplots.AxesSubplot at 0x22bc33a0760>"
      ]
     },
     "execution_count": 48,
     "metadata": {},
     "output_type": "execute_result"
    },
    {
     "data": {
      "image/png": "[encoded data removed]",
      "text/plain": [
       "<Figure size 432x288 with 1 Axes>"
      ]
     },
     "metadata": {
      "needs_background": "light"
     },
     "output_type": "display_data"
    }
   ],
   "source": [
    "dfReservations2021.plot.scatter(x='numberofpeople', y='cleannights')"
   ]
  },
  {
   "cell_type": "code",
   "execution_count": 49,
   "metadata": {
    "pycharm": {
     "name": "#%%\n"
    }
   },
   "outputs": [],
   "source": [
    "dfReservations2021['participation'] = (dfReservations2021['numberofpeople'] * dfReservations2021['cleannights'])"
   ]
  },
  {
   "cell_type": "code",
   "execution_count": 50,
   "metadata": {
    "pycharm": {
     "name": "#%%\n"
    }
   },
   "outputs": [],
   "source": [
    "from sklearn.preprocessing import quantile_transform\n",
    "\n",
    "# break into quartiles and add 1 to the quartile to generate 1-5 rating\n",
    "dfReservations2021['rating'] = ((quantile_transform(dfReservations2021['participation'].values.reshape(-1,1), n_quantiles=4) * 4) + 1).astype('int')"
   ]
  },
  {
   "cell_type": "code",
   "execution_count": 51,
   "metadata": {},
   "outputs": [
    {
     "data": {
      "text/plain": [
       "<matplotlib.axes._subplots.AxesSubplot at 0x22bc8a7d370>"
      ]
     },
     "execution_count": 51,
     "metadata": {},
     "output_type": "execute_result"
    },
    {
     "data": {
      "image/png": "[encoded data removed]",
      "text/plain": [
       "<Figure size 432x288 with 1 Axes>"
      ]
     },
     "metadata": {
      "needs_background": "light"
     },
     "output_type": "display_data"
    }
   ],
   "source": [
    "dfReservations2021.rating.plot.box()"
   ]
  },
  {
   "cell_type": "code",
   "execution_count": 52,
   "metadata": {},
   "outputs": [
    {
     "data": {
      "text/plain": [
       "<matplotlib.axes._subplots.AxesSubplot at 0x22bc8d344c0>"
      ]
     },
     "execution_count": 52,
     "metadata": {},
     "output_type": "execute_result"
    },
    {
     "data": {
      "image/png": "[encoded data removed]",
      "text/plain": [
       "<Figure size 432x288 with 1 Axes>"
      ]
     },
     "metadata": {
      "needs_background": "light"
     },
     "output_type": "display_data"
    }
   ],
   "source": [
    "dfReservations2021.rating.plot.hist()"
   ]
  },
  {
   "cell_type": "code",
   "execution_count": 53,
   "metadata": {
    "pycharm": {
     "name": "#%%\n"
    }
   },
   "outputs": [
    {
     "data": {
      "text/plain": [
       "ordernumber                  object\n",
       "agency                       object\n",
       "orgid                       float64\n",
       "parentlocationid             object\n",
       "park                         object\n",
       "sitetype                     object\n",
       "usetype                      object\n",
       "productid                    object\n",
       "inventorytype                object\n",
       "facilityid                   object\n",
       "facilityzip                 float64\n",
       "facilitystate                object\n",
       "facilitylongitude           float64\n",
       "facilitylatitude            float64\n",
       "customerzip                  object\n",
       "totalpaid                   float64\n",
       "startdate            datetime64[ns]\n",
       "enddate              datetime64[ns]\n",
       "orderdate            datetime64[ns]\n",
       "nights                       object\n",
       "numberofpeople                int16\n",
       "orderno                      object\n",
       "orderversion                 object\n",
       "cleannights                   int16\n",
       "datediff                    float64\n",
       "cleanzip                     object\n",
       "user                          int32\n",
       "participation                 int16\n",
       "rating                        int32\n",
       "dtype: object"
      ]
     },
     "execution_count": 53,
     "metadata": {},
     "output_type": "execute_result"
    }
   ],
   "source": [
    "# review progress\n",
    "dfReservations2021.dtypes"
   ]
  },
  {
   "cell_type": "markdown",
   "metadata": {},
   "source": [
    "## Revised Dataset\n",
    "\n",
    "Create a new dataframe for exporting with only the features needed."
   ]
  },
  {
   "cell_type": "code",
   "execution_count": 54,
   "metadata": {
    "pycharm": {
     "name": "#%%\n"
    }
   },
   "outputs": [],
   "source": [
    "proposed_features = ['agency',\n",
    "                     'orgid',\n",
    "                     'parentlocationid',\n",
    "                     'park',\n",
    "                     'sitetype',\n",
    "                     'usetype',\n",
    "                     'productid',\n",
    "                     'inventorytype',\n",
    "                     'facilityid',\n",
    "                     'facilityzip',\n",
    "                     'facilitystate',\n",
    "                     'facilitylongitude',\n",
    "                     'facilitylatitude',\n",
    "                     'startdate',\n",
    "                     'enddate',\n",
    "                     'orderdate',\n",
    "                     'numberofpeople',\n",
    "                     'cleanzip',\n",
    "                     'cleannights',\n",
    "                     'datediff',\n",
    "                     'participation',\n",
    "                     'user',\n",
    "                     'rating']"
   ]
  },
  {
   "cell_type": "code",
   "execution_count": 55,
   "metadata": {
    "pycharm": {
     "name": "#%%\n"
    }
   },
   "outputs": [],
   "source": [
    "dfFeatures = dfReservations2021[proposed_features]"
   ]
  },
  {
   "cell_type": "code",
   "execution_count": 56,
   "metadata": {
    "pycharm": {
     "name": "#%%\n"
    }
   },
   "outputs": [
    {
     "data": {
      "text/html": [
       "<div>\n",
       "<style scoped>\n",
       "    .dataframe tbody tr th:only-of-type {\n",
       "        vertical-align: middle;\n",
       "    }\n",
       "\n",
       "    .dataframe tbody tr th {\n",
       "        vertical-align: top;\n",
       "    }\n",
       "\n",
       "    .dataframe thead th {\n",
       "        text-align: right;\n",
       "    }\n",
       "</style>\n",
       "<table border=\"1\" class=\"dataframe\">\n",
       "  <thead>\n",
       "    <tr style=\"text-align: right;\">\n",
       "      <th></th>\n",
       "      <th>agency</th>\n",
       "      <th>orgid</th>\n",
       "      <th>parentlocationid</th>\n",
       "      <th>park</th>\n",
       "      <th>sitetype</th>\n",
       "      <th>usetype</th>\n",
       "      <th>productid</th>\n",
       "      <th>inventorytype</th>\n",
       "      <th>facilityid</th>\n",
       "      <th>facilityzip</th>\n",
       "      <th>...</th>\n",
       "      <th>startdate</th>\n",
       "      <th>enddate</th>\n",
       "      <th>orderdate</th>\n",
       "      <th>numberofpeople</th>\n",
       "      <th>cleanzip</th>\n",
       "      <th>cleannights</th>\n",
       "      <th>datediff</th>\n",
       "      <th>participation</th>\n",
       "      <th>user</th>\n",
       "      <th>rating</th>\n",
       "    </tr>\n",
       "  </thead>\n",
       "  <tbody>\n",
       "    <tr>\n",
       "      <th>1</th>\n",
       "      <td>BLM</td>\n",
       "      <td>126.0</td>\n",
       "      <td>72195</td>\n",
       "      <td>White Mountains National Recreation Area - Ala...</td>\n",
       "      <td>CABIN NONELECTRIC</td>\n",
       "      <td>Overnight</td>\n",
       "      <td>639772</td>\n",
       "      <td>CAMPING</td>\n",
       "      <td>252494</td>\n",
       "      <td>99730.0</td>\n",
       "      <td>...</td>\n",
       "      <td>2020-10-23</td>\n",
       "      <td>2020-10-24</td>\n",
       "      <td>2020-09-28 23:22:18.538</td>\n",
       "      <td>2</td>\n",
       "      <td>99709</td>\n",
       "      <td>1</td>\n",
       "      <td>1.0</td>\n",
       "      <td>2</td>\n",
       "      <td>99709</td>\n",
       "      <td>1</td>\n",
       "    </tr>\n",
       "    <tr>\n",
       "      <th>3</th>\n",
       "      <td>BLM</td>\n",
       "      <td>126.0</td>\n",
       "      <td>72195</td>\n",
       "      <td>White Mountains National Recreation Area - Ala...</td>\n",
       "      <td>CABIN NONELECTRIC</td>\n",
       "      <td>Overnight</td>\n",
       "      <td>639772</td>\n",
       "      <td>CAMPING</td>\n",
       "      <td>252494</td>\n",
       "      <td>99730.0</td>\n",
       "      <td>...</td>\n",
       "      <td>2020-10-03</td>\n",
       "      <td>2020-10-04</td>\n",
       "      <td>2020-09-19 01:03:11.146</td>\n",
       "      <td>2</td>\n",
       "      <td>99706</td>\n",
       "      <td>1</td>\n",
       "      <td>1.0</td>\n",
       "      <td>2</td>\n",
       "      <td>99706</td>\n",
       "      <td>1</td>\n",
       "    </tr>\n",
       "    <tr>\n",
       "      <th>5</th>\n",
       "      <td>BLM</td>\n",
       "      <td>126.0</td>\n",
       "      <td>72195</td>\n",
       "      <td>White Mountains National Recreation Area - Ala...</td>\n",
       "      <td>CABIN NONELECTRIC</td>\n",
       "      <td>Overnight</td>\n",
       "      <td>639772</td>\n",
       "      <td>CAMPING</td>\n",
       "      <td>252494</td>\n",
       "      <td>99730.0</td>\n",
       "      <td>...</td>\n",
       "      <td>2020-10-09</td>\n",
       "      <td>2020-10-10</td>\n",
       "      <td>2020-09-16 19:48:32.168</td>\n",
       "      <td>1</td>\n",
       "      <td>99709</td>\n",
       "      <td>1</td>\n",
       "      <td>1.0</td>\n",
       "      <td>1</td>\n",
       "      <td>99709</td>\n",
       "      <td>1</td>\n",
       "    </tr>\n",
       "    <tr>\n",
       "      <th>7</th>\n",
       "      <td>BLM</td>\n",
       "      <td>126.0</td>\n",
       "      <td>72195</td>\n",
       "      <td>White Mountains National Recreation Area - Ala...</td>\n",
       "      <td>CABIN NONELECTRIC</td>\n",
       "      <td>Overnight</td>\n",
       "      <td>639772</td>\n",
       "      <td>CAMPING</td>\n",
       "      <td>252494</td>\n",
       "      <td>99730.0</td>\n",
       "      <td>...</td>\n",
       "      <td>2020-10-26</td>\n",
       "      <td>2020-10-27</td>\n",
       "      <td>2020-09-30 18:32:29.447</td>\n",
       "      <td>4</td>\n",
       "      <td>84401</td>\n",
       "      <td>1</td>\n",
       "      <td>1.0</td>\n",
       "      <td>4</td>\n",
       "      <td>84401</td>\n",
       "      <td>2</td>\n",
       "    </tr>\n",
       "    <tr>\n",
       "      <th>8</th>\n",
       "      <td>BLM</td>\n",
       "      <td>126.0</td>\n",
       "      <td>72195</td>\n",
       "      <td>White Mountains National Recreation Area - Ala...</td>\n",
       "      <td>CABIN NONELECTRIC</td>\n",
       "      <td>Overnight</td>\n",
       "      <td>639772</td>\n",
       "      <td>CAMPING</td>\n",
       "      <td>252494</td>\n",
       "      <td>99730.0</td>\n",
       "      <td>...</td>\n",
       "      <td>2020-10-01</td>\n",
       "      <td>2020-10-02</td>\n",
       "      <td>2020-09-28 04:24:31.089</td>\n",
       "      <td>4</td>\n",
       "      <td>99709</td>\n",
       "      <td>1</td>\n",
       "      <td>1.0</td>\n",
       "      <td>4</td>\n",
       "      <td>99709</td>\n",
       "      <td>2</td>\n",
       "    </tr>\n",
       "  </tbody>\n",
       "</table>\n",
       "<p>5 rows × 23 columns</p>\n",
       "</div>"
      ],
      "text/plain": [
       "  agency  orgid parentlocationid  \\\n",
       "1    BLM  126.0            72195   \n",
       "3    BLM  126.0            72195   \n",
       "5    BLM  126.0            72195   \n",
       "7    BLM  126.0            72195   \n",
       "8    BLM  126.0            72195   \n",
       "\n",
       "                                                park           sitetype  \\\n",
       "1  White Mountains National Recreation Area - Ala...  CABIN NONELECTRIC   \n",
       "3  White Mountains National Recreation Area - Ala...  CABIN NONELECTRIC   \n",
       "5  White Mountains National Recreation Area - Ala...  CABIN NONELECTRIC   \n",
       "7  White Mountains National Recreation Area - Ala...  CABIN NONELECTRIC   \n",
       "8  White Mountains National Recreation Area - Ala...  CABIN NONELECTRIC   \n",
       "\n",
       "     usetype productid inventorytype facilityid  facilityzip  ...  startdate  \\\n",
       "1  Overnight    639772       CAMPING     252494      99730.0  ... 2020-10-23   \n",
       "3  Overnight    639772       CAMPING     252494      99730.0  ... 2020-10-03   \n",
       "5  Overnight    639772       CAMPING     252494      99730.0  ... 2020-10-09   \n",
       "7  Overnight    639772       CAMPING     252494      99730.0  ... 2020-10-26   \n",
       "8  Overnight    639772       CAMPING     252494      99730.0  ... 2020-10-01   \n",
       "\n",
       "     enddate               orderdate numberofpeople cleanzip cleannights  \\\n",
       "1 2020-10-24 2020-09-28 23:22:18.538              2    99709           1   \n",
       "3 2020-10-04 2020-09-19 01:03:11.146              2    99706           1   \n",
       "5 2020-10-10 2020-09-16 19:48:32.168              1    99709           1   \n",
       "7 2020-10-27 2020-09-30 18:32:29.447              4    84401           1   \n",
       "8 2020-10-02 2020-09-28 04:24:31.089              4    99709           1   \n",
       "\n",
       "   datediff participation   user  rating  \n",
       "1       1.0             2  99709       1  \n",
       "3       1.0             2  99706       1  \n",
       "5       1.0             1  99709       1  \n",
       "7       1.0             4  84401       2  \n",
       "8       1.0             4  99709       2  \n",
       "\n",
       "[5 rows x 23 columns]"
      ]
     },
     "execution_count": 56,
     "metadata": {},
     "output_type": "execute_result"
    }
   ],
   "source": [
    "dfFeatures.head()"
   ]
  },
  {
   "cell_type": "code",
   "execution_count": 57,
   "metadata": {
    "pycharm": {
     "name": "#%%\n"
    }
   },
   "outputs": [
    {
     "data": {
      "text/plain": [
       "<matplotlib.axes._subplots.AxesSubplot at 0x22bc8fbfac0>"
      ]
     },
     "execution_count": 57,
     "metadata": {},
     "output_type": "execute_result"
    },
    {
     "data": {
      "image/png": "[encoded data removed]",
      "text/plain": [
       "<Figure size 432x288 with 1 Axes>"
      ]
     },
     "metadata": {
      "needs_background": "light"
     },
     "output_type": "display_data"
    }
   ],
   "source": [
    "# typical group size\n",
    "dfFeatures.numberofpeople.plot.hist()"
   ]
  },
  {
   "cell_type": "code",
   "execution_count": 58,
   "metadata": {
    "pycharm": {
     "name": "#%%\n"
    }
   },
   "outputs": [
    {
     "data": {
      "text/plain": [
       "<matplotlib.axes._subplots.AxesSubplot at 0x22bc92c7f40>"
      ]
     },
     "execution_count": 58,
     "metadata": {},
     "output_type": "execute_result"
    },
    {
     "data": {
      "image/png": "[encoded data removed]",
      "text/plain": [
       "<Figure size 432x288 with 1 Axes>"
      ]
     },
     "metadata": {
      "needs_background": "light"
     },
     "output_type": "display_data"
    }
   ],
   "source": [
    "# typical nights\n",
    "dfFeatures.cleannights.plot.hist()"
   ]
  },
  {
   "cell_type": "code",
   "execution_count": 59,
   "metadata": {
    "pycharm": {
     "name": "#%%\n"
    }
   },
   "outputs": [
    {
     "data": {
      "text/plain": [
       "<matplotlib.axes._subplots.AxesSubplot at 0x22bc963da60>"
      ]
     },
     "execution_count": 59,
     "metadata": {},
     "output_type": "execute_result"
    },
    {
     "data": {
      "image/png": "[encoded data removed]",
      "text/plain": [
       "<Figure size 432x288 with 1 Axes>"
      ]
     },
     "metadata": {
      "needs_background": "light"
     },
     "output_type": "display_data"
    }
   ],
   "source": [
    "# plot people vs nights\n",
    "dfFeatures.plot.scatter(x='numberofpeople', y='cleannights')"
   ]
  },
  {
   "cell_type": "code",
   "execution_count": 60,
   "metadata": {},
   "outputs": [
    {
     "data": {
      "text/plain": [
       "count    2.835762e+06\n",
       "mean     3.531266e+00\n",
       "std      2.242261e+00\n",
       "min      1.000000e+00\n",
       "20%      2.000000e+00\n",
       "40%      2.000000e+00\n",
       "50%      3.000000e+00\n",
       "60%      4.000000e+00\n",
       "80%      5.000000e+00\n",
       "max      1.600000e+01\n",
       "Name: numberofpeople, dtype: float64"
      ]
     },
     "execution_count": 60,
     "metadata": {},
     "output_type": "execute_result"
    }
   ],
   "source": [
    "dfFeatures['numberofpeople'].describe(percentiles=[.2, .4, .6, .8])"
   ]
  },
  {
   "cell_type": "code",
   "execution_count": 61,
   "metadata": {},
   "outputs": [
    {
     "data": {
      "text/plain": [
       "16"
      ]
     },
     "execution_count": 61,
     "metadata": {},
     "output_type": "execute_result"
    }
   ],
   "source": [
    "dfFeatures['numberofpeople'].max()"
   ]
  },
  {
   "cell_type": "code",
   "execution_count": 62,
   "metadata": {},
   "outputs": [
    {
     "data": {
      "text/plain": [
       "count    2.835762e+06\n",
       "mean     2.597731e+00\n",
       "std      1.892861e+00\n",
       "min      1.000000e+00\n",
       "20%      1.000000e+00\n",
       "40%      2.000000e+00\n",
       "50%      2.000000e+00\n",
       "60%      2.000000e+00\n",
       "80%      3.000000e+00\n",
       "max      1.300000e+01\n",
       "Name: cleannights, dtype: float64"
      ]
     },
     "execution_count": 62,
     "metadata": {},
     "output_type": "execute_result"
    }
   ],
   "source": [
    "dfFeatures['cleannights'].describe(percentiles=[.2, .4, .6, .8])"
   ]
  },
  {
   "cell_type": "markdown",
   "metadata": {},
   "source": [
    "## Export Data\n",
    "\n",
    "Export dataframe to three external CSV files:\n",
    "\n",
    "- REC.csv - all features\n",
    "- REC_Collaborative_Product.csv - a three column file with features for collaborative filitering, using `productid` as the item field\n",
    "- REC_Collaborative_Facility.csv - a three column file with features for collaborative filitering, using `facility` as the item field"
   ]
  },
  {
   "cell_type": "code",
   "execution_count": 63,
   "metadata": {
    "pycharm": {
     "name": "#%%\n"
    }
   },
   "outputs": [],
   "source": [
    "# use proposed features and export camping reservations\n",
    "dfFeatures.to_csv('REC.csv', index=False)"
   ]
  },
  {
   "cell_type": "code",
   "execution_count": 64,
   "metadata": {
    "pycharm": {
     "name": "#%%\n"
    }
   },
   "outputs": [
    {
     "name": "stderr",
     "output_type": "stream",
     "text": [
      "c:\\Users\\nburg\\anaconda3\\lib\\site-packages\\pandas\\core\\frame.py:4125: SettingWithCopyWarning: \n",
      "A value is trying to be set on a copy of a slice from a DataFrame\n",
      "\n",
      "See the caveats in the documentation: https://pandas.pydata.org/pandas-docs/stable/user_guide/indexing.html#returning-a-view-versus-a-copy\n",
      "  return super().rename(\n"
     ]
    }
   ],
   "source": [
    "# export camping reservations for ALS and SVD\n",
    "dfCollaborativeProduct = dfFeatures[['user', 'productid', 'rating']]\n",
    "dfCollaborativeProduct.rename(columns={'productid': 'item'}, inplace=True)\n",
    "dfCollaborativeProduct.to_csv('REC_Collaborative_Product.csv', index=False)"
   ]
  },
  {
   "cell_type": "code",
   "execution_count": 65,
   "metadata": {
    "pycharm": {
     "name": "#%%\n"
    }
   },
   "outputs": [],
   "source": [
    "# export camping reservations for ALS and SVD\n",
    "dfCollaborativeFacility = dfFeatures[['user', 'facilityid', 'rating']]\n",
    "dfCollaborativeFacility.rename(columns={'facilityid': 'item'}, inplace=True)\n",
    "dfCollaborativeFacility.to_csv('REC_Collaborative_Facility.csv', index=False)"
   ]
  }
 ],
 "metadata": {
  "interpreter": {
   "hash": "a9e49237f3225e56c5bc43658cdc0a90dbebc23b3eaeee781a0f05ef40bc4a00"
  },
  "kernelspec": {
   "display_name": "Python 3.8.3 ('base')",
   "language": "python",
   "name": "python3"
  },
  "language_info": {
   "codemirror_mode": {
    "name": "ipython",
    "version": 3
   },
   "file_extension": ".py",
   "mimetype": "text/x-python",
   "name": "python",
   "nbconvert_exporter": "python",
   "pygments_lexer": "ipython3",
   "version": "3.8.3"
  }
 },
 "nbformat": 4,
 "nbformat_minor": 1
}
