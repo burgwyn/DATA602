{
 "cells": [
  {
   "cell_type": "markdown",
   "metadata": {
    "pycharm": {
     "name": "#%% md\n"
    }
   },
   "source": [
    "# Recreation.gov Reservations - 2021\n",
    "Reservation data for Recreation.gov is published in [Recreational Information Database](ridb.recreation.gov)\n",
    "\n",
    "The 2021 dataset is available [here](https://ridb.recreation.gov/downloads/reservations2021.zip)"
   ]
  },
  {
   "cell_type": "code",
   "execution_count": 1,
   "metadata": {
    "pycharm": {
     "name": "#%%\n"
    }
   },
   "outputs": [],
   "source": [
    "import pandas as pd"
   ]
  },
  {
   "cell_type": "code",
   "execution_count": 6,
   "metadata": {
    "pycharm": {
     "name": "#%%\n"
    }
   },
   "outputs": [
    {
     "name": "stderr",
     "output_type": "stream",
     "text": [
      "/Users/burgwyn/opt/anaconda3/lib/python3.9/site-packages/IPython/core/interactiveshell.py:3444: DtypeWarning: Columns (7,11,12,13,15,17,29,31,33) have mixed types.Specify dtype option on import or set low_memory=False.\n",
      "  exec(code_obj, self.user_global_ns, self.user_ns)\n"
     ]
    }
   ],
   "source": [
    "dfReservations2021 = pd.read_csv('./FY21 Historical Reservations Full.csv')"
   ]
  },
  {
   "cell_type": "code",
   "execution_count": 7,
   "metadata": {
    "pycharm": {
     "name": "#%%\n"
    }
   },
   "outputs": [
    {
     "data": {
      "text/plain": [
       "(8354633, 35)"
      ]
     },
     "execution_count": 7,
     "metadata": {},
     "output_type": "execute_result"
    }
   ],
   "source": [
    "dfReservations2021.shape"
   ]
  },
  {
   "cell_type": "code",
   "execution_count": 8,
   "metadata": {
    "pycharm": {
     "name": "#%%\n"
    }
   },
   "outputs": [
    {
     "data": {
      "text/plain": [
       "<bound method DataFrame.info of                       historicalreservationid   ordernumber agency  orgid  \\\n",
       "0        edd9085a-a89f-4787-b9ec-e0794e5ac1b4  0201638440-1    BLM  126.0   \n",
       "1        1d1d4d6a-3d57-47d0-9212-d9a4411555c0  0202157822-1    BLM  126.0   \n",
       "2        bca72357-5824-4484-9eac-a824f5c00622  0208506393-1    BLM  126.0   \n",
       "3        cbf1ce58-fb2a-4605-9474-cf27f1ce4052  0208506393-2    BLM  126.0   \n",
       "4        b3e1899a-aa31-4948-8d47-29af5f6ea85f  0217769313-1    BLM  126.0   \n",
       "...                                       ...           ...    ...    ...   \n",
       "8354628  39fb8f7c-95ad-4020-a39e-d7aa954f8266  0397783574-1    NaN  131.0   \n",
       "8354629  4cf91c2f-2a08-4c67-a041-bc16aa11a822  0397783574-2    NaN  131.0   \n",
       "8354630  62a36ac8-b7db-4cda-ab68-71509d70afd7  0398026423-1    NaN  131.0   \n",
       "8354631  05bea9aa-aa31-46d5-9425-e10d19a17766  0398781775-1    NaN  131.0   \n",
       "8354632  3792e279-28b5-4fe5-bb29-6dc3545d841c  0399064881-1    NaN  131.0   \n",
       "\n",
       "                                 codehierarchy regioncode regiondescription  \\\n",
       "0                  |1|70901|72193|72194|146090         AK            Alaska   \n",
       "1                  |1|70901|72193|72194|146090         AK            Alaska   \n",
       "2                  |1|70901|72193|72194|146090         AK            Alaska   \n",
       "3                  |1|70901|72193|72194|146090         AK            Alaska   \n",
       "4                  |1|70901|72193|72194|146090         AK            Alaska   \n",
       "...                                        ...        ...               ...   \n",
       "8354628  |29364832-c4a0-11eb-9610-ca5a163054ad        NaN               NaN   \n",
       "8354629  |29364832-c4a0-11eb-9610-ca5a163054ad        NaN               NaN   \n",
       "8354630  |29364832-c4a0-11eb-9610-ca5a163054ad        NaN               NaN   \n",
       "8354631  |29364832-c4a0-11eb-9610-ca5a163054ad        NaN               NaN   \n",
       "8354632  |29364832-c4a0-11eb-9610-ca5a163054ad        NaN               NaN   \n",
       "\n",
       "        parentlocationid                            parentlocation  \\\n",
       "0                  72195  White Mountains National Recreation Area   \n",
       "1                  72195  White Mountains National Recreation Area   \n",
       "2                  72195  White Mountains National Recreation Area   \n",
       "3                  72195  White Mountains National Recreation Area   \n",
       "4                  72195  White Mountains National Recreation Area   \n",
       "...                  ...                                       ...   \n",
       "8354628       20000275.0                      Gila National Forest   \n",
       "8354629       20000275.0                      Gila National Forest   \n",
       "8354630       20000275.0                      Gila National Forest   \n",
       "8354631       20000275.0                      Gila National Forest   \n",
       "8354632       20000275.0                      Gila National Forest   \n",
       "\n",
       "         legacyfacilityid  ... totalbeforetax discount totalpaid  \\\n",
       "0                146090.0  ...           58.0      0.0      58.0   \n",
       "1                146090.0  ...           33.0      0.0      33.0   \n",
       "2                146090.0  ...           33.0      0.0      33.0   \n",
       "3                146090.0  ...           25.0      0.0      25.0   \n",
       "4                146090.0  ...           18.0      0.0      18.0   \n",
       "...                   ...  ...            ...      ...       ...   \n",
       "8354628               NaN  ...            3.0      0.0       3.0   \n",
       "8354629               NaN  ...            3.0      0.0       3.0   \n",
       "8354630               NaN  ...            3.0      0.0       3.0   \n",
       "8354631               NaN  ...            3.0      0.0       3.0   \n",
       "8354632               NaN  ...            3.0      0.0       3.0   \n",
       "\n",
       "                       startdate                  enddate  \\\n",
       "0        2020-10-08 00:00:00.000  2020-10-10 00:00:00.000   \n",
       "1        2020-10-23 00:00:00.000  2020-10-24 00:00:00.000   \n",
       "2        2020-10-02 00:00:00.000  2020-10-03 00:00:00.000   \n",
       "3        2020-10-03 00:00:00.000  2020-10-04 00:00:00.000   \n",
       "4        2020-10-10 00:00:00.000  2020-10-11 00:00:00.000   \n",
       "...                          ...                      ...   \n",
       "8354628  2021-08-03 00:00:00.000  2021-08-03 00:00:00.000   \n",
       "8354629  2021-08-03 00:00:00.000  2021-08-03 00:00:00.000   \n",
       "8354630  2021-09-30 00:00:00.000  2021-09-30 00:00:00.000   \n",
       "8354631  2021-08-21 00:00:00.000  2021-08-21 00:00:00.000   \n",
       "8354632  2021-08-30 00:00:00.000  2021-08-30 00:00:00.000   \n",
       "\n",
       "                       orderdate    nights numberofpeople  \\\n",
       "0        2020-09-10 09:16:58.400    2 days            1.0   \n",
       "1        2020-09-28 23:22:18.538     1 day            2.0   \n",
       "2        2020-09-19 01:03:11.146     1 day            0.0   \n",
       "3        2020-09-19 01:03:11.146     1 day            2.0   \n",
       "4        2020-09-16 19:57:02.020     1 day            0.0   \n",
       "...                          ...       ...            ...   \n",
       "8354628  2021-07-08 16:42:30.532  00:00:00            NaN   \n",
       "8354629  2021-07-08 16:42:30.532  00:00:00            NaN   \n",
       "8354630  2021-09-30 22:20:38.779  00:00:00            NaN   \n",
       "8354631  2021-08-21 19:52:40.255  00:00:00            NaN   \n",
       "8354632  2021-08-30 18:08:26.562  00:00:00            NaN   \n",
       "\n",
       "         equipmentdescription  equipmentlength  \n",
       "0                         NaN              0.0  \n",
       "1                         NaN              0.0  \n",
       "2                         NaN              0.0  \n",
       "3                         NaN              0.0  \n",
       "4                         NaN              0.0  \n",
       "...                       ...              ...  \n",
       "8354628                   NaN              NaN  \n",
       "8354629                   NaN              NaN  \n",
       "8354630                   NaN              NaN  \n",
       "8354631                   NaN              NaN  \n",
       "8354632                   NaN              NaN  \n",
       "\n",
       "[8354633 rows x 35 columns]>"
      ]
     },
     "execution_count": 8,
     "metadata": {},
     "output_type": "execute_result"
    }
   ],
   "source": [
    "dfReservations2021.info"
   ]
  },
  {
   "cell_type": "code",
   "execution_count": 9,
   "metadata": {
    "pycharm": {
     "name": "#%%\n"
    }
   },
   "outputs": [
    {
     "data": {
      "text/plain": [
       "historicalreservationid     object\n",
       "ordernumber                 object\n",
       "agency                      object\n",
       "orgid                      float64\n",
       "codehierarchy               object\n",
       "regioncode                  object\n",
       "regiondescription           object\n",
       "parentlocationid            object\n",
       "parentlocation              object\n",
       "legacyfacilityid           float64\n",
       "park                        object\n",
       "sitetype                    object\n",
       "usetype                     object\n",
       "productid                   object\n",
       "inventorytype               object\n",
       "facilityid                  object\n",
       "facilityzip                float64\n",
       "facilitystate               object\n",
       "facilitylongitude          float64\n",
       "facilitylatitude           float64\n",
       "customerzip                 object\n",
       "tax                        float64\n",
       "usefee                     float64\n",
       "tranfee                    float64\n",
       "attrfee                    float64\n",
       "totalbeforetax             float64\n",
       "discount                   float64\n",
       "totalpaid                  float64\n",
       "startdate                   object\n",
       "enddate                     object\n",
       "orderdate                   object\n",
       "nights                      object\n",
       "numberofpeople             float64\n",
       "equipmentdescription        object\n",
       "equipmentlength            float64\n",
       "dtype: object"
      ]
     },
     "execution_count": 9,
     "metadata": {},
     "output_type": "execute_result"
    }
   ],
   "source": [
    "dfReservations2021.dtypes"
   ]
  },
  {
   "cell_type": "code",
   "execution_count": 10,
   "metadata": {
    "pycharm": {
     "name": "#%%\n"
    }
   },
   "outputs": [
    {
     "data": {
      "text/html": [
       "<div>\n",
       "<style scoped>\n",
       "    .dataframe tbody tr th:only-of-type {\n",
       "        vertical-align: middle;\n",
       "    }\n",
       "\n",
       "    .dataframe tbody tr th {\n",
       "        vertical-align: top;\n",
       "    }\n",
       "\n",
       "    .dataframe thead th {\n",
       "        text-align: right;\n",
       "    }\n",
       "</style>\n",
       "<table border=\"1\" class=\"dataframe\">\n",
       "  <thead>\n",
       "    <tr style=\"text-align: right;\">\n",
       "      <th></th>\n",
       "      <th>historicalreservationid</th>\n",
       "      <th>ordernumber</th>\n",
       "      <th>agency</th>\n",
       "      <th>orgid</th>\n",
       "      <th>codehierarchy</th>\n",
       "      <th>regioncode</th>\n",
       "      <th>regiondescription</th>\n",
       "      <th>parentlocationid</th>\n",
       "      <th>parentlocation</th>\n",
       "      <th>legacyfacilityid</th>\n",
       "      <th>...</th>\n",
       "      <th>totalbeforetax</th>\n",
       "      <th>discount</th>\n",
       "      <th>totalpaid</th>\n",
       "      <th>startdate</th>\n",
       "      <th>enddate</th>\n",
       "      <th>orderdate</th>\n",
       "      <th>nights</th>\n",
       "      <th>numberofpeople</th>\n",
       "      <th>equipmentdescription</th>\n",
       "      <th>equipmentlength</th>\n",
       "    </tr>\n",
       "  </thead>\n",
       "  <tbody>\n",
       "    <tr>\n",
       "      <th>0</th>\n",
       "      <td>edd9085a-a89f-4787-b9ec-e0794e5ac1b4</td>\n",
       "      <td>0201638440-1</td>\n",
       "      <td>BLM</td>\n",
       "      <td>126.0</td>\n",
       "      <td>|1|70901|72193|72194|146090</td>\n",
       "      <td>AK</td>\n",
       "      <td>Alaska</td>\n",
       "      <td>72195</td>\n",
       "      <td>White Mountains National Recreation Area</td>\n",
       "      <td>146090.0</td>\n",
       "      <td>...</td>\n",
       "      <td>58.0</td>\n",
       "      <td>0.0</td>\n",
       "      <td>58.0</td>\n",
       "      <td>2020-10-08 00:00:00.000</td>\n",
       "      <td>2020-10-10 00:00:00.000</td>\n",
       "      <td>2020-09-10 09:16:58.400</td>\n",
       "      <td>2 days</td>\n",
       "      <td>1.0</td>\n",
       "      <td>NaN</td>\n",
       "      <td>0.0</td>\n",
       "    </tr>\n",
       "    <tr>\n",
       "      <th>1</th>\n",
       "      <td>1d1d4d6a-3d57-47d0-9212-d9a4411555c0</td>\n",
       "      <td>0202157822-1</td>\n",
       "      <td>BLM</td>\n",
       "      <td>126.0</td>\n",
       "      <td>|1|70901|72193|72194|146090</td>\n",
       "      <td>AK</td>\n",
       "      <td>Alaska</td>\n",
       "      <td>72195</td>\n",
       "      <td>White Mountains National Recreation Area</td>\n",
       "      <td>146090.0</td>\n",
       "      <td>...</td>\n",
       "      <td>33.0</td>\n",
       "      <td>0.0</td>\n",
       "      <td>33.0</td>\n",
       "      <td>2020-10-23 00:00:00.000</td>\n",
       "      <td>2020-10-24 00:00:00.000</td>\n",
       "      <td>2020-09-28 23:22:18.538</td>\n",
       "      <td>1 day</td>\n",
       "      <td>2.0</td>\n",
       "      <td>NaN</td>\n",
       "      <td>0.0</td>\n",
       "    </tr>\n",
       "    <tr>\n",
       "      <th>2</th>\n",
       "      <td>bca72357-5824-4484-9eac-a824f5c00622</td>\n",
       "      <td>0208506393-1</td>\n",
       "      <td>BLM</td>\n",
       "      <td>126.0</td>\n",
       "      <td>|1|70901|72193|72194|146090</td>\n",
       "      <td>AK</td>\n",
       "      <td>Alaska</td>\n",
       "      <td>72195</td>\n",
       "      <td>White Mountains National Recreation Area</td>\n",
       "      <td>146090.0</td>\n",
       "      <td>...</td>\n",
       "      <td>33.0</td>\n",
       "      <td>0.0</td>\n",
       "      <td>33.0</td>\n",
       "      <td>2020-10-02 00:00:00.000</td>\n",
       "      <td>2020-10-03 00:00:00.000</td>\n",
       "      <td>2020-09-19 01:03:11.146</td>\n",
       "      <td>1 day</td>\n",
       "      <td>0.0</td>\n",
       "      <td>NaN</td>\n",
       "      <td>0.0</td>\n",
       "    </tr>\n",
       "    <tr>\n",
       "      <th>3</th>\n",
       "      <td>cbf1ce58-fb2a-4605-9474-cf27f1ce4052</td>\n",
       "      <td>0208506393-2</td>\n",
       "      <td>BLM</td>\n",
       "      <td>126.0</td>\n",
       "      <td>|1|70901|72193|72194|146090</td>\n",
       "      <td>AK</td>\n",
       "      <td>Alaska</td>\n",
       "      <td>72195</td>\n",
       "      <td>White Mountains National Recreation Area</td>\n",
       "      <td>146090.0</td>\n",
       "      <td>...</td>\n",
       "      <td>25.0</td>\n",
       "      <td>0.0</td>\n",
       "      <td>25.0</td>\n",
       "      <td>2020-10-03 00:00:00.000</td>\n",
       "      <td>2020-10-04 00:00:00.000</td>\n",
       "      <td>2020-09-19 01:03:11.146</td>\n",
       "      <td>1 day</td>\n",
       "      <td>2.0</td>\n",
       "      <td>NaN</td>\n",
       "      <td>0.0</td>\n",
       "    </tr>\n",
       "    <tr>\n",
       "      <th>4</th>\n",
       "      <td>b3e1899a-aa31-4948-8d47-29af5f6ea85f</td>\n",
       "      <td>0217769313-1</td>\n",
       "      <td>BLM</td>\n",
       "      <td>126.0</td>\n",
       "      <td>|1|70901|72193|72194|146090</td>\n",
       "      <td>AK</td>\n",
       "      <td>Alaska</td>\n",
       "      <td>72195</td>\n",
       "      <td>White Mountains National Recreation Area</td>\n",
       "      <td>146090.0</td>\n",
       "      <td>...</td>\n",
       "      <td>18.0</td>\n",
       "      <td>0.0</td>\n",
       "      <td>18.0</td>\n",
       "      <td>2020-10-10 00:00:00.000</td>\n",
       "      <td>2020-10-11 00:00:00.000</td>\n",
       "      <td>2020-09-16 19:57:02.020</td>\n",
       "      <td>1 day</td>\n",
       "      <td>0.0</td>\n",
       "      <td>NaN</td>\n",
       "      <td>0.0</td>\n",
       "    </tr>\n",
       "  </tbody>\n",
       "</table>\n",
       "<p>5 rows × 35 columns</p>\n",
       "</div>"
      ],
      "text/plain": [
       "                historicalreservationid   ordernumber agency  orgid  \\\n",
       "0  edd9085a-a89f-4787-b9ec-e0794e5ac1b4  0201638440-1    BLM  126.0   \n",
       "1  1d1d4d6a-3d57-47d0-9212-d9a4411555c0  0202157822-1    BLM  126.0   \n",
       "2  bca72357-5824-4484-9eac-a824f5c00622  0208506393-1    BLM  126.0   \n",
       "3  cbf1ce58-fb2a-4605-9474-cf27f1ce4052  0208506393-2    BLM  126.0   \n",
       "4  b3e1899a-aa31-4948-8d47-29af5f6ea85f  0217769313-1    BLM  126.0   \n",
       "\n",
       "                 codehierarchy regioncode regiondescription parentlocationid  \\\n",
       "0  |1|70901|72193|72194|146090         AK            Alaska            72195   \n",
       "1  |1|70901|72193|72194|146090         AK            Alaska            72195   \n",
       "2  |1|70901|72193|72194|146090         AK            Alaska            72195   \n",
       "3  |1|70901|72193|72194|146090         AK            Alaska            72195   \n",
       "4  |1|70901|72193|72194|146090         AK            Alaska            72195   \n",
       "\n",
       "                             parentlocation  legacyfacilityid  ...  \\\n",
       "0  White Mountains National Recreation Area          146090.0  ...   \n",
       "1  White Mountains National Recreation Area          146090.0  ...   \n",
       "2  White Mountains National Recreation Area          146090.0  ...   \n",
       "3  White Mountains National Recreation Area          146090.0  ...   \n",
       "4  White Mountains National Recreation Area          146090.0  ...   \n",
       "\n",
       "  totalbeforetax discount totalpaid                startdate  \\\n",
       "0           58.0      0.0      58.0  2020-10-08 00:00:00.000   \n",
       "1           33.0      0.0      33.0  2020-10-23 00:00:00.000   \n",
       "2           33.0      0.0      33.0  2020-10-02 00:00:00.000   \n",
       "3           25.0      0.0      25.0  2020-10-03 00:00:00.000   \n",
       "4           18.0      0.0      18.0  2020-10-10 00:00:00.000   \n",
       "\n",
       "                   enddate                orderdate  nights numberofpeople  \\\n",
       "0  2020-10-10 00:00:00.000  2020-09-10 09:16:58.400  2 days            1.0   \n",
       "1  2020-10-24 00:00:00.000  2020-09-28 23:22:18.538   1 day            2.0   \n",
       "2  2020-10-03 00:00:00.000  2020-09-19 01:03:11.146   1 day            0.0   \n",
       "3  2020-10-04 00:00:00.000  2020-09-19 01:03:11.146   1 day            2.0   \n",
       "4  2020-10-11 00:00:00.000  2020-09-16 19:57:02.020   1 day            0.0   \n",
       "\n",
       "   equipmentdescription  equipmentlength  \n",
       "0                   NaN              0.0  \n",
       "1                   NaN              0.0  \n",
       "2                   NaN              0.0  \n",
       "3                   NaN              0.0  \n",
       "4                   NaN              0.0  \n",
       "\n",
       "[5 rows x 35 columns]"
      ]
     },
     "execution_count": 10,
     "metadata": {},
     "output_type": "execute_result"
    }
   ],
   "source": [
    "dfReservations2021.head()"
   ]
  },
  {
   "cell_type": "code",
   "execution_count": 11,
   "metadata": {
    "pycharm": {
     "name": "#%%\n"
    }
   },
   "outputs": [
    {
     "data": {
      "text/plain": [
       "['historicalreservationid',\n",
       " 'ordernumber',\n",
       " 'agency',\n",
       " 'orgid',\n",
       " 'codehierarchy',\n",
       " 'regioncode',\n",
       " 'regiondescription',\n",
       " 'parentlocationid',\n",
       " 'parentlocation',\n",
       " 'legacyfacilityid',\n",
       " 'park',\n",
       " 'sitetype',\n",
       " 'usetype',\n",
       " 'productid',\n",
       " 'inventorytype',\n",
       " 'facilityid',\n",
       " 'facilityzip',\n",
       " 'facilitystate',\n",
       " 'facilitylongitude',\n",
       " 'facilitylatitude',\n",
       " 'customerzip',\n",
       " 'tax',\n",
       " 'usefee',\n",
       " 'tranfee',\n",
       " 'attrfee',\n",
       " 'totalbeforetax',\n",
       " 'discount',\n",
       " 'totalpaid',\n",
       " 'startdate',\n",
       " 'enddate',\n",
       " 'orderdate',\n",
       " 'nights',\n",
       " 'numberofpeople',\n",
       " 'equipmentdescription',\n",
       " 'equipmentlength']"
      ]
     },
     "execution_count": 11,
     "metadata": {},
     "output_type": "execute_result"
    }
   ],
   "source": [
    "# columns in dataframe\n",
    "list(dfReservations2021)"
   ]
  },
  {
   "cell_type": "markdown",
   "metadata": {
    "collapsed": false
   },
   "source": [
    "## Observations\n",
    "\n",
    "- `historicalreservationid` - this is a GUID, which is not helpful\n",
    "- `ordernumber` - this is hyphenated, ie 1234-2, which looks like versions of a single order\n",
    "- `codehierarchy` - pipe-delimited, appears to be for internal reporting\n",
    "- `parentlocationid` and `parentlocation` - duplicative\n",
    "- `legacyfacilityid` - legacy unique identifier\n",
    "- `park` - duplicative\n",
    "- `sitetype`, `usetype`, `productid`, `inventorytype` - type of transaction information\n",
    "- `facility` - geographic information on multiple dimensions\n",
    "- `customerzip` - likely customer dimension\n",
    "- `nights` - format of X day(s), likely derived from `enddate` - `startdate`\n",
    "- `equipmentdescription` and `equipmentlength` - not applicable"
   ]
  },
  {
   "cell_type": "code",
   "execution_count": 12,
   "metadata": {
    "collapsed": false,
    "pycharm": {
     "name": "#%%\n"
    }
   },
   "outputs": [],
   "source": [
    "dfReservations2021.drop(columns=['historicalreservationid', 'regioncode', 'regiondescription', 'parentlocation', 'codehierarchy', 'legacyfacilityid', 'tax', 'usefee', 'tranfee', 'attrfee', 'totalbeforetax', 'discount', 'equipmentdescription', 'equipmentlength'], inplace=True)"
   ]
  },
  {
   "cell_type": "code",
   "execution_count": 13,
   "metadata": {
    "pycharm": {
     "name": "#%%\n"
    }
   },
   "outputs": [
    {
     "data": {
      "text/plain": [
       "array(['BLM', 'BOR', 'FWS', 'NARA', 'NPS', 'USACE', 'USFS', nan],\n",
       "      dtype=object)"
      ]
     },
     "execution_count": 13,
     "metadata": {},
     "output_type": "execute_result"
    }
   ],
   "source": [
    "dfReservations2021['agency'].unique()"
   ]
  },
  {
   "cell_type": "code",
   "execution_count": 14,
   "metadata": {
    "collapsed": false,
    "pycharm": {
     "name": "#%%\n"
    }
   },
   "outputs": [
    {
     "data": {
      "text/plain": [
       "agency\n",
       "BLM       8442779.09\n",
       "BOR        784743.50\n",
       "FWS        580552.10\n",
       "NARA        70607.00\n",
       "NPS      72636410.69\n",
       "USACE    69451362.04\n",
       "USFS     97755794.21\n",
       "Name: totalpaid, dtype: float64"
      ]
     },
     "execution_count": 14,
     "metadata": {},
     "output_type": "execute_result"
    }
   ],
   "source": [
    "dfReservations2021.groupby('agency')['totalpaid'].sum()"
   ]
  },
  {
   "cell_type": "code",
   "execution_count": 14,
   "metadata": {
    "collapsed": false,
    "pycharm": {
     "name": "#%%\n"
    }
   },
   "outputs": [
    {
     "data": {
      "text/plain": [
       "park\n",
       "Buckskin Gulch Day Use                                      45663.5\n",
       "Burro Creek Campground                                       1074.0\n",
       "White Mountains National Recreation Area - Alaska Cabins    56881.0\n",
       "Wire Pass Day Use                                           68141.0\n",
       "Name: totalpaid, dtype: float64"
      ]
     },
     "execution_count": 14,
     "metadata": {},
     "output_type": "execute_result"
    }
   ],
   "source": [
    "dfReservations2021.groupby('park')['totalpaid'].sum()"
   ]
  },
  {
   "cell_type": "code",
   "execution_count": 15,
   "metadata": {
    "collapsed": false,
    "pycharm": {
     "name": "#%%\n"
    }
   },
   "outputs": [
    {
     "data": {
      "text/plain": [
       "inventorytype\n",
       "ACTIVITYPASS       1.657872e+06\n",
       "CAMPING            1.976744e+08\n",
       "DONATION           1.000000e+02\n",
       "LOTTERY_CAMPING    1.239600e+05\n",
       "LOTTERY_PERMIT     2.981036e+06\n",
       "LOTTERY_TICKET     2.878600e+04\n",
       "PERMIT             1.721590e+07\n",
       "QUEUE_LOTTERY      6.514800e+04\n",
       "RENTAL             6.864000e+03\n",
       "TICKET             1.233070e+07\n",
       "TIMED_ENTRY        1.079852e+07\n",
       "TREE_PERMIT        2.397126e+06\n",
       "VEHICLE_PERMIT     4.453687e+06\n",
       "Name: totalpaid, dtype: float64"
      ]
     },
     "execution_count": 15,
     "metadata": {},
     "output_type": "execute_result"
    }
   ],
   "source": [
    "dfReservations2021.groupby('inventorytype')['totalpaid'].sum()"
   ]
  },
  {
   "cell_type": "code",
   "execution_count": 16,
   "metadata": {
    "collapsed": false,
    "pycharm": {
     "name": "#%%\n"
    }
   },
   "outputs": [
    {
     "data": {
      "text/plain": [
       "array(['2 days', '1 day', '3 days', '8 days', '00:00:00', '21 days',\n",
       "       '29 days', '30 days', '23 days', '9 days', '-2 days', '22 days',\n",
       "       '14 days', '4 days', nan, '-1 days -14:47:10.998269', '5 days',\n",
       "       '7 days', '12 days', '13 days', '6 days', '10 days', '11 days',\n",
       "       '35 days', '16 days', '17 days', '26 days', '58 days', '32 days',\n",
       "       '-20 days', '-21:55:08.125762', '364 days', '19 days', '-66 days',\n",
       "       '129 days', '27 days', '18 days', '-5 days', '-13 days',\n",
       "       '-19 days', '-3 days', '142 days', '-4 days', '79 days', '40 days',\n",
       "       '15 days', '106 days', '-6 days', '113 days', '24 days', '-1 days',\n",
       "       '42 days', '-12 days', '33 days', '211 days', '62 days', '36 days',\n",
       "       '31 days', '-10 days', '-22 days', '50 days', '377 days',\n",
       "       '372 days', '374 days', '370 days', '368 days', '390 days',\n",
       "       '375 days', '379 days', '386 days', '383 days', '373 days',\n",
       "       '380 days', '385 days', '392 days', '371 days', '376 days',\n",
       "       '365 days', '393 days', '366 days', '391 days', '394 days',\n",
       "       '381 days', '367 days', '384 days', '389 days', '378 days',\n",
       "       '388 days', '387 days', '382 days', '395 days', '369 days',\n",
       "       '-44 days', '-9 days', '52 days', '53 days', '88 days', '156 days',\n",
       "       '37 days', '71 days', '357 days 07:33:59.388191', '121 days',\n",
       "       '39 days', '-40 days', '93 days', '81 days', '49 days', '44 days',\n",
       "       '80 days', '45 days', '51 days', '38 days', '128 days', '72 days',\n",
       "       '43 days', '-25 days', '-34 days', '91 days', '-18 days',\n",
       "       '55 days', '-146 days', '119 days', '46 days', '-110 days',\n",
       "       '149 days', '64 days', '25 days', '135 days', '176 days',\n",
       "       '141 days', '125 days', '127 days', '114 days', '115 days',\n",
       "       '134 days', '120 days', '136 days', '116 days', '132 days',\n",
       "       '140 days', '117 days', '126 days', '138 days', '110 days',\n",
       "       '112 days', '111 days', '118 days', '137 days', '130 days',\n",
       "       '133 days', '131 days', '139 days', '162 days',\n",
       "       '115 days 04:45:45.972247', '143 days 00:44:03.788218', '20 days',\n",
       "       '123 days', '470 days', '99 days', '96 days', '65 days',\n",
       "       '241 days', '48 days', '94 days', '54 days', '169 days',\n",
       "       '108 days', '178 days', '92 days', '266 days', '-11 days',\n",
       "       '191 days', '-37 days', '215 days', '197 days', '302 days',\n",
       "       '305 days', '69 days', '-36 days', '171 days', '-24 days',\n",
       "       '185 days', '95 days', '98 days', '164 days', '61 days',\n",
       "       '-33 days', '181 days', '157 days', '59 days', '78 days',\n",
       "       '28 days', '179 days', '183 days', '184 days', '163 days',\n",
       "       '104 days', '-82 days', '107 days', '-51 days', '68 days',\n",
       "       '85 days', '218 days', '122 days', '168 days', '-7 days',\n",
       "       '101 days', '297 days', '60 days', '-80 days', '89 days',\n",
       "       '-62 days', '34 days', '57 days', '-16 days', '198 days',\n",
       "       '82 days', '70 days', '76 days', '-21 days', '194 days', '83 days',\n",
       "       '175 days', '154 days', '-108 days', '161 days', '105 days',\n",
       "       '151 days', '190 days', '150 days', '-38 days', '-149 days',\n",
       "       '187 days', '63 days', '-174 days', '67 days', '-122 days',\n",
       "       '97 days', '344 days', '-15 days', '144 days', '109 days',\n",
       "       '77 days', '56 days', '-8 days', '41 days', '-93 days', '-61 days',\n",
       "       '170 days', '84 days', '-28 days', '177 days', '-26 days',\n",
       "       '-42 days', '148 days', '-68 days', '-21:55:37.67653',\n",
       "       '-21:56:01.869293', '-22:11:36.580334', '86 days', '-29 days',\n",
       "       '100 days', '-14 days', '189 days', '-27 days', '182 days',\n",
       "       '316 days', '66 days', '-30 days', '240 days', '203 days',\n",
       "       '90 days', '200 days', '73 days', '75 days', '103 days',\n",
       "       '303 days', '146 days', '174 days', '-32 days', '-41 days',\n",
       "       '331 days', '143 days', '-81 days', '172 days', '-78 days',\n",
       "       '205 days', '124 days', '-53 days', '-152 days', '87 days',\n",
       "       '74 days', '-35 days', '-17 days', '-89 days', '153 days',\n",
       "       '-39 days', '-31 days', '-96 days', '-75 days', '155 days',\n",
       "       '188 days', '173 days', '-48 days', '277 days', '-47 days',\n",
       "       '47 days', '-74 days', '398 days', '152 days', '166 days',\n",
       "       '294 days', '-17:13:14.634924', '-46 days', '102 days',\n",
       "       '-100 days', '-77 days', '-79 days', '-67 days', '-109 days',\n",
       "       '-90 days', '158 days', '-60 days', '212 days', '-106 days',\n",
       "       '165 days', '-59 days', '-73 days', '363 days', '-87 days',\n",
       "       '262 days', '-23 days', '160 days', '213 days', '237 days',\n",
       "       '186 days', '230 days', '-43 days', '-171 days',\n",
       "       '372 days 03:01:55.787239', '5 days 02:28:12.526549', '318 days',\n",
       "       '204 days', '-138 days', '261 days', '-144 days', '167 days',\n",
       "       '-88 days', '325 days', '270 days', '-54 days', '-298 days',\n",
       "       '232 days', '210 days', '201 days', '-64 days', '-118 days',\n",
       "       '-169 days', '-84 days', '308 days', '145 days', '-72 days',\n",
       "       '349 days', '-45 days', '352 days', '-98 days', '-191 days',\n",
       "       '239 days', '-55 days', '159 days', '338 days', '147 days',\n",
       "       '326 days', '-126 days', '251 days', '-104 days', '247 days',\n",
       "       '-50 days', '-91 days', '-58 days', '-145 days', '-52 days',\n",
       "       '180 days', '233 days', '-2 days -14:33:37.23425',\n",
       "       '-2 days -14:32:45.355321', '196 days', '-295 days', '-173 days',\n",
       "       '246 days', '-114 days', '-83 days', '361 days', '337 days',\n",
       "       '-224 days', '219 days', '-227 days', '282 days', '353 days',\n",
       "       '-737917 days', '-737994 days', '-738001 days', '-738008 days',\n",
       "       '-737966 days', '-737959 days', '-738029 days', '-737938 days',\n",
       "       '-737952 days', '-737987 days', '-738022 days', '-737931 days',\n",
       "       '-738015 days', '-737924 days', '-737945 days', '-738036 days',\n",
       "       '-737980 days', '-738043 days', '-738050 days', '-738057 days',\n",
       "       '-737973 days', '-737910 days', '-65 days',\n",
       "       '211 days 09:57:56.787409'], dtype=object)"
      ]
     },
     "execution_count": 16,
     "metadata": {},
     "output_type": "execute_result"
    }
   ],
   "source": [
    "dfReservations2021['nights'].unique()"
   ]
  },
  {
   "cell_type": "markdown",
   "metadata": {
    "collapsed": false,
    "pycharm": {
     "name": "#%% md\n"
    }
   },
   "source": [
    "### Zip Code\n",
    "\n",
    "Zip code is a primary dimension for grouping users."
   ]
  },
  {
   "cell_type": "code",
   "execution_count": 18,
   "metadata": {
    "collapsed": false,
    "pycharm": {
     "name": "#%%\n"
    }
   },
   "outputs": [
    {
     "data": {
      "text/plain": [
       "park\n",
       " Evans Campground                                                   495\n",
       " Gifford Campground                                                 646\n",
       " Kamloops Island Campground                                         146\n",
       "(LAKE ALPINE)  SILVER TIP CAMPGROUND                                820\n",
       "(LAKE ALPINE) SILVER VALLEY CAMPGROUND                              550\n",
       "                                                                  ...  \n",
       "Yellowstone Non-Commercially Guided Snowmobile Access Program       796\n",
       "Yosemite National Park Ticketed Entry                            347292\n",
       "ZILPO - DANIEL BOONE NAT. FOR.                                     2756\n",
       "ZIPS PLACE CABIN                                                    166\n",
       "Zion National Park Shuttle Tickets                               200660\n",
       "Name: customerzip, Length: 3952, dtype: int64"
      ]
     },
     "execution_count": 18,
     "metadata": {},
     "output_type": "execute_result"
    }
   ],
   "source": [
    "dfReservations2021.groupby('park')['customerzip'].count()"
   ]
  },
  {
   "cell_type": "code",
   "execution_count": 19,
   "metadata": {
    "collapsed": false,
    "pycharm": {
     "name": "#%%\n"
    }
   },
   "outputs": [
    {
     "data": {
      "text/plain": [
       "array([nan, '99709', '99706', ..., '99801-9419', '99929R', '99699'],\n",
       "      dtype=object)"
      ]
     },
     "execution_count": 19,
     "metadata": {},
     "output_type": "execute_result"
    }
   ],
   "source": [
    "# explore unique zip codes\n",
    "dfReservations2021['customerzip'].unique()"
   ]
  },
  {
   "cell_type": "code",
   "execution_count": 20,
   "metadata": {
    "collapsed": false,
    "pycharm": {
     "name": "#%%\n"
    }
   },
   "outputs": [],
   "source": [
    "# drop records with no zip code\n",
    "dfReservations2021.dropna(subset=['customerzip'], inplace=True)"
   ]
  },
  {
   "cell_type": "code",
   "execution_count": 21,
   "metadata": {},
   "outputs": [],
   "source": [
    "# truncate zip to 5 digit value\n",
    "dfReservations2021['cleanzip'] = dfReservations2021.customerzip.str.extract(r'(\\d{5})')"
   ]
  },
  {
   "cell_type": "code",
   "execution_count": 22,
   "metadata": {
    "collapsed": false,
    "pycharm": {
     "name": "#%%\n"
    }
   },
   "outputs": [
    {
     "data": {
      "text/plain": [
       "1          99709\n",
       "2          99706\n",
       "3          99706\n",
       "4          99709\n",
       "5          99709\n",
       "           ...  \n",
       "8354605    85042\n",
       "8354611    43235\n",
       "8354626    85713\n",
       "8354628    74053\n",
       "8354629    74053\n",
       "Name: cleanzip, Length: 6560336, dtype: object"
      ]
     },
     "execution_count": 22,
     "metadata": {},
     "output_type": "execute_result"
    }
   ],
   "source": [
    "dfReservations2021['cleanzip']"
   ]
  },
  {
   "cell_type": "code",
   "execution_count": 23,
   "metadata": {},
   "outputs": [
    {
     "data": {
      "text/plain": [
       "41985"
      ]
     },
     "execution_count": 23,
     "metadata": {},
     "output_type": "execute_result"
    }
   ],
   "source": [
    "# how many unique zip codes?\n",
    "len(dfReservations2021['cleanzip'].unique())"
   ]
  },
  {
   "cell_type": "code",
   "execution_count": 24,
   "metadata": {},
   "outputs": [
    {
     "data": {
      "text/plain": [
       "array(['1 day', '3 days', '2 days', '00:00:00', '21 days', '29 days',\n",
       "       '30 days', '8 days', '23 days', '9 days', '-2 days', '22 days',\n",
       "       nan, '5 days', '7 days', '14 days', '12 days', '4 days', '6 days',\n",
       "       '10 days', '13 days', '11 days', '35 days', '16 days', '17 days',\n",
       "       '26 days', '58 days', '32 days', '-21:55:08.125762', '364 days',\n",
       "       '-20 days', '19 days', '-66 days', '129 days', '27 days',\n",
       "       '18 days', '-5 days', '-13 days', '-19 days', '-3 days',\n",
       "       '142 days', '-4 days', '40 days', '15 days', '106 days', '-1 days',\n",
       "       '42 days', '-12 days', '33 days', '211 days', '36 days', '31 days',\n",
       "       '-6 days', '-10 days', '-22 days', '377 days', '370 days',\n",
       "       '390 days', '386 days', '380 days', '392 days', '381 days',\n",
       "       '391 days', '375 days', '376 days', '384 days', '389 days',\n",
       "       '385 days', '378 days', '383 days', '368 days', '388 days',\n",
       "       '394 days', '365 days', '371 days', '367 days', '382 days',\n",
       "       '373 days', '374 days', '387 days', '366 days', '393 days',\n",
       "       '379 days', '372 days', '395 days', '369 days', '-44 days',\n",
       "       '-9 days', '53 days', '37 days', '71 days',\n",
       "       '357 days 07:33:59.388191', '121 days', '39 days', '-40 days',\n",
       "       '93 days', '81 days', '49 days', '80 days', '45 days', '51 days',\n",
       "       '38 days', '24 days', '-25 days', '-34 days', '52 days', '91 days',\n",
       "       '-18 days', '55 days', '-146 days', '46 days', '-110 days',\n",
       "       '43 days', '64 days', '25 days', '135 days', '176 days',\n",
       "       '141 days', '127 days', '115 days', '116 days', '117 days',\n",
       "       '138 days', '111 days', '130 days', '139 days', '134 days',\n",
       "       '128 days', '131 days', '113 days', '126 days', '119 days',\n",
       "       '120 days', '114 days', '140 days', '112 days', '132 days',\n",
       "       '110 days', '162 days', '123 days', '99 days', '96 days',\n",
       "       '241 days', '72 days', '136 days', '54 days', '169 days',\n",
       "       '62 days', '178 days', '50 days', '266 days', '-11 days',\n",
       "       '191 days', '-37 days', '215 days', '137 days', '20 days',\n",
       "       '92 days', '69 days', '-36 days', '171 days', '-24 days',\n",
       "       '185 days', '95 days', '98 days', '61 days', '-33 days',\n",
       "       '181 days', '157 days', '59 days', '78 days', '125 days',\n",
       "       '28 days', '179 days', '183 days', '184 days', '163 days',\n",
       "       '164 days', '104 days', '-82 days', '94 days', '68 days',\n",
       "       '85 days', '218 days', '122 days', '168 days', '101 days',\n",
       "       '297 days', '60 days', '79 days', '-7 days', '-80 days', '89 days',\n",
       "       '-62 days', '34 days', '57 days', '-16 days', '44 days',\n",
       "       '-21 days', '82 days', '194 days', '65 days', '175 days',\n",
       "       '154 days', '161 days', '105 days', '48 days', '151 days',\n",
       "       '190 days', '150 days', '-38 days', '-149 days', '187 days',\n",
       "       '63 days', '-174 days', '67 days', '-122 days', '97 days',\n",
       "       '344 days', '-15 days', '144 days', '109 days', '77 days',\n",
       "       '56 days', '-8 days', '41 days', '-93 days', '-61 days',\n",
       "       '170 days', '84 days', '-28 days', '177 days', '-26 days',\n",
       "       '-42 days', '-68 days', '-21:55:37.67653', '-21:56:01.869293',\n",
       "       '-22:11:36.580334', '86 days', '100 days', '156 days', '149 days',\n",
       "       '107 days', '-14 days', '-29 days', '76 days', '-27 days',\n",
       "       '182 days', '66 days', '-30 days', '240 days', '203 days',\n",
       "       '90 days', '200 days', '75 days', '303 days', '146 days',\n",
       "       '174 days', '-41 days', '133 days', '331 days', '-32 days',\n",
       "       '143 days', '-81 days', '172 days', '-78 days', '148 days',\n",
       "       '197 days', '205 days', '124 days', '-53 days', '108 days',\n",
       "       '-152 days', '87 days', '74 days', '-35 days', '-17 days',\n",
       "       '-89 days', '153 days', '-39 days', '83 days', '-31 days',\n",
       "       '73 days', '-75 days', '118 days', '155 days', '188 days',\n",
       "       '173 days', '-48 days', '277 days', '-47 days', '47 days',\n",
       "       '-74 days', '88 days', '398 days', '152 days', '166 days',\n",
       "       '103 days', '294 days', '-17:13:14.634924', '-46 days', '102 days',\n",
       "       '-100 days', '-77 days', '-79 days', '-67 days', '-109 days',\n",
       "       '-90 days', '158 days', '-60 days', '212 days', '165 days',\n",
       "       '-51 days', '-59 days', '363 days', '262 days', '-23 days',\n",
       "       '160 days', '237 days', '186 days', '230 days', '-43 days',\n",
       "       '-171 days', '372 days 03:01:55.787239', '5 days 02:28:12.526549',\n",
       "       '318 days', '204 days', '261 days', '-144 days', '167 days',\n",
       "       '-88 days', '325 days', '270 days', '-54 days', '-298 days',\n",
       "       '70 days', '232 days', '-73 days', '210 days', '201 days',\n",
       "       '-64 days', '-118 days', '-169 days', '-84 days', '308 days',\n",
       "       '145 days', '-72 days', '349 days', '-45 days', '352 days',\n",
       "       '-98 days', '-191 days', '239 days', '-55 days', '159 days',\n",
       "       '338 days', '198 days', '326 days', '-126 days', '251 days',\n",
       "       '-96 days', '-104 days', '247 days', '-50 days', '-91 days',\n",
       "       '-58 days', '-145 days', '-52 days', '180 days', '233 days',\n",
       "       '196 days', '-173 days', '246 days', '-114 days', '-83 days',\n",
       "       '361 days', '337 days', '-224 days', '-227 days', '282 days',\n",
       "       '353 days', '-737917 days', '-737994 days', '-738001 days',\n",
       "       '-738008 days', '-737966 days', '-737959 days', '-738029 days',\n",
       "       '-737938 days', '-737952 days', '-737987 days', '-738022 days',\n",
       "       '-737931 days', '-737924 days', '-737945 days', '-738036 days',\n",
       "       '-738015 days', '-737980 days', '-738043 days', '-738050 days',\n",
       "       '-738057 days', '-737973 days', '-737910 days'], dtype=object)"
      ]
     },
     "execution_count": 24,
     "metadata": {},
     "output_type": "execute_result"
    }
   ],
   "source": [
    "dfReservations2021.nights.unique()"
   ]
  },
  {
   "cell_type": "code",
   "execution_count": 27,
   "metadata": {
    "collapsed": false,
    "pycharm": {
     "name": "#%%\n"
    }
   },
   "outputs": [],
   "source": [
    "def format_nights(night_str):\n",
    "    try:\n",
    "        result = night_str.split(' ')\n",
    "        return int(result[0])\n",
    "    except:\n",
    "        return 0"
   ]
  },
  {
   "cell_type": "code",
   "execution_count": 28,
   "metadata": {
    "collapsed": false,
    "pycharm": {
     "name": "#%%\n"
    }
   },
   "outputs": [
    {
     "data": {
      "text/plain": [
       "6"
      ]
     },
     "execution_count": 28,
     "metadata": {},
     "output_type": "execute_result"
    }
   ],
   "source": [
    "format_nights('6 days')"
   ]
  },
  {
   "cell_type": "code",
   "execution_count": 29,
   "metadata": {
    "collapsed": false,
    "pycharm": {
     "name": "#%%\n"
    }
   },
   "outputs": [],
   "source": [
    "dfReservations2021['cleannights'] = dfReservations2021.apply(lambda x: format_nights(x['nights']), axis=1)"
   ]
  },
  {
   "cell_type": "markdown",
   "metadata": {
    "collapsed": false
   },
   "source": [
    "### Data Types\n",
    "\n",
    "Cast columns to correct data type"
   ]
  },
  {
   "cell_type": "code",
   "execution_count": 43,
   "metadata": {
    "collapsed": false,
    "pycharm": {
     "name": "#%%\n"
    }
   },
   "outputs": [],
   "source": [
    "dfReservations2021['startdate'] = pd.to_datetime(dfReservations2021['startdate'], errors='coerce')"
   ]
  },
  {
   "cell_type": "code",
   "execution_count": 44,
   "metadata": {
    "collapsed": false,
    "pycharm": {
     "name": "#%%\n"
    }
   },
   "outputs": [],
   "source": [
    "dfReservations2021['enddate'] = pd.to_datetime(dfReservations2021['enddate'], errors='coerce')"
   ]
  },
  {
   "cell_type": "code",
   "execution_count": 45,
   "metadata": {
    "collapsed": false,
    "pycharm": {
     "name": "#%%\n"
    }
   },
   "outputs": [],
   "source": [
    "dfReservations2021['orderdate'] = pd.to_datetime(dfReservations2021['orderdate'], errors='coerce')"
   ]
  },
  {
   "cell_type": "code",
   "execution_count": 33,
   "metadata": {
    "collapsed": false,
    "pycharm": {
     "name": "#%%\n"
    }
   },
   "outputs": [],
   "source": [
    "dfReservations2021['numberofpeople'] = pd.to_numeric(dfReservations2021['numberofpeople'], downcast='integer')"
   ]
  },
  {
   "cell_type": "code",
   "execution_count": 35,
   "metadata": {},
   "outputs": [],
   "source": [
    "dfReservations2021['cleanzip'] = pd.to_numeric(dfReservations2021['cleanzip'], downcast='integer')"
   ]
  },
  {
   "cell_type": "code",
   "execution_count": 46,
   "metadata": {},
   "outputs": [],
   "source": [
    "dfReservations2021['cleannights'] = pd.to_numeric(dfReservations2021['cleannights'], downcast='integer')"
   ]
  },
  {
   "cell_type": "code",
   "execution_count": 47,
   "metadata": {},
   "outputs": [],
   "source": [
    "dfReservations2021['participation'] = dfReservations2021['numberofpeople'] * dfReservations2021['cleannights']\n",
    "dfReservations2021['participation'] = pd.to_numeric(dfReservations2021['participation'], downcast='integer')\n",
    "# drop where row is zero or less\n",
    "indices = dfReservations2021[dfReservations2021['participation'] < 0].index\n",
    "dfReservations2021.drop(indices, inplace=True)"
   ]
  },
  {
   "cell_type": "code",
   "execution_count": 48,
   "metadata": {},
   "outputs": [],
   "source": [
    "dfReservations2021['participation'] = pd.to_numeric(dfReservations2021['participation'], downcast='integer')"
   ]
  },
  {
   "cell_type": "code",
   "execution_count": 49,
   "metadata": {
    "collapsed": false,
    "pycharm": {
     "name": "#%%\n"
    }
   },
   "outputs": [
    {
     "data": {
      "text/plain": [
       "ordernumber                  object\n",
       "agency                       object\n",
       "orgid                       float64\n",
       "parentlocationid             object\n",
       "park                         object\n",
       "sitetype                     object\n",
       "usetype                      object\n",
       "productid                    object\n",
       "inventorytype                object\n",
       "facilityid                   object\n",
       "facilityzip                 float64\n",
       "facilitystate                object\n",
       "facilitylongitude           float64\n",
       "facilitylatitude            float64\n",
       "customerzip                  object\n",
       "totalpaid                   float64\n",
       "startdate            datetime64[ns]\n",
       "enddate              datetime64[ns]\n",
       "orderdate            datetime64[ns]\n",
       "nights                       object\n",
       "numberofpeople              float64\n",
       "cleanzip                    float64\n",
       "cleannights                   int32\n",
       "participation               float64\n",
       "dtype: object"
      ]
     },
     "execution_count": 49,
     "metadata": {},
     "output_type": "execute_result"
    }
   ],
   "source": [
    "# review progress\n",
    "dfReservations2021.dtypes"
   ]
  },
  {
   "cell_type": "code",
   "execution_count": 50,
   "metadata": {
    "collapsed": false,
    "pycharm": {
     "name": "#%%\n"
    }
   },
   "outputs": [],
   "source": [
    "proposed_features = ['agency',\n",
    "                     'orgid',\n",
    "                     'parentlocationid',\n",
    "                     'park',\n",
    "                     'sitetype',\n",
    "                     'usetype',\n",
    "                     'productid',\n",
    "                     'inventorytype',\n",
    "                     'facilityid',\n",
    "                     'facilityzip',\n",
    "                     'facilitystate',\n",
    "                     'facilitylongitude',\n",
    "                     'facilitylatitude',\n",
    "                     'startdate',\n",
    "                     'enddate',\n",
    "                     'orderdate',\n",
    "                     'numberofpeople',\n",
    "                     'cleanzip',\n",
    "                     'cleannights',\n",
    "                     'participation']"
   ]
  },
  {
   "cell_type": "code",
   "execution_count": 51,
   "metadata": {
    "collapsed": false,
    "pycharm": {
     "name": "#%%\n"
    }
   },
   "outputs": [],
   "source": [
    "dfFeatures = dfReservations2021[proposed_features]"
   ]
  },
  {
   "cell_type": "code",
   "execution_count": 52,
   "metadata": {
    "collapsed": false,
    "pycharm": {
     "name": "#%%\n"
    }
   },
   "outputs": [
    {
     "data": {
      "text/html": [
       "<div>\n",
       "<style scoped>\n",
       "    .dataframe tbody tr th:only-of-type {\n",
       "        vertical-align: middle;\n",
       "    }\n",
       "\n",
       "    .dataframe tbody tr th {\n",
       "        vertical-align: top;\n",
       "    }\n",
       "\n",
       "    .dataframe thead th {\n",
       "        text-align: right;\n",
       "    }\n",
       "</style>\n",
       "<table border=\"1\" class=\"dataframe\">\n",
       "  <thead>\n",
       "    <tr style=\"text-align: right;\">\n",
       "      <th></th>\n",
       "      <th>agency</th>\n",
       "      <th>orgid</th>\n",
       "      <th>parentlocationid</th>\n",
       "      <th>park</th>\n",
       "      <th>sitetype</th>\n",
       "      <th>usetype</th>\n",
       "      <th>productid</th>\n",
       "      <th>inventorytype</th>\n",
       "      <th>facilityid</th>\n",
       "      <th>facilityzip</th>\n",
       "      <th>facilitystate</th>\n",
       "      <th>facilitylongitude</th>\n",
       "      <th>facilitylatitude</th>\n",
       "      <th>startdate</th>\n",
       "      <th>enddate</th>\n",
       "      <th>orderdate</th>\n",
       "      <th>numberofpeople</th>\n",
       "      <th>cleanzip</th>\n",
       "      <th>cleannights</th>\n",
       "      <th>participation</th>\n",
       "    </tr>\n",
       "  </thead>\n",
       "  <tbody>\n",
       "    <tr>\n",
       "      <th>1</th>\n",
       "      <td>BLM</td>\n",
       "      <td>126.0</td>\n",
       "      <td>72195</td>\n",
       "      <td>White Mountains National Recreation Area - Ala...</td>\n",
       "      <td>CABIN NONELECTRIC</td>\n",
       "      <td>Overnight</td>\n",
       "      <td>639772</td>\n",
       "      <td>CAMPING</td>\n",
       "      <td>252494</td>\n",
       "      <td>99730.0</td>\n",
       "      <td>Alaska</td>\n",
       "      <td>-147.243361</td>\n",
       "      <td>65.427497</td>\n",
       "      <td>2020-10-23</td>\n",
       "      <td>2020-10-24</td>\n",
       "      <td>2020-09-28 23:22:18.538</td>\n",
       "      <td>2.0</td>\n",
       "      <td>99709.0</td>\n",
       "      <td>1</td>\n",
       "      <td>2.0</td>\n",
       "    </tr>\n",
       "    <tr>\n",
       "      <th>2</th>\n",
       "      <td>BLM</td>\n",
       "      <td>126.0</td>\n",
       "      <td>72195</td>\n",
       "      <td>White Mountains National Recreation Area - Ala...</td>\n",
       "      <td>CABIN NONELECTRIC</td>\n",
       "      <td>Overnight</td>\n",
       "      <td>639772</td>\n",
       "      <td>CAMPING</td>\n",
       "      <td>252494</td>\n",
       "      <td>99730.0</td>\n",
       "      <td>Alaska</td>\n",
       "      <td>-147.243361</td>\n",
       "      <td>65.427497</td>\n",
       "      <td>2020-10-02</td>\n",
       "      <td>2020-10-03</td>\n",
       "      <td>2020-09-19 01:03:11.146</td>\n",
       "      <td>0.0</td>\n",
       "      <td>99706.0</td>\n",
       "      <td>1</td>\n",
       "      <td>0.0</td>\n",
       "    </tr>\n",
       "    <tr>\n",
       "      <th>3</th>\n",
       "      <td>BLM</td>\n",
       "      <td>126.0</td>\n",
       "      <td>72195</td>\n",
       "      <td>White Mountains National Recreation Area - Ala...</td>\n",
       "      <td>CABIN NONELECTRIC</td>\n",
       "      <td>Overnight</td>\n",
       "      <td>639772</td>\n",
       "      <td>CAMPING</td>\n",
       "      <td>252494</td>\n",
       "      <td>99730.0</td>\n",
       "      <td>Alaska</td>\n",
       "      <td>-147.243361</td>\n",
       "      <td>65.427497</td>\n",
       "      <td>2020-10-03</td>\n",
       "      <td>2020-10-04</td>\n",
       "      <td>2020-09-19 01:03:11.146</td>\n",
       "      <td>2.0</td>\n",
       "      <td>99706.0</td>\n",
       "      <td>1</td>\n",
       "      <td>2.0</td>\n",
       "    </tr>\n",
       "    <tr>\n",
       "      <th>4</th>\n",
       "      <td>BLM</td>\n",
       "      <td>126.0</td>\n",
       "      <td>72195</td>\n",
       "      <td>White Mountains National Recreation Area - Ala...</td>\n",
       "      <td>CABIN NONELECTRIC</td>\n",
       "      <td>Overnight</td>\n",
       "      <td>639772</td>\n",
       "      <td>CAMPING</td>\n",
       "      <td>252494</td>\n",
       "      <td>99730.0</td>\n",
       "      <td>Alaska</td>\n",
       "      <td>-147.243361</td>\n",
       "      <td>65.427497</td>\n",
       "      <td>2020-10-10</td>\n",
       "      <td>2020-10-11</td>\n",
       "      <td>2020-09-16 19:57:02.020</td>\n",
       "      <td>0.0</td>\n",
       "      <td>99709.0</td>\n",
       "      <td>1</td>\n",
       "      <td>0.0</td>\n",
       "    </tr>\n",
       "    <tr>\n",
       "      <th>5</th>\n",
       "      <td>BLM</td>\n",
       "      <td>126.0</td>\n",
       "      <td>72195</td>\n",
       "      <td>White Mountains National Recreation Area - Ala...</td>\n",
       "      <td>CABIN NONELECTRIC</td>\n",
       "      <td>Overnight</td>\n",
       "      <td>639772</td>\n",
       "      <td>CAMPING</td>\n",
       "      <td>252494</td>\n",
       "      <td>99730.0</td>\n",
       "      <td>Alaska</td>\n",
       "      <td>-147.243361</td>\n",
       "      <td>65.427497</td>\n",
       "      <td>2020-10-09</td>\n",
       "      <td>2020-10-10</td>\n",
       "      <td>2020-09-16 19:48:32.168</td>\n",
       "      <td>1.0</td>\n",
       "      <td>99709.0</td>\n",
       "      <td>1</td>\n",
       "      <td>1.0</td>\n",
       "    </tr>\n",
       "  </tbody>\n",
       "</table>\n",
       "</div>"
      ],
      "text/plain": [
       "  agency  orgid parentlocationid  \\\n",
       "1    BLM  126.0            72195   \n",
       "2    BLM  126.0            72195   \n",
       "3    BLM  126.0            72195   \n",
       "4    BLM  126.0            72195   \n",
       "5    BLM  126.0            72195   \n",
       "\n",
       "                                                park           sitetype  \\\n",
       "1  White Mountains National Recreation Area - Ala...  CABIN NONELECTRIC   \n",
       "2  White Mountains National Recreation Area - Ala...  CABIN NONELECTRIC   \n",
       "3  White Mountains National Recreation Area - Ala...  CABIN NONELECTRIC   \n",
       "4  White Mountains National Recreation Area - Ala...  CABIN NONELECTRIC   \n",
       "5  White Mountains National Recreation Area - Ala...  CABIN NONELECTRIC   \n",
       "\n",
       "     usetype productid inventorytype facilityid  facilityzip facilitystate  \\\n",
       "1  Overnight    639772       CAMPING     252494      99730.0        Alaska   \n",
       "2  Overnight    639772       CAMPING     252494      99730.0        Alaska   \n",
       "3  Overnight    639772       CAMPING     252494      99730.0        Alaska   \n",
       "4  Overnight    639772       CAMPING     252494      99730.0        Alaska   \n",
       "5  Overnight    639772       CAMPING     252494      99730.0        Alaska   \n",
       "\n",
       "   facilitylongitude  facilitylatitude  startdate    enddate  \\\n",
       "1        -147.243361         65.427497 2020-10-23 2020-10-24   \n",
       "2        -147.243361         65.427497 2020-10-02 2020-10-03   \n",
       "3        -147.243361         65.427497 2020-10-03 2020-10-04   \n",
       "4        -147.243361         65.427497 2020-10-10 2020-10-11   \n",
       "5        -147.243361         65.427497 2020-10-09 2020-10-10   \n",
       "\n",
       "                orderdate  numberofpeople  cleanzip  cleannights  \\\n",
       "1 2020-09-28 23:22:18.538             2.0   99709.0            1   \n",
       "2 2020-09-19 01:03:11.146             0.0   99706.0            1   \n",
       "3 2020-09-19 01:03:11.146             2.0   99706.0            1   \n",
       "4 2020-09-16 19:57:02.020             0.0   99709.0            1   \n",
       "5 2020-09-16 19:48:32.168             1.0   99709.0            1   \n",
       "\n",
       "   participation  \n",
       "1            2.0  \n",
       "2            0.0  \n",
       "3            2.0  \n",
       "4            0.0  \n",
       "5            1.0  "
      ]
     },
     "execution_count": 52,
     "metadata": {},
     "output_type": "execute_result"
    }
   ],
   "source": [
    "dfFeatures.head()"
   ]
  },
  {
   "cell_type": "code",
   "execution_count": 53,
   "metadata": {
    "collapsed": false,
    "pycharm": {
     "name": "#%%\n"
    }
   },
   "outputs": [
    {
     "data": {
      "text/plain": [
       "<AxesSubplot:>"
      ]
     },
     "execution_count": 53,
     "metadata": {},
     "output_type": "execute_result"
    },
    {
     "data": {
      "image/png": "[encoded data removed]",
      "text/plain": [
       "<Figure size 432x288 with 1 Axes>"
      ]
     },
     "metadata": {
      "needs_background": "light"
     },
     "output_type": "display_data"
    }
   ],
   "source": [
    "# typical group size\n",
    "dfFeatures.numberofpeople.plot.box()"
   ]
  },
  {
   "cell_type": "code",
   "execution_count": 54,
   "metadata": {
    "collapsed": false,
    "pycharm": {
     "name": "#%%\n"
    }
   },
   "outputs": [
    {
     "data": {
      "text/plain": [
       "<AxesSubplot:>"
      ]
     },
     "execution_count": 54,
     "metadata": {},
     "output_type": "execute_result"
    },
    {
     "data": {
      "image/png": "[encoded data removed]",
      "text/plain": [
       "<Figure size 432x288 with 1 Axes>"
      ]
     },
     "metadata": {
      "needs_background": "light"
     },
     "output_type": "display_data"
    }
   ],
   "source": [
    "# typical nights\n",
    "dfFeatures.cleannights.plot.box()"
   ]
  },
  {
   "cell_type": "code",
   "execution_count": 55,
   "metadata": {
    "collapsed": false,
    "pycharm": {
     "name": "#%%\n"
    }
   },
   "outputs": [
    {
     "data": {
      "text/plain": [
       "<AxesSubplot:xlabel='numberofpeople', ylabel='cleannights'>"
      ]
     },
     "execution_count": 55,
     "metadata": {},
     "output_type": "execute_result"
    },
    {
     "data": {
      "image/png": "[encoded data removed]",
      "text/plain": [
       "<Figure size 432x288 with 1 Axes>"
      ]
     },
     "metadata": {
      "needs_background": "light"
     },
     "output_type": "display_data"
    }
   ],
   "source": [
    "# plot people vs nights\n",
    "dfFeatures.plot.scatter(x='numberofpeople', y='cleannights')"
   ]
  },
  {
   "cell_type": "markdown",
   "metadata": {
    "collapsed": false,
    "pycharm": {
     "name": "#%% md\n"
    }
   },
   "source": [
    "## Conclusion\n",
    "\n",
    "The nights and number of people derived from the dataset are unreliable and will require additional fixing.\n",
    "\n",
    "Date time values have some default values that are problematic.\n",
    "\n",
    "The order number appears more than once, further study is necessary to de-duplicate and take the final entry, ie, XXX-2 instead of XXX-1."
   ]
  },
  {
   "cell_type": "code",
   "execution_count": 57,
   "metadata": {},
   "outputs": [],
   "source": [
    "# use proposed features and export camping reservations\n",
    "dfFeatures[dfFeatures['inventorytype'] == 'CAMPING'].to_csv('REC.csv', index=False)"
   ]
  },
  {
   "cell_type": "code",
   "execution_count": 56,
   "metadata": {},
   "outputs": [],
   "source": [
    "# export camping reservations for ALS\n",
    "dfALS = dfFeatures[dfFeatures['inventorytype'] == 'CAMPING']\n",
    "dfALS[['productid', 'cleanzip', 'participation']].to_csv('REC_ALS.csv', index=False)"
   ]
  },
  {
   "cell_type": "code",
   "execution_count": null,
   "metadata": {},
   "outputs": [],
   "source": [
    "# export camping reservations for ALS\n",
    "dfALS = dfFeatures[dfFeatures['inventorytype'] == 'CAMPING']\n",
    "dfALS[['facilityid', 'cleanzip', 'participation']].to_csv('REC_ALS_Facility.csv', index=False)"
   ]
  },
  {
   "cell_type": "markdown",
   "metadata": {},
   "source": [
    "## Conclusion\n",
    "\n",
    "The nights and number of people derived from the dataset are unreliable and will require additional fixing.\n",
    "\n",
    "Date time values have some default values that are problematic."
   ]
  }
 ],
 "metadata": {
  "kernelspec": {
   "display_name": "Python 3",
   "language": "python",
   "name": "python3"
  },
  "language_info": {
   "codemirror_mode": {
    "name": "ipython",
    "version": 3
   },
   "file_extension": ".py",
   "mimetype": "text/x-python",
   "name": "python",
   "nbconvert_exporter": "python",
   "pygments_lexer": "ipython3",
   "version": "3.9.7"
  }
 },
 "nbformat": 4,
 "nbformat_minor": 1
}
