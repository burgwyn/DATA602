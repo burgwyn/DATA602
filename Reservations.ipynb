{
 "cells": [
  {
   "cell_type": "markdown",
   "metadata": {
    "pycharm": {
     "name": "#%% md\n"
    }
   },
   "source": [
    "# Recreation.gov Reservations - 2021\n",
    "Reservation data for Recreation.gov is published in [Recreational Information Database](ridb.recreation.gov)\n",
    "\n",
    "The 2021 dataset is available [here](https://ridb.recreation.gov/downloads/reservations2021.zip)"
   ]
  },
  {
   "cell_type": "code",
   "execution_count": 27,
   "metadata": {
    "pycharm": {
     "name": "#%%\n"
    }
   },
   "outputs": [],
   "source": [
    "import pandas as pd"
   ]
  },
  {
   "cell_type": "code",
   "execution_count": 28,
   "metadata": {
    "pycharm": {
     "name": "#%%\n"
    }
   },
   "outputs": [
    {
     "ename": "KeyboardInterrupt",
     "evalue": "",
     "output_type": "error",
     "traceback": [
      "\u001b[1;31m---------------------------------------------------------------------------\u001b[0m",
      "\u001b[1;31mKeyboardInterrupt\u001b[0m                         Traceback (most recent call last)",
      "\u001b[1;32m<ipython-input-28-6604ad5ddb97>\u001b[0m in \u001b[0;36m<module>\u001b[1;34m\u001b[0m\n\u001b[1;32m----> 1\u001b[1;33m \u001b[0mdfReservations2021\u001b[0m \u001b[1;33m=\u001b[0m \u001b[0mpd\u001b[0m\u001b[1;33m.\u001b[0m\u001b[0mread_csv\u001b[0m\u001b[1;33m(\u001b[0m\u001b[1;34m'./FY21 Historical Reservations Full.csv'\u001b[0m\u001b[1;33m)\u001b[0m\u001b[1;33m\u001b[0m\u001b[1;33m\u001b[0m\u001b[0m\n\u001b[0m",
      "\u001b[1;32mc:\\Users\\nburg\\anaconda3\\lib\\site-packages\\pandas\\io\\parsers.py\u001b[0m in \u001b[0;36mparser_f\u001b[1;34m(filepath_or_buffer, sep, delimiter, header, names, index_col, usecols, squeeze, prefix, mangle_dupe_cols, dtype, engine, converters, true_values, false_values, skipinitialspace, skiprows, skipfooter, nrows, na_values, keep_default_na, na_filter, verbose, skip_blank_lines, parse_dates, infer_datetime_format, keep_date_col, date_parser, dayfirst, cache_dates, iterator, chunksize, compression, thousands, decimal, lineterminator, quotechar, quoting, doublequote, escapechar, comment, encoding, dialect, error_bad_lines, warn_bad_lines, delim_whitespace, low_memory, memory_map, float_precision)\u001b[0m\n\u001b[0;32m    674\u001b[0m         )\n\u001b[0;32m    675\u001b[0m \u001b[1;33m\u001b[0m\u001b[0m\n\u001b[1;32m--> 676\u001b[1;33m         \u001b[1;32mreturn\u001b[0m \u001b[0m_read\u001b[0m\u001b[1;33m(\u001b[0m\u001b[0mfilepath_or_buffer\u001b[0m\u001b[1;33m,\u001b[0m \u001b[0mkwds\u001b[0m\u001b[1;33m)\u001b[0m\u001b[1;33m\u001b[0m\u001b[1;33m\u001b[0m\u001b[0m\n\u001b[0m\u001b[0;32m    677\u001b[0m \u001b[1;33m\u001b[0m\u001b[0m\n\u001b[0;32m    678\u001b[0m     \u001b[0mparser_f\u001b[0m\u001b[1;33m.\u001b[0m\u001b[0m__name__\u001b[0m \u001b[1;33m=\u001b[0m \u001b[0mname\u001b[0m\u001b[1;33m\u001b[0m\u001b[1;33m\u001b[0m\u001b[0m\n",
      "\u001b[1;32mc:\\Users\\nburg\\anaconda3\\lib\\site-packages\\pandas\\io\\parsers.py\u001b[0m in \u001b[0;36m_read\u001b[1;34m(filepath_or_buffer, kwds)\u001b[0m\n\u001b[0;32m    452\u001b[0m \u001b[1;33m\u001b[0m\u001b[0m\n\u001b[0;32m    453\u001b[0m     \u001b[1;32mtry\u001b[0m\u001b[1;33m:\u001b[0m\u001b[1;33m\u001b[0m\u001b[1;33m\u001b[0m\u001b[0m\n\u001b[1;32m--> 454\u001b[1;33m         \u001b[0mdata\u001b[0m \u001b[1;33m=\u001b[0m \u001b[0mparser\u001b[0m\u001b[1;33m.\u001b[0m\u001b[0mread\u001b[0m\u001b[1;33m(\u001b[0m\u001b[0mnrows\u001b[0m\u001b[1;33m)\u001b[0m\u001b[1;33m\u001b[0m\u001b[1;33m\u001b[0m\u001b[0m\n\u001b[0m\u001b[0;32m    455\u001b[0m     \u001b[1;32mfinally\u001b[0m\u001b[1;33m:\u001b[0m\u001b[1;33m\u001b[0m\u001b[1;33m\u001b[0m\u001b[0m\n\u001b[0;32m    456\u001b[0m         \u001b[0mparser\u001b[0m\u001b[1;33m.\u001b[0m\u001b[0mclose\u001b[0m\u001b[1;33m(\u001b[0m\u001b[1;33m)\u001b[0m\u001b[1;33m\u001b[0m\u001b[1;33m\u001b[0m\u001b[0m\n",
      "\u001b[1;32mc:\\Users\\nburg\\anaconda3\\lib\\site-packages\\pandas\\io\\parsers.py\u001b[0m in \u001b[0;36mread\u001b[1;34m(self, nrows)\u001b[0m\n\u001b[0;32m   1131\u001b[0m     \u001b[1;32mdef\u001b[0m \u001b[0mread\u001b[0m\u001b[1;33m(\u001b[0m\u001b[0mself\u001b[0m\u001b[1;33m,\u001b[0m \u001b[0mnrows\u001b[0m\u001b[1;33m=\u001b[0m\u001b[1;32mNone\u001b[0m\u001b[1;33m)\u001b[0m\u001b[1;33m:\u001b[0m\u001b[1;33m\u001b[0m\u001b[1;33m\u001b[0m\u001b[0m\n\u001b[0;32m   1132\u001b[0m         \u001b[0mnrows\u001b[0m \u001b[1;33m=\u001b[0m \u001b[0m_validate_integer\u001b[0m\u001b[1;33m(\u001b[0m\u001b[1;34m\"nrows\"\u001b[0m\u001b[1;33m,\u001b[0m \u001b[0mnrows\u001b[0m\u001b[1;33m)\u001b[0m\u001b[1;33m\u001b[0m\u001b[1;33m\u001b[0m\u001b[0m\n\u001b[1;32m-> 1133\u001b[1;33m         \u001b[0mret\u001b[0m \u001b[1;33m=\u001b[0m \u001b[0mself\u001b[0m\u001b[1;33m.\u001b[0m\u001b[0m_engine\u001b[0m\u001b[1;33m.\u001b[0m\u001b[0mread\u001b[0m\u001b[1;33m(\u001b[0m\u001b[0mnrows\u001b[0m\u001b[1;33m)\u001b[0m\u001b[1;33m\u001b[0m\u001b[1;33m\u001b[0m\u001b[0m\n\u001b[0m\u001b[0;32m   1134\u001b[0m \u001b[1;33m\u001b[0m\u001b[0m\n\u001b[0;32m   1135\u001b[0m         \u001b[1;31m# May alter columns / col_dict\u001b[0m\u001b[1;33m\u001b[0m\u001b[1;33m\u001b[0m\u001b[1;33m\u001b[0m\u001b[0m\n",
      "\u001b[1;32mc:\\Users\\nburg\\anaconda3\\lib\\site-packages\\pandas\\io\\parsers.py\u001b[0m in \u001b[0;36mread\u001b[1;34m(self, nrows)\u001b[0m\n\u001b[0;32m   2035\u001b[0m     \u001b[1;32mdef\u001b[0m \u001b[0mread\u001b[0m\u001b[1;33m(\u001b[0m\u001b[0mself\u001b[0m\u001b[1;33m,\u001b[0m \u001b[0mnrows\u001b[0m\u001b[1;33m=\u001b[0m\u001b[1;32mNone\u001b[0m\u001b[1;33m)\u001b[0m\u001b[1;33m:\u001b[0m\u001b[1;33m\u001b[0m\u001b[1;33m\u001b[0m\u001b[0m\n\u001b[0;32m   2036\u001b[0m         \u001b[1;32mtry\u001b[0m\u001b[1;33m:\u001b[0m\u001b[1;33m\u001b[0m\u001b[1;33m\u001b[0m\u001b[0m\n\u001b[1;32m-> 2037\u001b[1;33m             \u001b[0mdata\u001b[0m \u001b[1;33m=\u001b[0m \u001b[0mself\u001b[0m\u001b[1;33m.\u001b[0m\u001b[0m_reader\u001b[0m\u001b[1;33m.\u001b[0m\u001b[0mread\u001b[0m\u001b[1;33m(\u001b[0m\u001b[0mnrows\u001b[0m\u001b[1;33m)\u001b[0m\u001b[1;33m\u001b[0m\u001b[1;33m\u001b[0m\u001b[0m\n\u001b[0m\u001b[0;32m   2038\u001b[0m         \u001b[1;32mexcept\u001b[0m \u001b[0mStopIteration\u001b[0m\u001b[1;33m:\u001b[0m\u001b[1;33m\u001b[0m\u001b[1;33m\u001b[0m\u001b[0m\n\u001b[0;32m   2039\u001b[0m             \u001b[1;32mif\u001b[0m \u001b[0mself\u001b[0m\u001b[1;33m.\u001b[0m\u001b[0m_first_chunk\u001b[0m\u001b[1;33m:\u001b[0m\u001b[1;33m\u001b[0m\u001b[1;33m\u001b[0m\u001b[0m\n",
      "\u001b[1;32mpandas\\_libs\\parsers.pyx\u001b[0m in \u001b[0;36mpandas._libs.parsers.TextReader.read\u001b[1;34m()\u001b[0m\n",
      "\u001b[1;32mpandas\\_libs\\parsers.pyx\u001b[0m in \u001b[0;36mpandas._libs.parsers.TextReader._read_low_memory\u001b[1;34m()\u001b[0m\n",
      "\u001b[1;32mpandas\\_libs\\parsers.pyx\u001b[0m in \u001b[0;36mpandas._libs.parsers.TextReader._read_rows\u001b[1;34m()\u001b[0m\n",
      "\u001b[1;32mpandas\\_libs\\parsers.pyx\u001b[0m in \u001b[0;36mpandas._libs.parsers.TextReader._convert_column_data\u001b[1;34m()\u001b[0m\n",
      "\u001b[1;32mpandas\\_libs\\parsers.pyx\u001b[0m in \u001b[0;36mpandas._libs.parsers.TextReader._convert_tokens\u001b[1;34m()\u001b[0m\n",
      "\u001b[1;32mpandas\\_libs\\parsers.pyx\u001b[0m in \u001b[0;36mpandas._libs.parsers.TextReader._convert_with_dtype\u001b[1;34m()\u001b[0m\n",
      "\u001b[1;32mc:\\Users\\nburg\\anaconda3\\lib\\site-packages\\pandas\\core\\dtypes\\common.py\u001b[0m in \u001b[0;36mis_categorical_dtype\u001b[1;34m(arr_or_dtype)\u001b[0m\n\u001b[0;32m    540\u001b[0m \u001b[1;33m\u001b[0m\u001b[0m\n\u001b[0;32m    541\u001b[0m \u001b[1;33m\u001b[0m\u001b[0m\n\u001b[1;32m--> 542\u001b[1;33m \u001b[1;32mdef\u001b[0m \u001b[0mis_categorical_dtype\u001b[0m\u001b[1;33m(\u001b[0m\u001b[0marr_or_dtype\u001b[0m\u001b[1;33m)\u001b[0m \u001b[1;33m->\u001b[0m \u001b[0mbool\u001b[0m\u001b[1;33m:\u001b[0m\u001b[1;33m\u001b[0m\u001b[1;33m\u001b[0m\u001b[0m\n\u001b[0m\u001b[0;32m    543\u001b[0m     \"\"\"\n\u001b[0;32m    544\u001b[0m     \u001b[0mCheck\u001b[0m \u001b[0mwhether\u001b[0m \u001b[0man\u001b[0m \u001b[0marray\u001b[0m\u001b[1;33m-\u001b[0m\u001b[0mlike\u001b[0m \u001b[1;32mor\u001b[0m \u001b[0mdtype\u001b[0m \u001b[1;32mis\u001b[0m \u001b[0mof\u001b[0m \u001b[0mthe\u001b[0m \u001b[0mCategorical\u001b[0m \u001b[0mdtype\u001b[0m\u001b[1;33m.\u001b[0m\u001b[1;33m\u001b[0m\u001b[1;33m\u001b[0m\u001b[0m\n",
      "\u001b[1;31mKeyboardInterrupt\u001b[0m: "
     ]
    }
   ],
   "source": [
    "dfReservations2021 = pd.read_csv('./FY21 Historical Reservations Full.csv')"
   ]
  },
  {
   "cell_type": "code",
   "execution_count": null,
   "metadata": {
    "pycharm": {
     "name": "#%%\n"
    }
   },
   "outputs": [
    {
     "data": {
      "text/plain": [
       "(8354633, 35)"
      ]
     },
     "execution_count": 4,
     "metadata": {},
     "output_type": "execute_result"
    }
   ],
   "source": [
    "dfReservations2021.shape"
   ]
  },
  {
   "cell_type": "code",
   "execution_count": null,
   "metadata": {
    "pycharm": {
     "name": "#%%\n"
    }
   },
   "outputs": [
    {
     "data": {
      "text/plain": [
       "<bound method DataFrame.info of                       historicalreservationid   ordernumber agency  orgid  \\\n",
       "0        edd9085a-a89f-4787-b9ec-e0794e5ac1b4  0201638440-1    BLM  126.0   \n",
       "1        1d1d4d6a-3d57-47d0-9212-d9a4411555c0  0202157822-1    BLM  126.0   \n",
       "2        bca72357-5824-4484-9eac-a824f5c00622  0208506393-1    BLM  126.0   \n",
       "3        cbf1ce58-fb2a-4605-9474-cf27f1ce4052  0208506393-2    BLM  126.0   \n",
       "4        b3e1899a-aa31-4948-8d47-29af5f6ea85f  0217769313-1    BLM  126.0   \n",
       "...                                       ...           ...    ...    ...   \n",
       "8354628  39fb8f7c-95ad-4020-a39e-d7aa954f8266  0397783574-1    NaN  131.0   \n",
       "8354629  4cf91c2f-2a08-4c67-a041-bc16aa11a822  0397783574-2    NaN  131.0   \n",
       "8354630  62a36ac8-b7db-4cda-ab68-71509d70afd7  0398026423-1    NaN  131.0   \n",
       "8354631  05bea9aa-aa31-46d5-9425-e10d19a17766  0398781775-1    NaN  131.0   \n",
       "8354632  3792e279-28b5-4fe5-bb29-6dc3545d841c  0399064881-1    NaN  131.0   \n",
       "\n",
       "                                 codehierarchy regioncode regiondescription  \\\n",
       "0                  |1|70901|72193|72194|146090         AK            Alaska   \n",
       "1                  |1|70901|72193|72194|146090         AK            Alaska   \n",
       "2                  |1|70901|72193|72194|146090         AK            Alaska   \n",
       "3                  |1|70901|72193|72194|146090         AK            Alaska   \n",
       "4                  |1|70901|72193|72194|146090         AK            Alaska   \n",
       "...                                        ...        ...               ...   \n",
       "8354628  |29364832-c4a0-11eb-9610-ca5a163054ad        NaN               NaN   \n",
       "8354629  |29364832-c4a0-11eb-9610-ca5a163054ad        NaN               NaN   \n",
       "8354630  |29364832-c4a0-11eb-9610-ca5a163054ad        NaN               NaN   \n",
       "8354631  |29364832-c4a0-11eb-9610-ca5a163054ad        NaN               NaN   \n",
       "8354632  |29364832-c4a0-11eb-9610-ca5a163054ad        NaN               NaN   \n",
       "\n",
       "        parentlocationid                            parentlocation  \\\n",
       "0                  72195  White Mountains National Recreation Area   \n",
       "1                  72195  White Mountains National Recreation Area   \n",
       "2                  72195  White Mountains National Recreation Area   \n",
       "3                  72195  White Mountains National Recreation Area   \n",
       "4                  72195  White Mountains National Recreation Area   \n",
       "...                  ...                                       ...   \n",
       "8354628      2.00003e+07                      Gila National Forest   \n",
       "8354629      2.00003e+07                      Gila National Forest   \n",
       "8354630      2.00003e+07                      Gila National Forest   \n",
       "8354631      2.00003e+07                      Gila National Forest   \n",
       "8354632      2.00003e+07                      Gila National Forest   \n",
       "\n",
       "         legacyfacilityid  ... totalbeforetax discount totalpaid  \\\n",
       "0                146090.0  ...           58.0      0.0      58.0   \n",
       "1                146090.0  ...           33.0      0.0      33.0   \n",
       "2                146090.0  ...           33.0      0.0      33.0   \n",
       "3                146090.0  ...           25.0      0.0      25.0   \n",
       "4                146090.0  ...           18.0      0.0      18.0   \n",
       "...                   ...  ...            ...      ...       ...   \n",
       "8354628               NaN  ...            3.0      0.0       3.0   \n",
       "8354629               NaN  ...            3.0      0.0       3.0   \n",
       "8354630               NaN  ...            3.0      0.0       3.0   \n",
       "8354631               NaN  ...            3.0      0.0       3.0   \n",
       "8354632               NaN  ...            3.0      0.0       3.0   \n",
       "\n",
       "                       startdate                  enddate  \\\n",
       "0        2020-10-08 00:00:00.000  2020-10-10 00:00:00.000   \n",
       "1        2020-10-23 00:00:00.000  2020-10-24 00:00:00.000   \n",
       "2        2020-10-02 00:00:00.000  2020-10-03 00:00:00.000   \n",
       "3        2020-10-03 00:00:00.000  2020-10-04 00:00:00.000   \n",
       "4        2020-10-10 00:00:00.000  2020-10-11 00:00:00.000   \n",
       "...                          ...                      ...   \n",
       "8354628  2021-08-03 00:00:00.000  2021-08-03 00:00:00.000   \n",
       "8354629  2021-08-03 00:00:00.000  2021-08-03 00:00:00.000   \n",
       "8354630  2021-09-30 00:00:00.000  2021-09-30 00:00:00.000   \n",
       "8354631  2021-08-21 00:00:00.000  2021-08-21 00:00:00.000   \n",
       "8354632  2021-08-30 00:00:00.000  2021-08-30 00:00:00.000   \n",
       "\n",
       "                       orderdate    nights numberofpeople  \\\n",
       "0        2020-09-10 09:16:58.400    2 days            1.0   \n",
       "1        2020-09-28 23:22:18.538     1 day            2.0   \n",
       "2        2020-09-19 01:03:11.146     1 day            0.0   \n",
       "3        2020-09-19 01:03:11.146     1 day            2.0   \n",
       "4        2020-09-16 19:57:02.020     1 day            0.0   \n",
       "...                          ...       ...            ...   \n",
       "8354628  2021-07-08 16:42:30.532  00:00:00            NaN   \n",
       "8354629  2021-07-08 16:42:30.532  00:00:00            NaN   \n",
       "8354630  2021-09-30 22:20:38.779  00:00:00            NaN   \n",
       "8354631  2021-08-21 19:52:40.255  00:00:00            NaN   \n",
       "8354632  2021-08-30 18:08:26.562  00:00:00            NaN   \n",
       "\n",
       "         equipmentdescription  equipmentlength  \n",
       "0                         NaN              0.0  \n",
       "1                         NaN              0.0  \n",
       "2                         NaN              0.0  \n",
       "3                         NaN              0.0  \n",
       "4                         NaN              0.0  \n",
       "...                       ...              ...  \n",
       "8354628                   NaN              NaN  \n",
       "8354629                   NaN              NaN  \n",
       "8354630                   NaN              NaN  \n",
       "8354631                   NaN              NaN  \n",
       "8354632                   NaN              NaN  \n",
       "\n",
       "[8354633 rows x 35 columns]>"
      ]
     },
     "execution_count": 5,
     "metadata": {},
     "output_type": "execute_result"
    }
   ],
   "source": [
    "dfReservations2021.info"
   ]
  },
  {
   "cell_type": "code",
   "execution_count": null,
   "metadata": {
    "pycharm": {
     "name": "#%%\n"
    }
   },
   "outputs": [
    {
     "data": {
      "text/plain": [
       "historicalreservationid     object\n",
       "ordernumber                 object\n",
       "agency                      object\n",
       "orgid                      float64\n",
       "codehierarchy               object\n",
       "regioncode                  object\n",
       "regiondescription           object\n",
       "parentlocationid            object\n",
       "parentlocation              object\n",
       "legacyfacilityid           float64\n",
       "park                        object\n",
       "sitetype                    object\n",
       "usetype                     object\n",
       "productid                   object\n",
       "inventorytype               object\n",
       "facilityid                  object\n",
       "facilityzip                float64\n",
       "facilitystate               object\n",
       "facilitylongitude          float64\n",
       "facilitylatitude           float64\n",
       "customerzip                 object\n",
       "tax                        float64\n",
       "usefee                     float64\n",
       "tranfee                    float64\n",
       "attrfee                    float64\n",
       "totalbeforetax             float64\n",
       "discount                   float64\n",
       "totalpaid                  float64\n",
       "startdate                   object\n",
       "enddate                     object\n",
       "orderdate                   object\n",
       "nights                      object\n",
       "numberofpeople             float64\n",
       "equipmentdescription        object\n",
       "equipmentlength            float64\n",
       "dtype: object"
      ]
     },
     "execution_count": 6,
     "metadata": {},
     "output_type": "execute_result"
    }
   ],
   "source": [
    "dfReservations2021.dtypes"
   ]
  },
  {
   "cell_type": "code",
   "execution_count": null,
   "metadata": {
    "pycharm": {
     "name": "#%%\n"
    }
   },
   "outputs": [
    {
     "data": {
      "text/html": [
       "<div>\n",
       "<style scoped>\n",
       "    .dataframe tbody tr th:only-of-type {\n",
       "        vertical-align: middle;\n",
       "    }\n",
       "\n",
       "    .dataframe tbody tr th {\n",
       "        vertical-align: top;\n",
       "    }\n",
       "\n",
       "    .dataframe thead th {\n",
       "        text-align: right;\n",
       "    }\n",
       "</style>\n",
       "<table border=\"1\" class=\"dataframe\">\n",
       "  <thead>\n",
       "    <tr style=\"text-align: right;\">\n",
       "      <th></th>\n",
       "      <th>historicalreservationid</th>\n",
       "      <th>ordernumber</th>\n",
       "      <th>agency</th>\n",
       "      <th>orgid</th>\n",
       "      <th>codehierarchy</th>\n",
       "      <th>regioncode</th>\n",
       "      <th>regiondescription</th>\n",
       "      <th>parentlocationid</th>\n",
       "      <th>parentlocation</th>\n",
       "      <th>legacyfacilityid</th>\n",
       "      <th>...</th>\n",
       "      <th>totalbeforetax</th>\n",
       "      <th>discount</th>\n",
       "      <th>totalpaid</th>\n",
       "      <th>startdate</th>\n",
       "      <th>enddate</th>\n",
       "      <th>orderdate</th>\n",
       "      <th>nights</th>\n",
       "      <th>numberofpeople</th>\n",
       "      <th>equipmentdescription</th>\n",
       "      <th>equipmentlength</th>\n",
       "    </tr>\n",
       "  </thead>\n",
       "  <tbody>\n",
       "    <tr>\n",
       "      <th>0</th>\n",
       "      <td>edd9085a-a89f-4787-b9ec-e0794e5ac1b4</td>\n",
       "      <td>0201638440-1</td>\n",
       "      <td>BLM</td>\n",
       "      <td>126.0</td>\n",
       "      <td>|1|70901|72193|72194|146090</td>\n",
       "      <td>AK</td>\n",
       "      <td>Alaska</td>\n",
       "      <td>72195</td>\n",
       "      <td>White Mountains National Recreation Area</td>\n",
       "      <td>146090.0</td>\n",
       "      <td>...</td>\n",
       "      <td>58.0</td>\n",
       "      <td>0.0</td>\n",
       "      <td>58.0</td>\n",
       "      <td>2020-10-08 00:00:00.000</td>\n",
       "      <td>2020-10-10 00:00:00.000</td>\n",
       "      <td>2020-09-10 09:16:58.400</td>\n",
       "      <td>2 days</td>\n",
       "      <td>1.0</td>\n",
       "      <td>NaN</td>\n",
       "      <td>0.0</td>\n",
       "    </tr>\n",
       "    <tr>\n",
       "      <th>1</th>\n",
       "      <td>1d1d4d6a-3d57-47d0-9212-d9a4411555c0</td>\n",
       "      <td>0202157822-1</td>\n",
       "      <td>BLM</td>\n",
       "      <td>126.0</td>\n",
       "      <td>|1|70901|72193|72194|146090</td>\n",
       "      <td>AK</td>\n",
       "      <td>Alaska</td>\n",
       "      <td>72195</td>\n",
       "      <td>White Mountains National Recreation Area</td>\n",
       "      <td>146090.0</td>\n",
       "      <td>...</td>\n",
       "      <td>33.0</td>\n",
       "      <td>0.0</td>\n",
       "      <td>33.0</td>\n",
       "      <td>2020-10-23 00:00:00.000</td>\n",
       "      <td>2020-10-24 00:00:00.000</td>\n",
       "      <td>2020-09-28 23:22:18.538</td>\n",
       "      <td>1 day</td>\n",
       "      <td>2.0</td>\n",
       "      <td>NaN</td>\n",
       "      <td>0.0</td>\n",
       "    </tr>\n",
       "    <tr>\n",
       "      <th>2</th>\n",
       "      <td>bca72357-5824-4484-9eac-a824f5c00622</td>\n",
       "      <td>0208506393-1</td>\n",
       "      <td>BLM</td>\n",
       "      <td>126.0</td>\n",
       "      <td>|1|70901|72193|72194|146090</td>\n",
       "      <td>AK</td>\n",
       "      <td>Alaska</td>\n",
       "      <td>72195</td>\n",
       "      <td>White Mountains National Recreation Area</td>\n",
       "      <td>146090.0</td>\n",
       "      <td>...</td>\n",
       "      <td>33.0</td>\n",
       "      <td>0.0</td>\n",
       "      <td>33.0</td>\n",
       "      <td>2020-10-02 00:00:00.000</td>\n",
       "      <td>2020-10-03 00:00:00.000</td>\n",
       "      <td>2020-09-19 01:03:11.146</td>\n",
       "      <td>1 day</td>\n",
       "      <td>0.0</td>\n",
       "      <td>NaN</td>\n",
       "      <td>0.0</td>\n",
       "    </tr>\n",
       "    <tr>\n",
       "      <th>3</th>\n",
       "      <td>cbf1ce58-fb2a-4605-9474-cf27f1ce4052</td>\n",
       "      <td>0208506393-2</td>\n",
       "      <td>BLM</td>\n",
       "      <td>126.0</td>\n",
       "      <td>|1|70901|72193|72194|146090</td>\n",
       "      <td>AK</td>\n",
       "      <td>Alaska</td>\n",
       "      <td>72195</td>\n",
       "      <td>White Mountains National Recreation Area</td>\n",
       "      <td>146090.0</td>\n",
       "      <td>...</td>\n",
       "      <td>25.0</td>\n",
       "      <td>0.0</td>\n",
       "      <td>25.0</td>\n",
       "      <td>2020-10-03 00:00:00.000</td>\n",
       "      <td>2020-10-04 00:00:00.000</td>\n",
       "      <td>2020-09-19 01:03:11.146</td>\n",
       "      <td>1 day</td>\n",
       "      <td>2.0</td>\n",
       "      <td>NaN</td>\n",
       "      <td>0.0</td>\n",
       "    </tr>\n",
       "    <tr>\n",
       "      <th>4</th>\n",
       "      <td>b3e1899a-aa31-4948-8d47-29af5f6ea85f</td>\n",
       "      <td>0217769313-1</td>\n",
       "      <td>BLM</td>\n",
       "      <td>126.0</td>\n",
       "      <td>|1|70901|72193|72194|146090</td>\n",
       "      <td>AK</td>\n",
       "      <td>Alaska</td>\n",
       "      <td>72195</td>\n",
       "      <td>White Mountains National Recreation Area</td>\n",
       "      <td>146090.0</td>\n",
       "      <td>...</td>\n",
       "      <td>18.0</td>\n",
       "      <td>0.0</td>\n",
       "      <td>18.0</td>\n",
       "      <td>2020-10-10 00:00:00.000</td>\n",
       "      <td>2020-10-11 00:00:00.000</td>\n",
       "      <td>2020-09-16 19:57:02.020</td>\n",
       "      <td>1 day</td>\n",
       "      <td>0.0</td>\n",
       "      <td>NaN</td>\n",
       "      <td>0.0</td>\n",
       "    </tr>\n",
       "  </tbody>\n",
       "</table>\n",
       "<p>5 rows × 35 columns</p>\n",
       "</div>"
      ],
      "text/plain": [
       "                historicalreservationid   ordernumber agency  orgid  \\\n",
       "0  edd9085a-a89f-4787-b9ec-e0794e5ac1b4  0201638440-1    BLM  126.0   \n",
       "1  1d1d4d6a-3d57-47d0-9212-d9a4411555c0  0202157822-1    BLM  126.0   \n",
       "2  bca72357-5824-4484-9eac-a824f5c00622  0208506393-1    BLM  126.0   \n",
       "3  cbf1ce58-fb2a-4605-9474-cf27f1ce4052  0208506393-2    BLM  126.0   \n",
       "4  b3e1899a-aa31-4948-8d47-29af5f6ea85f  0217769313-1    BLM  126.0   \n",
       "\n",
       "                 codehierarchy regioncode regiondescription parentlocationid  \\\n",
       "0  |1|70901|72193|72194|146090         AK            Alaska            72195   \n",
       "1  |1|70901|72193|72194|146090         AK            Alaska            72195   \n",
       "2  |1|70901|72193|72194|146090         AK            Alaska            72195   \n",
       "3  |1|70901|72193|72194|146090         AK            Alaska            72195   \n",
       "4  |1|70901|72193|72194|146090         AK            Alaska            72195   \n",
       "\n",
       "                             parentlocation  legacyfacilityid  ...  \\\n",
       "0  White Mountains National Recreation Area          146090.0  ...   \n",
       "1  White Mountains National Recreation Area          146090.0  ...   \n",
       "2  White Mountains National Recreation Area          146090.0  ...   \n",
       "3  White Mountains National Recreation Area          146090.0  ...   \n",
       "4  White Mountains National Recreation Area          146090.0  ...   \n",
       "\n",
       "  totalbeforetax discount totalpaid                startdate  \\\n",
       "0           58.0      0.0      58.0  2020-10-08 00:00:00.000   \n",
       "1           33.0      0.0      33.0  2020-10-23 00:00:00.000   \n",
       "2           33.0      0.0      33.0  2020-10-02 00:00:00.000   \n",
       "3           25.0      0.0      25.0  2020-10-03 00:00:00.000   \n",
       "4           18.0      0.0      18.0  2020-10-10 00:00:00.000   \n",
       "\n",
       "                   enddate                orderdate  nights numberofpeople  \\\n",
       "0  2020-10-10 00:00:00.000  2020-09-10 09:16:58.400  2 days            1.0   \n",
       "1  2020-10-24 00:00:00.000  2020-09-28 23:22:18.538   1 day            2.0   \n",
       "2  2020-10-03 00:00:00.000  2020-09-19 01:03:11.146   1 day            0.0   \n",
       "3  2020-10-04 00:00:00.000  2020-09-19 01:03:11.146   1 day            2.0   \n",
       "4  2020-10-11 00:00:00.000  2020-09-16 19:57:02.020   1 day            0.0   \n",
       "\n",
       "   equipmentdescription  equipmentlength  \n",
       "0                   NaN              0.0  \n",
       "1                   NaN              0.0  \n",
       "2                   NaN              0.0  \n",
       "3                   NaN              0.0  \n",
       "4                   NaN              0.0  \n",
       "\n",
       "[5 rows x 35 columns]"
      ]
     },
     "execution_count": 7,
     "metadata": {},
     "output_type": "execute_result"
    }
   ],
   "source": [
    "dfReservations2021.head()"
   ]
  },
  {
   "cell_type": "code",
   "execution_count": null,
   "metadata": {
    "pycharm": {
     "name": "#%%\n"
    }
   },
   "outputs": [
    {
     "data": {
      "text/plain": [
       "['historicalreservationid',\n",
       " 'ordernumber',\n",
       " 'agency',\n",
       " 'orgid',\n",
       " 'codehierarchy',\n",
       " 'regioncode',\n",
       " 'regiondescription',\n",
       " 'parentlocationid',\n",
       " 'parentlocation',\n",
       " 'legacyfacilityid',\n",
       " 'park',\n",
       " 'sitetype',\n",
       " 'usetype',\n",
       " 'productid',\n",
       " 'inventorytype',\n",
       " 'facilityid',\n",
       " 'facilityzip',\n",
       " 'facilitystate',\n",
       " 'facilitylongitude',\n",
       " 'facilitylatitude',\n",
       " 'customerzip',\n",
       " 'tax',\n",
       " 'usefee',\n",
       " 'tranfee',\n",
       " 'attrfee',\n",
       " 'totalbeforetax',\n",
       " 'discount',\n",
       " 'totalpaid',\n",
       " 'startdate',\n",
       " 'enddate',\n",
       " 'orderdate',\n",
       " 'nights',\n",
       " 'numberofpeople',\n",
       " 'equipmentdescription',\n",
       " 'equipmentlength']"
      ]
     },
     "execution_count": 8,
     "metadata": {},
     "output_type": "execute_result"
    }
   ],
   "source": [
    "# columns in dataframe\n",
    "list(dfReservations2021)"
   ]
  },
  {
   "cell_type": "markdown",
   "metadata": {
    "pycharm": {
     "name": "#%% md\n"
    }
   },
   "source": [
    "## Observations\n",
    "\n",
    "- `historicalreservationid` - this is a GUID, which is not helpful\n",
    "- `ordernumber` - this is hyphenated, ie 1234-2, which looks like versions of a single order\n",
    "- `codehierarchy` - pipe-delimited, appears to be for internal reporting\n",
    "- `parentlocationid` and `parentlocation` - duplicative\n",
    "- `legacyfacilityid` - legacy unique identifier\n",
    "- `park` - duplicative\n",
    "- `sitetype`, `usetype`, `productid`, `inventorytype` - type of transaction information\n",
    "- `facility` - geographic information on multiple dimensions\n",
    "- `customerzip` - likely customer dimension\n",
    "- `nights` - format of X day(s), likely derived from `enddate` - `startdate`\n",
    "- `equipmentdescription` and `equipmentlength` - not applicable"
   ]
  },
  {
   "cell_type": "code",
   "execution_count": null,
   "metadata": {
    "pycharm": {
     "name": "#%%\n"
    }
   },
   "outputs": [],
   "source": [
    "dfReservations2021.drop(columns=['historicalreservationid', 'regioncode', 'regiondescription', 'parentlocation', 'codehierarchy', 'legacyfacilityid', 'tax', 'usefee', 'tranfee', 'attrfee', 'totalbeforetax', 'discount', 'equipmentdescription', 'equipmentlength'], inplace=True)"
   ]
  },
  {
   "cell_type": "markdown",
   "metadata": {
    "pycharm": {
     "name": "#%%\n"
    }
   },
   "source": [
    "## Order Number"
   ]
  },
  {
   "cell_type": "code",
   "execution_count": null,
   "metadata": {
    "pycharm": {
     "name": "#%%\n"
    }
   },
   "outputs": [],
   "source": [
    "# https://stackoverflow.com/questions/14745022/how-to-split-a-dataframe-string-column-into-two-columns\n",
    "dfReservations2021[['orderno', 'orderversion']] = dfReservations2021['ordernumber'].str.split('-', 1, expand=True)"
   ]
  },
  {
   "cell_type": "code",
   "execution_count": null,
   "metadata": {
    "pycharm": {
     "name": "#%%\n"
    }
   },
   "outputs": [
    {
     "data": {
      "text/html": [
       "<div>\n",
       "<style scoped>\n",
       "    .dataframe tbody tr th:only-of-type {\n",
       "        vertical-align: middle;\n",
       "    }\n",
       "\n",
       "    .dataframe tbody tr th {\n",
       "        vertical-align: top;\n",
       "    }\n",
       "\n",
       "    .dataframe thead th {\n",
       "        text-align: right;\n",
       "    }\n",
       "</style>\n",
       "<table border=\"1\" class=\"dataframe\">\n",
       "  <thead>\n",
       "    <tr style=\"text-align: right;\">\n",
       "      <th></th>\n",
       "      <th>ordernumber</th>\n",
       "      <th>agency</th>\n",
       "      <th>orgid</th>\n",
       "      <th>parentlocationid</th>\n",
       "      <th>park</th>\n",
       "      <th>sitetype</th>\n",
       "      <th>usetype</th>\n",
       "      <th>productid</th>\n",
       "      <th>inventorytype</th>\n",
       "      <th>facilityid</th>\n",
       "      <th>...</th>\n",
       "      <th>facilitylatitude</th>\n",
       "      <th>customerzip</th>\n",
       "      <th>totalpaid</th>\n",
       "      <th>startdate</th>\n",
       "      <th>enddate</th>\n",
       "      <th>orderdate</th>\n",
       "      <th>nights</th>\n",
       "      <th>numberofpeople</th>\n",
       "      <th>orderno</th>\n",
       "      <th>orderversion</th>\n",
       "    </tr>\n",
       "  </thead>\n",
       "  <tbody>\n",
       "    <tr>\n",
       "      <th>0</th>\n",
       "      <td>0201638440-1</td>\n",
       "      <td>BLM</td>\n",
       "      <td>126.0</td>\n",
       "      <td>72195</td>\n",
       "      <td>White Mountains National Recreation Area - Ala...</td>\n",
       "      <td>CABIN NONELECTRIC</td>\n",
       "      <td>Overnight</td>\n",
       "      <td>99821</td>\n",
       "      <td>CAMPING</td>\n",
       "      <td>252494</td>\n",
       "      <td>...</td>\n",
       "      <td>65.427497</td>\n",
       "      <td>NaN</td>\n",
       "      <td>58.0</td>\n",
       "      <td>2020-10-08 00:00:00.000</td>\n",
       "      <td>2020-10-10 00:00:00.000</td>\n",
       "      <td>2020-09-10 09:16:58.400</td>\n",
       "      <td>2 days</td>\n",
       "      <td>1.0</td>\n",
       "      <td>0201638440</td>\n",
       "      <td>1</td>\n",
       "    </tr>\n",
       "    <tr>\n",
       "      <th>1</th>\n",
       "      <td>0202157822-1</td>\n",
       "      <td>BLM</td>\n",
       "      <td>126.0</td>\n",
       "      <td>72195</td>\n",
       "      <td>White Mountains National Recreation Area - Ala...</td>\n",
       "      <td>CABIN NONELECTRIC</td>\n",
       "      <td>Overnight</td>\n",
       "      <td>639772</td>\n",
       "      <td>CAMPING</td>\n",
       "      <td>252494</td>\n",
       "      <td>...</td>\n",
       "      <td>65.427497</td>\n",
       "      <td>99709</td>\n",
       "      <td>33.0</td>\n",
       "      <td>2020-10-23 00:00:00.000</td>\n",
       "      <td>2020-10-24 00:00:00.000</td>\n",
       "      <td>2020-09-28 23:22:18.538</td>\n",
       "      <td>1 day</td>\n",
       "      <td>2.0</td>\n",
       "      <td>0202157822</td>\n",
       "      <td>1</td>\n",
       "    </tr>\n",
       "    <tr>\n",
       "      <th>2</th>\n",
       "      <td>0208506393-1</td>\n",
       "      <td>BLM</td>\n",
       "      <td>126.0</td>\n",
       "      <td>72195</td>\n",
       "      <td>White Mountains National Recreation Area - Ala...</td>\n",
       "      <td>CABIN NONELECTRIC</td>\n",
       "      <td>Overnight</td>\n",
       "      <td>639772</td>\n",
       "      <td>CAMPING</td>\n",
       "      <td>252494</td>\n",
       "      <td>...</td>\n",
       "      <td>65.427497</td>\n",
       "      <td>99706</td>\n",
       "      <td>33.0</td>\n",
       "      <td>2020-10-02 00:00:00.000</td>\n",
       "      <td>2020-10-03 00:00:00.000</td>\n",
       "      <td>2020-09-19 01:03:11.146</td>\n",
       "      <td>1 day</td>\n",
       "      <td>0.0</td>\n",
       "      <td>0208506393</td>\n",
       "      <td>1</td>\n",
       "    </tr>\n",
       "    <tr>\n",
       "      <th>3</th>\n",
       "      <td>0208506393-2</td>\n",
       "      <td>BLM</td>\n",
       "      <td>126.0</td>\n",
       "      <td>72195</td>\n",
       "      <td>White Mountains National Recreation Area - Ala...</td>\n",
       "      <td>CABIN NONELECTRIC</td>\n",
       "      <td>Overnight</td>\n",
       "      <td>639772</td>\n",
       "      <td>CAMPING</td>\n",
       "      <td>252494</td>\n",
       "      <td>...</td>\n",
       "      <td>65.427497</td>\n",
       "      <td>99706</td>\n",
       "      <td>25.0</td>\n",
       "      <td>2020-10-03 00:00:00.000</td>\n",
       "      <td>2020-10-04 00:00:00.000</td>\n",
       "      <td>2020-09-19 01:03:11.146</td>\n",
       "      <td>1 day</td>\n",
       "      <td>2.0</td>\n",
       "      <td>0208506393</td>\n",
       "      <td>2</td>\n",
       "    </tr>\n",
       "    <tr>\n",
       "      <th>4</th>\n",
       "      <td>0217769313-1</td>\n",
       "      <td>BLM</td>\n",
       "      <td>126.0</td>\n",
       "      <td>72195</td>\n",
       "      <td>White Mountains National Recreation Area - Ala...</td>\n",
       "      <td>CABIN NONELECTRIC</td>\n",
       "      <td>Overnight</td>\n",
       "      <td>639772</td>\n",
       "      <td>CAMPING</td>\n",
       "      <td>252494</td>\n",
       "      <td>...</td>\n",
       "      <td>65.427497</td>\n",
       "      <td>99709</td>\n",
       "      <td>18.0</td>\n",
       "      <td>2020-10-10 00:00:00.000</td>\n",
       "      <td>2020-10-11 00:00:00.000</td>\n",
       "      <td>2020-09-16 19:57:02.020</td>\n",
       "      <td>1 day</td>\n",
       "      <td>0.0</td>\n",
       "      <td>0217769313</td>\n",
       "      <td>1</td>\n",
       "    </tr>\n",
       "  </tbody>\n",
       "</table>\n",
       "<p>5 rows × 23 columns</p>\n",
       "</div>"
      ],
      "text/plain": [
       "    ordernumber agency  orgid parentlocationid  \\\n",
       "0  0201638440-1    BLM  126.0            72195   \n",
       "1  0202157822-1    BLM  126.0            72195   \n",
       "2  0208506393-1    BLM  126.0            72195   \n",
       "3  0208506393-2    BLM  126.0            72195   \n",
       "4  0217769313-1    BLM  126.0            72195   \n",
       "\n",
       "                                                park           sitetype  \\\n",
       "0  White Mountains National Recreation Area - Ala...  CABIN NONELECTRIC   \n",
       "1  White Mountains National Recreation Area - Ala...  CABIN NONELECTRIC   \n",
       "2  White Mountains National Recreation Area - Ala...  CABIN NONELECTRIC   \n",
       "3  White Mountains National Recreation Area - Ala...  CABIN NONELECTRIC   \n",
       "4  White Mountains National Recreation Area - Ala...  CABIN NONELECTRIC   \n",
       "\n",
       "     usetype productid inventorytype facilityid  ...  facilitylatitude  \\\n",
       "0  Overnight     99821       CAMPING     252494  ...         65.427497   \n",
       "1  Overnight    639772       CAMPING     252494  ...         65.427497   \n",
       "2  Overnight    639772       CAMPING     252494  ...         65.427497   \n",
       "3  Overnight    639772       CAMPING     252494  ...         65.427497   \n",
       "4  Overnight    639772       CAMPING     252494  ...         65.427497   \n",
       "\n",
       "  customerzip  totalpaid                startdate                  enddate  \\\n",
       "0         NaN       58.0  2020-10-08 00:00:00.000  2020-10-10 00:00:00.000   \n",
       "1       99709       33.0  2020-10-23 00:00:00.000  2020-10-24 00:00:00.000   \n",
       "2       99706       33.0  2020-10-02 00:00:00.000  2020-10-03 00:00:00.000   \n",
       "3       99706       25.0  2020-10-03 00:00:00.000  2020-10-04 00:00:00.000   \n",
       "4       99709       18.0  2020-10-10 00:00:00.000  2020-10-11 00:00:00.000   \n",
       "\n",
       "                 orderdate  nights numberofpeople     orderno orderversion  \n",
       "0  2020-09-10 09:16:58.400  2 days            1.0  0201638440            1  \n",
       "1  2020-09-28 23:22:18.538   1 day            2.0  0202157822            1  \n",
       "2  2020-09-19 01:03:11.146   1 day            0.0  0208506393            1  \n",
       "3  2020-09-19 01:03:11.146   1 day            2.0  0208506393            2  \n",
       "4  2020-09-16 19:57:02.020   1 day            0.0  0217769313            1  \n",
       "\n",
       "[5 rows x 23 columns]"
      ]
     },
     "execution_count": 11,
     "metadata": {},
     "output_type": "execute_result"
    }
   ],
   "source": [
    "dfReservations2021.head()"
   ]
  },
  {
   "cell_type": "code",
   "execution_count": null,
   "metadata": {
    "pycharm": {
     "name": "#%%\n"
    }
   },
   "outputs": [
    {
     "data": {
      "text/plain": [
       "orderno         499981626.0\n",
       "orderversion            9.0\n",
       "dtype: float64"
      ]
     },
     "execution_count": 12,
     "metadata": {},
     "output_type": "execute_result"
    }
   ],
   "source": [
    "dfReservations2021[['orderno', 'orderversion']].max()"
   ]
  },
  {
   "cell_type": "code",
   "execution_count": null,
   "metadata": {
    "pycharm": {
     "name": "#%%\n"
    }
   },
   "outputs": [],
   "source": [
    "sOrders = dfReservations2021.groupby(['orderno'])['orderversion'].max()"
   ]
  },
  {
   "cell_type": "code",
   "execution_count": null,
   "metadata": {
    "pycharm": {
     "name": "#%%\n"
    }
   },
   "outputs": [
    {
     "data": {
      "text/plain": [
       "pandas.core.series.Series"
      ]
     },
     "execution_count": 14,
     "metadata": {},
     "output_type": "execute_result"
    }
   ],
   "source": [
    "type(sOrders)"
   ]
  },
  {
   "cell_type": "code",
   "execution_count": null,
   "metadata": {
    "pycharm": {
     "name": "#%%\n"
    }
   },
   "outputs": [],
   "source": [
    "dfOrders = pd.DataFrame(sOrders)"
   ]
  },
  {
   "cell_type": "code",
   "execution_count": null,
   "metadata": {
    "pycharm": {
     "name": "#%%\n"
    }
   },
   "outputs": [
    {
     "data": {
      "text/html": [
       "<div>\n",
       "<style scoped>\n",
       "    .dataframe tbody tr th:only-of-type {\n",
       "        vertical-align: middle;\n",
       "    }\n",
       "\n",
       "    .dataframe tbody tr th {\n",
       "        vertical-align: top;\n",
       "    }\n",
       "\n",
       "    .dataframe thead th {\n",
       "        text-align: right;\n",
       "    }\n",
       "</style>\n",
       "<table border=\"1\" class=\"dataframe\">\n",
       "  <thead>\n",
       "    <tr style=\"text-align: right;\">\n",
       "      <th></th>\n",
       "      <th>orderversion</th>\n",
       "    </tr>\n",
       "    <tr>\n",
       "      <th>orderno</th>\n",
       "      <th></th>\n",
       "    </tr>\n",
       "  </thead>\n",
       "  <tbody>\n",
       "    <tr>\n",
       "      <th>0100750673</th>\n",
       "      <td>1</td>\n",
       "    </tr>\n",
       "    <tr>\n",
       "      <th>0103730768</th>\n",
       "      <td>1</td>\n",
       "    </tr>\n",
       "    <tr>\n",
       "      <th>0103824320</th>\n",
       "      <td>1</td>\n",
       "    </tr>\n",
       "    <tr>\n",
       "      <th>0107192443</th>\n",
       "      <td>1</td>\n",
       "    </tr>\n",
       "    <tr>\n",
       "      <th>0107670943</th>\n",
       "      <td>1</td>\n",
       "    </tr>\n",
       "    <tr>\n",
       "      <th>0108974912</th>\n",
       "      <td>1</td>\n",
       "    </tr>\n",
       "    <tr>\n",
       "      <th>0109113266</th>\n",
       "      <td>1</td>\n",
       "    </tr>\n",
       "    <tr>\n",
       "      <th>0112808793</th>\n",
       "      <td>2</td>\n",
       "    </tr>\n",
       "    <tr>\n",
       "      <th>0114091111</th>\n",
       "      <td>1</td>\n",
       "    </tr>\n",
       "    <tr>\n",
       "      <th>0116341710</th>\n",
       "      <td>1</td>\n",
       "    </tr>\n",
       "    <tr>\n",
       "      <th>0117983897</th>\n",
       "      <td>1</td>\n",
       "    </tr>\n",
       "    <tr>\n",
       "      <th>0119196395</th>\n",
       "      <td>1</td>\n",
       "    </tr>\n",
       "    <tr>\n",
       "      <th>0120223857</th>\n",
       "      <td>1</td>\n",
       "    </tr>\n",
       "    <tr>\n",
       "      <th>0120624973</th>\n",
       "      <td>1</td>\n",
       "    </tr>\n",
       "    <tr>\n",
       "      <th>0120723686</th>\n",
       "      <td>1</td>\n",
       "    </tr>\n",
       "    <tr>\n",
       "      <th>0121371703</th>\n",
       "      <td>3</td>\n",
       "    </tr>\n",
       "    <tr>\n",
       "      <th>0123217620</th>\n",
       "      <td>1</td>\n",
       "    </tr>\n",
       "    <tr>\n",
       "      <th>0124704427</th>\n",
       "      <td>2</td>\n",
       "    </tr>\n",
       "    <tr>\n",
       "      <th>0124806562</th>\n",
       "      <td>1</td>\n",
       "    </tr>\n",
       "    <tr>\n",
       "      <th>0125531944</th>\n",
       "      <td>1</td>\n",
       "    </tr>\n",
       "    <tr>\n",
       "      <th>0131575859</th>\n",
       "      <td>2</td>\n",
       "    </tr>\n",
       "    <tr>\n",
       "      <th>0132773816</th>\n",
       "      <td>1</td>\n",
       "    </tr>\n",
       "    <tr>\n",
       "      <th>0132887992</th>\n",
       "      <td>1</td>\n",
       "    </tr>\n",
       "    <tr>\n",
       "      <th>0133396976</th>\n",
       "      <td>1</td>\n",
       "    </tr>\n",
       "    <tr>\n",
       "      <th>0133822920</th>\n",
       "      <td>1</td>\n",
       "    </tr>\n",
       "    <tr>\n",
       "      <th>0134380454</th>\n",
       "      <td>1</td>\n",
       "    </tr>\n",
       "    <tr>\n",
       "      <th>0134962512</th>\n",
       "      <td>1</td>\n",
       "    </tr>\n",
       "    <tr>\n",
       "      <th>0135913966</th>\n",
       "      <td>2</td>\n",
       "    </tr>\n",
       "    <tr>\n",
       "      <th>0136843223</th>\n",
       "      <td>4</td>\n",
       "    </tr>\n",
       "    <tr>\n",
       "      <th>0137106304</th>\n",
       "      <td>1</td>\n",
       "    </tr>\n",
       "    <tr>\n",
       "      <th>0137297721</th>\n",
       "      <td>1</td>\n",
       "    </tr>\n",
       "    <tr>\n",
       "      <th>0138756748</th>\n",
       "      <td>1</td>\n",
       "    </tr>\n",
       "    <tr>\n",
       "      <th>0142637511</th>\n",
       "      <td>1</td>\n",
       "    </tr>\n",
       "    <tr>\n",
       "      <th>0143015176</th>\n",
       "      <td>1</td>\n",
       "    </tr>\n",
       "    <tr>\n",
       "      <th>0144297215</th>\n",
       "      <td>1</td>\n",
       "    </tr>\n",
       "    <tr>\n",
       "      <th>0145368378</th>\n",
       "      <td>1</td>\n",
       "    </tr>\n",
       "    <tr>\n",
       "      <th>0147657508</th>\n",
       "      <td>1</td>\n",
       "    </tr>\n",
       "    <tr>\n",
       "      <th>0148790355</th>\n",
       "      <td>1</td>\n",
       "    </tr>\n",
       "    <tr>\n",
       "      <th>0151574463</th>\n",
       "      <td>2</td>\n",
       "    </tr>\n",
       "    <tr>\n",
       "      <th>0152661048</th>\n",
       "      <td>1</td>\n",
       "    </tr>\n",
       "    <tr>\n",
       "      <th>0153312840</th>\n",
       "      <td>2</td>\n",
       "    </tr>\n",
       "    <tr>\n",
       "      <th>0153688651</th>\n",
       "      <td>3</td>\n",
       "    </tr>\n",
       "    <tr>\n",
       "      <th>0158737544</th>\n",
       "      <td>1</td>\n",
       "    </tr>\n",
       "    <tr>\n",
       "      <th>0160007246</th>\n",
       "      <td>1</td>\n",
       "    </tr>\n",
       "    <tr>\n",
       "      <th>0160678743</th>\n",
       "      <td>1</td>\n",
       "    </tr>\n",
       "    <tr>\n",
       "      <th>0163655422</th>\n",
       "      <td>1</td>\n",
       "    </tr>\n",
       "    <tr>\n",
       "      <th>0165049523</th>\n",
       "      <td>1</td>\n",
       "    </tr>\n",
       "    <tr>\n",
       "      <th>0166580138</th>\n",
       "      <td>1</td>\n",
       "    </tr>\n",
       "    <tr>\n",
       "      <th>0166691237</th>\n",
       "      <td>1</td>\n",
       "    </tr>\n",
       "    <tr>\n",
       "      <th>0167852723</th>\n",
       "      <td>1</td>\n",
       "    </tr>\n",
       "  </tbody>\n",
       "</table>\n",
       "</div>"
      ],
      "text/plain": [
       "           orderversion\n",
       "orderno                \n",
       "0100750673            1\n",
       "0103730768            1\n",
       "0103824320            1\n",
       "0107192443            1\n",
       "0107670943            1\n",
       "0108974912            1\n",
       "0109113266            1\n",
       "0112808793            2\n",
       "0114091111            1\n",
       "0116341710            1\n",
       "0117983897            1\n",
       "0119196395            1\n",
       "0120223857            1\n",
       "0120624973            1\n",
       "0120723686            1\n",
       "0121371703            3\n",
       "0123217620            1\n",
       "0124704427            2\n",
       "0124806562            1\n",
       "0125531944            1\n",
       "0131575859            2\n",
       "0132773816            1\n",
       "0132887992            1\n",
       "0133396976            1\n",
       "0133822920            1\n",
       "0134380454            1\n",
       "0134962512            1\n",
       "0135913966            2\n",
       "0136843223            4\n",
       "0137106304            1\n",
       "0137297721            1\n",
       "0138756748            1\n",
       "0142637511            1\n",
       "0143015176            1\n",
       "0144297215            1\n",
       "0145368378            1\n",
       "0147657508            1\n",
       "0148790355            1\n",
       "0151574463            2\n",
       "0152661048            1\n",
       "0153312840            2\n",
       "0153688651            3\n",
       "0158737544            1\n",
       "0160007246            1\n",
       "0160678743            1\n",
       "0163655422            1\n",
       "0165049523            1\n",
       "0166580138            1\n",
       "0166691237            1\n",
       "0167852723            1"
      ]
     },
     "execution_count": 16,
     "metadata": {},
     "output_type": "execute_result"
    }
   ],
   "source": [
    "dfOrders.head(50)"
   ]
  },
  {
   "cell_type": "code",
   "execution_count": null,
   "metadata": {
    "pycharm": {
     "name": "#%%\n"
    }
   },
   "outputs": [],
   "source": [
    "dfOrders.reset_index(inplace=True)"
   ]
  },
  {
   "cell_type": "code",
   "execution_count": null,
   "metadata": {
    "pycharm": {
     "name": "#%%\n"
    }
   },
   "outputs": [],
   "source": [
    "dfReservations2021 = dfReservations2021.merge(dfOrders,on=['orderno','orderversion'])"
   ]
  },
  {
   "cell_type": "code",
   "execution_count": null,
   "metadata": {
    "pycharm": {
     "name": "#%%\n"
    }
   },
   "outputs": [
    {
     "data": {
      "text/plain": [
       "(7660415, 23)"
      ]
     },
     "execution_count": 19,
     "metadata": {},
     "output_type": "execute_result"
    }
   ],
   "source": [
    "dfReservations2021.shape"
   ]
  },
  {
   "cell_type": "code",
   "execution_count": null,
   "metadata": {
    "pycharm": {
     "name": "#%%\n"
    }
   },
   "outputs": [
    {
     "data": {
      "text/html": [
       "<div>\n",
       "<style scoped>\n",
       "    .dataframe tbody tr th:only-of-type {\n",
       "        vertical-align: middle;\n",
       "    }\n",
       "\n",
       "    .dataframe tbody tr th {\n",
       "        vertical-align: top;\n",
       "    }\n",
       "\n",
       "    .dataframe thead th {\n",
       "        text-align: right;\n",
       "    }\n",
       "</style>\n",
       "<table border=\"1\" class=\"dataframe\">\n",
       "  <thead>\n",
       "    <tr style=\"text-align: right;\">\n",
       "      <th></th>\n",
       "      <th>ordernumber</th>\n",
       "      <th>agency</th>\n",
       "      <th>orgid</th>\n",
       "      <th>parentlocationid</th>\n",
       "      <th>park</th>\n",
       "      <th>sitetype</th>\n",
       "      <th>usetype</th>\n",
       "      <th>productid</th>\n",
       "      <th>inventorytype</th>\n",
       "      <th>facilityid</th>\n",
       "      <th>...</th>\n",
       "      <th>facilitylatitude</th>\n",
       "      <th>customerzip</th>\n",
       "      <th>totalpaid</th>\n",
       "      <th>startdate</th>\n",
       "      <th>enddate</th>\n",
       "      <th>orderdate</th>\n",
       "      <th>nights</th>\n",
       "      <th>numberofpeople</th>\n",
       "      <th>orderno</th>\n",
       "      <th>orderversion</th>\n",
       "    </tr>\n",
       "  </thead>\n",
       "  <tbody>\n",
       "    <tr>\n",
       "      <th>0</th>\n",
       "      <td>0201638440-1</td>\n",
       "      <td>BLM</td>\n",
       "      <td>126.0</td>\n",
       "      <td>72195</td>\n",
       "      <td>White Mountains National Recreation Area - Ala...</td>\n",
       "      <td>CABIN NONELECTRIC</td>\n",
       "      <td>Overnight</td>\n",
       "      <td>99821</td>\n",
       "      <td>CAMPING</td>\n",
       "      <td>252494</td>\n",
       "      <td>...</td>\n",
       "      <td>65.427497</td>\n",
       "      <td>NaN</td>\n",
       "      <td>58.0</td>\n",
       "      <td>2020-10-08 00:00:00.000</td>\n",
       "      <td>2020-10-10 00:00:00.000</td>\n",
       "      <td>2020-09-10 09:16:58.400</td>\n",
       "      <td>2 days</td>\n",
       "      <td>1.0</td>\n",
       "      <td>0201638440</td>\n",
       "      <td>1</td>\n",
       "    </tr>\n",
       "    <tr>\n",
       "      <th>1</th>\n",
       "      <td>0202157822-1</td>\n",
       "      <td>BLM</td>\n",
       "      <td>126.0</td>\n",
       "      <td>72195</td>\n",
       "      <td>White Mountains National Recreation Area - Ala...</td>\n",
       "      <td>CABIN NONELECTRIC</td>\n",
       "      <td>Overnight</td>\n",
       "      <td>639772</td>\n",
       "      <td>CAMPING</td>\n",
       "      <td>252494</td>\n",
       "      <td>...</td>\n",
       "      <td>65.427497</td>\n",
       "      <td>99709</td>\n",
       "      <td>33.0</td>\n",
       "      <td>2020-10-23 00:00:00.000</td>\n",
       "      <td>2020-10-24 00:00:00.000</td>\n",
       "      <td>2020-09-28 23:22:18.538</td>\n",
       "      <td>1 day</td>\n",
       "      <td>2.0</td>\n",
       "      <td>0202157822</td>\n",
       "      <td>1</td>\n",
       "    </tr>\n",
       "    <tr>\n",
       "      <th>2</th>\n",
       "      <td>0208506393-2</td>\n",
       "      <td>BLM</td>\n",
       "      <td>126.0</td>\n",
       "      <td>72195</td>\n",
       "      <td>White Mountains National Recreation Area - Ala...</td>\n",
       "      <td>CABIN NONELECTRIC</td>\n",
       "      <td>Overnight</td>\n",
       "      <td>639772</td>\n",
       "      <td>CAMPING</td>\n",
       "      <td>252494</td>\n",
       "      <td>...</td>\n",
       "      <td>65.427497</td>\n",
       "      <td>99706</td>\n",
       "      <td>25.0</td>\n",
       "      <td>2020-10-03 00:00:00.000</td>\n",
       "      <td>2020-10-04 00:00:00.000</td>\n",
       "      <td>2020-09-19 01:03:11.146</td>\n",
       "      <td>1 day</td>\n",
       "      <td>2.0</td>\n",
       "      <td>0208506393</td>\n",
       "      <td>2</td>\n",
       "    </tr>\n",
       "    <tr>\n",
       "      <th>3</th>\n",
       "      <td>0217769313-1</td>\n",
       "      <td>BLM</td>\n",
       "      <td>126.0</td>\n",
       "      <td>72195</td>\n",
       "      <td>White Mountains National Recreation Area - Ala...</td>\n",
       "      <td>CABIN NONELECTRIC</td>\n",
       "      <td>Overnight</td>\n",
       "      <td>639772</td>\n",
       "      <td>CAMPING</td>\n",
       "      <td>252494</td>\n",
       "      <td>...</td>\n",
       "      <td>65.427497</td>\n",
       "      <td>99709</td>\n",
       "      <td>18.0</td>\n",
       "      <td>2020-10-10 00:00:00.000</td>\n",
       "      <td>2020-10-11 00:00:00.000</td>\n",
       "      <td>2020-09-16 19:57:02.020</td>\n",
       "      <td>1 day</td>\n",
       "      <td>0.0</td>\n",
       "      <td>0217769313</td>\n",
       "      <td>1</td>\n",
       "    </tr>\n",
       "    <tr>\n",
       "      <th>4</th>\n",
       "      <td>0222024275-1</td>\n",
       "      <td>BLM</td>\n",
       "      <td>126.0</td>\n",
       "      <td>72195</td>\n",
       "      <td>White Mountains National Recreation Area - Ala...</td>\n",
       "      <td>CABIN NONELECTRIC</td>\n",
       "      <td>Overnight</td>\n",
       "      <td>639772</td>\n",
       "      <td>CAMPING</td>\n",
       "      <td>252494</td>\n",
       "      <td>...</td>\n",
       "      <td>65.427497</td>\n",
       "      <td>99709</td>\n",
       "      <td>18.0</td>\n",
       "      <td>2020-10-09 00:00:00.000</td>\n",
       "      <td>2020-10-10 00:00:00.000</td>\n",
       "      <td>2020-09-16 19:48:32.168</td>\n",
       "      <td>1 day</td>\n",
       "      <td>1.0</td>\n",
       "      <td>0222024275</td>\n",
       "      <td>1</td>\n",
       "    </tr>\n",
       "  </tbody>\n",
       "</table>\n",
       "<p>5 rows × 23 columns</p>\n",
       "</div>"
      ],
      "text/plain": [
       "    ordernumber agency  orgid parentlocationid  \\\n",
       "0  0201638440-1    BLM  126.0            72195   \n",
       "1  0202157822-1    BLM  126.0            72195   \n",
       "2  0208506393-2    BLM  126.0            72195   \n",
       "3  0217769313-1    BLM  126.0            72195   \n",
       "4  0222024275-1    BLM  126.0            72195   \n",
       "\n",
       "                                                park           sitetype  \\\n",
       "0  White Mountains National Recreation Area - Ala...  CABIN NONELECTRIC   \n",
       "1  White Mountains National Recreation Area - Ala...  CABIN NONELECTRIC   \n",
       "2  White Mountains National Recreation Area - Ala...  CABIN NONELECTRIC   \n",
       "3  White Mountains National Recreation Area - Ala...  CABIN NONELECTRIC   \n",
       "4  White Mountains National Recreation Area - Ala...  CABIN NONELECTRIC   \n",
       "\n",
       "     usetype productid inventorytype facilityid  ...  facilitylatitude  \\\n",
       "0  Overnight     99821       CAMPING     252494  ...         65.427497   \n",
       "1  Overnight    639772       CAMPING     252494  ...         65.427497   \n",
       "2  Overnight    639772       CAMPING     252494  ...         65.427497   \n",
       "3  Overnight    639772       CAMPING     252494  ...         65.427497   \n",
       "4  Overnight    639772       CAMPING     252494  ...         65.427497   \n",
       "\n",
       "  customerzip  totalpaid                startdate                  enddate  \\\n",
       "0         NaN       58.0  2020-10-08 00:00:00.000  2020-10-10 00:00:00.000   \n",
       "1       99709       33.0  2020-10-23 00:00:00.000  2020-10-24 00:00:00.000   \n",
       "2       99706       25.0  2020-10-03 00:00:00.000  2020-10-04 00:00:00.000   \n",
       "3       99709       18.0  2020-10-10 00:00:00.000  2020-10-11 00:00:00.000   \n",
       "4       99709       18.0  2020-10-09 00:00:00.000  2020-10-10 00:00:00.000   \n",
       "\n",
       "                 orderdate  nights numberofpeople     orderno orderversion  \n",
       "0  2020-09-10 09:16:58.400  2 days            1.0  0201638440            1  \n",
       "1  2020-09-28 23:22:18.538   1 day            2.0  0202157822            1  \n",
       "2  2020-09-19 01:03:11.146   1 day            2.0  0208506393            2  \n",
       "3  2020-09-16 19:57:02.020   1 day            0.0  0217769313            1  \n",
       "4  2020-09-16 19:48:32.168   1 day            1.0  0222024275            1  \n",
       "\n",
       "[5 rows x 23 columns]"
      ]
     },
     "execution_count": 20,
     "metadata": {},
     "output_type": "execute_result"
    }
   ],
   "source": [
    "dfReservations2021.head()"
   ]
  },
  {
   "cell_type": "markdown",
   "metadata": {},
   "source": [
    "## Stats"
   ]
  },
  {
   "cell_type": "code",
   "execution_count": null,
   "metadata": {
    "pycharm": {
     "name": "#%%\n"
    }
   },
   "outputs": [
    {
     "data": {
      "text/plain": [
       "array(['BLM', nan, 'BOR', 'FWS', 'NARA', 'NPS', 'USACE', 'USFS'],\n",
       "      dtype=object)"
      ]
     },
     "execution_count": 21,
     "metadata": {},
     "output_type": "execute_result"
    }
   ],
   "source": [
    "dfReservations2021['agency'].unique()"
   ]
  },
  {
   "cell_type": "code",
   "execution_count": null,
   "metadata": {
    "pycharm": {
     "name": "#%%\n"
    }
   },
   "outputs": [
    {
     "data": {
      "text/plain": [
       "agency\n",
       "BLM      8.009215e+06\n",
       "BOR      6.912655e+05\n",
       "FWS      5.329171e+05\n",
       "NARA     6.573400e+04\n",
       "NPS      6.797756e+07\n",
       "USACE    6.535905e+07\n",
       "USFS     8.922777e+07\n",
       "Name: totalpaid, dtype: float64"
      ]
     },
     "execution_count": 22,
     "metadata": {},
     "output_type": "execute_result"
    }
   ],
   "source": [
    "dfReservations2021.groupby('agency')['totalpaid'].sum()"
   ]
  },
  {
   "cell_type": "code",
   "execution_count": null,
   "metadata": {
    "pycharm": {
     "name": "#%%\n"
    }
   },
   "outputs": [
    {
     "data": {
      "text/plain": [
       "park\n",
       " Evans Campground                                                  28761.25\n",
       " Gifford Campground                                                38058.75\n",
       " Kamloops Island Campground                                         9889.00\n",
       "(LAKE ALPINE)  SILVER TIP CAMPGROUND                               51395.67\n",
       "(LAKE ALPINE) SILVER VALLEY CAMPGROUND                             34805.00\n",
       "                                                                    ...    \n",
       "Yellowstone Non-Commercially Guided Snowmobile Access Program      21188.00\n",
       "Yosemite National Park Ticketed Entry                            5246314.00\n",
       "ZILPO - DANIEL BOONE NAT. FOR.                                    286142.79\n",
       "ZIPS PLACE CABIN                                                   20068.00\n",
       "Zion National Park Shuttle Tickets                                747053.00\n",
       "Name: totalpaid, Length: 3952, dtype: float64"
      ]
     },
     "execution_count": 23,
     "metadata": {},
     "output_type": "execute_result"
    }
   ],
   "source": [
    "dfReservations2021.groupby('park')['totalpaid'].sum()"
   ]
  },
  {
   "cell_type": "code",
   "execution_count": null,
   "metadata": {
    "pycharm": {
     "name": "#%%\n"
    }
   },
   "outputs": [
    {
     "data": {
      "text/plain": [
       "inventorytype\n",
       "ACTIVITYPASS       1.369549e+06\n",
       "CAMPING            1.822354e+08\n",
       "DONATION           1.000000e+02\n",
       "LOTTERY_CAMPING    1.229200e+05\n",
       "LOTTERY_PERMIT     2.675889e+06\n",
       "LOTTERY_TICKET     2.874900e+04\n",
       "PERMIT             1.652146e+07\n",
       "QUEUE_LOTTERY      6.499200e+04\n",
       "RENTAL             2.922000e+03\n",
       "TICKET             1.172156e+07\n",
       "TIMED_ENTRY        1.036100e+07\n",
       "TREE_PERMIT        2.368829e+06\n",
       "VEHICLE_PERMIT     4.401374e+06\n",
       "Name: totalpaid, dtype: float64"
      ]
     },
     "execution_count": 24,
     "metadata": {},
     "output_type": "execute_result"
    }
   ],
   "source": [
    "dfReservations2021.groupby('inventorytype')['totalpaid'].sum()"
   ]
  },
  {
   "cell_type": "code",
   "execution_count": null,
   "metadata": {
    "pycharm": {
     "name": "#%%\n"
    }
   },
   "outputs": [
    {
     "data": {
      "text/plain": [
       "array(['2 days', '1 day', '3 days', '8 days', '00:00:00', '21 days',\n",
       "       '29 days', '30 days', '23 days', '9 days', '-2 days', '22 days',\n",
       "       '4 days', nan, '-1 days -14:47:10.998269', '5 days', '7 days',\n",
       "       '14 days', '13 days', '6 days', '10 days', '12 days', '11 days',\n",
       "       '35 days', '16 days', '17 days', '26 days', '58 days', '32 days',\n",
       "       '-20 days', '-21:55:08.125762', '364 days', '19 days', '129 days',\n",
       "       '27 days', '18 days', '-5 days', '-13 days', '-19 days', '-3 days',\n",
       "       '142 days', '-4 days', '40 days', '15 days', '106 days', '-6 days',\n",
       "       '24 days', '-1 days', '42 days', '-12 days', '33 days', '211 days',\n",
       "       '62 days', '36 days', '31 days', '-10 days', '-22 days', '50 days',\n",
       "       '377 days', '372 days', '374 days', '370 days', '368 days',\n",
       "       '390 days', '375 days', '379 days', '386 days', '383 days',\n",
       "       '373 days', '380 days', '385 days', '392 days', '371 days',\n",
       "       '376 days', '365 days', '393 days', '366 days', '391 days',\n",
       "       '394 days', '381 days', '367 days', '384 days', '389 days',\n",
       "       '378 days', '388 days', '387 days', '382 days', '395 days',\n",
       "       '369 days', '-44 days', '-9 days', '52 days', '53 days', '88 days',\n",
       "       '156 days', '37 days', '71 days', '357 days 07:33:59.388191',\n",
       "       '121 days', '-40 days', '93 days', '81 days', '49 days', '44 days',\n",
       "       '80 days', '45 days', '51 days', '38 days', '128 days', '72 days',\n",
       "       '43 days', '-25 days', '-34 days', '91 days', '-18 days',\n",
       "       '55 days', '-146 days', '119 days', '-110 days', '149 days',\n",
       "       '64 days', '25 days', '135 days', '176 days', '113 days',\n",
       "       '141 days', '125 days', '127 days', '114 days', '115 days',\n",
       "       '134 days', '120 days', '136 days', '116 days', '132 days',\n",
       "       '140 days', '126 days', '138 days', '110 days', '112 days',\n",
       "       '111 days', '118 days', '137 days', '130 days', '133 days',\n",
       "       '131 days', '139 days', '117 days', '162 days',\n",
       "       '115 days 04:45:45.972247', '143 days 00:44:03.788218', '20 days',\n",
       "       '123 days', '470 days', '99 days', '96 days', '65 days',\n",
       "       '241 days', '48 days', '94 days', '54 days', '169 days',\n",
       "       '108 days', '92 days', '266 days', '-11 days', '191 days',\n",
       "       '-37 days', '215 days', '197 days', '302 days', '305 days',\n",
       "       '69 days', '-36 days', '171 days', '-24 days', '185 days',\n",
       "       '95 days', '98 days', '164 days', '61 days', '-33 days',\n",
       "       '181 days', '157 days', '59 days', '78 days', '39 days', '28 days',\n",
       "       '179 days', '183 days', '184 days', '163 days', '104 days',\n",
       "       '-82 days', '107 days', '-51 days', '68 days', '85 days',\n",
       "       '218 days', '122 days', '168 days', '-7 days', '101 days',\n",
       "       '297 days', '60 days', '79 days', '-80 days', '89 days',\n",
       "       '-62 days', '34 days', '57 days', '-16 days', '198 days',\n",
       "       '82 days', '70 days', '76 days', '-21 days', '194 days',\n",
       "       '178 days', '83 days', '175 days', '154 days', '-108 days',\n",
       "       '105 days', '151 days', '46 days', '190 days', '150 days',\n",
       "       '-38 days', '187 days', '63 days', '-174 days', '67 days',\n",
       "       '-122 days', '97 days', '344 days', '-15 days', '144 days',\n",
       "       '109 days', '56 days', '161 days', '-8 days', '41 days',\n",
       "       '-93 days', '-61 days', '170 days', '84 days', '-28 days',\n",
       "       '177 days', '-26 days', '-42 days', '148 days', '-68 days',\n",
       "       '-21:55:37.67653', '-21:56:01.869293', '-22:11:36.580334',\n",
       "       '86 days', '-29 days', '100 days', '-14 days', '77 days',\n",
       "       '189 days', '-27 days', '182 days', '316 days', '66 days',\n",
       "       '-30 days', '240 days', '203 days', '90 days', '200 days',\n",
       "       '73 days', '75 days', '103 days', '303 days', '174 days',\n",
       "       '-32 days', '331 days', '-41 days', '-81 days', '172 days',\n",
       "       '-78 days', '205 days', '124 days', '-53 days', '-152 days',\n",
       "       '87 days', '74 days', '-35 days', '-17 days', '-89 days',\n",
       "       '153 days', '-39 days', '-31 days', '-96 days', '-75 days',\n",
       "       '143 days', '155 days', '188 days', '173 days', '-48 days',\n",
       "       '277 days', '-47 days', '47 days', '-74 days', '398 days',\n",
       "       '152 days', '166 days', '294 days', '-17:13:14.634924', '-46 days',\n",
       "       '102 days', '-100 days', '-77 days', '-79 days', '-67 days',\n",
       "       '-109 days', '-90 days', '158 days', '-60 days', '212 days',\n",
       "       '-106 days', '165 days', '-59 days', '-73 days', '363 days',\n",
       "       '-87 days', '262 days', '-23 days', '160 days', '213 days',\n",
       "       '237 days', '186 days', '230 days', '-43 days', '-171 days',\n",
       "       '372 days 03:01:55.787239', '5 days 02:28:12.526549', '204 days',\n",
       "       '-138 days', '261 days', '-144 days', '167 days', '-88 days',\n",
       "       '325 days', '270 days', '-54 days', '-298 days', '232 days',\n",
       "       '210 days', '201 days', '-64 days', '-118 days', '-84 days',\n",
       "       '308 days', '145 days', '-72 days', '349 days', '-45 days',\n",
       "       '352 days', '-98 days', '-191 days', '239 days', '-55 days',\n",
       "       '159 days', '338 days', '147 days', '326 days', '-126 days',\n",
       "       '251 days', '-104 days', '247 days', '-50 days', '-91 days',\n",
       "       '-58 days', '146 days', '-145 days', '-52 days', '180 days',\n",
       "       '233 days', '-2 days -14:32:45.355321', '196 days', '-295 days',\n",
       "       '-173 days', '246 days', '-114 days', '-83 days', '361 days',\n",
       "       '337 days', '-224 days', '219 days', '-227 days', '282 days',\n",
       "       '353 days', '-737966 days', '-737959 days', '-738029 days',\n",
       "       '-737938 days', '-738008 days', '-737931 days', '-738015 days',\n",
       "       '-737924 days', '-737945 days', '-738001 days', '-738036 days',\n",
       "       '-738022 days', '-737987 days', '-737917 days', '-738043 days',\n",
       "       '-737980 days', '-737994 days', '-738050 days', '-737952 days',\n",
       "       '-738057 days', '-737973 days', '-737910 days', '-65 days'],\n",
       "      dtype=object)"
      ]
     },
     "execution_count": 25,
     "metadata": {},
     "output_type": "execute_result"
    }
   ],
   "source": [
    "dfReservations2021['nights'].unique()"
   ]
  },
  {
   "cell_type": "markdown",
   "metadata": {
    "pycharm": {
     "name": "#%% md\n"
    }
   },
   "source": [
    "## Camping"
   ]
  },
  {
   "cell_type": "code",
   "execution_count": null,
   "metadata": {
    "pycharm": {
     "name": "#%%\n"
    }
   },
   "outputs": [],
   "source": [
    "dfReservations2021 = dfReservations2021[dfReservations2021['inventorytype'] == 'CAMPING']"
   ]
  },
  {
   "cell_type": "code",
   "execution_count": 29,
   "metadata": {},
   "outputs": [
    {
     "data": {
      "text/plain": [
       "agency\n",
       "BLM      2.080946e+06\n",
       "BOR      6.912655e+05\n",
       "FWS      3.111091e+05\n",
       "NPS      3.951534e+07\n",
       "USACE    6.509038e+07\n",
       "USFS     7.453539e+07\n",
       "Name: totalpaid, dtype: float64"
      ]
     },
     "execution_count": 29,
     "metadata": {},
     "output_type": "execute_result"
    }
   ],
   "source": [
    "dfReservations2021.groupby('agency')['totalpaid'].sum()"
   ]
  },
  {
   "cell_type": "code",
   "execution_count": 30,
   "metadata": {},
   "outputs": [
    {
     "data": {
      "text/plain": [
       "park\n",
       " Evans Campground                                                           28761.25\n",
       " Gifford Campground                                                         38058.75\n",
       " Kamloops Island Campground                                                  9889.00\n",
       "(LAKE ALPINE)  SILVER TIP CAMPGROUND                                        51395.67\n",
       "(LAKE ALPINE) SILVER VALLEY CAMPGROUND                                      34805.00\n",
       "                                                                             ...    \n",
       "Yaak River Campground (MT)                                                     60.00\n",
       "Yakima River Canyon Campgrounds (Umtanum, Lmuma Creek, Big Pines, Roza)     61959.00\n",
       "Yellowjacket Creek Recreation Area                                            600.00\n",
       "ZILPO - DANIEL BOONE NAT. FOR.                                             286142.79\n",
       "ZIPS PLACE CABIN                                                            20068.00\n",
       "Name: totalpaid, Length: 3628, dtype: float64"
      ]
     },
     "execution_count": 30,
     "metadata": {},
     "output_type": "execute_result"
    }
   ],
   "source": [
    "dfReservations2021.groupby('park')['totalpaid'].sum()"
   ]
  },
  {
   "cell_type": "markdown",
   "metadata": {
    "pycharm": {
     "name": "#%% md\n"
    }
   },
   "source": [
    "### Zip Code\n",
    "\n",
    "Zip code is a primary dimension for grouping users."
   ]
  },
  {
   "cell_type": "code",
   "execution_count": 31,
   "metadata": {
    "pycharm": {
     "name": "#%%\n"
    }
   },
   "outputs": [
    {
     "data": {
      "text/plain": [
       "park\n",
       " Evans Campground                                                           425\n",
       " Gifford Campground                                                         577\n",
       " Kamloops Island Campground                                                 136\n",
       "(LAKE ALPINE)  SILVER TIP CAMPGROUND                                        742\n",
       "(LAKE ALPINE) SILVER VALLEY CAMPGROUND                                      487\n",
       "                                                                           ... \n",
       "Yaak River Campground (MT)                                                    2\n",
       "Yakima River Canyon Campgrounds (Umtanum, Lmuma Creek, Big Pines, Roza)    1356\n",
       "Yellowjacket Creek Recreation Area                                            4\n",
       "ZILPO - DANIEL BOONE NAT. FOR.                                             2548\n",
       "ZIPS PLACE CABIN                                                            158\n",
       "Name: customerzip, Length: 3628, dtype: int64"
      ]
     },
     "execution_count": 31,
     "metadata": {},
     "output_type": "execute_result"
    }
   ],
   "source": [
    "dfReservations2021.groupby('park')['customerzip'].count()"
   ]
  },
  {
   "cell_type": "code",
   "execution_count": 32,
   "metadata": {
    "pycharm": {
     "name": "#%%\n"
    }
   },
   "outputs": [
    {
     "data": {
      "text/plain": [
       "array([nan, '99709', '99706', ..., '99699', '99891', '96923'],\n",
       "      dtype=object)"
      ]
     },
     "execution_count": 32,
     "metadata": {},
     "output_type": "execute_result"
    }
   ],
   "source": [
    "# explore unique zip codes\n",
    "dfReservations2021['customerzip'].unique()"
   ]
  },
  {
   "cell_type": "code",
   "execution_count": 33,
   "metadata": {
    "pycharm": {
     "name": "#%%\n"
    }
   },
   "outputs": [],
   "source": [
    "# drop records with no zip code\n",
    "dfReservations2021.dropna(subset=['customerzip'], inplace=True)"
   ]
  },
  {
   "cell_type": "code",
   "execution_count": 34,
   "metadata": {
    "pycharm": {
     "name": "#%%\n"
    }
   },
   "outputs": [],
   "source": [
    "# truncate zip to 5 digit value\n",
    "dfReservations2021['cleanzip'] = dfReservations2021.customerzip.str.extract(r'(\\d{5})')"
   ]
  },
  {
   "cell_type": "code",
   "execution_count": 35,
   "metadata": {
    "pycharm": {
     "name": "#%%\n"
    }
   },
   "outputs": [
    {
     "data": {
      "text/plain": [
       "1          99709\n",
       "2          99706\n",
       "3          99709\n",
       "4          99709\n",
       "6          84401\n",
       "           ...  \n",
       "7660324    84050\n",
       "7660325    88030\n",
       "7660326    87059\n",
       "7660327    87008\n",
       "7660328    87305\n",
       "Name: cleanzip, Length: 2920335, dtype: object"
      ]
     },
     "execution_count": 35,
     "metadata": {},
     "output_type": "execute_result"
    }
   ],
   "source": [
    "dfReservations2021['cleanzip']"
   ]
  },
  {
   "cell_type": "code",
   "execution_count": 36,
   "metadata": {
    "pycharm": {
     "name": "#%%\n"
    }
   },
   "outputs": [
    {
     "data": {
      "text/plain": [
       "33490"
      ]
     },
     "execution_count": 36,
     "metadata": {},
     "output_type": "execute_result"
    }
   ],
   "source": [
    "# how many unique zip codes?\n",
    "len(dfReservations2021['cleanzip'].unique())"
   ]
  },
  {
   "cell_type": "markdown",
   "metadata": {},
   "source": [
    "## Nights"
   ]
  },
  {
   "cell_type": "code",
   "execution_count": 37,
   "metadata": {
    "pycharm": {
     "name": "#%%\n"
    }
   },
   "outputs": [
    {
     "data": {
      "text/plain": [
       "array(['1 day', '3 days', '2 days', '00:00:00', '21 days', '29 days',\n",
       "       '30 days', '8 days', '23 days', '9 days', '-2 days', '22 days',\n",
       "       '5 days', '7 days', '14 days', '4 days', '6 days', '10 days',\n",
       "       '13 days', '12 days', '11 days', '35 days', '16 days', '17 days',\n",
       "       '26 days', '58 days', '32 days', '-20 days', '19 days', '27 days',\n",
       "       '18 days', '-5 days', '-13 days', '-19 days', '-3 days',\n",
       "       '142 days', '-4 days', '40 days', '15 days', '106 days', '-1 days',\n",
       "       '42 days', '-12 days', '33 days', '211 days', '36 days', nan,\n",
       "       '31 days', '-6 days', '-10 days', '-22 days', '-44 days',\n",
       "       '-9 days', '53 days', '37 days', '71 days', '121 days', '-40 days',\n",
       "       '93 days', '81 days', '49 days', '80 days', '45 days', '51 days',\n",
       "       '38 days', '-25 days', '-34 days', '24 days', '52 days', '91 days',\n",
       "       '-18 days', '55 days', '-146 days', '-110 days', '43 days',\n",
       "       '64 days', '25 days', '135 days', '176 days', '123 days',\n",
       "       '113 days', '115 days', '99 days', '96 days', '114 days',\n",
       "       '241 days', '72 days', '136 days', '54 days', '169 days',\n",
       "       '62 days', '50 days', '266 days', '-11 days', '191 days',\n",
       "       '-37 days', '215 days', '137 days', '20 days', '92 days',\n",
       "       '138 days', '69 days', '-36 days', '171 days', '-24 days',\n",
       "       '185 days', '95 days', '98 days', '61 days', '-33 days',\n",
       "       '130 days', '181 days', '157 days', '59 days', '78 days',\n",
       "       '125 days', '39 days', '162 days', '28 days', '179 days',\n",
       "       '183 days', '129 days', '184 days', '163 days', '164 days',\n",
       "       '104 days', '-82 days', '134 days', '94 days', '68 days',\n",
       "       '85 days', '218 days', '122 days', '168 days', '101 days',\n",
       "       '297 days', '60 days', '79 days', '-7 days', '-80 days', '89 days',\n",
       "       '-62 days', '34 days', '57 days', '-16 days', '44 days',\n",
       "       '-21 days', '82 days', '194 days', '178 days', '65 days',\n",
       "       '175 days', '154 days', '105 days', '48 days', '151 days',\n",
       "       '190 days', '150 days', '-38 days', '187 days', '63 days',\n",
       "       '-174 days', '67 days', '-122 days', '141 days', '97 days',\n",
       "       '344 days', '-15 days', '144 days', '109 days', '56 days',\n",
       "       '161 days', '-8 days', '41 days', '-93 days', '-61 days',\n",
       "       '117 days', '170 days', '84 days', '-28 days', '177 days',\n",
       "       '-26 days', '-42 days', '364 days', '-68 days', '86 days',\n",
       "       '100 days', '156 days', '128 days', '149 days', '107 days',\n",
       "       '-14 days', '111 days', '127 days', '77 days', '-29 days',\n",
       "       '120 days', '76 days', '-27 days', '182 days', '66 days',\n",
       "       '-30 days', '240 days', '203 days', '90 days', '200 days',\n",
       "       '75 days', '303 days', '174 days', '133 days', '331 days',\n",
       "       '-32 days', '46 days', '-41 days', '-81 days', '172 days',\n",
       "       '-78 days', '119 days', '148 days', '197 days', '205 days',\n",
       "       '124 days', '-53 days', '108 days', '-152 days', '139 days',\n",
       "       '87 days', '74 days', '-35 days', '-17 days', '-89 days',\n",
       "       '153 days', '-39 days', '132 days', '83 days', '-31 days',\n",
       "       '73 days', '-75 days', '118 days', '155 days', '188 days',\n",
       "       '173 days', '-48 days', '277 days', '-47 days', '47 days',\n",
       "       '-74 days', '112 days', '88 days', '152 days', '166 days',\n",
       "       '103 days', '126 days', '-46 days', '102 days', '-100 days',\n",
       "       '-77 days', '-79 days', '-67 days', '116 days', '-109 days',\n",
       "       '-90 days', '158 days', '-60 days', '212 days', '165 days',\n",
       "       '-51 days', '110 days', '-59 days', '363 days', '262 days',\n",
       "       '-23 days', '160 days', '237 days', '186 days', '230 days',\n",
       "       '143 days', '-43 days', '-171 days', '204 days', '140 days',\n",
       "       '261 days', '-144 days', '167 days', '-88 days', '325 days',\n",
       "       '270 days', '-54 days', '-298 days', '70 days', '232 days',\n",
       "       '-73 days', '210 days', '201 days', '-64 days', '-118 days',\n",
       "       '-84 days', '382 days', '308 days', '145 days', '-72 days',\n",
       "       '349 days', '-45 days', '352 days', '-98 days', '-191 days',\n",
       "       '239 days', '-55 days', '159 days', '338 days', '198 days',\n",
       "       '326 days', '-126 days', '251 days', '-96 days', '-104 days',\n",
       "       '247 days', '-50 days', '-91 days', '-58 days', '-145 days',\n",
       "       '180 days', '233 days', '196 days', '-173 days', '246 days',\n",
       "       '-114 days', '-83 days', '361 days', '337 days', '-224 days',\n",
       "       '-227 days', '282 days', '353 days'], dtype=object)"
      ]
     },
     "execution_count": 37,
     "metadata": {},
     "output_type": "execute_result"
    }
   ],
   "source": [
    "dfReservations2021.nights.unique()"
   ]
  },
  {
   "cell_type": "code",
   "execution_count": 38,
   "metadata": {
    "pycharm": {
     "name": "#%%\n"
    }
   },
   "outputs": [],
   "source": [
    "def format_nights(night_str):\n",
    "    try:\n",
    "        result = night_str.split(' ')\n",
    "        return int(result[0])\n",
    "    except:\n",
    "        return 0"
   ]
  },
  {
   "cell_type": "code",
   "execution_count": 39,
   "metadata": {
    "pycharm": {
     "name": "#%%\n"
    }
   },
   "outputs": [
    {
     "data": {
      "text/plain": [
       "6"
      ]
     },
     "execution_count": 39,
     "metadata": {},
     "output_type": "execute_result"
    }
   ],
   "source": [
    "format_nights('6 days')"
   ]
  },
  {
   "cell_type": "code",
   "execution_count": 40,
   "metadata": {
    "pycharm": {
     "name": "#%%\n"
    }
   },
   "outputs": [],
   "source": [
    "dfReservations2021['cleannights'] = dfReservations2021.apply(lambda x: format_nights(x['nights']), axis=1)"
   ]
  },
  {
   "cell_type": "markdown",
   "metadata": {
    "pycharm": {
     "name": "#%% md\n"
    }
   },
   "source": [
    "### Data Types\n",
    "\n",
    "Cast columns to correct data type"
   ]
  },
  {
   "cell_type": "code",
   "execution_count": 41,
   "metadata": {
    "pycharm": {
     "name": "#%%\n"
    }
   },
   "outputs": [],
   "source": [
    "dfReservations2021['startdate'] = pd.to_datetime(dfReservations2021['startdate'], errors='coerce')"
   ]
  },
  {
   "cell_type": "code",
   "execution_count": 42,
   "metadata": {
    "pycharm": {
     "name": "#%%\n"
    }
   },
   "outputs": [],
   "source": [
    "dfReservations2021['enddate'] = pd.to_datetime(dfReservations2021['enddate'], errors='coerce')"
   ]
  },
  {
   "cell_type": "code",
   "execution_count": 43,
   "metadata": {
    "pycharm": {
     "name": "#%%\n"
    }
   },
   "outputs": [],
   "source": [
    "dfReservations2021['orderdate'] = pd.to_datetime(dfReservations2021['orderdate'], errors='coerce')"
   ]
  },
  {
   "cell_type": "code",
   "execution_count": 44,
   "metadata": {
    "pycharm": {
     "name": "#%%\n"
    }
   },
   "outputs": [],
   "source": [
    "dfReservations2021['numberofpeople'] = pd.to_numeric(dfReservations2021['numberofpeople'], downcast='integer')"
   ]
  },
  {
   "cell_type": "code",
   "execution_count": 45,
   "metadata": {
    "pycharm": {
     "name": "#%%\n"
    }
   },
   "outputs": [],
   "source": [
    "dfReservations2021['cleanzip'] = pd.to_numeric(dfReservations2021['cleanzip'], downcast='integer')"
   ]
  },
  {
   "cell_type": "code",
   "execution_count": 46,
   "metadata": {
    "pycharm": {
     "name": "#%%\n"
    }
   },
   "outputs": [],
   "source": [
    "dfReservations2021['cleannights'] = pd.to_numeric(dfReservations2021['cleannights'], downcast='integer')"
   ]
  },
  {
   "cell_type": "code",
   "execution_count": 47,
   "metadata": {
    "pycharm": {
     "name": "#%%\n"
    }
   },
   "outputs": [],
   "source": [
    "dfReservations2021['participation'] = dfReservations2021['numberofpeople'] * dfReservations2021['cleannights']\n",
    "dfReservations2021['participation'] = pd.to_numeric(dfReservations2021['participation'], downcast='integer')\n",
    "# drop where row is zero or less\n",
    "indices = dfReservations2021[dfReservations2021['participation'] < 0].index\n",
    "dfReservations2021.drop(indices, inplace=True)"
   ]
  },
  {
   "cell_type": "code",
   "execution_count": 48,
   "metadata": {
    "pycharm": {
     "name": "#%%\n"
    }
   },
   "outputs": [],
   "source": [
    "dfReservations2021['participation'] = pd.to_numeric(dfReservations2021['participation'], downcast='integer')"
   ]
  },
  {
   "cell_type": "code",
   "execution_count": 49,
   "metadata": {
    "pycharm": {
     "name": "#%%\n"
    }
   },
   "outputs": [
    {
     "data": {
      "text/plain": [
       "ordernumber                  object\n",
       "agency                       object\n",
       "orgid                       float64\n",
       "parentlocationid             object\n",
       "park                         object\n",
       "sitetype                     object\n",
       "usetype                      object\n",
       "productid                    object\n",
       "inventorytype                object\n",
       "facilityid                   object\n",
       "facilityzip                 float64\n",
       "facilitystate                object\n",
       "facilitylongitude           float64\n",
       "facilitylatitude            float64\n",
       "customerzip                  object\n",
       "totalpaid                   float64\n",
       "startdate            datetime64[ns]\n",
       "enddate              datetime64[ns]\n",
       "orderdate            datetime64[ns]\n",
       "nights                       object\n",
       "numberofpeople              float64\n",
       "orderno                      object\n",
       "orderversion                 object\n",
       "cleanzip                    float64\n",
       "cleannights                   int16\n",
       "participation               float64\n",
       "dtype: object"
      ]
     },
     "execution_count": 49,
     "metadata": {},
     "output_type": "execute_result"
    }
   ],
   "source": [
    "# review progress\n",
    "dfReservations2021.dtypes"
   ]
  },
  {
   "cell_type": "code",
   "execution_count": 52,
   "metadata": {
    "pycharm": {
     "name": "#%%\n"
    }
   },
   "outputs": [],
   "source": [
    "proposed_features = ['agency',\n",
    "                     'orgid',\n",
    "                     'parentlocationid',\n",
    "                     'park',\n",
    "                     'sitetype',\n",
    "                     'usetype',\n",
    "                     'productid',\n",
    "                     'inventorytype',\n",
    "                     'facilityid',\n",
    "                     'facilityzip',\n",
    "                     'facilitystate',\n",
    "                     'facilitylongitude',\n",
    "                     'facilitylatitude',\n",
    "                     'startdate',\n",
    "                     'enddate',\n",
    "                     'orderdate',\n",
    "                     'numberofpeople',\n",
    "                     'cleanzip',\n",
    "                     'cleannights',\n",
    "                     'participation']"
   ]
  },
  {
   "cell_type": "code",
   "execution_count": 53,
   "metadata": {
    "pycharm": {
     "name": "#%%\n"
    }
   },
   "outputs": [],
   "source": [
    "dfFeatures = dfReservations2021[proposed_features]"
   ]
  },
  {
   "cell_type": "code",
   "execution_count": 54,
   "metadata": {
    "pycharm": {
     "name": "#%%\n"
    }
   },
   "outputs": [
    {
     "data": {
      "text/html": [
       "<div>\n",
       "<style scoped>\n",
       "    .dataframe tbody tr th:only-of-type {\n",
       "        vertical-align: middle;\n",
       "    }\n",
       "\n",
       "    .dataframe tbody tr th {\n",
       "        vertical-align: top;\n",
       "    }\n",
       "\n",
       "    .dataframe thead th {\n",
       "        text-align: right;\n",
       "    }\n",
       "</style>\n",
       "<table border=\"1\" class=\"dataframe\">\n",
       "  <thead>\n",
       "    <tr style=\"text-align: right;\">\n",
       "      <th></th>\n",
       "      <th>agency</th>\n",
       "      <th>orgid</th>\n",
       "      <th>parentlocationid</th>\n",
       "      <th>park</th>\n",
       "      <th>sitetype</th>\n",
       "      <th>usetype</th>\n",
       "      <th>productid</th>\n",
       "      <th>inventorytype</th>\n",
       "      <th>facilityid</th>\n",
       "      <th>facilityzip</th>\n",
       "      <th>facilitystate</th>\n",
       "      <th>facilitylongitude</th>\n",
       "      <th>facilitylatitude</th>\n",
       "      <th>startdate</th>\n",
       "      <th>enddate</th>\n",
       "      <th>orderdate</th>\n",
       "      <th>numberofpeople</th>\n",
       "      <th>cleanzip</th>\n",
       "      <th>cleannights</th>\n",
       "      <th>participation</th>\n",
       "    </tr>\n",
       "  </thead>\n",
       "  <tbody>\n",
       "    <tr>\n",
       "      <th>1</th>\n",
       "      <td>BLM</td>\n",
       "      <td>126.0</td>\n",
       "      <td>72195</td>\n",
       "      <td>White Mountains National Recreation Area - Ala...</td>\n",
       "      <td>CABIN NONELECTRIC</td>\n",
       "      <td>Overnight</td>\n",
       "      <td>639772</td>\n",
       "      <td>CAMPING</td>\n",
       "      <td>252494</td>\n",
       "      <td>99730.0</td>\n",
       "      <td>Alaska</td>\n",
       "      <td>-147.243361</td>\n",
       "      <td>65.427497</td>\n",
       "      <td>2020-10-23</td>\n",
       "      <td>2020-10-24</td>\n",
       "      <td>2020-09-28 23:22:18.538</td>\n",
       "      <td>2.0</td>\n",
       "      <td>99709.0</td>\n",
       "      <td>1</td>\n",
       "      <td>2.0</td>\n",
       "    </tr>\n",
       "    <tr>\n",
       "      <th>2</th>\n",
       "      <td>BLM</td>\n",
       "      <td>126.0</td>\n",
       "      <td>72195</td>\n",
       "      <td>White Mountains National Recreation Area - Ala...</td>\n",
       "      <td>CABIN NONELECTRIC</td>\n",
       "      <td>Overnight</td>\n",
       "      <td>639772</td>\n",
       "      <td>CAMPING</td>\n",
       "      <td>252494</td>\n",
       "      <td>99730.0</td>\n",
       "      <td>Alaska</td>\n",
       "      <td>-147.243361</td>\n",
       "      <td>65.427497</td>\n",
       "      <td>2020-10-03</td>\n",
       "      <td>2020-10-04</td>\n",
       "      <td>2020-09-19 01:03:11.146</td>\n",
       "      <td>2.0</td>\n",
       "      <td>99706.0</td>\n",
       "      <td>1</td>\n",
       "      <td>2.0</td>\n",
       "    </tr>\n",
       "    <tr>\n",
       "      <th>3</th>\n",
       "      <td>BLM</td>\n",
       "      <td>126.0</td>\n",
       "      <td>72195</td>\n",
       "      <td>White Mountains National Recreation Area - Ala...</td>\n",
       "      <td>CABIN NONELECTRIC</td>\n",
       "      <td>Overnight</td>\n",
       "      <td>639772</td>\n",
       "      <td>CAMPING</td>\n",
       "      <td>252494</td>\n",
       "      <td>99730.0</td>\n",
       "      <td>Alaska</td>\n",
       "      <td>-147.243361</td>\n",
       "      <td>65.427497</td>\n",
       "      <td>2020-10-10</td>\n",
       "      <td>2020-10-11</td>\n",
       "      <td>2020-09-16 19:57:02.020</td>\n",
       "      <td>0.0</td>\n",
       "      <td>99709.0</td>\n",
       "      <td>1</td>\n",
       "      <td>0.0</td>\n",
       "    </tr>\n",
       "    <tr>\n",
       "      <th>4</th>\n",
       "      <td>BLM</td>\n",
       "      <td>126.0</td>\n",
       "      <td>72195</td>\n",
       "      <td>White Mountains National Recreation Area - Ala...</td>\n",
       "      <td>CABIN NONELECTRIC</td>\n",
       "      <td>Overnight</td>\n",
       "      <td>639772</td>\n",
       "      <td>CAMPING</td>\n",
       "      <td>252494</td>\n",
       "      <td>99730.0</td>\n",
       "      <td>Alaska</td>\n",
       "      <td>-147.243361</td>\n",
       "      <td>65.427497</td>\n",
       "      <td>2020-10-09</td>\n",
       "      <td>2020-10-10</td>\n",
       "      <td>2020-09-16 19:48:32.168</td>\n",
       "      <td>1.0</td>\n",
       "      <td>99709.0</td>\n",
       "      <td>1</td>\n",
       "      <td>1.0</td>\n",
       "    </tr>\n",
       "    <tr>\n",
       "      <th>6</th>\n",
       "      <td>BLM</td>\n",
       "      <td>126.0</td>\n",
       "      <td>72195</td>\n",
       "      <td>White Mountains National Recreation Area - Ala...</td>\n",
       "      <td>CABIN NONELECTRIC</td>\n",
       "      <td>Overnight</td>\n",
       "      <td>639772</td>\n",
       "      <td>CAMPING</td>\n",
       "      <td>252494</td>\n",
       "      <td>99730.0</td>\n",
       "      <td>Alaska</td>\n",
       "      <td>-147.243361</td>\n",
       "      <td>65.427497</td>\n",
       "      <td>2020-10-26</td>\n",
       "      <td>2020-10-27</td>\n",
       "      <td>2020-09-30 18:32:29.447</td>\n",
       "      <td>4.0</td>\n",
       "      <td>84401.0</td>\n",
       "      <td>1</td>\n",
       "      <td>4.0</td>\n",
       "    </tr>\n",
       "  </tbody>\n",
       "</table>\n",
       "</div>"
      ],
      "text/plain": [
       "  agency  orgid parentlocationid  \\\n",
       "1    BLM  126.0            72195   \n",
       "2    BLM  126.0            72195   \n",
       "3    BLM  126.0            72195   \n",
       "4    BLM  126.0            72195   \n",
       "6    BLM  126.0            72195   \n",
       "\n",
       "                                                park           sitetype  \\\n",
       "1  White Mountains National Recreation Area - Ala...  CABIN NONELECTRIC   \n",
       "2  White Mountains National Recreation Area - Ala...  CABIN NONELECTRIC   \n",
       "3  White Mountains National Recreation Area - Ala...  CABIN NONELECTRIC   \n",
       "4  White Mountains National Recreation Area - Ala...  CABIN NONELECTRIC   \n",
       "6  White Mountains National Recreation Area - Ala...  CABIN NONELECTRIC   \n",
       "\n",
       "     usetype productid inventorytype facilityid  facilityzip facilitystate  \\\n",
       "1  Overnight    639772       CAMPING     252494      99730.0        Alaska   \n",
       "2  Overnight    639772       CAMPING     252494      99730.0        Alaska   \n",
       "3  Overnight    639772       CAMPING     252494      99730.0        Alaska   \n",
       "4  Overnight    639772       CAMPING     252494      99730.0        Alaska   \n",
       "6  Overnight    639772       CAMPING     252494      99730.0        Alaska   \n",
       "\n",
       "   facilitylongitude  facilitylatitude  startdate    enddate  \\\n",
       "1        -147.243361         65.427497 2020-10-23 2020-10-24   \n",
       "2        -147.243361         65.427497 2020-10-03 2020-10-04   \n",
       "3        -147.243361         65.427497 2020-10-10 2020-10-11   \n",
       "4        -147.243361         65.427497 2020-10-09 2020-10-10   \n",
       "6        -147.243361         65.427497 2020-10-26 2020-10-27   \n",
       "\n",
       "                orderdate  numberofpeople  cleanzip  cleannights  \\\n",
       "1 2020-09-28 23:22:18.538             2.0   99709.0            1   \n",
       "2 2020-09-19 01:03:11.146             2.0   99706.0            1   \n",
       "3 2020-09-16 19:57:02.020             0.0   99709.0            1   \n",
       "4 2020-09-16 19:48:32.168             1.0   99709.0            1   \n",
       "6 2020-09-30 18:32:29.447             4.0   84401.0            1   \n",
       "\n",
       "   participation  \n",
       "1            2.0  \n",
       "2            2.0  \n",
       "3            0.0  \n",
       "4            1.0  \n",
       "6            4.0  "
      ]
     },
     "execution_count": 54,
     "metadata": {},
     "output_type": "execute_result"
    }
   ],
   "source": [
    "dfFeatures.head()"
   ]
  },
  {
   "cell_type": "code",
   "execution_count": 55,
   "metadata": {
    "pycharm": {
     "name": "#%%\n"
    }
   },
   "outputs": [
    {
     "data": {
      "text/plain": [
       "<matplotlib.axes._subplots.AxesSubplot at 0x29a427e7160>"
      ]
     },
     "execution_count": 55,
     "metadata": {},
     "output_type": "execute_result"
    },
    {
     "data": {
      "image/png": "[encoded data removed]",
      "text/plain": [
       "<Figure size 432x288 with 1 Axes>"
      ]
     },
     "metadata": {
      "needs_background": "light"
     },
     "output_type": "display_data"
    }
   ],
   "source": [
    "# typical group size\n",
    "dfFeatures.numberofpeople.plot.box()"
   ]
  },
  {
   "cell_type": "code",
   "execution_count": 56,
   "metadata": {
    "pycharm": {
     "name": "#%%\n"
    }
   },
   "outputs": [
    {
     "data": {
      "text/plain": [
       "<matplotlib.axes._subplots.AxesSubplot at 0x29a421e7f10>"
      ]
     },
     "execution_count": 56,
     "metadata": {},
     "output_type": "execute_result"
    },
    {
     "data": {
      "image/png": "[encoded data removed]",
      "text/plain": [
       "<Figure size 432x288 with 1 Axes>"
      ]
     },
     "metadata": {
      "needs_background": "light"
     },
     "output_type": "display_data"
    }
   ],
   "source": [
    "# typical nights\n",
    "dfFeatures.cleannights.plot.box()"
   ]
  },
  {
   "cell_type": "code",
   "execution_count": 57,
   "metadata": {
    "pycharm": {
     "name": "#%%\n"
    }
   },
   "outputs": [
    {
     "data": {
      "text/plain": [
       "<matplotlib.axes._subplots.AxesSubplot at 0x29a41eba940>"
      ]
     },
     "execution_count": 57,
     "metadata": {},
     "output_type": "execute_result"
    },
    {
     "data": {
      "image/png": "[encoded data removed]",
      "text/plain": [
       "<Figure size 432x288 with 1 Axes>"
      ]
     },
     "metadata": {
      "needs_background": "light"
     },
     "output_type": "display_data"
    }
   ],
   "source": [
    "# plot people vs nights\n",
    "dfFeatures.plot.scatter(x='numberofpeople', y='cleannights')"
   ]
  },
  {
   "cell_type": "markdown",
   "metadata": {
    "pycharm": {
     "name": "#%% md\n"
    }
   },
   "source": [
    "## Conclusion\n",
    "\n",
    "The nights and number of people derived from the dataset are unreliable and will require additional fixing.\n",
    "\n",
    "Date time values have some default values that are problematic.\n",
    "\n",
    "The order number appears more than once, further study is necessary to de-duplicate and take the final entry, ie, XXX-2 instead of XXX-1."
   ]
  },
  {
   "cell_type": "code",
   "execution_count": 58,
   "metadata": {
    "pycharm": {
     "name": "#%%\n"
    }
   },
   "outputs": [],
   "source": [
    "# use proposed features and export camping reservations\n",
    "dfFeatures.to_csv('REC.csv', index=False)"
   ]
  },
  {
   "cell_type": "code",
   "execution_count": 59,
   "metadata": {
    "pycharm": {
     "name": "#%%\n"
    }
   },
   "outputs": [],
   "source": [
    "# export camping reservations for ALS\n",
    "dfALSProduct = dfFeatures[['productid', 'cleanzip', 'participation']]\n",
    "dfALSProduct.rename(columns={'productid': 'item', 'cleanzip': 'user', 'participation': 'rating'})\n",
    "dfALSProduct.to_csv('REC_ALS.csv', index=False)"
   ]
  },
  {
   "cell_type": "code",
   "execution_count": 60,
   "metadata": {
    "pycharm": {
     "name": "#%%\n"
    }
   },
   "outputs": [],
   "source": [
    "# export camping reservations for ALS\n",
    "dfALSFacility = dfFeatures[['facilityid', 'cleanzip', 'participation']]\n",
    "dfALSProduct.rename(columns={'productid': 'item', 'cleanzip': 'user', 'participation': 'rating'})\n",
    "dfALSFacility.to_csv('REC_ALS_Facility.csv', index=False)"
   ]
  },
  {
   "cell_type": "markdown",
   "metadata": {
    "pycharm": {
     "name": "#%% md\n"
    }
   },
   "source": [
    "## Conclusion\n",
    "\n",
    "The nights and number of people derived from the dataset are unreliable and will require additional fixing.\n",
    "\n",
    "Date time values have some default values that are problematic."
   ]
  },
  {
   "cell_type": "code",
   "execution_count": 61,
   "metadata": {
    "pycharm": {
     "name": "#%%\n"
    }
   },
   "outputs": [
    {
     "data": {
      "text/plain": [
       "array([  1,   3,   2,   0,  21,  29,  30,   8,  23,   9,  22,   5,   7,\n",
       "        14,   4,   6,  10,  13,  12,  11,  35,  16,  17,  26,  58,  32,\n",
       "        19,  27,  18, 142,  40,  15, 106,  42,  33, 211,  36,  31,  53,\n",
       "        37,  71, 121,  93,  81,  49,  80,  45,  51,  38,  24,  52,  91,\n",
       "        55,  43,  64,  25, 135, 176, 123, 113, 115,  99,  96, 114, 241,\n",
       "        72, 136,  54, 169,  62,  50, 266, 191, 215, 137,  20,  92, 138,\n",
       "        69, 171, 185,  95,  98,  61, 130, 181, 157,  59,  78, 125,  39,\n",
       "       162,  28, 179, 183, 129, 184, 163, 164, 104, 134,  94,  68,  85,\n",
       "       218, 122, 168, 101, 297,  60,  79,  89,  34,  57,  44,  82, 194,\n",
       "       178,  65, 175, 154, 105,  48, 151, 190, 150, 187,  63,  67, 141,\n",
       "        97, 344, 144, 109,  56, 161,  41, 117, 170,  84, 177, 364,  -4,\n",
       "        86, 100, 156, 128, 149, 107, 111, 127,  77, 120,  76, 182,  66,\n",
       "       240, 203,  90, 200,  75, 303, 174, 133, 331,  46, 172, 119, 148,\n",
       "       197, 205, 124, 108, 139,  87,  74, 153, 132,  83,  73, 118, 155,\n",
       "       188, 173, 277,  47, 112,  88, 152, 166, 103, 126, 102, 116, 158,\n",
       "        -3,  -5, 212, 165, 110, 363, 262, 160, 237, 186, 230, 143, 204,\n",
       "       140, 261,  -7, 167, 325, 270,  70, 232, 210, 201, 382, 308, 145,\n",
       "       349, 352, 239, 159, 338, 198, 326, 251, 247, 180, 233, 196, 246,\n",
       "       361, 337, 282, 353], dtype=int16)"
      ]
     },
     "execution_count": 61,
     "metadata": {},
     "output_type": "execute_result"
    }
   ],
   "source": [
    "dfFeatures.cleannights.unique()"
   ]
  },
  {
   "cell_type": "code",
   "execution_count": 62,
   "metadata": {
    "pycharm": {
     "name": "#%%\n"
    }
   },
   "outputs": [
    {
     "name": "stderr",
     "output_type": "stream",
     "text": [
      "<ipython-input-62-5bab3f8f8015>:1: SettingWithCopyWarning: \n",
      "A value is trying to be set on a copy of a slice from a DataFrame.\n",
      "Try using .loc[row_indexer,col_indexer] = value instead\n",
      "\n",
      "See the caveats in the documentation: https://pandas.pydata.org/pandas-docs/stable/user_guide/indexing.html#returning-a-view-versus-a-copy\n",
      "  dfFeatures['datediff'] = (dfFeatures.enddate - dfFeatures.startdate).dt.days\n"
     ]
    }
   ],
   "source": [
    "dfFeatures['datediff'] = (dfFeatures.enddate - dfFeatures.startdate).dt.days"
   ]
  },
  {
   "cell_type": "code",
   "execution_count": 63,
   "metadata": {
    "pycharm": {
     "name": "#%%\n"
    }
   },
   "outputs": [
    {
     "data": {
      "text/plain": [
       "array([  1.,   3.,   2.,   0.,  21.,  29.,  30.,   8.,  23.,   9.,  22.,\n",
       "         5.,   7.,  14.,   4.,   6.,  10.,  13.,  12.,  11.,  35.,  16.,\n",
       "        17.,  26.,  58.,  32.,  19.,  27.,  18., 142.,  40.,  15., 106.,\n",
       "        42.,  33., 211.,  36.,  nan,  31.,  53.,  37.,  71., 121.,  93.,\n",
       "        81.,  49.,  80.,  45.,  51.,  38.,  24.,  52.,  91.,  55.,  43.,\n",
       "        64.,  25., 135., 176., 123., 113., 115.,  99.,  96., 114., 241.,\n",
       "        72., 136.,  54., 169.,  62.,  50., 266., 191., 215., 137.,  20.,\n",
       "        92., 138.,  69., 171., 185.,  95.,  98.,  61., 130., 181., 157.,\n",
       "        59.,  78., 125.,  39., 162.,  28., 179., 183., 129., 184., 163.,\n",
       "       164., 104., 134.,  94.,  68.,  85., 218., 122., 168., 101., 297.,\n",
       "        60.,  79.,  89.,  34.,  57.,  44.,  82., 194., 178.,  65., 175.,\n",
       "       154., 105.,  48., 151., 190., 150., 187.,  63.,  67., 141.,  97.,\n",
       "       344., 144., 109.,  56., 161.,  41., 117., 170.,  84., 177., 364.,\n",
       "        -4.,  86., 100., 156., 128., 149., 107., 111., 127.,  77., 120.,\n",
       "        76., 182.,  66., 240., 203.,  90., 200.,  75., 303., 174., 133.,\n",
       "       331.,  46., 172., 119., 148., 197., 205., 124., 108., 139.,  87.,\n",
       "        74., 153., 132.,  83.,  73., 118., 155., 188., 173., 277.,  47.,\n",
       "       112.,  88., 152., 166., 103., 126., 102., 116., 158.,  -3.,  -5.,\n",
       "       212., 165., 110., 363., 262., 160., 237., 186., 230., 143., 204.,\n",
       "       140., 261.,  -7., 167., 325., 270.,  70., 232., 210., 201., 382.,\n",
       "       308., 145., 349., 352., 239., 159., 338., 198., 326., 251., 247.,\n",
       "       180., 233., 196., 246., 361., 337., 282., 353.])"
      ]
     },
     "execution_count": 63,
     "metadata": {},
     "output_type": "execute_result"
    }
   ],
   "source": [
    "dfFeatures['datediff'].unique()"
   ]
  },
  {
   "cell_type": "code",
   "execution_count": 64,
   "metadata": {
    "pycharm": {
     "name": "#%%\n"
    }
   },
   "outputs": [
    {
     "data": {
      "text/html": [
       "<div>\n",
       "<style scoped>\n",
       "    .dataframe tbody tr th:only-of-type {\n",
       "        vertical-align: middle;\n",
       "    }\n",
       "\n",
       "    .dataframe tbody tr th {\n",
       "        vertical-align: top;\n",
       "    }\n",
       "\n",
       "    .dataframe thead th {\n",
       "        text-align: right;\n",
       "    }\n",
       "</style>\n",
       "<table border=\"1\" class=\"dataframe\">\n",
       "  <thead>\n",
       "    <tr style=\"text-align: right;\">\n",
       "      <th></th>\n",
       "      <th>agency</th>\n",
       "      <th>orgid</th>\n",
       "      <th>parentlocationid</th>\n",
       "      <th>park</th>\n",
       "      <th>sitetype</th>\n",
       "      <th>usetype</th>\n",
       "      <th>productid</th>\n",
       "      <th>inventorytype</th>\n",
       "      <th>facilityid</th>\n",
       "      <th>facilityzip</th>\n",
       "      <th>...</th>\n",
       "      <th>facilitylongitude</th>\n",
       "      <th>facilitylatitude</th>\n",
       "      <th>startdate</th>\n",
       "      <th>enddate</th>\n",
       "      <th>orderdate</th>\n",
       "      <th>numberofpeople</th>\n",
       "      <th>cleanzip</th>\n",
       "      <th>cleannights</th>\n",
       "      <th>participation</th>\n",
       "      <th>datediff</th>\n",
       "    </tr>\n",
       "  </thead>\n",
       "  <tbody>\n",
       "    <tr>\n",
       "      <th>405785</th>\n",
       "      <td>BLM</td>\n",
       "      <td>126.0</td>\n",
       "      <td>74977</td>\n",
       "      <td>Red Rock Canyon Campground</td>\n",
       "      <td>NaN</td>\n",
       "      <td>NaN</td>\n",
       "      <td>250877</td>\n",
       "      <td>CAMPING</td>\n",
       "      <td>250877</td>\n",
       "      <td>89135.0</td>\n",
       "      <td>...</td>\n",
       "      <td>-115.383889</td>\n",
       "      <td>36.131389</td>\n",
       "      <td>2021-09-17</td>\n",
       "      <td>NaT</td>\n",
       "      <td>2021-09-18 00:03:30.473</td>\n",
       "      <td>NaN</td>\n",
       "      <td>96555.0</td>\n",
       "      <td>0</td>\n",
       "      <td>NaN</td>\n",
       "      <td>NaN</td>\n",
       "    </tr>\n",
       "    <tr>\n",
       "      <th>1271698</th>\n",
       "      <td>NPS</td>\n",
       "      <td>128.0</td>\n",
       "      <td>74282</td>\n",
       "      <td>MATHER CAMPGROUND</td>\n",
       "      <td>NaN</td>\n",
       "      <td>NaN</td>\n",
       "      <td>232490</td>\n",
       "      <td>CAMPING</td>\n",
       "      <td>232490</td>\n",
       "      <td>86023.0</td>\n",
       "      <td>...</td>\n",
       "      <td>-112.120469</td>\n",
       "      <td>36.049722</td>\n",
       "      <td>2021-06-01</td>\n",
       "      <td>NaT</td>\n",
       "      <td>2020-12-08 02:18:02.636</td>\n",
       "      <td>NaN</td>\n",
       "      <td>55424.0</td>\n",
       "      <td>0</td>\n",
       "      <td>NaN</td>\n",
       "      <td>NaN</td>\n",
       "    </tr>\n",
       "    <tr>\n",
       "      <th>1287289</th>\n",
       "      <td>NPS</td>\n",
       "      <td>128.0</td>\n",
       "      <td>74282</td>\n",
       "      <td>MATHER CAMPGROUND</td>\n",
       "      <td>NaN</td>\n",
       "      <td>NaN</td>\n",
       "      <td>232490</td>\n",
       "      <td>CAMPING</td>\n",
       "      <td>232490</td>\n",
       "      <td>86023.0</td>\n",
       "      <td>...</td>\n",
       "      <td>-112.120469</td>\n",
       "      <td>36.049722</td>\n",
       "      <td>2021-04-05</td>\n",
       "      <td>NaT</td>\n",
       "      <td>2021-03-11 22:10:22.410</td>\n",
       "      <td>NaN</td>\n",
       "      <td>91501.0</td>\n",
       "      <td>0</td>\n",
       "      <td>NaN</td>\n",
       "      <td>NaN</td>\n",
       "    </tr>\n",
       "    <tr>\n",
       "      <th>1306286</th>\n",
       "      <td>NPS</td>\n",
       "      <td>128.0</td>\n",
       "      <td>74282</td>\n",
       "      <td>MATHER CAMPGROUND</td>\n",
       "      <td>NaN</td>\n",
       "      <td>NaN</td>\n",
       "      <td>232490</td>\n",
       "      <td>CAMPING</td>\n",
       "      <td>232490</td>\n",
       "      <td>86023.0</td>\n",
       "      <td>...</td>\n",
       "      <td>-112.120469</td>\n",
       "      <td>36.049722</td>\n",
       "      <td>2021-07-17</td>\n",
       "      <td>NaT</td>\n",
       "      <td>2021-07-17 19:53:04.490</td>\n",
       "      <td>NaN</td>\n",
       "      <td>33774.0</td>\n",
       "      <td>0</td>\n",
       "      <td>NaN</td>\n",
       "      <td>NaN</td>\n",
       "    </tr>\n",
       "    <tr>\n",
       "      <th>1568014</th>\n",
       "      <td>NPS</td>\n",
       "      <td>128.0</td>\n",
       "      <td>72451</td>\n",
       "      <td>Mammoth Campground (Yellowstone)</td>\n",
       "      <td>NaN</td>\n",
       "      <td>NaN</td>\n",
       "      <td>247571</td>\n",
       "      <td>CAMPING</td>\n",
       "      <td>247571</td>\n",
       "      <td>82190.0</td>\n",
       "      <td>...</td>\n",
       "      <td>-110.693232</td>\n",
       "      <td>44.973609</td>\n",
       "      <td>2021-08-12</td>\n",
       "      <td>NaT</td>\n",
       "      <td>2021-03-24 14:00:37.977</td>\n",
       "      <td>NaN</td>\n",
       "      <td>33176.0</td>\n",
       "      <td>0</td>\n",
       "      <td>NaN</td>\n",
       "      <td>NaN</td>\n",
       "    </tr>\n",
       "    <tr>\n",
       "      <th>...</th>\n",
       "      <td>...</td>\n",
       "      <td>...</td>\n",
       "      <td>...</td>\n",
       "      <td>...</td>\n",
       "      <td>...</td>\n",
       "      <td>...</td>\n",
       "      <td>...</td>\n",
       "      <td>...</td>\n",
       "      <td>...</td>\n",
       "      <td>...</td>\n",
       "      <td>...</td>\n",
       "      <td>...</td>\n",
       "      <td>...</td>\n",
       "      <td>...</td>\n",
       "      <td>...</td>\n",
       "      <td>...</td>\n",
       "      <td>...</td>\n",
       "      <td>...</td>\n",
       "      <td>...</td>\n",
       "      <td>...</td>\n",
       "      <td>...</td>\n",
       "    </tr>\n",
       "    <tr>\n",
       "      <th>7242965</th>\n",
       "      <td>USFS</td>\n",
       "      <td>131.0</td>\n",
       "      <td>74904</td>\n",
       "      <td>CANEBRAKE HORSE CAMP</td>\n",
       "      <td>NaN</td>\n",
       "      <td>NaN</td>\n",
       "      <td>233913</td>\n",
       "      <td>CAMPING</td>\n",
       "      <td>233913</td>\n",
       "      <td>27371.0</td>\n",
       "      <td>...</td>\n",
       "      <td>-80.048611</td>\n",
       "      <td>35.439444</td>\n",
       "      <td>2020-12-31</td>\n",
       "      <td>NaT</td>\n",
       "      <td>2020-12-17 15:14:22.984</td>\n",
       "      <td>NaN</td>\n",
       "      <td>28334.0</td>\n",
       "      <td>0</td>\n",
       "      <td>NaN</td>\n",
       "      <td>NaN</td>\n",
       "    </tr>\n",
       "    <tr>\n",
       "      <th>7269827</th>\n",
       "      <td>USFS</td>\n",
       "      <td>131.0</td>\n",
       "      <td>74905</td>\n",
       "      <td>STANDING INDIAN CAMPGROUND</td>\n",
       "      <td>NaN</td>\n",
       "      <td>NaN</td>\n",
       "      <td>234228</td>\n",
       "      <td>CAMPING</td>\n",
       "      <td>234228</td>\n",
       "      <td>28734.0</td>\n",
       "      <td>...</td>\n",
       "      <td>-83.531944</td>\n",
       "      <td>35.078611</td>\n",
       "      <td>2020-10-15</td>\n",
       "      <td>NaT</td>\n",
       "      <td>2020-07-29 14:36:52.558</td>\n",
       "      <td>NaN</td>\n",
       "      <td>33549.0</td>\n",
       "      <td>0</td>\n",
       "      <td>NaN</td>\n",
       "      <td>NaN</td>\n",
       "    </tr>\n",
       "    <tr>\n",
       "      <th>7297746</th>\n",
       "      <td>USFS</td>\n",
       "      <td>131.0</td>\n",
       "      <td>72319</td>\n",
       "      <td>THUNDER ROCK CAMPGROUND</td>\n",
       "      <td>NaN</td>\n",
       "      <td>NaN</td>\n",
       "      <td>251938</td>\n",
       "      <td>CAMPING</td>\n",
       "      <td>251938</td>\n",
       "      <td>37362.0</td>\n",
       "      <td>...</td>\n",
       "      <td>-84.485556</td>\n",
       "      <td>35.076111</td>\n",
       "      <td>2021-04-22</td>\n",
       "      <td>NaT</td>\n",
       "      <td>2021-04-19 03:20:25.240</td>\n",
       "      <td>NaN</td>\n",
       "      <td>30080.0</td>\n",
       "      <td>0</td>\n",
       "      <td>NaN</td>\n",
       "      <td>NaN</td>\n",
       "    </tr>\n",
       "    <tr>\n",
       "      <th>7611726</th>\n",
       "      <td>USFS</td>\n",
       "      <td>131.0</td>\n",
       "      <td>72715</td>\n",
       "      <td>SYLVANIA WILDERNESS BACKCOUNTRY CAMPING</td>\n",
       "      <td>NaN</td>\n",
       "      <td>NaN</td>\n",
       "      <td>234526</td>\n",
       "      <td>CAMPING</td>\n",
       "      <td>234526</td>\n",
       "      <td>49969.0</td>\n",
       "      <td>...</td>\n",
       "      <td>-89.310556</td>\n",
       "      <td>46.244722</td>\n",
       "      <td>2021-08-06</td>\n",
       "      <td>NaT</td>\n",
       "      <td>2021-06-14 03:33:34.815</td>\n",
       "      <td>NaN</td>\n",
       "      <td>54665.0</td>\n",
       "      <td>0</td>\n",
       "      <td>NaN</td>\n",
       "      <td>NaN</td>\n",
       "    </tr>\n",
       "    <tr>\n",
       "      <th>7617167</th>\n",
       "      <td>USFS</td>\n",
       "      <td>131.0</td>\n",
       "      <td>72787</td>\n",
       "      <td>Silver Lake Campground</td>\n",
       "      <td>NaN</td>\n",
       "      <td>NaN</td>\n",
       "      <td>246520</td>\n",
       "      <td>CAMPING</td>\n",
       "      <td>246520</td>\n",
       "      <td>5733.0</td>\n",
       "      <td>...</td>\n",
       "      <td>-73.050100</td>\n",
       "      <td>43.897090</td>\n",
       "      <td>2021-08-14</td>\n",
       "      <td>NaT</td>\n",
       "      <td>2021-07-08 04:44:12.462</td>\n",
       "      <td>NaN</td>\n",
       "      <td>10035.0</td>\n",
       "      <td>0</td>\n",
       "      <td>NaN</td>\n",
       "      <td>NaN</td>\n",
       "    </tr>\n",
       "  </tbody>\n",
       "</table>\n",
       "<p>74 rows × 21 columns</p>\n",
       "</div>"
      ],
      "text/plain": [
       "        agency  orgid parentlocationid  \\\n",
       "405785     BLM  126.0            74977   \n",
       "1271698    NPS  128.0            74282   \n",
       "1287289    NPS  128.0            74282   \n",
       "1306286    NPS  128.0            74282   \n",
       "1568014    NPS  128.0            72451   \n",
       "...        ...    ...              ...   \n",
       "7242965   USFS  131.0            74904   \n",
       "7269827   USFS  131.0            74905   \n",
       "7297746   USFS  131.0            72319   \n",
       "7611726   USFS  131.0            72715   \n",
       "7617167   USFS  131.0            72787   \n",
       "\n",
       "                                            park sitetype usetype productid  \\\n",
       "405785                Red Rock Canyon Campground      NaN     NaN    250877   \n",
       "1271698                        MATHER CAMPGROUND      NaN     NaN    232490   \n",
       "1287289                        MATHER CAMPGROUND      NaN     NaN    232490   \n",
       "1306286                        MATHER CAMPGROUND      NaN     NaN    232490   \n",
       "1568014         Mammoth Campground (Yellowstone)      NaN     NaN    247571   \n",
       "...                                          ...      ...     ...       ...   \n",
       "7242965                     CANEBRAKE HORSE CAMP      NaN     NaN    233913   \n",
       "7269827               STANDING INDIAN CAMPGROUND      NaN     NaN    234228   \n",
       "7297746                  THUNDER ROCK CAMPGROUND      NaN     NaN    251938   \n",
       "7611726  SYLVANIA WILDERNESS BACKCOUNTRY CAMPING      NaN     NaN    234526   \n",
       "7617167                   Silver Lake Campground      NaN     NaN    246520   \n",
       "\n",
       "        inventorytype facilityid  facilityzip  ... facilitylongitude  \\\n",
       "405785        CAMPING     250877      89135.0  ...       -115.383889   \n",
       "1271698       CAMPING     232490      86023.0  ...       -112.120469   \n",
       "1287289       CAMPING     232490      86023.0  ...       -112.120469   \n",
       "1306286       CAMPING     232490      86023.0  ...       -112.120469   \n",
       "1568014       CAMPING     247571      82190.0  ...       -110.693232   \n",
       "...               ...        ...          ...  ...               ...   \n",
       "7242965       CAMPING     233913      27371.0  ...        -80.048611   \n",
       "7269827       CAMPING     234228      28734.0  ...        -83.531944   \n",
       "7297746       CAMPING     251938      37362.0  ...        -84.485556   \n",
       "7611726       CAMPING     234526      49969.0  ...        -89.310556   \n",
       "7617167       CAMPING     246520       5733.0  ...        -73.050100   \n",
       "\n",
       "         facilitylatitude  startdate enddate               orderdate  \\\n",
       "405785          36.131389 2021-09-17     NaT 2021-09-18 00:03:30.473   \n",
       "1271698         36.049722 2021-06-01     NaT 2020-12-08 02:18:02.636   \n",
       "1287289         36.049722 2021-04-05     NaT 2021-03-11 22:10:22.410   \n",
       "1306286         36.049722 2021-07-17     NaT 2021-07-17 19:53:04.490   \n",
       "1568014         44.973609 2021-08-12     NaT 2021-03-24 14:00:37.977   \n",
       "...                   ...        ...     ...                     ...   \n",
       "7242965         35.439444 2020-12-31     NaT 2020-12-17 15:14:22.984   \n",
       "7269827         35.078611 2020-10-15     NaT 2020-07-29 14:36:52.558   \n",
       "7297746         35.076111 2021-04-22     NaT 2021-04-19 03:20:25.240   \n",
       "7611726         46.244722 2021-08-06     NaT 2021-06-14 03:33:34.815   \n",
       "7617167         43.897090 2021-08-14     NaT 2021-07-08 04:44:12.462   \n",
       "\n",
       "        numberofpeople  cleanzip  cleannights  participation  datediff  \n",
       "405785             NaN   96555.0            0            NaN       NaN  \n",
       "1271698            NaN   55424.0            0            NaN       NaN  \n",
       "1287289            NaN   91501.0            0            NaN       NaN  \n",
       "1306286            NaN   33774.0            0            NaN       NaN  \n",
       "1568014            NaN   33176.0            0            NaN       NaN  \n",
       "...                ...       ...          ...            ...       ...  \n",
       "7242965            NaN   28334.0            0            NaN       NaN  \n",
       "7269827            NaN   33549.0            0            NaN       NaN  \n",
       "7297746            NaN   30080.0            0            NaN       NaN  \n",
       "7611726            NaN   54665.0            0            NaN       NaN  \n",
       "7617167            NaN   10035.0            0            NaN       NaN  \n",
       "\n",
       "[74 rows x 21 columns]"
      ]
     },
     "execution_count": 64,
     "metadata": {},
     "output_type": "execute_result"
    }
   ],
   "source": [
    "dfFeatures[dfFeatures['cleannights'] != dfFeatures['datediff']]"
   ]
  },
  {
   "cell_type": "code",
   "execution_count": 65,
   "metadata": {
    "pycharm": {
     "name": "#%%\n"
    }
   },
   "outputs": [
    {
     "data": {
      "text/html": [
       "<div>\n",
       "<style scoped>\n",
       "    .dataframe tbody tr th:only-of-type {\n",
       "        vertical-align: middle;\n",
       "    }\n",
       "\n",
       "    .dataframe tbody tr th {\n",
       "        vertical-align: top;\n",
       "    }\n",
       "\n",
       "    .dataframe thead th {\n",
       "        text-align: right;\n",
       "    }\n",
       "</style>\n",
       "<table border=\"1\" class=\"dataframe\">\n",
       "  <thead>\n",
       "    <tr style=\"text-align: right;\">\n",
       "      <th></th>\n",
       "      <th>agency</th>\n",
       "      <th>orgid</th>\n",
       "      <th>parentlocationid</th>\n",
       "      <th>park</th>\n",
       "      <th>sitetype</th>\n",
       "      <th>usetype</th>\n",
       "      <th>productid</th>\n",
       "      <th>inventorytype</th>\n",
       "      <th>facilityid</th>\n",
       "      <th>facilityzip</th>\n",
       "      <th>...</th>\n",
       "      <th>facilitylongitude</th>\n",
       "      <th>facilitylatitude</th>\n",
       "      <th>startdate</th>\n",
       "      <th>enddate</th>\n",
       "      <th>orderdate</th>\n",
       "      <th>numberofpeople</th>\n",
       "      <th>cleanzip</th>\n",
       "      <th>cleannights</th>\n",
       "      <th>participation</th>\n",
       "      <th>datediff</th>\n",
       "    </tr>\n",
       "  </thead>\n",
       "  <tbody>\n",
       "    <tr>\n",
       "      <th>405785</th>\n",
       "      <td>BLM</td>\n",
       "      <td>126.0</td>\n",
       "      <td>74977</td>\n",
       "      <td>Red Rock Canyon Campground</td>\n",
       "      <td>NaN</td>\n",
       "      <td>NaN</td>\n",
       "      <td>250877</td>\n",
       "      <td>CAMPING</td>\n",
       "      <td>250877</td>\n",
       "      <td>89135.0</td>\n",
       "      <td>...</td>\n",
       "      <td>-115.383889</td>\n",
       "      <td>36.131389</td>\n",
       "      <td>2021-09-17</td>\n",
       "      <td>NaT</td>\n",
       "      <td>2021-09-18 00:03:30.473</td>\n",
       "      <td>NaN</td>\n",
       "      <td>96555.0</td>\n",
       "      <td>0</td>\n",
       "      <td>NaN</td>\n",
       "      <td>NaN</td>\n",
       "    </tr>\n",
       "    <tr>\n",
       "      <th>1271698</th>\n",
       "      <td>NPS</td>\n",
       "      <td>128.0</td>\n",
       "      <td>74282</td>\n",
       "      <td>MATHER CAMPGROUND</td>\n",
       "      <td>NaN</td>\n",
       "      <td>NaN</td>\n",
       "      <td>232490</td>\n",
       "      <td>CAMPING</td>\n",
       "      <td>232490</td>\n",
       "      <td>86023.0</td>\n",
       "      <td>...</td>\n",
       "      <td>-112.120469</td>\n",
       "      <td>36.049722</td>\n",
       "      <td>2021-06-01</td>\n",
       "      <td>NaT</td>\n",
       "      <td>2020-12-08 02:18:02.636</td>\n",
       "      <td>NaN</td>\n",
       "      <td>55424.0</td>\n",
       "      <td>0</td>\n",
       "      <td>NaN</td>\n",
       "      <td>NaN</td>\n",
       "    </tr>\n",
       "    <tr>\n",
       "      <th>1287289</th>\n",
       "      <td>NPS</td>\n",
       "      <td>128.0</td>\n",
       "      <td>74282</td>\n",
       "      <td>MATHER CAMPGROUND</td>\n",
       "      <td>NaN</td>\n",
       "      <td>NaN</td>\n",
       "      <td>232490</td>\n",
       "      <td>CAMPING</td>\n",
       "      <td>232490</td>\n",
       "      <td>86023.0</td>\n",
       "      <td>...</td>\n",
       "      <td>-112.120469</td>\n",
       "      <td>36.049722</td>\n",
       "      <td>2021-04-05</td>\n",
       "      <td>NaT</td>\n",
       "      <td>2021-03-11 22:10:22.410</td>\n",
       "      <td>NaN</td>\n",
       "      <td>91501.0</td>\n",
       "      <td>0</td>\n",
       "      <td>NaN</td>\n",
       "      <td>NaN</td>\n",
       "    </tr>\n",
       "    <tr>\n",
       "      <th>1306286</th>\n",
       "      <td>NPS</td>\n",
       "      <td>128.0</td>\n",
       "      <td>74282</td>\n",
       "      <td>MATHER CAMPGROUND</td>\n",
       "      <td>NaN</td>\n",
       "      <td>NaN</td>\n",
       "      <td>232490</td>\n",
       "      <td>CAMPING</td>\n",
       "      <td>232490</td>\n",
       "      <td>86023.0</td>\n",
       "      <td>...</td>\n",
       "      <td>-112.120469</td>\n",
       "      <td>36.049722</td>\n",
       "      <td>2021-07-17</td>\n",
       "      <td>NaT</td>\n",
       "      <td>2021-07-17 19:53:04.490</td>\n",
       "      <td>NaN</td>\n",
       "      <td>33774.0</td>\n",
       "      <td>0</td>\n",
       "      <td>NaN</td>\n",
       "      <td>NaN</td>\n",
       "    </tr>\n",
       "    <tr>\n",
       "      <th>1568014</th>\n",
       "      <td>NPS</td>\n",
       "      <td>128.0</td>\n",
       "      <td>72451</td>\n",
       "      <td>Mammoth Campground (Yellowstone)</td>\n",
       "      <td>NaN</td>\n",
       "      <td>NaN</td>\n",
       "      <td>247571</td>\n",
       "      <td>CAMPING</td>\n",
       "      <td>247571</td>\n",
       "      <td>82190.0</td>\n",
       "      <td>...</td>\n",
       "      <td>-110.693232</td>\n",
       "      <td>44.973609</td>\n",
       "      <td>2021-08-12</td>\n",
       "      <td>NaT</td>\n",
       "      <td>2021-03-24 14:00:37.977</td>\n",
       "      <td>NaN</td>\n",
       "      <td>33176.0</td>\n",
       "      <td>0</td>\n",
       "      <td>NaN</td>\n",
       "      <td>NaN</td>\n",
       "    </tr>\n",
       "    <tr>\n",
       "      <th>...</th>\n",
       "      <td>...</td>\n",
       "      <td>...</td>\n",
       "      <td>...</td>\n",
       "      <td>...</td>\n",
       "      <td>...</td>\n",
       "      <td>...</td>\n",
       "      <td>...</td>\n",
       "      <td>...</td>\n",
       "      <td>...</td>\n",
       "      <td>...</td>\n",
       "      <td>...</td>\n",
       "      <td>...</td>\n",
       "      <td>...</td>\n",
       "      <td>...</td>\n",
       "      <td>...</td>\n",
       "      <td>...</td>\n",
       "      <td>...</td>\n",
       "      <td>...</td>\n",
       "      <td>...</td>\n",
       "      <td>...</td>\n",
       "      <td>...</td>\n",
       "    </tr>\n",
       "    <tr>\n",
       "      <th>7242965</th>\n",
       "      <td>USFS</td>\n",
       "      <td>131.0</td>\n",
       "      <td>74904</td>\n",
       "      <td>CANEBRAKE HORSE CAMP</td>\n",
       "      <td>NaN</td>\n",
       "      <td>NaN</td>\n",
       "      <td>233913</td>\n",
       "      <td>CAMPING</td>\n",
       "      <td>233913</td>\n",
       "      <td>27371.0</td>\n",
       "      <td>...</td>\n",
       "      <td>-80.048611</td>\n",
       "      <td>35.439444</td>\n",
       "      <td>2020-12-31</td>\n",
       "      <td>NaT</td>\n",
       "      <td>2020-12-17 15:14:22.984</td>\n",
       "      <td>NaN</td>\n",
       "      <td>28334.0</td>\n",
       "      <td>0</td>\n",
       "      <td>NaN</td>\n",
       "      <td>NaN</td>\n",
       "    </tr>\n",
       "    <tr>\n",
       "      <th>7269827</th>\n",
       "      <td>USFS</td>\n",
       "      <td>131.0</td>\n",
       "      <td>74905</td>\n",
       "      <td>STANDING INDIAN CAMPGROUND</td>\n",
       "      <td>NaN</td>\n",
       "      <td>NaN</td>\n",
       "      <td>234228</td>\n",
       "      <td>CAMPING</td>\n",
       "      <td>234228</td>\n",
       "      <td>28734.0</td>\n",
       "      <td>...</td>\n",
       "      <td>-83.531944</td>\n",
       "      <td>35.078611</td>\n",
       "      <td>2020-10-15</td>\n",
       "      <td>NaT</td>\n",
       "      <td>2020-07-29 14:36:52.558</td>\n",
       "      <td>NaN</td>\n",
       "      <td>33549.0</td>\n",
       "      <td>0</td>\n",
       "      <td>NaN</td>\n",
       "      <td>NaN</td>\n",
       "    </tr>\n",
       "    <tr>\n",
       "      <th>7297746</th>\n",
       "      <td>USFS</td>\n",
       "      <td>131.0</td>\n",
       "      <td>72319</td>\n",
       "      <td>THUNDER ROCK CAMPGROUND</td>\n",
       "      <td>NaN</td>\n",
       "      <td>NaN</td>\n",
       "      <td>251938</td>\n",
       "      <td>CAMPING</td>\n",
       "      <td>251938</td>\n",
       "      <td>37362.0</td>\n",
       "      <td>...</td>\n",
       "      <td>-84.485556</td>\n",
       "      <td>35.076111</td>\n",
       "      <td>2021-04-22</td>\n",
       "      <td>NaT</td>\n",
       "      <td>2021-04-19 03:20:25.240</td>\n",
       "      <td>NaN</td>\n",
       "      <td>30080.0</td>\n",
       "      <td>0</td>\n",
       "      <td>NaN</td>\n",
       "      <td>NaN</td>\n",
       "    </tr>\n",
       "    <tr>\n",
       "      <th>7611726</th>\n",
       "      <td>USFS</td>\n",
       "      <td>131.0</td>\n",
       "      <td>72715</td>\n",
       "      <td>SYLVANIA WILDERNESS BACKCOUNTRY CAMPING</td>\n",
       "      <td>NaN</td>\n",
       "      <td>NaN</td>\n",
       "      <td>234526</td>\n",
       "      <td>CAMPING</td>\n",
       "      <td>234526</td>\n",
       "      <td>49969.0</td>\n",
       "      <td>...</td>\n",
       "      <td>-89.310556</td>\n",
       "      <td>46.244722</td>\n",
       "      <td>2021-08-06</td>\n",
       "      <td>NaT</td>\n",
       "      <td>2021-06-14 03:33:34.815</td>\n",
       "      <td>NaN</td>\n",
       "      <td>54665.0</td>\n",
       "      <td>0</td>\n",
       "      <td>NaN</td>\n",
       "      <td>NaN</td>\n",
       "    </tr>\n",
       "    <tr>\n",
       "      <th>7617167</th>\n",
       "      <td>USFS</td>\n",
       "      <td>131.0</td>\n",
       "      <td>72787</td>\n",
       "      <td>Silver Lake Campground</td>\n",
       "      <td>NaN</td>\n",
       "      <td>NaN</td>\n",
       "      <td>246520</td>\n",
       "      <td>CAMPING</td>\n",
       "      <td>246520</td>\n",
       "      <td>5733.0</td>\n",
       "      <td>...</td>\n",
       "      <td>-73.050100</td>\n",
       "      <td>43.897090</td>\n",
       "      <td>2021-08-14</td>\n",
       "      <td>NaT</td>\n",
       "      <td>2021-07-08 04:44:12.462</td>\n",
       "      <td>NaN</td>\n",
       "      <td>10035.0</td>\n",
       "      <td>0</td>\n",
       "      <td>NaN</td>\n",
       "      <td>NaN</td>\n",
       "    </tr>\n",
       "  </tbody>\n",
       "</table>\n",
       "<p>74 rows × 21 columns</p>\n",
       "</div>"
      ],
      "text/plain": [
       "        agency  orgid parentlocationid  \\\n",
       "405785     BLM  126.0            74977   \n",
       "1271698    NPS  128.0            74282   \n",
       "1287289    NPS  128.0            74282   \n",
       "1306286    NPS  128.0            74282   \n",
       "1568014    NPS  128.0            72451   \n",
       "...        ...    ...              ...   \n",
       "7242965   USFS  131.0            74904   \n",
       "7269827   USFS  131.0            74905   \n",
       "7297746   USFS  131.0            72319   \n",
       "7611726   USFS  131.0            72715   \n",
       "7617167   USFS  131.0            72787   \n",
       "\n",
       "                                            park sitetype usetype productid  \\\n",
       "405785                Red Rock Canyon Campground      NaN     NaN    250877   \n",
       "1271698                        MATHER CAMPGROUND      NaN     NaN    232490   \n",
       "1287289                        MATHER CAMPGROUND      NaN     NaN    232490   \n",
       "1306286                        MATHER CAMPGROUND      NaN     NaN    232490   \n",
       "1568014         Mammoth Campground (Yellowstone)      NaN     NaN    247571   \n",
       "...                                          ...      ...     ...       ...   \n",
       "7242965                     CANEBRAKE HORSE CAMP      NaN     NaN    233913   \n",
       "7269827               STANDING INDIAN CAMPGROUND      NaN     NaN    234228   \n",
       "7297746                  THUNDER ROCK CAMPGROUND      NaN     NaN    251938   \n",
       "7611726  SYLVANIA WILDERNESS BACKCOUNTRY CAMPING      NaN     NaN    234526   \n",
       "7617167                   Silver Lake Campground      NaN     NaN    246520   \n",
       "\n",
       "        inventorytype facilityid  facilityzip  ... facilitylongitude  \\\n",
       "405785        CAMPING     250877      89135.0  ...       -115.383889   \n",
       "1271698       CAMPING     232490      86023.0  ...       -112.120469   \n",
       "1287289       CAMPING     232490      86023.0  ...       -112.120469   \n",
       "1306286       CAMPING     232490      86023.0  ...       -112.120469   \n",
       "1568014       CAMPING     247571      82190.0  ...       -110.693232   \n",
       "...               ...        ...          ...  ...               ...   \n",
       "7242965       CAMPING     233913      27371.0  ...        -80.048611   \n",
       "7269827       CAMPING     234228      28734.0  ...        -83.531944   \n",
       "7297746       CAMPING     251938      37362.0  ...        -84.485556   \n",
       "7611726       CAMPING     234526      49969.0  ...        -89.310556   \n",
       "7617167       CAMPING     246520       5733.0  ...        -73.050100   \n",
       "\n",
       "         facilitylatitude  startdate enddate               orderdate  \\\n",
       "405785          36.131389 2021-09-17     NaT 2021-09-18 00:03:30.473   \n",
       "1271698         36.049722 2021-06-01     NaT 2020-12-08 02:18:02.636   \n",
       "1287289         36.049722 2021-04-05     NaT 2021-03-11 22:10:22.410   \n",
       "1306286         36.049722 2021-07-17     NaT 2021-07-17 19:53:04.490   \n",
       "1568014         44.973609 2021-08-12     NaT 2021-03-24 14:00:37.977   \n",
       "...                   ...        ...     ...                     ...   \n",
       "7242965         35.439444 2020-12-31     NaT 2020-12-17 15:14:22.984   \n",
       "7269827         35.078611 2020-10-15     NaT 2020-07-29 14:36:52.558   \n",
       "7297746         35.076111 2021-04-22     NaT 2021-04-19 03:20:25.240   \n",
       "7611726         46.244722 2021-08-06     NaT 2021-06-14 03:33:34.815   \n",
       "7617167         43.897090 2021-08-14     NaT 2021-07-08 04:44:12.462   \n",
       "\n",
       "        numberofpeople  cleanzip  cleannights  participation  datediff  \n",
       "405785             NaN   96555.0            0            NaN       NaN  \n",
       "1271698            NaN   55424.0            0            NaN       NaN  \n",
       "1287289            NaN   91501.0            0            NaN       NaN  \n",
       "1306286            NaN   33774.0            0            NaN       NaN  \n",
       "1568014            NaN   33176.0            0            NaN       NaN  \n",
       "...                ...       ...          ...            ...       ...  \n",
       "7242965            NaN   28334.0            0            NaN       NaN  \n",
       "7269827            NaN   33549.0            0            NaN       NaN  \n",
       "7297746            NaN   30080.0            0            NaN       NaN  \n",
       "7611726            NaN   54665.0            0            NaN       NaN  \n",
       "7617167            NaN   10035.0            0            NaN       NaN  \n",
       "\n",
       "[74 rows x 21 columns]"
      ]
     },
     "execution_count": 65,
     "metadata": {},
     "output_type": "execute_result"
    }
   ],
   "source": [
    "dfFeatures[dfFeatures['numberofpeople'].isna()]"
   ]
  }
 ],
 "metadata": {
  "interpreter": {
   "hash": "a9e49237f3225e56c5bc43658cdc0a90dbebc23b3eaeee781a0f05ef40bc4a00"
  },
  "kernelspec": {
   "display_name": "Python 3.8.3 ('base')",
   "language": "python",
   "name": "python3"
  },
  "language_info": {
   "codemirror_mode": {
    "name": "ipython",
    "version": 3
   },
   "file_extension": ".py",
   "mimetype": "text/x-python",
   "name": "python",
   "nbconvert_exporter": "python",
   "pygments_lexer": "ipython3",
   "version": "3.8.3"
  }
 },
 "nbformat": 4,
 "nbformat_minor": 1
}
